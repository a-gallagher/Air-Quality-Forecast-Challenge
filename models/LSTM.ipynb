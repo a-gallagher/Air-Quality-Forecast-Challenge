{
 "metadata": {
  "language_info": {
   "codemirror_mode": {
    "name": "ipython",
    "version": 3
   },
   "file_extension": ".py",
   "mimetype": "text/x-python",
   "name": "python",
   "nbconvert_exporter": "python",
   "pygments_lexer": "ipython3",
   "version": "3.7.10"
  },
  "orig_nbformat": 2,
  "kernelspec": {
   "name": "python3710jvsc74a57bd09e5addec0265f82113593c0c0666c294dca5e27b55fafbc7e9d94077bbbb9802",
   "display_name": "Python 3.7.10 64-bit ('tf2.0': conda)"
  }
 },
 "nbformat": 4,
 "nbformat_minor": 2,
 "cells": [
  {
   "source": [
    "# LSTM"
   ],
   "cell_type": "markdown",
   "metadata": {}
  },
  {
   "cell_type": "code",
   "execution_count": 1,
   "metadata": {},
   "outputs": [
    {
     "output_type": "stream",
     "name": "stderr",
     "text": [
      "C:\\Users\\ay0un\\anaconda3\\envs\\tf2.0\\lib\\site-packages\\tensorflow\\python\\framework\\dtypes.py:516: FutureWarning: Passing (type, 1) or '1type' as a synonym of type is deprecated; in a future version of numpy, it will be understood as (type, (1,)) / '(1,)type'.\n",
      "  _np_qint8 = np.dtype([(\"qint8\", np.int8, 1)])\n",
      "C:\\Users\\ay0un\\anaconda3\\envs\\tf2.0\\lib\\site-packages\\tensorflow\\python\\framework\\dtypes.py:517: FutureWarning: Passing (type, 1) or '1type' as a synonym of type is deprecated; in a future version of numpy, it will be understood as (type, (1,)) / '(1,)type'.\n",
      "  _np_quint8 = np.dtype([(\"quint8\", np.uint8, 1)])\n",
      "C:\\Users\\ay0un\\anaconda3\\envs\\tf2.0\\lib\\site-packages\\tensorflow\\python\\framework\\dtypes.py:518: FutureWarning: Passing (type, 1) or '1type' as a synonym of type is deprecated; in a future version of numpy, it will be understood as (type, (1,)) / '(1,)type'.\n",
      "  _np_qint16 = np.dtype([(\"qint16\", np.int16, 1)])\n",
      "C:\\Users\\ay0un\\anaconda3\\envs\\tf2.0\\lib\\site-packages\\tensorflow\\python\\framework\\dtypes.py:519: FutureWarning: Passing (type, 1) or '1type' as a synonym of type is deprecated; in a future version of numpy, it will be understood as (type, (1,)) / '(1,)type'.\n",
      "  _np_quint16 = np.dtype([(\"quint16\", np.uint16, 1)])\n",
      "C:\\Users\\ay0un\\anaconda3\\envs\\tf2.0\\lib\\site-packages\\tensorflow\\python\\framework\\dtypes.py:520: FutureWarning: Passing (type, 1) or '1type' as a synonym of type is deprecated; in a future version of numpy, it will be understood as (type, (1,)) / '(1,)type'.\n",
      "  _np_qint32 = np.dtype([(\"qint32\", np.int32, 1)])\n",
      "C:\\Users\\ay0un\\anaconda3\\envs\\tf2.0\\lib\\site-packages\\tensorflow\\python\\framework\\dtypes.py:525: FutureWarning: Passing (type, 1) or '1type' as a synonym of type is deprecated; in a future version of numpy, it will be understood as (type, (1,)) / '(1,)type'.\n",
      "  np_resource = np.dtype([(\"resource\", np.ubyte, 1)])\n",
      "C:\\Users\\ay0un\\anaconda3\\envs\\tf2.0\\lib\\site-packages\\tensorboard\\compat\\tensorflow_stub\\dtypes.py:541: FutureWarning: Passing (type, 1) or '1type' as a synonym of type is deprecated; in a future version of numpy, it will be understood as (type, (1,)) / '(1,)type'.\n",
      "  _np_qint8 = np.dtype([(\"qint8\", np.int8, 1)])\n",
      "C:\\Users\\ay0un\\anaconda3\\envs\\tf2.0\\lib\\site-packages\\tensorboard\\compat\\tensorflow_stub\\dtypes.py:542: FutureWarning: Passing (type, 1) or '1type' as a synonym of type is deprecated; in a future version of numpy, it will be understood as (type, (1,)) / '(1,)type'.\n",
      "  _np_quint8 = np.dtype([(\"quint8\", np.uint8, 1)])\n",
      "C:\\Users\\ay0un\\anaconda3\\envs\\tf2.0\\lib\\site-packages\\tensorboard\\compat\\tensorflow_stub\\dtypes.py:543: FutureWarning: Passing (type, 1) or '1type' as a synonym of type is deprecated; in a future version of numpy, it will be understood as (type, (1,)) / '(1,)type'.\n",
      "  _np_qint16 = np.dtype([(\"qint16\", np.int16, 1)])\n",
      "C:\\Users\\ay0un\\anaconda3\\envs\\tf2.0\\lib\\site-packages\\tensorboard\\compat\\tensorflow_stub\\dtypes.py:544: FutureWarning: Passing (type, 1) or '1type' as a synonym of type is deprecated; in a future version of numpy, it will be understood as (type, (1,)) / '(1,)type'.\n",
      "  _np_quint16 = np.dtype([(\"quint16\", np.uint16, 1)])\n",
      "C:\\Users\\ay0un\\anaconda3\\envs\\tf2.0\\lib\\site-packages\\tensorboard\\compat\\tensorflow_stub\\dtypes.py:545: FutureWarning: Passing (type, 1) or '1type' as a synonym of type is deprecated; in a future version of numpy, it will be understood as (type, (1,)) / '(1,)type'.\n",
      "  _np_qint32 = np.dtype([(\"qint32\", np.int32, 1)])\n",
      "C:\\Users\\ay0un\\anaconda3\\envs\\tf2.0\\lib\\site-packages\\tensorboard\\compat\\tensorflow_stub\\dtypes.py:550: FutureWarning: Passing (type, 1) or '1type' as a synonym of type is deprecated; in a future version of numpy, it will be understood as (type, (1,)) / '(1,)type'.\n",
      "  np_resource = np.dtype([(\"resource\", np.ubyte, 1)])\n"
     ]
    }
   ],
   "source": [
    "import tensorflow as tf\n",
    "import numpy as np\n",
    "import pandas as pd\n",
    "import matplotlib.pyplot as plt\n",
    "from sklearn.metrics import mean_squared_error, mean_absolute_error\n",
    "from sklearn.model_selection import train_test_split\n",
    "from sklearn.preprocessing import StandardScaler"
   ]
  },
  {
   "cell_type": "code",
   "execution_count": 2,
   "metadata": {},
   "outputs": [],
   "source": [
    "from tensorflow.keras.layers import Input, Dense, Activation,Dropout\n",
    "from tensorflow.keras.models import Model\n",
    "from tensorflow.keras import preprocessing"
   ]
  },
  {
   "cell_type": "code",
   "execution_count": 3,
   "metadata": {},
   "outputs": [],
   "source": [
    "import pandas as pd\n",
    "import numpy as np\n",
    "from tensorflow import keras\n",
    "import matplotlib.pyplot as plt\n",
    "from sklearn.preprocessing import MinMaxScaler\n",
    "from pandas.plotting import register_matplotlib_converters\n",
    "register_matplotlib_converters()\n",
    "from tensorflow.keras.preprocessing.sequence import TimeseriesGenerator\n",
    "from tensorflow.keras.models import Sequential\n",
    "from tensorflow.keras.layers import Dense\n",
    "from tensorflow.keras.layers import LSTM\n"
   ]
  },
  {
   "source": [
    "## Data processing\n",
    "### PM2.5"
   ],
   "cell_type": "markdown",
   "metadata": {}
  },
  {
   "cell_type": "code",
   "execution_count": 4,
   "metadata": {},
   "outputs": [],
   "source": [
    "# Data preparation\n",
    "df = pd.read_csv('model_data_pi.csv')\n",
    "df.dropna(inplace=True)\n",
    "df.reset_index(drop=True, inplace=True)\n",
    "df = df.loc[:, ~df.columns.str.contains('^Unnamed')]\n",
    "df = df.iloc[:138,:]"
   ]
  },
  {
   "cell_type": "code",
   "execution_count": 5,
   "metadata": {},
   "outputs": [],
   "source": [
    "# Split train & test\n",
    "n = len(df)\n",
    "train_df = df[0:int(n*0.7)]\n",
    "val_df = df[int(n*0.7):int(n*0.8)]\n",
    "test_df = df[int(n*0.8):]"
   ]
  },
  {
   "cell_type": "code",
   "execution_count": 6,
   "metadata": {},
   "outputs": [
    {
     "output_type": "execute_result",
     "data": {
      "text/plain": [
       "    temp_pi_t0  hum_pi_t0  PM1_pi_t0  PM2.5_pi_t0  PM10_pi_t0  wind_speed_t0  \\\n",
       "0    17.625000  30.933333   4.365000      9.65250   15.223333       9.826088   \n",
       "1    13.990000  35.770000   3.787000      6.64100    9.477000       8.209263   \n",
       "2    12.683333  37.733333   4.529167     10.46500   16.762500       8.496304   \n",
       "3    11.616667  40.350000   2.710000      6.04000    9.553333       7.754637   \n",
       "4    10.425000  42.900000   3.815000      7.14750   10.535000       6.162207   \n",
       "..         ...        ...        ...          ...         ...            ...   \n",
       "91   10.900000  54.850000   1.635000      4.46000    7.517500      25.050413   \n",
       "92   11.800000  47.660000   1.707000      4.37800    7.250000      25.325686   \n",
       "93   14.530000  43.370000   1.583000      3.91700    6.415000      24.130743   \n",
       "94   14.900000  41.120000   1.754000      4.70500    7.891000      24.842607   \n",
       "95   15.212500  38.425000   2.200000      4.43875    6.758750      26.727423   \n",
       "\n",
       "    temp_pi_t1  hum_pi_t1  PM1_pi_t1  PM2.5_pi_t1  ...  PM10_pi_t4  \\\n",
       "0    19.983333  28.125000   4.610000      10.0425  ...   15.388333   \n",
       "1    17.625000  30.933333   4.365000       9.6525  ...    9.632500   \n",
       "2    13.990000  35.770000   3.787000       6.6410  ...    8.284167   \n",
       "3    12.683333  37.733333   4.529167      10.4650  ...   15.750000   \n",
       "4    11.616667  40.350000   2.710000       6.0400  ...   15.223333   \n",
       "..         ...        ...        ...          ...  ...         ...   \n",
       "91    8.680000  64.740000   1.561000       4.1460  ...    6.784286   \n",
       "92   10.900000  54.850000   1.635000       4.4600  ...    5.693333   \n",
       "93   11.800000  47.660000   1.707000       4.3780  ...    7.005000   \n",
       "94   14.530000  43.370000   1.583000       3.9170  ...    6.938000   \n",
       "95   14.900000  41.120000   1.754000       4.7050  ...    7.517500   \n",
       "\n",
       "    wind_speed_t4  temp_pi_t5  hum_pi_t5  PM1_pi_t5  PM2.5_pi_t5  PM10_pi_t5  \\\n",
       "0        6.924738    8.316667  53.283333   6.042500    11.798333   17.710000   \n",
       "1        7.421590   13.408333  38.358333   4.840833    10.010000   15.388333   \n",
       "2        6.952755   17.391667  32.191667   5.140833     7.510833    9.632500   \n",
       "3       11.269782   18.650000  30.083333   3.752500     6.064167    8.284167   \n",
       "4        9.826088   19.983333  28.125000   4.610000    10.042500   15.750000   \n",
       "..            ...         ...        ...        ...          ...         ...   \n",
       "91      19.959720    9.587500  81.237500   1.951250     4.691250    7.617500   \n",
       "92      20.969805    9.214286  77.042857   1.467143     4.021429    6.784286   \n",
       "93      22.253124    8.733333  73.666667   1.033333     3.258333    5.693333   \n",
       "94      24.858253    8.287500  69.487500   1.362500     4.062500    7.005000   \n",
       "95      25.050413    8.680000  64.740000   1.561000     4.146000    6.938000   \n",
       "\n",
       "    wind_speed_t5   PM2.5_pi    PM10_pi  \n",
       "0        5.116561   6.641000   9.477000  \n",
       "1        6.924738  10.465000  16.762500  \n",
       "2        7.421590   6.040000   9.553333  \n",
       "3        6.952755   7.147500  10.535000  \n",
       "4       11.269782   7.878333  12.093333  \n",
       "..            ...        ...        ...  \n",
       "91      18.118410   4.378000   7.250000  \n",
       "92      19.959720   3.917000   6.415000  \n",
       "93      20.969805   4.705000   7.891000  \n",
       "94      22.253124   4.438750   6.758750  \n",
       "95      24.858253   5.244167   8.764167  \n",
       "\n",
       "[96 rows x 38 columns]"
      ],
      "text/html": "<div>\n<style scoped>\n    .dataframe tbody tr th:only-of-type {\n        vertical-align: middle;\n    }\n\n    .dataframe tbody tr th {\n        vertical-align: top;\n    }\n\n    .dataframe thead th {\n        text-align: right;\n    }\n</style>\n<table border=\"1\" class=\"dataframe\">\n  <thead>\n    <tr style=\"text-align: right;\">\n      <th></th>\n      <th>temp_pi_t0</th>\n      <th>hum_pi_t0</th>\n      <th>PM1_pi_t0</th>\n      <th>PM2.5_pi_t0</th>\n      <th>PM10_pi_t0</th>\n      <th>wind_speed_t0</th>\n      <th>temp_pi_t1</th>\n      <th>hum_pi_t1</th>\n      <th>PM1_pi_t1</th>\n      <th>PM2.5_pi_t1</th>\n      <th>...</th>\n      <th>PM10_pi_t4</th>\n      <th>wind_speed_t4</th>\n      <th>temp_pi_t5</th>\n      <th>hum_pi_t5</th>\n      <th>PM1_pi_t5</th>\n      <th>PM2.5_pi_t5</th>\n      <th>PM10_pi_t5</th>\n      <th>wind_speed_t5</th>\n      <th>PM2.5_pi</th>\n      <th>PM10_pi</th>\n    </tr>\n  </thead>\n  <tbody>\n    <tr>\n      <th>0</th>\n      <td>17.625000</td>\n      <td>30.933333</td>\n      <td>4.365000</td>\n      <td>9.65250</td>\n      <td>15.223333</td>\n      <td>9.826088</td>\n      <td>19.983333</td>\n      <td>28.125000</td>\n      <td>4.610000</td>\n      <td>10.0425</td>\n      <td>...</td>\n      <td>15.388333</td>\n      <td>6.924738</td>\n      <td>8.316667</td>\n      <td>53.283333</td>\n      <td>6.042500</td>\n      <td>11.798333</td>\n      <td>17.710000</td>\n      <td>5.116561</td>\n      <td>6.641000</td>\n      <td>9.477000</td>\n    </tr>\n    <tr>\n      <th>1</th>\n      <td>13.990000</td>\n      <td>35.770000</td>\n      <td>3.787000</td>\n      <td>6.64100</td>\n      <td>9.477000</td>\n      <td>8.209263</td>\n      <td>17.625000</td>\n      <td>30.933333</td>\n      <td>4.365000</td>\n      <td>9.6525</td>\n      <td>...</td>\n      <td>9.632500</td>\n      <td>7.421590</td>\n      <td>13.408333</td>\n      <td>38.358333</td>\n      <td>4.840833</td>\n      <td>10.010000</td>\n      <td>15.388333</td>\n      <td>6.924738</td>\n      <td>10.465000</td>\n      <td>16.762500</td>\n    </tr>\n    <tr>\n      <th>2</th>\n      <td>12.683333</td>\n      <td>37.733333</td>\n      <td>4.529167</td>\n      <td>10.46500</td>\n      <td>16.762500</td>\n      <td>8.496304</td>\n      <td>13.990000</td>\n      <td>35.770000</td>\n      <td>3.787000</td>\n      <td>6.6410</td>\n      <td>...</td>\n      <td>8.284167</td>\n      <td>6.952755</td>\n      <td>17.391667</td>\n      <td>32.191667</td>\n      <td>5.140833</td>\n      <td>7.510833</td>\n      <td>9.632500</td>\n      <td>7.421590</td>\n      <td>6.040000</td>\n      <td>9.553333</td>\n    </tr>\n    <tr>\n      <th>3</th>\n      <td>11.616667</td>\n      <td>40.350000</td>\n      <td>2.710000</td>\n      <td>6.04000</td>\n      <td>9.553333</td>\n      <td>7.754637</td>\n      <td>12.683333</td>\n      <td>37.733333</td>\n      <td>4.529167</td>\n      <td>10.4650</td>\n      <td>...</td>\n      <td>15.750000</td>\n      <td>11.269782</td>\n      <td>18.650000</td>\n      <td>30.083333</td>\n      <td>3.752500</td>\n      <td>6.064167</td>\n      <td>8.284167</td>\n      <td>6.952755</td>\n      <td>7.147500</td>\n      <td>10.535000</td>\n    </tr>\n    <tr>\n      <th>4</th>\n      <td>10.425000</td>\n      <td>42.900000</td>\n      <td>3.815000</td>\n      <td>7.14750</td>\n      <td>10.535000</td>\n      <td>6.162207</td>\n      <td>11.616667</td>\n      <td>40.350000</td>\n      <td>2.710000</td>\n      <td>6.0400</td>\n      <td>...</td>\n      <td>15.223333</td>\n      <td>9.826088</td>\n      <td>19.983333</td>\n      <td>28.125000</td>\n      <td>4.610000</td>\n      <td>10.042500</td>\n      <td>15.750000</td>\n      <td>11.269782</td>\n      <td>7.878333</td>\n      <td>12.093333</td>\n    </tr>\n    <tr>\n      <th>...</th>\n      <td>...</td>\n      <td>...</td>\n      <td>...</td>\n      <td>...</td>\n      <td>...</td>\n      <td>...</td>\n      <td>...</td>\n      <td>...</td>\n      <td>...</td>\n      <td>...</td>\n      <td>...</td>\n      <td>...</td>\n      <td>...</td>\n      <td>...</td>\n      <td>...</td>\n      <td>...</td>\n      <td>...</td>\n      <td>...</td>\n      <td>...</td>\n      <td>...</td>\n      <td>...</td>\n    </tr>\n    <tr>\n      <th>91</th>\n      <td>10.900000</td>\n      <td>54.850000</td>\n      <td>1.635000</td>\n      <td>4.46000</td>\n      <td>7.517500</td>\n      <td>25.050413</td>\n      <td>8.680000</td>\n      <td>64.740000</td>\n      <td>1.561000</td>\n      <td>4.1460</td>\n      <td>...</td>\n      <td>6.784286</td>\n      <td>19.959720</td>\n      <td>9.587500</td>\n      <td>81.237500</td>\n      <td>1.951250</td>\n      <td>4.691250</td>\n      <td>7.617500</td>\n      <td>18.118410</td>\n      <td>4.378000</td>\n      <td>7.250000</td>\n    </tr>\n    <tr>\n      <th>92</th>\n      <td>11.800000</td>\n      <td>47.660000</td>\n      <td>1.707000</td>\n      <td>4.37800</td>\n      <td>7.250000</td>\n      <td>25.325686</td>\n      <td>10.900000</td>\n      <td>54.850000</td>\n      <td>1.635000</td>\n      <td>4.4600</td>\n      <td>...</td>\n      <td>5.693333</td>\n      <td>20.969805</td>\n      <td>9.214286</td>\n      <td>77.042857</td>\n      <td>1.467143</td>\n      <td>4.021429</td>\n      <td>6.784286</td>\n      <td>19.959720</td>\n      <td>3.917000</td>\n      <td>6.415000</td>\n    </tr>\n    <tr>\n      <th>93</th>\n      <td>14.530000</td>\n      <td>43.370000</td>\n      <td>1.583000</td>\n      <td>3.91700</td>\n      <td>6.415000</td>\n      <td>24.130743</td>\n      <td>11.800000</td>\n      <td>47.660000</td>\n      <td>1.707000</td>\n      <td>4.3780</td>\n      <td>...</td>\n      <td>7.005000</td>\n      <td>22.253124</td>\n      <td>8.733333</td>\n      <td>73.666667</td>\n      <td>1.033333</td>\n      <td>3.258333</td>\n      <td>5.693333</td>\n      <td>20.969805</td>\n      <td>4.705000</td>\n      <td>7.891000</td>\n    </tr>\n    <tr>\n      <th>94</th>\n      <td>14.900000</td>\n      <td>41.120000</td>\n      <td>1.754000</td>\n      <td>4.70500</td>\n      <td>7.891000</td>\n      <td>24.842607</td>\n      <td>14.530000</td>\n      <td>43.370000</td>\n      <td>1.583000</td>\n      <td>3.9170</td>\n      <td>...</td>\n      <td>6.938000</td>\n      <td>24.858253</td>\n      <td>8.287500</td>\n      <td>69.487500</td>\n      <td>1.362500</td>\n      <td>4.062500</td>\n      <td>7.005000</td>\n      <td>22.253124</td>\n      <td>4.438750</td>\n      <td>6.758750</td>\n    </tr>\n    <tr>\n      <th>95</th>\n      <td>15.212500</td>\n      <td>38.425000</td>\n      <td>2.200000</td>\n      <td>4.43875</td>\n      <td>6.758750</td>\n      <td>26.727423</td>\n      <td>14.900000</td>\n      <td>41.120000</td>\n      <td>1.754000</td>\n      <td>4.7050</td>\n      <td>...</td>\n      <td>7.517500</td>\n      <td>25.050413</td>\n      <td>8.680000</td>\n      <td>64.740000</td>\n      <td>1.561000</td>\n      <td>4.146000</td>\n      <td>6.938000</td>\n      <td>24.858253</td>\n      <td>5.244167</td>\n      <td>8.764167</td>\n    </tr>\n  </tbody>\n</table>\n<p>96 rows × 38 columns</p>\n</div>"
     },
     "metadata": {},
     "execution_count": 6
    }
   ],
   "source": [
    "train_df"
   ]
  },
  {
   "cell_type": "code",
   "execution_count": 7,
   "metadata": {},
   "outputs": [],
   "source": [
    "labels = ['PM2.5_pi', 'PM10_pi']"
   ]
  },
  {
   "cell_type": "code",
   "execution_count": 8,
   "metadata": {},
   "outputs": [
    {
     "output_type": "execute_result",
     "data": {
      "text/plain": [
       "   temp_pi_t0  hum_pi_t0  PM1_pi_t0  PM2.5_pi_t0  PM10_pi_t0  wind_speed_t0  \\\n",
       "0   17.625000  30.933333   4.365000       9.6525   15.223333       9.826088   \n",
       "1   13.990000  35.770000   3.787000       6.6410    9.477000       8.209263   \n",
       "2   12.683333  37.733333   4.529167      10.4650   16.762500       8.496304   \n",
       "3   11.616667  40.350000   2.710000       6.0400    9.553333       7.754637   \n",
       "4   10.425000  42.900000   3.815000       7.1475   10.535000       6.162207   \n",
       "\n",
       "   temp_pi_t1  hum_pi_t1  PM1_pi_t1  PM2.5_pi_t1  ...  PM1_pi_t4  PM2.5_pi_t4  \\\n",
       "0   19.983333  28.125000   4.610000      10.0425  ...   4.840833    10.010000   \n",
       "1   17.625000  30.933333   4.365000       9.6525  ...   5.140833     7.510833   \n",
       "2   13.990000  35.770000   3.787000       6.6410  ...   3.752500     6.064167   \n",
       "3   12.683333  37.733333   4.529167      10.4650  ...   4.610000    10.042500   \n",
       "4   11.616667  40.350000   2.710000       6.0400  ...   4.365000     9.652500   \n",
       "\n",
       "   PM10_pi_t4  wind_speed_t4  temp_pi_t5  hum_pi_t5  PM1_pi_t5  PM2.5_pi_t5  \\\n",
       "0   15.388333       6.924738    8.316667  53.283333   6.042500    11.798333   \n",
       "1    9.632500       7.421590   13.408333  38.358333   4.840833    10.010000   \n",
       "2    8.284167       6.952755   17.391667  32.191667   5.140833     7.510833   \n",
       "3   15.750000      11.269782   18.650000  30.083333   3.752500     6.064167   \n",
       "4   15.223333       9.826088   19.983333  28.125000   4.610000    10.042500   \n",
       "\n",
       "   PM10_pi_t5  wind_speed_t5  \n",
       "0   17.710000       5.116561  \n",
       "1   15.388333       6.924738  \n",
       "2    9.632500       7.421590  \n",
       "3    8.284167       6.952755  \n",
       "4   15.750000      11.269782  \n",
       "\n",
       "[5 rows x 36 columns]"
      ],
      "text/html": "<div>\n<style scoped>\n    .dataframe tbody tr th:only-of-type {\n        vertical-align: middle;\n    }\n\n    .dataframe tbody tr th {\n        vertical-align: top;\n    }\n\n    .dataframe thead th {\n        text-align: right;\n    }\n</style>\n<table border=\"1\" class=\"dataframe\">\n  <thead>\n    <tr style=\"text-align: right;\">\n      <th></th>\n      <th>temp_pi_t0</th>\n      <th>hum_pi_t0</th>\n      <th>PM1_pi_t0</th>\n      <th>PM2.5_pi_t0</th>\n      <th>PM10_pi_t0</th>\n      <th>wind_speed_t0</th>\n      <th>temp_pi_t1</th>\n      <th>hum_pi_t1</th>\n      <th>PM1_pi_t1</th>\n      <th>PM2.5_pi_t1</th>\n      <th>...</th>\n      <th>PM1_pi_t4</th>\n      <th>PM2.5_pi_t4</th>\n      <th>PM10_pi_t4</th>\n      <th>wind_speed_t4</th>\n      <th>temp_pi_t5</th>\n      <th>hum_pi_t5</th>\n      <th>PM1_pi_t5</th>\n      <th>PM2.5_pi_t5</th>\n      <th>PM10_pi_t5</th>\n      <th>wind_speed_t5</th>\n    </tr>\n  </thead>\n  <tbody>\n    <tr>\n      <th>0</th>\n      <td>17.625000</td>\n      <td>30.933333</td>\n      <td>4.365000</td>\n      <td>9.6525</td>\n      <td>15.223333</td>\n      <td>9.826088</td>\n      <td>19.983333</td>\n      <td>28.125000</td>\n      <td>4.610000</td>\n      <td>10.0425</td>\n      <td>...</td>\n      <td>4.840833</td>\n      <td>10.010000</td>\n      <td>15.388333</td>\n      <td>6.924738</td>\n      <td>8.316667</td>\n      <td>53.283333</td>\n      <td>6.042500</td>\n      <td>11.798333</td>\n      <td>17.710000</td>\n      <td>5.116561</td>\n    </tr>\n    <tr>\n      <th>1</th>\n      <td>13.990000</td>\n      <td>35.770000</td>\n      <td>3.787000</td>\n      <td>6.6410</td>\n      <td>9.477000</td>\n      <td>8.209263</td>\n      <td>17.625000</td>\n      <td>30.933333</td>\n      <td>4.365000</td>\n      <td>9.6525</td>\n      <td>...</td>\n      <td>5.140833</td>\n      <td>7.510833</td>\n      <td>9.632500</td>\n      <td>7.421590</td>\n      <td>13.408333</td>\n      <td>38.358333</td>\n      <td>4.840833</td>\n      <td>10.010000</td>\n      <td>15.388333</td>\n      <td>6.924738</td>\n    </tr>\n    <tr>\n      <th>2</th>\n      <td>12.683333</td>\n      <td>37.733333</td>\n      <td>4.529167</td>\n      <td>10.4650</td>\n      <td>16.762500</td>\n      <td>8.496304</td>\n      <td>13.990000</td>\n      <td>35.770000</td>\n      <td>3.787000</td>\n      <td>6.6410</td>\n      <td>...</td>\n      <td>3.752500</td>\n      <td>6.064167</td>\n      <td>8.284167</td>\n      <td>6.952755</td>\n      <td>17.391667</td>\n      <td>32.191667</td>\n      <td>5.140833</td>\n      <td>7.510833</td>\n      <td>9.632500</td>\n      <td>7.421590</td>\n    </tr>\n    <tr>\n      <th>3</th>\n      <td>11.616667</td>\n      <td>40.350000</td>\n      <td>2.710000</td>\n      <td>6.0400</td>\n      <td>9.553333</td>\n      <td>7.754637</td>\n      <td>12.683333</td>\n      <td>37.733333</td>\n      <td>4.529167</td>\n      <td>10.4650</td>\n      <td>...</td>\n      <td>4.610000</td>\n      <td>10.042500</td>\n      <td>15.750000</td>\n      <td>11.269782</td>\n      <td>18.650000</td>\n      <td>30.083333</td>\n      <td>3.752500</td>\n      <td>6.064167</td>\n      <td>8.284167</td>\n      <td>6.952755</td>\n    </tr>\n    <tr>\n      <th>4</th>\n      <td>10.425000</td>\n      <td>42.900000</td>\n      <td>3.815000</td>\n      <td>7.1475</td>\n      <td>10.535000</td>\n      <td>6.162207</td>\n      <td>11.616667</td>\n      <td>40.350000</td>\n      <td>2.710000</td>\n      <td>6.0400</td>\n      <td>...</td>\n      <td>4.365000</td>\n      <td>9.652500</td>\n      <td>15.223333</td>\n      <td>9.826088</td>\n      <td>19.983333</td>\n      <td>28.125000</td>\n      <td>4.610000</td>\n      <td>10.042500</td>\n      <td>15.750000</td>\n      <td>11.269782</td>\n    </tr>\n  </tbody>\n</table>\n<p>5 rows × 36 columns</p>\n</div>"
     },
     "metadata": {},
     "execution_count": 8
    }
   ],
   "source": [
    "X_train = train_df.drop(train_df[labels], axis=1)\n",
    "X_train.head()"
   ]
  },
  {
   "cell_type": "code",
   "execution_count": 9,
   "metadata": {},
   "outputs": [],
   "source": [
    "y_train1 = train_df['PM2.5_pi']\n",
    "y_train2 = train_df['PM10_pi']"
   ]
  },
  {
   "cell_type": "code",
   "execution_count": 10,
   "metadata": {},
   "outputs": [],
   "source": [
    "y_train1 = y_train1.to_frame()\n",
    "y_train2 = y_train2.to_frame()"
   ]
  },
  {
   "cell_type": "code",
   "execution_count": 11,
   "metadata": {},
   "outputs": [
    {
     "output_type": "execute_result",
     "data": {
      "text/plain": [
       "     temp_pi_t0  hum_pi_t0  PM1_pi_t0  PM2.5_pi_t0  PM10_pi_t0  wind_speed_t0  \\\n",
       "110    6.658333  67.450000   2.165000     5.520833    9.129167       3.415260   \n",
       "111    6.150000  68.733333   3.752500     6.378333    8.960833       1.138420   \n",
       "112    5.716667  68.983333   4.670833     8.175833   11.664167       4.104631   \n",
       "113    5.436364  70.918182   3.436364     7.400000   11.557273       2.520000   \n",
       "114    6.166667  69.291667   3.610833     5.735833    7.756667       1.440000   \n",
       "\n",
       "     temp_pi_t1  hum_pi_t1  PM1_pi_t1  PM2.5_pi_t1  ...  PM1_pi_t4  \\\n",
       "110    6.881818  64.036364   3.126364     7.047273  ...   2.994000   \n",
       "111    6.658333  67.450000   2.165000     5.520833  ...   2.192000   \n",
       "112    6.150000  68.733333   3.752500     6.378333  ...   2.192000   \n",
       "113    5.716667  68.983333   4.670833     8.175833  ...   3.126364   \n",
       "114    5.436364  70.918182   3.436364     7.400000  ...   2.165000   \n",
       "\n",
       "     PM2.5_pi_t4  PM10_pi_t4  wind_speed_t4  temp_pi_t5  hum_pi_t5  PM1_pi_t5  \\\n",
       "110     6.236000    9.613000       5.760000    8.600000  58.325000   4.621667   \n",
       "111     5.787000    9.666000       6.479999    8.000000  62.700000   2.994000   \n",
       "112     5.787000    9.666000       6.638072    7.430000  62.450000   2.192000   \n",
       "113     7.047273   11.187273       5.937272    7.430000  62.450000   2.192000   \n",
       "114     5.520833    9.129167       3.415260    6.881818  64.036364   3.126364   \n",
       "\n",
       "     PM2.5_pi_t5  PM10_pi_t5  wind_speed_t5  \n",
       "110    10.125000   15.913333       6.034700  \n",
       "111     6.236000    9.613000       5.760000  \n",
       "112     5.787000    9.666000       6.479999  \n",
       "113     5.787000    9.666000       6.638072  \n",
       "114     7.047273   11.187273       5.937272  \n",
       "\n",
       "[5 rows x 36 columns]"
      ],
      "text/html": "<div>\n<style scoped>\n    .dataframe tbody tr th:only-of-type {\n        vertical-align: middle;\n    }\n\n    .dataframe tbody tr th {\n        vertical-align: top;\n    }\n\n    .dataframe thead th {\n        text-align: right;\n    }\n</style>\n<table border=\"1\" class=\"dataframe\">\n  <thead>\n    <tr style=\"text-align: right;\">\n      <th></th>\n      <th>temp_pi_t0</th>\n      <th>hum_pi_t0</th>\n      <th>PM1_pi_t0</th>\n      <th>PM2.5_pi_t0</th>\n      <th>PM10_pi_t0</th>\n      <th>wind_speed_t0</th>\n      <th>temp_pi_t1</th>\n      <th>hum_pi_t1</th>\n      <th>PM1_pi_t1</th>\n      <th>PM2.5_pi_t1</th>\n      <th>...</th>\n      <th>PM1_pi_t4</th>\n      <th>PM2.5_pi_t4</th>\n      <th>PM10_pi_t4</th>\n      <th>wind_speed_t4</th>\n      <th>temp_pi_t5</th>\n      <th>hum_pi_t5</th>\n      <th>PM1_pi_t5</th>\n      <th>PM2.5_pi_t5</th>\n      <th>PM10_pi_t5</th>\n      <th>wind_speed_t5</th>\n    </tr>\n  </thead>\n  <tbody>\n    <tr>\n      <th>110</th>\n      <td>6.658333</td>\n      <td>67.450000</td>\n      <td>2.165000</td>\n      <td>5.520833</td>\n      <td>9.129167</td>\n      <td>3.415260</td>\n      <td>6.881818</td>\n      <td>64.036364</td>\n      <td>3.126364</td>\n      <td>7.047273</td>\n      <td>...</td>\n      <td>2.994000</td>\n      <td>6.236000</td>\n      <td>9.613000</td>\n      <td>5.760000</td>\n      <td>8.600000</td>\n      <td>58.325000</td>\n      <td>4.621667</td>\n      <td>10.125000</td>\n      <td>15.913333</td>\n      <td>6.034700</td>\n    </tr>\n    <tr>\n      <th>111</th>\n      <td>6.150000</td>\n      <td>68.733333</td>\n      <td>3.752500</td>\n      <td>6.378333</td>\n      <td>8.960833</td>\n      <td>1.138420</td>\n      <td>6.658333</td>\n      <td>67.450000</td>\n      <td>2.165000</td>\n      <td>5.520833</td>\n      <td>...</td>\n      <td>2.192000</td>\n      <td>5.787000</td>\n      <td>9.666000</td>\n      <td>6.479999</td>\n      <td>8.000000</td>\n      <td>62.700000</td>\n      <td>2.994000</td>\n      <td>6.236000</td>\n      <td>9.613000</td>\n      <td>5.760000</td>\n    </tr>\n    <tr>\n      <th>112</th>\n      <td>5.716667</td>\n      <td>68.983333</td>\n      <td>4.670833</td>\n      <td>8.175833</td>\n      <td>11.664167</td>\n      <td>4.104631</td>\n      <td>6.150000</td>\n      <td>68.733333</td>\n      <td>3.752500</td>\n      <td>6.378333</td>\n      <td>...</td>\n      <td>2.192000</td>\n      <td>5.787000</td>\n      <td>9.666000</td>\n      <td>6.638072</td>\n      <td>7.430000</td>\n      <td>62.450000</td>\n      <td>2.192000</td>\n      <td>5.787000</td>\n      <td>9.666000</td>\n      <td>6.479999</td>\n    </tr>\n    <tr>\n      <th>113</th>\n      <td>5.436364</td>\n      <td>70.918182</td>\n      <td>3.436364</td>\n      <td>7.400000</td>\n      <td>11.557273</td>\n      <td>2.520000</td>\n      <td>5.716667</td>\n      <td>68.983333</td>\n      <td>4.670833</td>\n      <td>8.175833</td>\n      <td>...</td>\n      <td>3.126364</td>\n      <td>7.047273</td>\n      <td>11.187273</td>\n      <td>5.937272</td>\n      <td>7.430000</td>\n      <td>62.450000</td>\n      <td>2.192000</td>\n      <td>5.787000</td>\n      <td>9.666000</td>\n      <td>6.638072</td>\n    </tr>\n    <tr>\n      <th>114</th>\n      <td>6.166667</td>\n      <td>69.291667</td>\n      <td>3.610833</td>\n      <td>5.735833</td>\n      <td>7.756667</td>\n      <td>1.440000</td>\n      <td>5.436364</td>\n      <td>70.918182</td>\n      <td>3.436364</td>\n      <td>7.400000</td>\n      <td>...</td>\n      <td>2.165000</td>\n      <td>5.520833</td>\n      <td>9.129167</td>\n      <td>3.415260</td>\n      <td>6.881818</td>\n      <td>64.036364</td>\n      <td>3.126364</td>\n      <td>7.047273</td>\n      <td>11.187273</td>\n      <td>5.937272</td>\n    </tr>\n  </tbody>\n</table>\n<p>5 rows × 36 columns</p>\n</div>"
     },
     "metadata": {},
     "execution_count": 11
    }
   ],
   "source": [
    "X_test = test_df.drop(test_df[labels], axis=1)\n",
    "X_test.head()"
   ]
  },
  {
   "cell_type": "code",
   "execution_count": 12,
   "metadata": {},
   "outputs": [],
   "source": [
    "y_true1 = test_df['PM2.5_pi']\n",
    "y_true2 = test_df['PM10_pi']\n",
    "\n",
    "y_true1 = y_true1.to_frame()\n",
    "y_true2 = y_true2.to_frame()"
   ]
  },
  {
   "cell_type": "code",
   "execution_count": 33,
   "metadata": {},
   "outputs": [],
   "source": [
    "X_val = val_df.drop(test_df[labels], axis=1)\n",
    "\n",
    "y_val1 = val_df['PM2.5_pi']\n",
    "y_val2 = val_df['PM10_pi']\n",
    "y_val1 = y_val1.to_frame()\n",
    "y_val2 = y_val2.to_frame()"
   ]
  },
  {
   "source": [
    "### Scaling of trainset"
   ],
   "cell_type": "markdown",
   "metadata": {}
  },
  {
   "cell_type": "code",
   "execution_count": 13,
   "metadata": {},
   "outputs": [
    {
     "output_type": "stream",
     "name": "stdout",
     "text": [
      "(96, 36)\n(96, 1)\n(96,)\n(96, 1)\n(96,)\n"
     ]
    }
   ],
   "source": [
    "# X scaling\n",
    "Xscaler = MinMaxScaler(feature_range=(0, 1)) # scale so that all the X data will range from 0 to 1\n",
    "Xscaler.fit(X_train)\n",
    "scaled_X_train = Xscaler.transform(X_train)\n",
    "print(X_train.shape)\n",
    "\n",
    "# y1 scaling\n",
    "Yscaler = MinMaxScaler(feature_range=(0, 1))\n",
    "Yscaler.fit(y_train1)\n",
    "scaled_y_train1 = Yscaler.transform(y_train1)\n",
    "print(scaled_y_train1.shape)\n",
    "scaled_y_train1 = scaled_y_train1.reshape(-1) # remove the second dimention from y so the shape changes from (n,1) to (n,)\n",
    "print(scaled_y_train1.shape)\n",
    "\n",
    "# y2 scaling\n",
    "Yscaler = MinMaxScaler(feature_range=(0, 1))\n",
    "Yscaler.fit(y_train2)\n",
    "scaled_y_train2 = Yscaler.transform(y_train2)\n",
    "print(scaled_y_train2.shape)\n",
    "scaled_y_train2 = scaled_y_train2.reshape(-1) # remove the second dimention from y so the shape changes from (n,1) to (n,)\n",
    "print(scaled_y_train2.shape)\n"
   ]
  },
  {
   "cell_type": "code",
   "execution_count": 14,
   "metadata": {},
   "outputs": [],
   "source": [
    "scaled_y_train1 = np.insert(scaled_y_train1, 0, 0)\n",
    "scaled_y_train1 = np.delete(scaled_y_train1, -1)\n",
    "\n",
    "scaled_y_train2 = np.insert(scaled_y_train2, 0, 0)\n",
    "scaled_y_train2 = np.delete(scaled_y_train2, -1)"
   ]
  },
  {
   "cell_type": "code",
   "execution_count": 16,
   "metadata": {},
   "outputs": [
    {
     "output_type": "stream",
     "name": "stdout",
     "text": [
      "(1, 1, 36)\n"
     ]
    }
   ],
   "source": [
    "n_input = 1 #how many samples/rows/timesteps to look in the past in order to forecast the next sample \n",
    "n_features= X_train.shape[1] # how many predictors/Xs/features we have to predict y\n",
    "b_size = 1 # Number of timeseries samples in each batch\n",
    "generator = TimeseriesGenerator(scaled_X_train, scaled_y_train1, length=n_input, batch_size=b_size) \n",
    "\n",
    "print(generator[0][0].shape)\n",
    "\n",
    "'''Question: Since the dataset is already reconstructed as 'timeseries' data, I just put 'n_input=1'. Is it reasonable?''' "
   ]
  },
  {
   "source": [
    "### Scaling of validation set"
   ],
   "cell_type": "markdown",
   "metadata": {}
  },
  {
   "cell_type": "code",
   "execution_count": null,
   "metadata": {},
   "outputs": [],
   "source": [
    "scaled_X_val = Xscaler.transform(X_val)\n",
    "val_generator = TimeseriesGenerator(scaled_X_val, np.zeros(len(X_val)), length=n_input, batch_size=b_size)\n",
    "print(val_generator[0][0].shape)"
   ]
  },
  {
   "cell_type": "code",
   "execution_count": null,
   "metadata": {},
   "outputs": [],
   "source": [
    "# y_val1 scaling\n",
    "Yscaler = MinMaxScaler(feature_range=(0, 1))\n",
    "Yscaler.fit(y_val1)\n",
    "scaled_y_val1 = Yscaler.transform(y_val1)\n",
    "print(scaled_y_val1.shape)\n",
    "scaled_y_val1 = scaled_y_val1.reshape(-1) # remove the second dimention from y so the shape changes from (n,1) to (n,)\n",
    "print(scaled_y_val1.shape)\n",
    "\n",
    "scaled_y_val1 = np.insert(scaled_y_val1, 0, 0)\n",
    "scaled_y_val1 = np.delete(scaled_y_val1, -1)"
   ]
  },
  {
   "cell_type": "code",
   "execution_count": null,
   "metadata": {},
   "outputs": [],
   "source": [
    "val_generator = TimeseriesGenerator(scaled_X_val, scaled_y_val1, length=n_input, batch_size=b_size)\n",
    "print(val_generator[0][0].shape)"
   ]
  },
  {
   "source": [
    "### Scaling of test set "
   ],
   "cell_type": "markdown",
   "metadata": {}
  },
  {
   "cell_type": "code",
   "execution_count": null,
   "metadata": {},
   "outputs": [],
   "source": [
    "# Only X required\n",
    "scaled_X_test = Xscaler.transform(X_test)\n",
    "test_generator = TimeseriesGenerator(scaled_X_test, np.zeros(len(X_test)), length=n_input, batch_size=b_size)\n",
    "print(test_generator[0][0].shape)"
   ]
  },
  {
   "source": [
    "## Model"
   ],
   "cell_type": "markdown",
   "metadata": {}
  },
  {
   "cell_type": "code",
   "execution_count": 41,
   "metadata": {},
   "outputs": [
    {
     "output_type": "stream",
     "name": "stdout",
     "text": [
      "Model: \"sequential_1\"\n_________________________________________________________________\nLayer (type)                 Output Shape              Param #   \n=================================================================\nlstm_1 (LSTM)                (None, 150)               112200    \n_________________________________________________________________\ndense_1 (Dense)              (None, 1)                 151       \n=================================================================\nTotal params: 112,351\nTrainable params: 112,351\nNon-trainable params: 0\n_________________________________________________________________\n"
     ]
    }
   ],
   "source": [
    "model = Sequential()\n",
    "model.add(LSTM(150, activation='relu', input_shape=(n_input, n_features)))\n",
    "model.add(Dense(1))\n",
    "model.compile(optimizer='adam', loss='mse')\n",
    "model.summary()"
   ]
  },
  {
   "cell_type": "code",
   "execution_count": 48,
   "metadata": {},
   "outputs": [
    {
     "output_type": "stream",
     "name": "stdout",
     "text": [
      "Epoch 1/30\n",
      "95/95 [==============================] - 0s 4ms/step - loss: 0.0057 - val_loss: 0.2293\n",
      "Epoch 2/30\n",
      "95/95 [==============================] - 0s 5ms/step - loss: 0.0054 - val_loss: 0.2551\n",
      "Epoch 3/30\n",
      "95/95 [==============================] - 0s 4ms/step - loss: 0.0056 - val_loss: 0.1804\n",
      "Epoch 4/30\n",
      "95/95 [==============================] - 0s 5ms/step - loss: 0.0056 - val_loss: 0.2189\n",
      "Epoch 5/30\n",
      "95/95 [==============================] - 0s 5ms/step - loss: 0.0055 - val_loss: 0.2842\n",
      "Epoch 6/30\n",
      "95/95 [==============================] - 1s 5ms/step - loss: 0.0059 - val_loss: 0.2242\n",
      "Epoch 7/30\n",
      "95/95 [==============================] - 0s 5ms/step - loss: 0.0052 - val_loss: 0.2074\n",
      "Epoch 8/30\n",
      "95/95 [==============================] - 0s 5ms/step - loss: 0.0051 - val_loss: 0.2342\n",
      "Epoch 9/30\n",
      "95/95 [==============================] - 0s 5ms/step - loss: 0.0049 - val_loss: 0.2268\n",
      "Epoch 10/30\n",
      "95/95 [==============================] - 0s 5ms/step - loss: 0.0052 - val_loss: 0.2317\n",
      "Epoch 11/30\n",
      "95/95 [==============================] - 0s 5ms/step - loss: 0.0041 - val_loss: 0.2231\n",
      "Epoch 12/30\n",
      "95/95 [==============================] - 1s 5ms/step - loss: 0.0048 - val_loss: 0.2583\n",
      "Epoch 13/30\n",
      "95/95 [==============================] - 0s 5ms/step - loss: 0.0045 - val_loss: 0.2205\n",
      "Epoch 14/30\n",
      "95/95 [==============================] - 1s 7ms/step - loss: 0.0051 - val_loss: 0.2122\n",
      "Epoch 15/30\n",
      "95/95 [==============================] - 0s 5ms/step - loss: 0.0043 - val_loss: 0.2148\n",
      "Epoch 16/30\n",
      "95/95 [==============================] - 0s 4ms/step - loss: 0.0045 - val_loss: 0.2237\n",
      "Epoch 17/30\n",
      "95/95 [==============================] - 0s 5ms/step - loss: 0.0042 - val_loss: 0.2314\n",
      "Epoch 18/30\n",
      "95/95 [==============================] - 0s 5ms/step - loss: 0.0038 - val_loss: 0.2355\n",
      "Epoch 19/30\n",
      "95/95 [==============================] - 0s 5ms/step - loss: 0.0051 - val_loss: 0.2129\n",
      "Epoch 20/30\n",
      "95/95 [==============================] - 1s 6ms/step - loss: 0.0038 - val_loss: 0.2206\n",
      "Epoch 21/30\n",
      "95/95 [==============================] - 1s 5ms/step - loss: 0.0054 - val_loss: 0.2807\n",
      "Epoch 22/30\n",
      "95/95 [==============================] - 0s 5ms/step - loss: 0.0041 - val_loss: 0.2108\n",
      "Epoch 23/30\n",
      "95/95 [==============================] - 1s 5ms/step - loss: 0.0041 - val_loss: 0.2504\n",
      "Epoch 24/30\n",
      "95/95 [==============================] - 0s 5ms/step - loss: 0.0035 - val_loss: 0.2368\n",
      "Epoch 25/30\n",
      "95/95 [==============================] - 1s 5ms/step - loss: 0.0040 - val_loss: 0.2411\n",
      "Epoch 26/30\n",
      "95/95 [==============================] - 1s 6ms/step - loss: 0.0036 - val_loss: 0.2365\n",
      "Epoch 27/30\n",
      "95/95 [==============================] - 1s 6ms/step - loss: 0.0042 - val_loss: 0.2458\n",
      "Epoch 28/30\n",
      "95/95 [==============================] - 1s 5ms/step - loss: 0.0042 - val_loss: 0.2451\n",
      "Epoch 29/30\n",
      "95/95 [==============================] - 1s 5ms/step - loss: 0.0035 - val_loss: 0.2360\n",
      "Epoch 30/30\n",
      "95/95 [==============================] - 1s 7ms/step - loss: 0.0034 - val_loss: 0.2262\n"
     ]
    },
    {
     "output_type": "execute_result",
     "data": {
      "text/plain": [
       "' Question: How to add validation dataste?\\nmodel.fit_generator(generator, epochs=30, )'"
      ]
     },
     "metadata": {},
     "execution_count": 48
    }
   ],
   "source": [
    "model.fit_generator(generator,epochs=30,validation_data=val_generator)\n",
    "\n",
    "''' Question: Since the dataset is small, I thougth the augmentation is necessary. According to the documents, 'fit_generator' is more sutiable than 'fit' if the data augementation is required. I'd like to kindly ask whether this is correct.'''\n",
    "\n",
    "''' Question2: is the validation set correctly implemented? Still doubt it..'''"
   ]
  },
  {
   "cell_type": "code",
   "execution_count": 49,
   "metadata": {},
   "outputs": [
    {
     "output_type": "execute_result",
     "data": {
      "text/plain": [
       "[<matplotlib.lines.Line2D at 0x1e7edd6d048>]"
      ]
     },
     "metadata": {},
     "execution_count": 49
    },
    {
     "output_type": "display_data",
     "data": {
      "text/plain": "<Figure size 432x288 with 1 Axes>",
      "image/svg+xml": "<?xml version=\"1.0\" encoding=\"utf-8\" standalone=\"no\"?>\r\n<!DOCTYPE svg PUBLIC \"-//W3C//DTD SVG 1.1//EN\"\r\n  \"http://www.w3.org/Graphics/SVG/1.1/DTD/svg11.dtd\">\r\n<svg height=\"249.511993pt\" version=\"1.1\" viewBox=\"0 0 392.830241 249.511993\" width=\"392.830241pt\" xmlns=\"http://www.w3.org/2000/svg\" xmlns:xlink=\"http://www.w3.org/1999/xlink\">\r\n <metadata>\r\n  <rdf:RDF xmlns:cc=\"http://creativecommons.org/ns#\" xmlns:dc=\"http://purl.org/dc/elements/1.1/\" xmlns:rdf=\"http://www.w3.org/1999/02/22-rdf-syntax-ns#\">\r\n   <cc:Work>\r\n    <dc:type rdf:resource=\"http://purl.org/dc/dcmitype/StillImage\"/>\r\n    <dc:date>2021-05-05T17:26:03.722193</dc:date>\r\n    <dc:format>image/svg+xml</dc:format>\r\n    <dc:creator>\r\n     <cc:Agent>\r\n      <dc:title>Matplotlib v3.4.1, https://matplotlib.org/</dc:title>\r\n     </cc:Agent>\r\n    </dc:creator>\r\n   </cc:Work>\r\n  </rdf:RDF>\r\n </metadata>\r\n <defs>\r\n  <style type=\"text/css\">*{stroke-linecap:butt;stroke-linejoin:round;}</style>\r\n </defs>\r\n <g id=\"figure_1\">\r\n  <g id=\"patch_1\">\r\n   <path d=\"M 0 249.511993 \r\nL 392.830241 249.511993 \r\nL 392.830241 0 \r\nL 0 0 \r\nz\r\n\" style=\"fill:none;\"/>\r\n  </g>\r\n  <g id=\"axes_1\">\r\n   <g id=\"patch_2\">\r\n    <path d=\"M 49.190625 225.633868 \r\nL 383.990625 225.633868 \r\nL 383.990625 8.193868 \r\nL 49.190625 8.193868 \r\nz\r\n\" style=\"fill:#ffffff;\"/>\r\n   </g>\r\n   <g id=\"matplotlib.axis_1\">\r\n    <g id=\"xtick_1\">\r\n     <g id=\"line2d_1\">\r\n      <defs>\r\n       <path d=\"M 0 0 \r\nL 0 3.5 \r\n\" id=\"mfd14a0cfe6\" style=\"stroke:#000000;stroke-width:0.8;\"/>\r\n      </defs>\r\n      <g>\r\n       <use style=\"stroke:#000000;stroke-width:0.8;\" x=\"64.408807\" xlink:href=\"#mfd14a0cfe6\" y=\"225.633868\"/>\r\n      </g>\r\n     </g>\r\n     <g id=\"text_1\">\r\n      <!-- 0 -->\r\n      <g transform=\"translate(61.227557 240.232305)scale(0.1 -0.1)\">\r\n       <defs>\r\n        <path d=\"M 2034 4250 \r\nQ 1547 4250 1301 3770 \r\nQ 1056 3291 1056 2328 \r\nQ 1056 1369 1301 889 \r\nQ 1547 409 2034 409 \r\nQ 2525 409 2770 889 \r\nQ 3016 1369 3016 2328 \r\nQ 3016 3291 2770 3770 \r\nQ 2525 4250 2034 4250 \r\nz\r\nM 2034 4750 \r\nQ 2819 4750 3233 4129 \r\nQ 3647 3509 3647 2328 \r\nQ 3647 1150 3233 529 \r\nQ 2819 -91 2034 -91 \r\nQ 1250 -91 836 529 \r\nQ 422 1150 422 2328 \r\nQ 422 3509 836 4129 \r\nQ 1250 4750 2034 4750 \r\nz\r\n\" id=\"DejaVuSans-30\" transform=\"scale(0.015625)\"/>\r\n       </defs>\r\n       <use xlink:href=\"#DejaVuSans-30\"/>\r\n      </g>\r\n     </g>\r\n    </g>\r\n    <g id=\"xtick_2\">\r\n     <g id=\"line2d_2\">\r\n      <g>\r\n       <use style=\"stroke:#000000;stroke-width:0.8;\" x=\"116.885296\" xlink:href=\"#mfd14a0cfe6\" y=\"225.633868\"/>\r\n      </g>\r\n     </g>\r\n     <g id=\"text_2\">\r\n      <!-- 5 -->\r\n      <g transform=\"translate(113.704046 240.232305)scale(0.1 -0.1)\">\r\n       <defs>\r\n        <path d=\"M 691 4666 \r\nL 3169 4666 \r\nL 3169 4134 \r\nL 1269 4134 \r\nL 1269 2991 \r\nQ 1406 3038 1543 3061 \r\nQ 1681 3084 1819 3084 \r\nQ 2600 3084 3056 2656 \r\nQ 3513 2228 3513 1497 \r\nQ 3513 744 3044 326 \r\nQ 2575 -91 1722 -91 \r\nQ 1428 -91 1123 -41 \r\nQ 819 9 494 109 \r\nL 494 744 \r\nQ 775 591 1075 516 \r\nQ 1375 441 1709 441 \r\nQ 2250 441 2565 725 \r\nQ 2881 1009 2881 1497 \r\nQ 2881 1984 2565 2268 \r\nQ 2250 2553 1709 2553 \r\nQ 1456 2553 1204 2497 \r\nQ 953 2441 691 2322 \r\nL 691 4666 \r\nz\r\n\" id=\"DejaVuSans-35\" transform=\"scale(0.015625)\"/>\r\n       </defs>\r\n       <use xlink:href=\"#DejaVuSans-35\"/>\r\n      </g>\r\n     </g>\r\n    </g>\r\n    <g id=\"xtick_3\">\r\n     <g id=\"line2d_3\">\r\n      <g>\r\n       <use style=\"stroke:#000000;stroke-width:0.8;\" x=\"169.361785\" xlink:href=\"#mfd14a0cfe6\" y=\"225.633868\"/>\r\n      </g>\r\n     </g>\r\n     <g id=\"text_3\">\r\n      <!-- 10 -->\r\n      <g transform=\"translate(162.999285 240.232305)scale(0.1 -0.1)\">\r\n       <defs>\r\n        <path d=\"M 794 531 \r\nL 1825 531 \r\nL 1825 4091 \r\nL 703 3866 \r\nL 703 4441 \r\nL 1819 4666 \r\nL 2450 4666 \r\nL 2450 531 \r\nL 3481 531 \r\nL 3481 0 \r\nL 794 0 \r\nL 794 531 \r\nz\r\n\" id=\"DejaVuSans-31\" transform=\"scale(0.015625)\"/>\r\n       </defs>\r\n       <use xlink:href=\"#DejaVuSans-31\"/>\r\n       <use x=\"63.623047\" xlink:href=\"#DejaVuSans-30\"/>\r\n      </g>\r\n     </g>\r\n    </g>\r\n    <g id=\"xtick_4\">\r\n     <g id=\"line2d_4\">\r\n      <g>\r\n       <use style=\"stroke:#000000;stroke-width:0.8;\" x=\"221.838274\" xlink:href=\"#mfd14a0cfe6\" y=\"225.633868\"/>\r\n      </g>\r\n     </g>\r\n     <g id=\"text_4\">\r\n      <!-- 15 -->\r\n      <g transform=\"translate(215.475774 240.232305)scale(0.1 -0.1)\">\r\n       <use xlink:href=\"#DejaVuSans-31\"/>\r\n       <use x=\"63.623047\" xlink:href=\"#DejaVuSans-35\"/>\r\n      </g>\r\n     </g>\r\n    </g>\r\n    <g id=\"xtick_5\">\r\n     <g id=\"line2d_5\">\r\n      <g>\r\n       <use style=\"stroke:#000000;stroke-width:0.8;\" x=\"274.314763\" xlink:href=\"#mfd14a0cfe6\" y=\"225.633868\"/>\r\n      </g>\r\n     </g>\r\n     <g id=\"text_5\">\r\n      <!-- 20 -->\r\n      <g transform=\"translate(267.952263 240.232305)scale(0.1 -0.1)\">\r\n       <defs>\r\n        <path d=\"M 1228 531 \r\nL 3431 531 \r\nL 3431 0 \r\nL 469 0 \r\nL 469 531 \r\nQ 828 903 1448 1529 \r\nQ 2069 2156 2228 2338 \r\nQ 2531 2678 2651 2914 \r\nQ 2772 3150 2772 3378 \r\nQ 2772 3750 2511 3984 \r\nQ 2250 4219 1831 4219 \r\nQ 1534 4219 1204 4116 \r\nQ 875 4013 500 3803 \r\nL 500 4441 \r\nQ 881 4594 1212 4672 \r\nQ 1544 4750 1819 4750 \r\nQ 2544 4750 2975 4387 \r\nQ 3406 4025 3406 3419 \r\nQ 3406 3131 3298 2873 \r\nQ 3191 2616 2906 2266 \r\nQ 2828 2175 2409 1742 \r\nQ 1991 1309 1228 531 \r\nz\r\n\" id=\"DejaVuSans-32\" transform=\"scale(0.015625)\"/>\r\n       </defs>\r\n       <use xlink:href=\"#DejaVuSans-32\"/>\r\n       <use x=\"63.623047\" xlink:href=\"#DejaVuSans-30\"/>\r\n      </g>\r\n     </g>\r\n    </g>\r\n    <g id=\"xtick_6\">\r\n     <g id=\"line2d_6\">\r\n      <g>\r\n       <use style=\"stroke:#000000;stroke-width:0.8;\" x=\"326.791252\" xlink:href=\"#mfd14a0cfe6\" y=\"225.633868\"/>\r\n      </g>\r\n     </g>\r\n     <g id=\"text_6\">\r\n      <!-- 25 -->\r\n      <g transform=\"translate(320.428752 240.232305)scale(0.1 -0.1)\">\r\n       <use xlink:href=\"#DejaVuSans-32\"/>\r\n       <use x=\"63.623047\" xlink:href=\"#DejaVuSans-35\"/>\r\n      </g>\r\n     </g>\r\n    </g>\r\n    <g id=\"xtick_7\">\r\n     <g id=\"line2d_7\">\r\n      <g>\r\n       <use style=\"stroke:#000000;stroke-width:0.8;\" x=\"379.267741\" xlink:href=\"#mfd14a0cfe6\" y=\"225.633868\"/>\r\n      </g>\r\n     </g>\r\n     <g id=\"text_7\">\r\n      <!-- 30 -->\r\n      <g transform=\"translate(372.905241 240.232305)scale(0.1 -0.1)\">\r\n       <defs>\r\n        <path d=\"M 2597 2516 \r\nQ 3050 2419 3304 2112 \r\nQ 3559 1806 3559 1356 \r\nQ 3559 666 3084 287 \r\nQ 2609 -91 1734 -91 \r\nQ 1441 -91 1130 -33 \r\nQ 819 25 488 141 \r\nL 488 750 \r\nQ 750 597 1062 519 \r\nQ 1375 441 1716 441 \r\nQ 2309 441 2620 675 \r\nQ 2931 909 2931 1356 \r\nQ 2931 1769 2642 2001 \r\nQ 2353 2234 1838 2234 \r\nL 1294 2234 \r\nL 1294 2753 \r\nL 1863 2753 \r\nQ 2328 2753 2575 2939 \r\nQ 2822 3125 2822 3475 \r\nQ 2822 3834 2567 4026 \r\nQ 2313 4219 1838 4219 \r\nQ 1578 4219 1281 4162 \r\nQ 984 4106 628 3988 \r\nL 628 4550 \r\nQ 988 4650 1302 4700 \r\nQ 1616 4750 1894 4750 \r\nQ 2613 4750 3031 4423 \r\nQ 3450 4097 3450 3541 \r\nQ 3450 3153 3228 2886 \r\nQ 3006 2619 2597 2516 \r\nz\r\n\" id=\"DejaVuSans-33\" transform=\"scale(0.015625)\"/>\r\n       </defs>\r\n       <use xlink:href=\"#DejaVuSans-33\"/>\r\n       <use x=\"63.623047\" xlink:href=\"#DejaVuSans-30\"/>\r\n      </g>\r\n     </g>\r\n    </g>\r\n   </g>\r\n   <g id=\"matplotlib.axis_2\">\r\n    <g id=\"ytick_1\">\r\n     <g id=\"line2d_8\">\r\n      <defs>\r\n       <path d=\"M 0 0 \r\nL -3.5 0 \r\n\" id=\"m51c9a55a0c\" style=\"stroke:#000000;stroke-width:0.8;\"/>\r\n      </defs>\r\n      <g>\r\n       <use style=\"stroke:#000000;stroke-width:0.8;\" x=\"49.190625\" xlink:href=\"#m51c9a55a0c\" y=\"205.388389\"/>\r\n      </g>\r\n     </g>\r\n     <g id=\"text_8\">\r\n      <!-- 0.0035 -->\r\n      <g transform=\"translate(7.2 209.187607)scale(0.1 -0.1)\">\r\n       <defs>\r\n        <path d=\"M 684 794 \r\nL 1344 794 \r\nL 1344 0 \r\nL 684 0 \r\nL 684 794 \r\nz\r\n\" id=\"DejaVuSans-2e\" transform=\"scale(0.015625)\"/>\r\n       </defs>\r\n       <use xlink:href=\"#DejaVuSans-30\"/>\r\n       <use x=\"63.623047\" xlink:href=\"#DejaVuSans-2e\"/>\r\n       <use x=\"95.410156\" xlink:href=\"#DejaVuSans-30\"/>\r\n       <use x=\"159.033203\" xlink:href=\"#DejaVuSans-30\"/>\r\n       <use x=\"222.65625\" xlink:href=\"#DejaVuSans-33\"/>\r\n       <use x=\"286.279297\" xlink:href=\"#DejaVuSans-35\"/>\r\n      </g>\r\n     </g>\r\n    </g>\r\n    <g id=\"ytick_2\">\r\n     <g id=\"line2d_9\">\r\n      <g>\r\n       <use style=\"stroke:#000000;stroke-width:0.8;\" x=\"49.190625\" xlink:href=\"#m51c9a55a0c\" y=\"166.510555\"/>\r\n      </g>\r\n     </g>\r\n     <g id=\"text_9\">\r\n      <!-- 0.0040 -->\r\n      <g transform=\"translate(7.2 170.309773)scale(0.1 -0.1)\">\r\n       <defs>\r\n        <path d=\"M 2419 4116 \r\nL 825 1625 \r\nL 2419 1625 \r\nL 2419 4116 \r\nz\r\nM 2253 4666 \r\nL 3047 4666 \r\nL 3047 1625 \r\nL 3713 1625 \r\nL 3713 1100 \r\nL 3047 1100 \r\nL 3047 0 \r\nL 2419 0 \r\nL 2419 1100 \r\nL 313 1100 \r\nL 313 1709 \r\nL 2253 4666 \r\nz\r\n\" id=\"DejaVuSans-34\" transform=\"scale(0.015625)\"/>\r\n       </defs>\r\n       <use xlink:href=\"#DejaVuSans-30\"/>\r\n       <use x=\"63.623047\" xlink:href=\"#DejaVuSans-2e\"/>\r\n       <use x=\"95.410156\" xlink:href=\"#DejaVuSans-30\"/>\r\n       <use x=\"159.033203\" xlink:href=\"#DejaVuSans-30\"/>\r\n       <use x=\"222.65625\" xlink:href=\"#DejaVuSans-34\"/>\r\n       <use x=\"286.279297\" xlink:href=\"#DejaVuSans-30\"/>\r\n      </g>\r\n     </g>\r\n    </g>\r\n    <g id=\"ytick_3\">\r\n     <g id=\"line2d_10\">\r\n      <g>\r\n       <use style=\"stroke:#000000;stroke-width:0.8;\" x=\"49.190625\" xlink:href=\"#m51c9a55a0c\" y=\"127.632721\"/>\r\n      </g>\r\n     </g>\r\n     <g id=\"text_10\">\r\n      <!-- 0.0045 -->\r\n      <g transform=\"translate(7.2 131.431939)scale(0.1 -0.1)\">\r\n       <use xlink:href=\"#DejaVuSans-30\"/>\r\n       <use x=\"63.623047\" xlink:href=\"#DejaVuSans-2e\"/>\r\n       <use x=\"95.410156\" xlink:href=\"#DejaVuSans-30\"/>\r\n       <use x=\"159.033203\" xlink:href=\"#DejaVuSans-30\"/>\r\n       <use x=\"222.65625\" xlink:href=\"#DejaVuSans-34\"/>\r\n       <use x=\"286.279297\" xlink:href=\"#DejaVuSans-35\"/>\r\n      </g>\r\n     </g>\r\n    </g>\r\n    <g id=\"ytick_4\">\r\n     <g id=\"line2d_11\">\r\n      <g>\r\n       <use style=\"stroke:#000000;stroke-width:0.8;\" x=\"49.190625\" xlink:href=\"#m51c9a55a0c\" y=\"88.754887\"/>\r\n      </g>\r\n     </g>\r\n     <g id=\"text_11\">\r\n      <!-- 0.0050 -->\r\n      <g transform=\"translate(7.2 92.554105)scale(0.1 -0.1)\">\r\n       <use xlink:href=\"#DejaVuSans-30\"/>\r\n       <use x=\"63.623047\" xlink:href=\"#DejaVuSans-2e\"/>\r\n       <use x=\"95.410156\" xlink:href=\"#DejaVuSans-30\"/>\r\n       <use x=\"159.033203\" xlink:href=\"#DejaVuSans-30\"/>\r\n       <use x=\"222.65625\" xlink:href=\"#DejaVuSans-35\"/>\r\n       <use x=\"286.279297\" xlink:href=\"#DejaVuSans-30\"/>\r\n      </g>\r\n     </g>\r\n    </g>\r\n    <g id=\"ytick_5\">\r\n     <g id=\"line2d_12\">\r\n      <g>\r\n       <use style=\"stroke:#000000;stroke-width:0.8;\" x=\"49.190625\" xlink:href=\"#m51c9a55a0c\" y=\"49.877053\"/>\r\n      </g>\r\n     </g>\r\n     <g id=\"text_12\">\r\n      <!-- 0.0055 -->\r\n      <g transform=\"translate(7.2 53.676271)scale(0.1 -0.1)\">\r\n       <use xlink:href=\"#DejaVuSans-30\"/>\r\n       <use x=\"63.623047\" xlink:href=\"#DejaVuSans-2e\"/>\r\n       <use x=\"95.410156\" xlink:href=\"#DejaVuSans-30\"/>\r\n       <use x=\"159.033203\" xlink:href=\"#DejaVuSans-30\"/>\r\n       <use x=\"222.65625\" xlink:href=\"#DejaVuSans-35\"/>\r\n       <use x=\"286.279297\" xlink:href=\"#DejaVuSans-35\"/>\r\n      </g>\r\n     </g>\r\n    </g>\r\n    <g id=\"ytick_6\">\r\n     <g id=\"line2d_13\">\r\n      <g>\r\n       <use style=\"stroke:#000000;stroke-width:0.8;\" x=\"49.190625\" xlink:href=\"#m51c9a55a0c\" y=\"10.999219\"/>\r\n      </g>\r\n     </g>\r\n     <g id=\"text_13\">\r\n      <!-- 0.0060 -->\r\n      <g transform=\"translate(7.2 14.798437)scale(0.1 -0.1)\">\r\n       <defs>\r\n        <path d=\"M 2113 2584 \r\nQ 1688 2584 1439 2293 \r\nQ 1191 2003 1191 1497 \r\nQ 1191 994 1439 701 \r\nQ 1688 409 2113 409 \r\nQ 2538 409 2786 701 \r\nQ 3034 994 3034 1497 \r\nQ 3034 2003 2786 2293 \r\nQ 2538 2584 2113 2584 \r\nz\r\nM 3366 4563 \r\nL 3366 3988 \r\nQ 3128 4100 2886 4159 \r\nQ 2644 4219 2406 4219 \r\nQ 1781 4219 1451 3797 \r\nQ 1122 3375 1075 2522 \r\nQ 1259 2794 1537 2939 \r\nQ 1816 3084 2150 3084 \r\nQ 2853 3084 3261 2657 \r\nQ 3669 2231 3669 1497 \r\nQ 3669 778 3244 343 \r\nQ 2819 -91 2113 -91 \r\nQ 1303 -91 875 529 \r\nQ 447 1150 447 2328 \r\nQ 447 3434 972 4092 \r\nQ 1497 4750 2381 4750 \r\nQ 2619 4750 2861 4703 \r\nQ 3103 4656 3366 4563 \r\nz\r\n\" id=\"DejaVuSans-36\" transform=\"scale(0.015625)\"/>\r\n       </defs>\r\n       <use xlink:href=\"#DejaVuSans-30\"/>\r\n       <use x=\"63.623047\" xlink:href=\"#DejaVuSans-2e\"/>\r\n       <use x=\"95.410156\" xlink:href=\"#DejaVuSans-30\"/>\r\n       <use x=\"159.033203\" xlink:href=\"#DejaVuSans-30\"/>\r\n       <use x=\"222.65625\" xlink:href=\"#DejaVuSans-36\"/>\r\n       <use x=\"286.279297\" xlink:href=\"#DejaVuSans-30\"/>\r\n      </g>\r\n     </g>\r\n    </g>\r\n   </g>\r\n   <g id=\"line2d_14\">\r\n    <path clip-path=\"url(#p12074f38c4)\" d=\"M 64.408807 31.413595 \r\nL 74.904105 58.999808 \r\nL 85.399402 45.228189 \r\nL 95.8947 39.903918 \r\nL 106.389998 48.883152 \r\nL 116.885296 18.077504 \r\nL 127.380594 71.150657 \r\nL 137.875891 83.064883 \r\nL 148.371189 99.310629 \r\nL 158.866487 74.944478 \r\nL 169.361785 159.70651 \r\nL 179.857083 101.344762 \r\nL 190.35238 131.400548 \r\nL 200.847678 80.29398 \r\nL 211.342976 142.436321 \r\nL 221.838274 126.428572 \r\nL 232.333572 149.522754 \r\nL 242.82887 178.725736 \r\nL 253.324167 82.143301 \r\nL 263.819465 178.712672 \r\nL 274.314763 59.052492 \r\nL 284.810061 156.168821 \r\nL 295.305359 159.185777 \r\nL 305.800656 207.571717 \r\nL 316.295954 163.88032 \r\nL 326.791252 199.46734 \r\nL 337.28655 150.856575 \r\nL 347.781848 151.41082 \r\nL 358.277145 207.151911 \r\nL 368.772443 215.750231 \r\n\" style=\"fill:none;stroke:#1f77b4;stroke-linecap:square;stroke-width:1.5;\"/>\r\n   </g>\r\n   <g id=\"patch_3\">\r\n    <path d=\"M 49.190625 225.633868 \r\nL 49.190625 8.193868 \r\n\" style=\"fill:none;stroke:#000000;stroke-linecap:square;stroke-linejoin:miter;stroke-width:0.8;\"/>\r\n   </g>\r\n   <g id=\"patch_4\">\r\n    <path d=\"M 383.990625 225.633868 \r\nL 383.990625 8.193868 \r\n\" style=\"fill:none;stroke:#000000;stroke-linecap:square;stroke-linejoin:miter;stroke-width:0.8;\"/>\r\n   </g>\r\n   <g id=\"patch_5\">\r\n    <path d=\"M 49.190625 225.633868 \r\nL 383.990625 225.633868 \r\n\" style=\"fill:none;stroke:#000000;stroke-linecap:square;stroke-linejoin:miter;stroke-width:0.8;\"/>\r\n   </g>\r\n   <g id=\"patch_6\">\r\n    <path d=\"M 49.190625 8.193868 \r\nL 383.990625 8.193868 \r\n\" style=\"fill:none;stroke:#000000;stroke-linecap:square;stroke-linejoin:miter;stroke-width:0.8;\"/>\r\n   </g>\r\n  </g>\r\n </g>\r\n <defs>\r\n  <clipPath id=\"p12074f38c4\">\r\n   <rect height=\"217.44\" width=\"334.8\" x=\"49.190625\" y=\"8.193868\"/>\r\n  </clipPath>\r\n </defs>\r\n</svg>\r\n",
      "image/png": "[encoded data removed]"
     },
     "metadata": {
      "needs_background": "light"
     }
    }
   ],
   "source": [
    "loss_per_epoch = model.history.history['loss']\n",
    "plt.plot(range(len(loss_per_epoch)),loss_per_epoch)"
   ]
  },
  {
   "cell_type": "code",
   "execution_count": 51,
   "metadata": {},
   "outputs": [
    {
     "output_type": "stream",
     "name": "stdout",
     "text": [
      "      y_true1    y_pred\n0    8.175833  5.401207\n1    7.400000  5.792404\n2    5.735833  6.272453\n3    5.347273  6.123603\n4    4.264000  5.854687\n5    3.856667  6.446616\n6    5.673000  6.504642\n7    4.440000  6.245478\n8    4.829091  6.193013\n9    7.077500  5.629176\n10   7.685000  5.399809\n11   6.626364  5.006869\n12   8.286667  5.127824\n13   9.799167  5.117236\n14   9.512500  4.669920\n15   9.767500  4.818861\n16   7.718333  6.007197\n17   5.473636  6.962052\n18   5.647500  6.430236\n19   7.613636  5.901704\n20   7.039167  6.066048\n21   6.749167  6.160557\n22   7.871667  5.384850\n23   5.710833  5.721455\n24   7.948333  5.882920\n25  10.420000  5.606012\n26   6.582727  5.913537\n"
     ]
    }
   ],
   "source": [
    "y_pred_scaled = model.predict(test_generator)\n",
    "y_pred = Yscaler.inverse_transform(y_pred_scaled)\n",
    "results = pd.DataFrame({'y_true1':test_df['PM2.5_pi'].values[n_input:],'y_pred':y_pred.ravel()})\n",
    "print(results)"
   ]
  },
  {
   "cell_type": "code",
   "execution_count": 52,
   "metadata": {},
   "outputs": [
    {
     "output_type": "execute_result",
     "data": {
      "text/plain": [
       "[<matplotlib.lines.Line2D at 0x1e7f3026d08>,\n",
       " <matplotlib.lines.Line2D at 0x1e7f301dfc8>]"
      ]
     },
     "metadata": {},
     "execution_count": 52
    },
    {
     "output_type": "display_data",
     "data": {
      "text/plain": "<Figure size 432x288 with 1 Axes>",
      "image/svg+xml": "<?xml version=\"1.0\" encoding=\"utf-8\" standalone=\"no\"?>\r\n<!DOCTYPE svg PUBLIC \"-//W3C//DTD SVG 1.1//EN\"\r\n  \"http://www.w3.org/Graphics/SVG/1.1/DTD/svg11.dtd\">\r\n<svg height=\"248.518125pt\" version=\"1.1\" viewBox=\"0 0 368.925 248.518125\" width=\"368.925pt\" xmlns=\"http://www.w3.org/2000/svg\" xmlns:xlink=\"http://www.w3.org/1999/xlink\">\r\n <metadata>\r\n  <rdf:RDF xmlns:cc=\"http://creativecommons.org/ns#\" xmlns:dc=\"http://purl.org/dc/elements/1.1/\" xmlns:rdf=\"http://www.w3.org/1999/02/22-rdf-syntax-ns#\">\r\n   <cc:Work>\r\n    <dc:type rdf:resource=\"http://purl.org/dc/dcmitype/StillImage\"/>\r\n    <dc:date>2021-05-05T17:27:37.674768</dc:date>\r\n    <dc:format>image/svg+xml</dc:format>\r\n    <dc:creator>\r\n     <cc:Agent>\r\n      <dc:title>Matplotlib v3.4.1, https://matplotlib.org/</dc:title>\r\n     </cc:Agent>\r\n    </dc:creator>\r\n   </cc:Work>\r\n  </rdf:RDF>\r\n </metadata>\r\n <defs>\r\n  <style type=\"text/css\">*{stroke-linecap:butt;stroke-linejoin:round;}</style>\r\n </defs>\r\n <g id=\"figure_1\">\r\n  <g id=\"patch_1\">\r\n   <path d=\"M -0 248.518125 \r\nL 368.925 248.518125 \r\nL 368.925 0 \r\nL -0 0 \r\nz\r\n\" style=\"fill:none;\"/>\r\n  </g>\r\n  <g id=\"axes_1\">\r\n   <g id=\"patch_2\">\r\n    <path d=\"M 26.925 224.64 \r\nL 361.725 224.64 \r\nL 361.725 7.2 \r\nL 26.925 7.2 \r\nz\r\n\" style=\"fill:#ffffff;\"/>\r\n   </g>\r\n   <g id=\"matplotlib.axis_1\">\r\n    <g id=\"xtick_1\">\r\n     <g id=\"line2d_1\">\r\n      <defs>\r\n       <path d=\"M 0 0 \r\nL 0 3.5 \r\n\" id=\"m5f7c779a24\" style=\"stroke:#000000;stroke-width:0.8;\"/>\r\n      </defs>\r\n      <g>\r\n       <use style=\"stroke:#000000;stroke-width:0.8;\" x=\"42.143182\" xlink:href=\"#m5f7c779a24\" y=\"224.64\"/>\r\n      </g>\r\n     </g>\r\n     <g id=\"text_1\">\r\n      <!-- 0 -->\r\n      <g transform=\"translate(38.961932 239.238438)scale(0.1 -0.1)\">\r\n       <defs>\r\n        <path d=\"M 2034 4250 \r\nQ 1547 4250 1301 3770 \r\nQ 1056 3291 1056 2328 \r\nQ 1056 1369 1301 889 \r\nQ 1547 409 2034 409 \r\nQ 2525 409 2770 889 \r\nQ 3016 1369 3016 2328 \r\nQ 3016 3291 2770 3770 \r\nQ 2525 4250 2034 4250 \r\nz\r\nM 2034 4750 \r\nQ 2819 4750 3233 4129 \r\nQ 3647 3509 3647 2328 \r\nQ 3647 1150 3233 529 \r\nQ 2819 -91 2034 -91 \r\nQ 1250 -91 836 529 \r\nQ 422 1150 422 2328 \r\nQ 422 3509 836 4129 \r\nQ 1250 4750 2034 4750 \r\nz\r\n\" id=\"DejaVuSans-30\" transform=\"scale(0.015625)\"/>\r\n       </defs>\r\n       <use xlink:href=\"#DejaVuSans-30\"/>\r\n      </g>\r\n     </g>\r\n    </g>\r\n    <g id=\"xtick_2\">\r\n     <g id=\"line2d_2\">\r\n      <g>\r\n       <use style=\"stroke:#000000;stroke-width:0.8;\" x=\"100.67465\" xlink:href=\"#m5f7c779a24\" y=\"224.64\"/>\r\n      </g>\r\n     </g>\r\n     <g id=\"text_2\">\r\n      <!-- 5 -->\r\n      <g transform=\"translate(97.4934 239.238438)scale(0.1 -0.1)\">\r\n       <defs>\r\n        <path d=\"M 691 4666 \r\nL 3169 4666 \r\nL 3169 4134 \r\nL 1269 4134 \r\nL 1269 2991 \r\nQ 1406 3038 1543 3061 \r\nQ 1681 3084 1819 3084 \r\nQ 2600 3084 3056 2656 \r\nQ 3513 2228 3513 1497 \r\nQ 3513 744 3044 326 \r\nQ 2575 -91 1722 -91 \r\nQ 1428 -91 1123 -41 \r\nQ 819 9 494 109 \r\nL 494 744 \r\nQ 775 591 1075 516 \r\nQ 1375 441 1709 441 \r\nQ 2250 441 2565 725 \r\nQ 2881 1009 2881 1497 \r\nQ 2881 1984 2565 2268 \r\nQ 2250 2553 1709 2553 \r\nQ 1456 2553 1204 2497 \r\nQ 953 2441 691 2322 \r\nL 691 4666 \r\nz\r\n\" id=\"DejaVuSans-35\" transform=\"scale(0.015625)\"/>\r\n       </defs>\r\n       <use xlink:href=\"#DejaVuSans-35\"/>\r\n      </g>\r\n     </g>\r\n    </g>\r\n    <g id=\"xtick_3\">\r\n     <g id=\"line2d_3\">\r\n      <g>\r\n       <use style=\"stroke:#000000;stroke-width:0.8;\" x=\"159.206119\" xlink:href=\"#m5f7c779a24\" y=\"224.64\"/>\r\n      </g>\r\n     </g>\r\n     <g id=\"text_3\">\r\n      <!-- 10 -->\r\n      <g transform=\"translate(152.843619 239.238438)scale(0.1 -0.1)\">\r\n       <defs>\r\n        <path d=\"M 794 531 \r\nL 1825 531 \r\nL 1825 4091 \r\nL 703 3866 \r\nL 703 4441 \r\nL 1819 4666 \r\nL 2450 4666 \r\nL 2450 531 \r\nL 3481 531 \r\nL 3481 0 \r\nL 794 0 \r\nL 794 531 \r\nz\r\n\" id=\"DejaVuSans-31\" transform=\"scale(0.015625)\"/>\r\n       </defs>\r\n       <use xlink:href=\"#DejaVuSans-31\"/>\r\n       <use x=\"63.623047\" xlink:href=\"#DejaVuSans-30\"/>\r\n      </g>\r\n     </g>\r\n    </g>\r\n    <g id=\"xtick_4\">\r\n     <g id=\"line2d_4\">\r\n      <g>\r\n       <use style=\"stroke:#000000;stroke-width:0.8;\" x=\"217.737587\" xlink:href=\"#m5f7c779a24\" y=\"224.64\"/>\r\n      </g>\r\n     </g>\r\n     <g id=\"text_4\">\r\n      <!-- 15 -->\r\n      <g transform=\"translate(211.375087 239.238438)scale(0.1 -0.1)\">\r\n       <use xlink:href=\"#DejaVuSans-31\"/>\r\n       <use x=\"63.623047\" xlink:href=\"#DejaVuSans-35\"/>\r\n      </g>\r\n     </g>\r\n    </g>\r\n    <g id=\"xtick_5\">\r\n     <g id=\"line2d_5\">\r\n      <g>\r\n       <use style=\"stroke:#000000;stroke-width:0.8;\" x=\"276.269056\" xlink:href=\"#m5f7c779a24\" y=\"224.64\"/>\r\n      </g>\r\n     </g>\r\n     <g id=\"text_5\">\r\n      <!-- 20 -->\r\n      <g transform=\"translate(269.906556 239.238438)scale(0.1 -0.1)\">\r\n       <defs>\r\n        <path d=\"M 1228 531 \r\nL 3431 531 \r\nL 3431 0 \r\nL 469 0 \r\nL 469 531 \r\nQ 828 903 1448 1529 \r\nQ 2069 2156 2228 2338 \r\nQ 2531 2678 2651 2914 \r\nQ 2772 3150 2772 3378 \r\nQ 2772 3750 2511 3984 \r\nQ 2250 4219 1831 4219 \r\nQ 1534 4219 1204 4116 \r\nQ 875 4013 500 3803 \r\nL 500 4441 \r\nQ 881 4594 1212 4672 \r\nQ 1544 4750 1819 4750 \r\nQ 2544 4750 2975 4387 \r\nQ 3406 4025 3406 3419 \r\nQ 3406 3131 3298 2873 \r\nQ 3191 2616 2906 2266 \r\nQ 2828 2175 2409 1742 \r\nQ 1991 1309 1228 531 \r\nz\r\n\" id=\"DejaVuSans-32\" transform=\"scale(0.015625)\"/>\r\n       </defs>\r\n       <use xlink:href=\"#DejaVuSans-32\"/>\r\n       <use x=\"63.623047\" xlink:href=\"#DejaVuSans-30\"/>\r\n      </g>\r\n     </g>\r\n    </g>\r\n    <g id=\"xtick_6\">\r\n     <g id=\"line2d_6\">\r\n      <g>\r\n       <use style=\"stroke:#000000;stroke-width:0.8;\" x=\"334.800524\" xlink:href=\"#m5f7c779a24\" y=\"224.64\"/>\r\n      </g>\r\n     </g>\r\n     <g id=\"text_6\">\r\n      <!-- 25 -->\r\n      <g transform=\"translate(328.438024 239.238438)scale(0.1 -0.1)\">\r\n       <use xlink:href=\"#DejaVuSans-32\"/>\r\n       <use x=\"63.623047\" xlink:href=\"#DejaVuSans-35\"/>\r\n      </g>\r\n     </g>\r\n    </g>\r\n   </g>\r\n   <g id=\"matplotlib.axis_2\">\r\n    <g id=\"ytick_1\">\r\n     <g id=\"line2d_7\">\r\n      <defs>\r\n       <path d=\"M 0 0 \r\nL -3.5 0 \r\n\" id=\"mbd54b0f559\" style=\"stroke:#000000;stroke-width:0.8;\"/>\r\n      </defs>\r\n      <g>\r\n       <use style=\"stroke:#000000;stroke-width:0.8;\" x=\"26.925\" xlink:href=\"#mbd54b0f559\" y=\"210.439488\"/>\r\n      </g>\r\n     </g>\r\n     <g id=\"text_7\">\r\n      <!-- 4 -->\r\n      <g transform=\"translate(13.5625 214.238707)scale(0.1 -0.1)\">\r\n       <defs>\r\n        <path d=\"M 2419 4116 \r\nL 825 1625 \r\nL 2419 1625 \r\nL 2419 4116 \r\nz\r\nM 2253 4666 \r\nL 3047 4666 \r\nL 3047 1625 \r\nL 3713 1625 \r\nL 3713 1100 \r\nL 3047 1100 \r\nL 3047 0 \r\nL 2419 0 \r\nL 2419 1100 \r\nL 313 1100 \r\nL 313 1709 \r\nL 2253 4666 \r\nz\r\n\" id=\"DejaVuSans-34\" transform=\"scale(0.015625)\"/>\r\n       </defs>\r\n       <use xlink:href=\"#DejaVuSans-34\"/>\r\n      </g>\r\n     </g>\r\n    </g>\r\n    <g id=\"ytick_2\">\r\n     <g id=\"line2d_8\">\r\n      <g>\r\n       <use style=\"stroke:#000000;stroke-width:0.8;\" x=\"26.925\" xlink:href=\"#mbd54b0f559\" y=\"180.321754\"/>\r\n      </g>\r\n     </g>\r\n     <g id=\"text_8\">\r\n      <!-- 5 -->\r\n      <g transform=\"translate(13.5625 184.120973)scale(0.1 -0.1)\">\r\n       <use xlink:href=\"#DejaVuSans-35\"/>\r\n      </g>\r\n     </g>\r\n    </g>\r\n    <g id=\"ytick_3\">\r\n     <g id=\"line2d_9\">\r\n      <g>\r\n       <use style=\"stroke:#000000;stroke-width:0.8;\" x=\"26.925\" xlink:href=\"#mbd54b0f559\" y=\"150.20402\"/>\r\n      </g>\r\n     </g>\r\n     <g id=\"text_9\">\r\n      <!-- 6 -->\r\n      <g transform=\"translate(13.5625 154.003239)scale(0.1 -0.1)\">\r\n       <defs>\r\n        <path d=\"M 2113 2584 \r\nQ 1688 2584 1439 2293 \r\nQ 1191 2003 1191 1497 \r\nQ 1191 994 1439 701 \r\nQ 1688 409 2113 409 \r\nQ 2538 409 2786 701 \r\nQ 3034 994 3034 1497 \r\nQ 3034 2003 2786 2293 \r\nQ 2538 2584 2113 2584 \r\nz\r\nM 3366 4563 \r\nL 3366 3988 \r\nQ 3128 4100 2886 4159 \r\nQ 2644 4219 2406 4219 \r\nQ 1781 4219 1451 3797 \r\nQ 1122 3375 1075 2522 \r\nQ 1259 2794 1537 2939 \r\nQ 1816 3084 2150 3084 \r\nQ 2853 3084 3261 2657 \r\nQ 3669 2231 3669 1497 \r\nQ 3669 778 3244 343 \r\nQ 2819 -91 2113 -91 \r\nQ 1303 -91 875 529 \r\nQ 447 1150 447 2328 \r\nQ 447 3434 972 4092 \r\nQ 1497 4750 2381 4750 \r\nQ 2619 4750 2861 4703 \r\nQ 3103 4656 3366 4563 \r\nz\r\n\" id=\"DejaVuSans-36\" transform=\"scale(0.015625)\"/>\r\n       </defs>\r\n       <use xlink:href=\"#DejaVuSans-36\"/>\r\n      </g>\r\n     </g>\r\n    </g>\r\n    <g id=\"ytick_4\">\r\n     <g id=\"line2d_10\">\r\n      <g>\r\n       <use style=\"stroke:#000000;stroke-width:0.8;\" x=\"26.925\" xlink:href=\"#mbd54b0f559\" y=\"120.086287\"/>\r\n      </g>\r\n     </g>\r\n     <g id=\"text_10\">\r\n      <!-- 7 -->\r\n      <g transform=\"translate(13.5625 123.885505)scale(0.1 -0.1)\">\r\n       <defs>\r\n        <path d=\"M 525 4666 \r\nL 3525 4666 \r\nL 3525 4397 \r\nL 1831 0 \r\nL 1172 0 \r\nL 2766 4134 \r\nL 525 4134 \r\nL 525 4666 \r\nz\r\n\" id=\"DejaVuSans-37\" transform=\"scale(0.015625)\"/>\r\n       </defs>\r\n       <use xlink:href=\"#DejaVuSans-37\"/>\r\n      </g>\r\n     </g>\r\n    </g>\r\n    <g id=\"ytick_5\">\r\n     <g id=\"line2d_11\">\r\n      <g>\r\n       <use style=\"stroke:#000000;stroke-width:0.8;\" x=\"26.925\" xlink:href=\"#mbd54b0f559\" y=\"89.968553\"/>\r\n      </g>\r\n     </g>\r\n     <g id=\"text_11\">\r\n      <!-- 8 -->\r\n      <g transform=\"translate(13.5625 93.767771)scale(0.1 -0.1)\">\r\n       <defs>\r\n        <path d=\"M 2034 2216 \r\nQ 1584 2216 1326 1975 \r\nQ 1069 1734 1069 1313 \r\nQ 1069 891 1326 650 \r\nQ 1584 409 2034 409 \r\nQ 2484 409 2743 651 \r\nQ 3003 894 3003 1313 \r\nQ 3003 1734 2745 1975 \r\nQ 2488 2216 2034 2216 \r\nz\r\nM 1403 2484 \r\nQ 997 2584 770 2862 \r\nQ 544 3141 544 3541 \r\nQ 544 4100 942 4425 \r\nQ 1341 4750 2034 4750 \r\nQ 2731 4750 3128 4425 \r\nQ 3525 4100 3525 3541 \r\nQ 3525 3141 3298 2862 \r\nQ 3072 2584 2669 2484 \r\nQ 3125 2378 3379 2068 \r\nQ 3634 1759 3634 1313 \r\nQ 3634 634 3220 271 \r\nQ 2806 -91 2034 -91 \r\nQ 1263 -91 848 271 \r\nQ 434 634 434 1313 \r\nQ 434 1759 690 2068 \r\nQ 947 2378 1403 2484 \r\nz\r\nM 1172 3481 \r\nQ 1172 3119 1398 2916 \r\nQ 1625 2713 2034 2713 \r\nQ 2441 2713 2670 2916 \r\nQ 2900 3119 2900 3481 \r\nQ 2900 3844 2670 4047 \r\nQ 2441 4250 2034 4250 \r\nQ 1625 4250 1398 4047 \r\nQ 1172 3844 1172 3481 \r\nz\r\n\" id=\"DejaVuSans-38\" transform=\"scale(0.015625)\"/>\r\n       </defs>\r\n       <use xlink:href=\"#DejaVuSans-38\"/>\r\n      </g>\r\n     </g>\r\n    </g>\r\n    <g id=\"ytick_6\">\r\n     <g id=\"line2d_12\">\r\n      <g>\r\n       <use style=\"stroke:#000000;stroke-width:0.8;\" x=\"26.925\" xlink:href=\"#mbd54b0f559\" y=\"59.850819\"/>\r\n      </g>\r\n     </g>\r\n     <g id=\"text_12\">\r\n      <!-- 9 -->\r\n      <g transform=\"translate(13.5625 63.650037)scale(0.1 -0.1)\">\r\n       <defs>\r\n        <path d=\"M 703 97 \r\nL 703 672 \r\nQ 941 559 1184 500 \r\nQ 1428 441 1663 441 \r\nQ 2288 441 2617 861 \r\nQ 2947 1281 2994 2138 \r\nQ 2813 1869 2534 1725 \r\nQ 2256 1581 1919 1581 \r\nQ 1219 1581 811 2004 \r\nQ 403 2428 403 3163 \r\nQ 403 3881 828 4315 \r\nQ 1253 4750 1959 4750 \r\nQ 2769 4750 3195 4129 \r\nQ 3622 3509 3622 2328 \r\nQ 3622 1225 3098 567 \r\nQ 2575 -91 1691 -91 \r\nQ 1453 -91 1209 -44 \r\nQ 966 3 703 97 \r\nz\r\nM 1959 2075 \r\nQ 2384 2075 2632 2365 \r\nQ 2881 2656 2881 3163 \r\nQ 2881 3666 2632 3958 \r\nQ 2384 4250 1959 4250 \r\nQ 1534 4250 1286 3958 \r\nQ 1038 3666 1038 3163 \r\nQ 1038 2656 1286 2365 \r\nQ 1534 2075 1959 2075 \r\nz\r\n\" id=\"DejaVuSans-39\" transform=\"scale(0.015625)\"/>\r\n       </defs>\r\n       <use xlink:href=\"#DejaVuSans-39\"/>\r\n      </g>\r\n     </g>\r\n    </g>\r\n    <g id=\"ytick_7\">\r\n     <g id=\"line2d_13\">\r\n      <g>\r\n       <use style=\"stroke:#000000;stroke-width:0.8;\" x=\"26.925\" xlink:href=\"#mbd54b0f559\" y=\"29.733085\"/>\r\n      </g>\r\n     </g>\r\n     <g id=\"text_13\">\r\n      <!-- 10 -->\r\n      <g transform=\"translate(7.2 33.532303)scale(0.1 -0.1)\">\r\n       <use xlink:href=\"#DejaVuSans-31\"/>\r\n       <use x=\"63.623047\" xlink:href=\"#DejaVuSans-30\"/>\r\n      </g>\r\n     </g>\r\n    </g>\r\n   </g>\r\n   <g id=\"line2d_14\">\r\n    <path clip-path=\"url(#p6c4609d2ef)\" d=\"M 42.143182 84.672851 \r\nL 53.849476 108.039193 \r\nL 65.555769 158.160122 \r\nL 77.262063 169.862687 \r\nL 88.968357 202.488407 \r\nL 100.67465 214.756364 \r\nL 112.380944 160.05252 \r\nL 124.087238 197.187685 \r\nL 135.793531 185.469149 \r\nL 147.499825 117.752162 \r\nL 159.206119 99.455639 \r\nL 170.912413 131.339367 \r\nL 182.618706 81.334802 \r\nL 194.325 35.78173 \r\nL 206.031294 44.41548 \r\nL 217.737587 36.735458 \r\nL 229.443881 98.451714 \r\nL 241.150175 166.0569 \r\nL 252.856469 160.820522 \r\nL 264.562762 101.60495 \r\nL 276.269056 118.906675 \r\nL 287.97535 127.640818 \r\nL 299.681643 93.833662 \r\nL 311.387937 158.913065 \r\nL 323.094231 91.524635 \r\nL 334.800524 17.083636 \r\nL 346.506818 132.653596 \r\n\" style=\"fill:none;stroke:#1f77b4;stroke-linecap:square;stroke-width:1.5;\"/>\r\n   </g>\r\n   <g id=\"line2d_15\">\r\n    <path clip-path=\"url(#p6c4609d2ef)\" d=\"M 42.143182 168.23831 \r\nL 53.849476 156.456351 \r\nL 65.555769 141.998359 \r\nL 77.262063 146.481382 \r\nL 88.968357 154.580512 \r\nL 100.67465 136.752953 \r\nL 112.380944 135.005361 \r\nL 124.087238 142.810789 \r\nL 135.793531 144.390915 \r\nL 147.499825 161.372409 \r\nL 159.206119 168.280417 \r\nL 170.912413 180.114866 \r\nL 182.618706 176.47199 \r\nL 194.325 176.790868 \r\nL 206.031294 190.263017 \r\nL 217.737587 185.777236 \r\nL 229.443881 149.987266 \r\nL 241.150175 121.229198 \r\nL 252.856469 137.246277 \r\nL 264.562762 153.164478 \r\nL 276.269056 148.214814 \r\nL 287.97535 145.368414 \r\nL 299.681643 168.730944 \r\nL 311.387937 158.593162 \r\nL 323.094231 153.730197 \r\nL 334.800524 162.070036 \r\nL 346.506818 152.808089 \r\n\" style=\"fill:none;stroke:#ff7f0e;stroke-linecap:square;stroke-width:1.5;\"/>\r\n   </g>\r\n   <g id=\"patch_3\">\r\n    <path d=\"M 26.925 224.64 \r\nL 26.925 7.2 \r\n\" style=\"fill:none;stroke:#000000;stroke-linecap:square;stroke-linejoin:miter;stroke-width:0.8;\"/>\r\n   </g>\r\n   <g id=\"patch_4\">\r\n    <path d=\"M 361.725 224.64 \r\nL 361.725 7.2 \r\n\" style=\"fill:none;stroke:#000000;stroke-linecap:square;stroke-linejoin:miter;stroke-width:0.8;\"/>\r\n   </g>\r\n   <g id=\"patch_5\">\r\n    <path d=\"M 26.925 224.64 \r\nL 361.725 224.64 \r\n\" style=\"fill:none;stroke:#000000;stroke-linecap:square;stroke-linejoin:miter;stroke-width:0.8;\"/>\r\n   </g>\r\n   <g id=\"patch_6\">\r\n    <path d=\"M 26.925 7.2 \r\nL 361.725 7.2 \r\n\" style=\"fill:none;stroke:#000000;stroke-linecap:square;stroke-linejoin:miter;stroke-width:0.8;\"/>\r\n   </g>\r\n  </g>\r\n </g>\r\n <defs>\r\n  <clipPath id=\"p6c4609d2ef\">\r\n   <rect height=\"217.44\" width=\"334.8\" x=\"26.925\" y=\"7.2\"/>\r\n  </clipPath>\r\n </defs>\r\n</svg>\r\n",
      "image/png": "[encoded data removed]"
     },
     "metadata": {
      "needs_background": "light"
     }
    }
   ],
   "source": [
    "plt.plot(results)"
   ]
  },
  {
   "cell_type": "code",
   "execution_count": 53,
   "metadata": {},
   "outputs": [
    {
     "output_type": "stream",
     "name": "stdout",
     "text": [
      "MSE:  5.928036811536729\nMAE:  2.006067806552155\n"
     ]
    }
   ],
   "source": [
    "y_true1= test_df['PM2.5_pi'].values[n_input:]\n",
    "y_pred1 = y_pred.ravel()\n",
    "\n",
    "print(\"MSE: \", mean_squared_error(y_true1, y_pred1))\n",
    "print(\"MAE: \", mean_absolute_error(y_true1, y_pred1))"
   ]
  },
  {
   "cell_type": "code",
   "execution_count": null,
   "metadata": {},
   "outputs": [],
   "source": []
  }
 ]
}