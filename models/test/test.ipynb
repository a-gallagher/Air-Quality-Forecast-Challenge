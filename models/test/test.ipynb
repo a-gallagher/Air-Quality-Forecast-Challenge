{
 "cells": [
  {
   "cell_type": "code",
   "execution_count": 1,
   "metadata": {},
   "outputs": [],
   "source": [
    "import pandas as pd\n",
    "import numpy as np\n",
    "from xgboost import XGBRegressor\n",
    "from sklearn.model_selection import GridSearchCV\n",
    "from sklearn.metrics import mean_squared_error, mean_absolute_error\n",
    "import matplotlib.pyplot as plt\n",
    "from sklearn.linear_model import Ridge\n",
    "from tslearn.svm import TimeSeriesSVR"
   ]
  },
  {
   "cell_type": "code",
   "execution_count": 2,
   "metadata": {},
   "outputs": [],
   "source": [
    "TRAIN_TEST_SPLIT = 0.8"
   ]
  },
  {
   "cell_type": "code",
   "execution_count": 3,
   "metadata": {},
   "outputs": [],
   "source": [
    "labels = ['PM2.5_pi', 'PM10_pi']"
   ]
  },
  {
   "cell_type": "code",
   "execution_count": 4,
   "metadata": {},
   "outputs": [
    {
     "data": {
      "text/plain": [
       "(1080, 35)"
      ]
     },
     "execution_count": 4,
     "metadata": {},
     "output_type": "execute_result"
    }
   ],
   "source": [
    "data = pd.read_csv('1h_5.csv')\n",
    "data.dropna(inplace=True)\n",
    "data.shape"
   ]
  },
  {
   "cell_type": "code",
   "execution_count": 5,
   "metadata": {},
   "outputs": [
    {
     "data": {
      "text/plain": [
       "(2155, 35)"
      ]
     },
     "execution_count": 5,
     "metadata": {},
     "output_type": "execute_result"
    }
   ],
   "source": [
    "data = pd.read_csv('30min_6.csv')\n",
    "data.dropna(inplace=True)\n",
    "data.shape"
   ]
  },
  {
   "cell_type": "code",
   "execution_count": null,
   "metadata": {},
   "outputs": [],
   "source": [
    "results_30m = []\n",
    "for i in range(1, 7):\n",
    "    #Fetch and prepare data\n",
    "    s = '30min_' + str(i) + '.csv'\n",
    "    data = pd.read_csv(s)\n",
    "    data = data.loc[:, ~data.columns.str.contains('^Unnamed')]\n",
    "    data.dropna(inplace=True)\n",
    "    data.reset_index(drop=True, inplace=True)\n",
    "    data = data.iloc[:2147-i,:]\n",
    "    \n",
    "    #Split data\n",
    "    n = int(TRAIN_TEST_SPLIT*data.shape[0])\n",
    "\n",
    "    X_train = data.iloc[:n,:]\n",
    "    X_test = data.iloc[n:,:]\n",
    "\n",
    "    y_train25 = X_train[labels[0]]\n",
    "    y_train10 = X_train[labels[1]]\n",
    "\n",
    "    y_true25 = X_test[labels[0]]\n",
    "    y_true10 = X_test[labels[1]]\n",
    "\n",
    "    X_train = X_train.drop(labels, axis=1)\n",
    "    X_test = X_test.drop(labels, axis=1)\n",
    "    \n",
    "    #Define models\n",
    "    xgb25 = XGBRegressor(colsample_bytree=0.5, learning_rate= 0.01, max_depth=2, n_estimators=500)\n",
    "    xgb10 = XGBRegressor(colsample_bytree=0.5, learning_rate= 0.01, max_depth=3, n_estimators=500)\n",
    "    \n",
    "    ridge25 = Ridge(alpha=110)\n",
    "    ridge10 = Ridge(alpha=150)\n",
    "    \n",
    "    ts25 = TimeSeriesSVR(C=1.0, kernel=\"gak\", n_jobs=-1)\n",
    "    ts10 = TimeSeriesSVR(C=1.0, kernel=\"gak\", n_jobs=-1)\n",
    "    \n",
    "    #Train models\n",
    "    xgb25.fit(X_train.values, y_train25)\n",
    "    xgb10.fit(X_train.values, y_train10)\n",
    "    \n",
    "    ridge25.fit(X_train.values, y_train25)\n",
    "    ridge10.fit(X_train.values, y_train10)\n",
    "\n",
    "    ts25.fit(np.array(X_train), y_train25)\n",
    "    ts10.fit(np.array(X_train), y_train25)\n",
    "    \n",
    "    #Perform predictions\n",
    "    xgb_pred25 = xgb25.predict(X_test)\n",
    "    xgb_pred10 = xgb10.predict(X_test)\n",
    "    \n",
    "    ridge_pred25 = ridge25.predict(X_test)\n",
    "    ridge_pred10 = ridge10.predict(X_test)\n",
    "    \n",
    "    ts_pred25 = ts25.predict(np.array(X_test))\n",
    "    ts_pred10 = ts10.predict(np.array(X_test))\n",
    "    \n",
    "    #Results\n",
    "    xgb_mse25 = mean_squared_error(y_true25, xgb_pred25)\n",
    "    xgb_mae25 = mean_absolute_error(y_true25, xgb_pred25)\n",
    "    \n",
    "    xgb_mse10 = mean_squared_error(y_true10, xgb_pred10)\n",
    "    xgb_mae10 = mean_absolute_error(y_true10, xgb_pred10)\n",
    "    \n",
    "    ridge_mse25 = mean_squared_error(y_true25, ridge_pred25)\n",
    "    ridge_mae25 = mean_absolute_error(y_true25, ridge_pred25)\n",
    "    \n",
    "    ridge_mse10 = mean_squared_error(y_true10, ridge_pred10)\n",
    "    ridge_mae10 = mean_absolute_error(y_true10, ridge_pred10)\n",
    "    \n",
    "    ts_mse25 = mean_squared_error(y_true25, ts_pred25)\n",
    "    ts_mae25 = mean_absolute_error(y_true25, ts_pred25)\n",
    "    \n",
    "    ts_mse10 = mean_squared_error(y_true10, ts_pred10)\n",
    "    ts_mae10 = mean_absolute_error(y_true10, ts_pred10)\n",
    "    \n",
    "    results_30m.append([xgb_mse25, xgb_mae25, xgb_mse10, xgb_mae10, ridge_mse25, ridge_mae25, ridge_mse10, ridge_mae10, ts_mse25, ts_mae25, ts_mse10, ts_mae10])\n",
    "    \n",
    "    #Plot\n",
    "    plt.plot(np.arange(len(y_true25)), y_true25, label='true')\n",
    "    plt.plot(np.arange(len(xgb_pred25)), xgb_pred25, label='predicition')\n",
    "    plt.title(f'PM2.5 XGBoost: MSE = {format(xgb_mse25,\".2f\")}, MAE = {format(xgb_mae25,\".2f\")}')\n",
    "    plt.legend()\n",
    "    plt.grid()\n",
    "    plt.show()\n",
    "    \n",
    "    plt.plot(np.arange(len(y_true25)), y_true25, label='true')\n",
    "    plt.plot(np.arange(len(ridge_pred25)), ridge_pred25, label='predicition')\n",
    "    plt.title(f'PM2.5 Ridge: MSE = {format(ridge_mse25,\".2f\")}, MAE = {format(ridge_mae25,\".2f\")}')\n",
    "    plt.legend()\n",
    "    plt.grid()\n",
    "    plt.show()\n",
    "    \n",
    "    plt.plot(np.arange(len(y_true25)), y_true25, label='true')\n",
    "    plt.plot(np.arange(len(ts_pred25)), ts_pred25, label='predicition')\n",
    "    plt.title(f'PM2.5 Tslearn: MSE = {format(ts_mse25,\".2f\")}, MAE = {format(ts_mae25,\".2f\")}')\n",
    "    plt.legend()\n",
    "    plt.grid()\n",
    "    plt.show()\n",
    "\n",
    "    plt.plot(np.arange(len(y_true10)), y_true10, label='true')\n",
    "    plt.plot(np.arange(len(xgb_pred10)), xgb_pred10, label='predicition')\n",
    "    plt.title(f'PM10 XGBoost: MSE = {format(xgb_mse10,\".2f\")}, MAE = {format(xgb_mae10,\".2f\")}')\n",
    "    plt.legend()\n",
    "    plt.grid()\n",
    "    plt.show()\n",
    "    \n",
    "    plt.plot(np.arange(len(y_true10)), y_true10, label='true')\n",
    "    plt.plot(np.arange(len(ridge_pred10)), ridge_pred10, label='predicition')\n",
    "    plt.title(f'PM10 Ridge: MSE = {format(ridge_mse10,\".2f\")}, MAE = {format(ridge_mae10,\".2f\")}')\n",
    "    plt.legend()\n",
    "    plt.grid()\n",
    "    plt.show()\n",
    "    \n",
    "    plt.plot(np.arange(len(y_true10)), y_true10, label='true')\n",
    "    plt.plot(np.arange(len(ts_pred10)), ts_pred10, label='predicition')\n",
    "    plt.title(f'PM10 Tslearn: MSE = {format(ts_mse10,\".2f\")}, MAE = {format(ts_mae10,\".2f\")}')\n",
    "    plt.legend()\n",
    "    plt.grid()\n",
    "    plt.show()\n",
    "    "
   ]
  },
  {
   "cell_type": "code",
   "execution_count": null,
   "metadata": {},
   "outputs": [],
   "source": [
    "header = ['XGB MSE 2.5', 'XGB MAE 2.5', 'XGB MSE 10', 'XGB MAE 10', 'Ridge MSE 2.5', 'Ridge MAE 2.5', 'Ridge MSE 10', 'Ridge MAE 10', 'Tslearn MSE 2.5', 'Tslearn MAE 2.5', 'Tslearn MSE 10', 'Tslearn MAE 10']\n",
    "results_30m = pd.DataFrame(results_30m, columns=header)"
   ]
  },
  {
   "cell_type": "code",
   "execution_count": null,
   "metadata": {},
   "outputs": [],
   "source": [
    "results_1h = []\n",
    "for i in range(1, 7):\n",
    "    #Fetch and prepare data\n",
    "    s = '1h_' + str(i) + '.csv'\n",
    "    data = pd.read_csv(s)\n",
    "    data = data.loc[:, ~data.columns.str.contains('^Unnamed')]\n",
    "    data.dropna(inplace=True)\n",
    "    data.reset_index(drop=True, inplace=True)\n",
    "    data = data.iloc[:1074-i,:]\n",
    "    \n",
    "    #Split data\n",
    "    n = int(TRAIN_TEST_SPLIT*data.shape[0])\n",
    "\n",
    "    X_train = data.iloc[:n,:]\n",
    "    X_test = data.iloc[n:,:]\n",
    "\n",
    "    y_train25 = X_train[labels[0]]\n",
    "    y_train10 = X_train[labels[1]]\n",
    "\n",
    "    y_true25 = X_test[labels[0]]\n",
    "    y_true10 = X_test[labels[1]]\n",
    "\n",
    "    X_train = X_train.drop(labels, axis=1)\n",
    "    X_test = X_test.drop(labels, axis=1)\n",
    "    \n",
    "    #Define models\n",
    "    xgb25 = XGBRegressor(colsample_bytree=0.5, learning_rate= 0.01, max_depth=2, n_estimators=500)\n",
    "    xgb10 = XGBRegressor(colsample_bytree=0.5, learning_rate= 0.01, max_depth=3, n_estimators=500)\n",
    "    \n",
    "    ridge25 = Ridge(alpha=110)\n",
    "    ridge10 = Ridge(alpha=150)\n",
    "    \n",
    "    ts25 = TimeSeriesSVR(C=1.0, kernel=\"gak\", n_jobs=-1)\n",
    "    ts10 = TimeSeriesSVR(C=1.0, kernel=\"gak\", n_jobs=-1)\n",
    "    \n",
    "    #Train models\n",
    "    xgb25.fit(X_train.values, y_train25)\n",
    "    xgb10.fit(X_train.values, y_train10)\n",
    "    \n",
    "    ridge25.fit(X_train.values, y_train25)\n",
    "    ridge10.fit(X_train.values, y_train10)\n",
    "    \n",
    "    ts25.fit(X_train.values, y_train25)\n",
    "    ts10.fit(X_train.values, y_train25)\n",
    "    \n",
    "    #Perform predictions\n",
    "    xgb_pred25 = xgb25.predict(X_test)\n",
    "    xgb_pred10 = xgb10.predict(X_test)\n",
    "    \n",
    "    ridge_pred25 = ridge25.predict(X_test)\n",
    "    ridge_pred10 = ridge10.predict(X_test)\n",
    "    \n",
    "    ts_pred25 = ts25.predict(X_test.values)\n",
    "    ts_pred10 = ts10.predict(X_test.values)\n",
    "    \n",
    "    #Results\n",
    "    xgb_mse25 = mean_squared_error(y_true25, xgb_pred25)\n",
    "    xgb_mae25 = mean_absolute_error(y_true25, xgb_pred25)\n",
    "    \n",
    "    xgb_mse10 = mean_squared_error(y_true10, xgb_pred10)\n",
    "    xgb_mae10 = mean_absolute_error(y_true10, xgb_pred10)\n",
    "    \n",
    "    ridge_mse25 = mean_squared_error(y_true25, ridge_pred25)\n",
    "    ridge_mae25 = mean_absolute_error(y_true25, ridge_pred25)\n",
    "    \n",
    "    ridge_mse10 = mean_squared_error(y_true10, ridge_pred10)\n",
    "    ridge_mae10 = mean_absolute_error(y_true10, ridge_pred10)\n",
    "    \n",
    "    ts_mse25 = mean_squared_error(y_true25, ts_pred25)\n",
    "    ts_mae25 = mean_absolute_error(y_true25, ts_pred25)\n",
    "    \n",
    "    ts_mse10 = mean_squared_error(y_true10, ts_pred10)\n",
    "    ts_mae10 = mean_absolute_error(y_true10, ts_pred10)\n",
    "    \n",
    "    results_1h.append([xgb_mse25, xgb_mae25, xgb_mse10, xgb_mae10, ridge_mse25, ridge_mae25, ridge_mse10, ridge_mae10 ts_mse25, ts_mae25, ts_mse10, ts_mae10])\n",
    "    \n",
    "    #Plot\n",
    "    plt.plot(np.arange(len(y_true25)), y_true25, label='true')\n",
    "    plt.plot(np.arange(len(xgb_pred25)), xgb_pred25, label='predicition')\n",
    "    plt.title(f'PM2.5 XGBoost: MSE = {format(xgb_mse25,\".2f\")}, MAE = {format(xgb_mae25,\".2f\")}')\n",
    "    plt.legend()\n",
    "    plt.grid()\n",
    "    plt.show()\n",
    "    \n",
    "    plt.plot(np.arange(len(y_true25)), y_true25, label='true')\n",
    "    plt.plot(np.arange(len(ridge_pred25)), ridge_pred25, label='predicition')\n",
    "    plt.title(f'PM2.5 Ridge: MSE = {format(ridge_mse25,\".2f\")}, MAE = {format(ridge_mae25,\".2f\")}')\n",
    "    plt.legend()\n",
    "    plt.grid()\n",
    "    plt.show()\n",
    "    \n",
    "    plt.plot(np.arange(len(y_true25)), y_true25, label='true')\n",
    "    plt.plot(np.arange(len(ts_pred25)), ts_pred25, label='predicition')\n",
    "    plt.title(f'PM2.5 Tslearn: MSE = {format(ts_mse25,\".2f\")}, MAE = {format(ts_mae25,\".2f\")}')\n",
    "    plt.legend()\n",
    "    plt.grid()\n",
    "    plt.show()\n",
    "    \n",
    "    plt.plot(np.arange(len(y_true10)), y_true10, label='true')\n",
    "    plt.plot(np.arange(len(xgb_pred10)), xgb_pred10, label='predicition')\n",
    "    plt.title(f'PM10 XGBoost: MSE = {format(xgb_mse10,\".2f\")}, MAE = {format(xgb_mae10,\".2f\")}')\n",
    "    plt.legend()\n",
    "    plt.grid()\n",
    "    plt.show()\n",
    "    \n",
    "    plt.plot(np.arange(len(y_true10)), y_true10, label='true')\n",
    "    plt.plot(np.arange(len(ridge_pred10)), ridge_pred10, label='predicition')\n",
    "    plt.title(f'PM10 Ridge: MSE = {format(ridge_mse10,\".2f\")}, MAE = {format(ridge_mae10,\".2f\")}')\n",
    "    plt.legend()\n",
    "    plt.grid()\n",
    "    plt.show()\n",
    "    \n",
    "    plt.plot(np.arange(len(y_true10)), y_true10, label='true')\n",
    "    plt.plot(np.arange(len(ts_pred10)), ts_pred10, label='predicition')\n",
    "    plt.title(f'PM10 Tslearn: MSE = {format(ts_mse10,\".2f\")}, MAE = {format(ts_mae10,\".2f\")}')\n",
    "    plt.legend()\n",
    "    plt.grid()\n",
    "    plt.show()"
   ]
  },
  {
   "cell_type": "code",
   "execution_count": null,
   "metadata": {},
   "outputs": [],
   "source": [
    "header = ['XGB MSE 2.5', 'XGB MAE 2.5', 'XGB MSE 10', 'XGB MAE 10', 'Ridge MSE 2.5', 'Ridge MAE 2.5', 'Ridge MSE 10', 'Ridge MAE 10', 'Tslearn MSE 2.5', 'Tslearn MAE 2.5', 'Tslearn MSE 10', 'Tslearn MAE 10']\n",
    "results_1h = pd.DataFrame(results_1h, columns=header)"
   ]
  },
  {
   "cell_type": "code",
   "execution_count": null,
   "metadata": {},
   "outputs": [],
   "source": [
    "results_30m"
   ]
  },
  {
   "cell_type": "code",
   "execution_count": null,
   "metadata": {},
   "outputs": [],
   "source": [
    "results_1h"
   ]
  },
  {
   "cell_type": "code",
   "execution_count": null,
   "metadata": {},
   "outputs": [],
   "source": [
    "plt.plot(np.arange(1,7), results_30m['XGB MAE 2.5'], label='xgb')\n",
    "plt.plot(np.arange(1,7), results_30m['Ridge MAE 2.5'], label='ridge')\n",
    "plt.plot(np.arange(1,7), results_30m['Tslearn MAE 2.5'], label='tslearn')\n",
    "plt.xlabel(\"prediction into future\")\n",
    "plt.ylabel(\"MAE\")\n",
    "plt.legend()\n",
    "plt.show()"
   ]
  },
  {
   "cell_type": "code",
   "execution_count": null,
   "metadata": {},
   "outputs": [],
   "source": [
    "plt.plot(np.arange(1,7), results_1h['XGB MAE 2.5'], label='xgb')\n",
    "plt.plot(np.arange(1,7), results_1h['Ridge MAE 2.5'], label='ridge')\n",
    "plt.plot(np.arange(1,7), results_1h['Tslearn MAE 2.5'], label='tslearn')\n",
    "plt.xlabel(\"prediction into future\")\n",
    "plt.ylabel(\"MAE\")\n",
    "plt.legend()\n",
    "plt.show()"
   ]
  },
  {
   "cell_type": "code",
   "execution_count": null,
   "metadata": {},
   "outputs": [],
   "source": [
    "results_30m.to_csv(\"results_30min_80.csv\")"
   ]
  },
  {
   "cell_type": "code",
   "execution_count": null,
   "metadata": {},
   "outputs": [],
   "source": [
    "results_1h.to_csv(\"results_1h_80.csv\")"
   ]
  }
 ],
 "metadata": {
  "kernelspec": {
   "display_name": "Python 3",
   "language": "python",
   "name": "python3"
  },
  "language_info": {
   "codemirror_mode": {
    "name": "ipython",
    "version": 3
   },
   "file_extension": ".py",
   "mimetype": "text/x-python",
   "name": "python",
   "nbconvert_exporter": "python",
   "pygments_lexer": "ipython3",
   "version": "3.8.5"
  }
 },
 "nbformat": 4,
 "nbformat_minor": 5
}
