{
 "metadata": {
  "language_info": {
   "codemirror_mode": {
    "name": "ipython",
    "version": 3
   },
   "file_extension": ".py",
   "mimetype": "text/x-python",
   "name": "python",
   "nbconvert_exporter": "python",
   "pygments_lexer": "ipython3",
   "version": "3.9.2-final"
  },
  "orig_nbformat": 2,
  "kernelspec": {
   "name": "python392jvsc74a57bd09c37b94ccca2f18d03b659a72753d264a7b74a687613b78bb098479583b4d9e2",
   "display_name": "Python 3.9.2 64-bit ('coss': conda)"
  },
  "metadata": {
   "interpreter": {
    "hash": "9c37b94ccca2f18d03b659a72753d264a7b74a687613b78bb098479583b4d9e2"
   }
  }
 },
 "nbformat": 4,
 "nbformat_minor": 2,
 "cells": [
  {
   "cell_type": "code",
   "execution_count": 4,
   "metadata": {},
   "outputs": [],
   "source": [
    "# Step 1: Import Necessary Packages\n",
    "# ------\n",
    "\n",
    "import pandas as pd\n",
    "from numpy import arange\n",
    "from sklearn.linear_model import Ridge\n",
    "from sklearn.linear_model import RidgeCV\n",
    "from sklearn.model_selection import RepeatedKFold"
   ]
  },
  {
   "cell_type": "code",
   "execution_count": 25,
   "metadata": {},
   "outputs": [],
   "source": [
    "# Step 2: Load the Data\n",
    "# ------\n",
    "\n",
    "# read in data\n",
    "model_data = pd.read_csv(\"model_data.csv\")\n",
    "\n",
    "\n",
    "# drop rows with Nan values\n",
    "model_data.dropna(inplace=True)\n",
    "\n",
    "# reset keys of dataset\n",
    "model_data.reset_index(drop=True, inplace=True)\n",
    "\n",
    "# define predictor and response variables\n",
    "X = model_data[[\"temp_pi_t0\",\"hum_pi_t0\",\"PM1_pi_t0\",\"PM2.5_pi_t0\",\"PM10_pi_t0\",\"wind_speed_t0\",\"temp_pi_t1\",\"hum_pi_t1\",\"PM1_pi_t1\",\"PM2.5_pi_t1\",\"PM10_pi_t1\",\"wind_speed_t1\",\"temp_pi_t2\",\"hum_pi_t2\",\"PM1_pi_t2\",\"PM2.5_pi_t2\",\"PM10_pi_t2\",\"wind_speed_t2\",\"temp_pi_t3\",\"hum_pi_t3\",\"PM1_pi_t3\",\"PM2.5_pi_t3\",\"PM10_pi_t3\",\"wind_speed_t3\",\"temp_pi_t4\",\"hum_pi_t4\",\"PM1_pi_t4\",\"PM2.5_pi_t4\",\"PM10_pi_t4\",\"wind_speed_t4\",\"temp_pi_t5\",\"hum_pi_t5\",\"PM1_pi_t5\",\"PM2.5_pi_t5\",\"PM10_pi_t5\",\"wind_speed_t5\"]]\n",
    "y = model_data[[\"PM2.5\",\"PM10\"]]"
   ]
  },
  {
   "cell_type": "code",
   "execution_count": 32,
   "metadata": {
    "tags": []
   },
   "outputs": [
    {
     "output_type": "stream",
     "name": "stdout",
     "text": [
      "R = 0.6837366708912354\nalpha = 2e-05\nMSE = 0.17586700891706894\n"
     ]
    }
   ],
   "source": [
    "# Step 3: Fit the Ridge Regression Model\n",
    "# ------\n",
    "\n",
    "# define cross-validation method to evaluate model\n",
    "cv = RepeatedKFold(n_splits=10, n_repeats=3, random_state=1)\n",
    "\n",
    "# define model\n",
    "model = RidgeCV(alphas=arange(0, 1e-4, 5e-6), cv=cv)\n",
    "\n",
    "# fit model\n",
    "model.fit(X, y)\n",
    "\n",
    "# get coefficient of determination R² of the prediction.\n",
    "R = model.score(X,y)\n",
    "\n",
    "# display R\n",
    "print(f'R = {R}')\n",
    "\n",
    "# display lambda that produced the lowest test MSE\n",
    "print(f'alpha = {model.alpha_}')\n",
    "\n",
    "# display MSE\n",
    "print(f'MSE = {model.best_score_}')\n"
   ]
  },
  {
   "cell_type": "code",
   "execution_count": null,
   "metadata": {},
   "outputs": [],
   "source": [
    "# Step 4: Use the Model to Make Predictions\n",
    "# ------\n",
    "\n",
    "# TODO: test prediction\n",
    "\n",
    "#define new observation\n",
    "new = [24, 2.5, 3.5, 18.5]\n",
    "\n",
    "#predict hp value using ridge regression model\n",
    "model.predict([new])"
   ]
  }
 ]
}