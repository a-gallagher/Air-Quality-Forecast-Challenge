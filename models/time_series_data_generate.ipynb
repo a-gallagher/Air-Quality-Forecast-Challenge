{
 "metadata": {
  "language_info": {
   "codemirror_mode": {
    "name": "ipython",
    "version": 3
   },
   "file_extension": ".py",
   "mimetype": "text/x-python",
   "name": "python",
   "nbconvert_exporter": "python",
   "pygments_lexer": "ipython3",
   "version": "3.7.10"
  },
  "orig_nbformat": 2,
  "kernelspec": {
   "name": "python3710jvsc74a57bd09e5addec0265f82113593c0c0666c294dca5e27b55fafbc7e9d94077bbbb9802",
   "display_name": "Python 3.7.10 64-bit ('tf2.0': conda)"
  }
 },
 "nbformat": 4,
 "nbformat_minor": 2,
 "cells": [
  {
   "cell_type": "code",
   "execution_count": 1,
   "metadata": {},
   "outputs": [],
   "source": [
    "import pandas as pd\n",
    "import numpy as np\n",
    "import math"
   ]
  },
  {
   "cell_type": "code",
   "execution_count": 2,
   "metadata": {},
   "outputs": [],
   "source": [
    "HISTORY = 6\n",
    "FUTURE = 1\n",
    "OVERLAP = 3"
   ]
  },
  {
   "cell_type": "code",
   "execution_count": 3,
   "metadata": {},
   "outputs": [],
   "source": [
    "data = pd.read_csv(\"C:/Users/ay0un/Desktop/ds-project/buenos-aires/Air-Quality-Forecast-Challenge/1h_sampled_data.csv\")"
   ]
  },
  {
   "cell_type": "code",
   "execution_count": 4,
   "metadata": {},
   "outputs": [
    {
     "output_type": "execute_result",
     "data": {
      "text/plain": [
       "Index(['time', 'temp_pi', 'hum_pi', 'PM1_pi', 'PM2.5_pi', 'PM10_pi',\n",
       "       'temp_blue', 'precip', 'hum_blue', 'wind_speed', 'wind_direction',\n",
       "       'cloud_cover', 'date', 'temp_sbs', 'hum_sbs', 'wind', 'pressure',\n",
       "       'PM2.5', 'PM10', 'AQI', 'sunrise', 'noon', 'sunset', 'daylight'],\n",
       "      dtype='object')"
      ]
     },
     "metadata": {},
     "execution_count": 4
    }
   ],
   "source": [
    "data.columns"
   ]
  },
  {
   "cell_type": "code",
   "execution_count": 5,
   "metadata": {},
   "outputs": [],
   "source": [
    "data['time'] = pd.to_datetime(data['time'], utc=True)"
   ]
  },
  {
   "cell_type": "code",
   "execution_count": 6,
   "metadata": {},
   "outputs": [
    {
     "output_type": "execute_result",
     "data": {
      "text/plain": [
       "0     2021-03-23 09:00:00+00:00\n",
       "1     2021-03-23 10:00:00+00:00\n",
       "2     2021-03-23 11:00:00+00:00\n",
       "3     2021-03-23 12:00:00+00:00\n",
       "4     2021-03-23 13:00:00+00:00\n",
       "                 ...           \n",
       "480   2021-04-12 08:00:00+00:00\n",
       "481   2021-04-12 09:00:00+00:00\n",
       "482   2021-04-12 10:00:00+00:00\n",
       "483   2021-04-12 11:00:00+00:00\n",
       "484   2021-04-12 12:00:00+00:00\n",
       "Name: time, Length: 485, dtype: datetime64[ns, UTC]"
      ]
     },
     "metadata": {},
     "execution_count": 6
    }
   ],
   "source": [
    "data['time']"
   ]
  },
  {
   "cell_type": "code",
   "execution_count": 7,
   "metadata": {},
   "outputs": [],
   "source": [
    "hours = data['time'].dt.hour"
   ]
  },
  {
   "cell_type": "code",
   "execution_count": 8,
   "metadata": {},
   "outputs": [],
   "source": [
    "data['hour'] = hours"
   ]
  },
  {
   "cell_type": "code",
   "execution_count": 9,
   "metadata": {},
   "outputs": [
    {
     "output_type": "execute_result",
     "data": {
      "text/plain": [
       "                       time    temp_pi     hum_pi    PM1_pi   PM2.5_pi  \\\n",
       "0 2021-03-23 09:00:00+00:00   8.316667  53.283333  6.042500  11.798333   \n",
       "1 2021-03-23 10:00:00+00:00  13.408333  38.358333  4.840833  10.010000   \n",
       "2 2021-03-23 11:00:00+00:00  17.391667  32.191667  5.140833   7.510833   \n",
       "3 2021-03-23 12:00:00+00:00  18.650000  30.083333  3.752500   6.064167   \n",
       "4 2021-03-23 13:00:00+00:00  19.983333  28.125000  4.610000  10.042500   \n",
       "\n",
       "     PM10_pi  temp_blue  precip  hum_blue  wind_speed  ...  wind  pressure  \\\n",
       "0  17.710000   3.106314     0.0      76.0    5.116561  ...   3.7    1025.0   \n",
       "1  15.388333   5.416314     0.0      67.0    6.924738  ...   3.7    1025.0   \n",
       "2   9.632500   7.216313     0.0      55.0    7.421590  ...  14.8    1025.0   \n",
       "3   8.284167   8.656314     0.0      48.0    6.952755  ...  14.8    1025.0   \n",
       "4  15.750000   9.586313     0.0      39.0   11.269782  ...  11.1    1025.0   \n",
       "\n",
       "  PM2.5  PM10   AQI                           sunrise  \\\n",
       "0  16.0  24.3  59.0  2021-03-23 06:22:52.709917+01:00   \n",
       "1  14.0  20.9  55.0  2021-03-23 06:22:52.709917+01:00   \n",
       "2  12.0  17.3  50.0  2021-03-23 06:22:52.709917+01:00   \n",
       "3   NaN   NaN  27.0  2021-03-23 06:22:52.709917+01:00   \n",
       "4  11.0  16.2  45.0  2021-03-23 06:22:52.709917+01:00   \n",
       "\n",
       "                        noon                            sunset  \\\n",
       "0  2021-03-23 12:32:27+01:00  2021-03-23 18:42:36.960331+01:00   \n",
       "1  2021-03-23 12:32:27+01:00  2021-03-23 18:42:36.960331+01:00   \n",
       "2  2021-03-23 12:32:27+01:00  2021-03-23 18:42:36.960331+01:00   \n",
       "3  2021-03-23 12:32:27+01:00  2021-03-23 18:42:36.960331+01:00   \n",
       "4  2021-03-23 12:32:27+01:00  2021-03-23 18:42:36.960331+01:00   \n",
       "\n",
       "                 daylight  hour  \n",
       "0  0 days 12:19:44.250414     9  \n",
       "1  0 days 12:19:44.250414    10  \n",
       "2  0 days 12:19:44.250414    11  \n",
       "3  0 days 12:19:44.250414    12  \n",
       "4  0 days 12:19:44.250414    13  \n",
       "\n",
       "[5 rows x 25 columns]"
      ],
      "text/html": "<div>\n<style scoped>\n    .dataframe tbody tr th:only-of-type {\n        vertical-align: middle;\n    }\n\n    .dataframe tbody tr th {\n        vertical-align: top;\n    }\n\n    .dataframe thead th {\n        text-align: right;\n    }\n</style>\n<table border=\"1\" class=\"dataframe\">\n  <thead>\n    <tr style=\"text-align: right;\">\n      <th></th>\n      <th>time</th>\n      <th>temp_pi</th>\n      <th>hum_pi</th>\n      <th>PM1_pi</th>\n      <th>PM2.5_pi</th>\n      <th>PM10_pi</th>\n      <th>temp_blue</th>\n      <th>precip</th>\n      <th>hum_blue</th>\n      <th>wind_speed</th>\n      <th>...</th>\n      <th>wind</th>\n      <th>pressure</th>\n      <th>PM2.5</th>\n      <th>PM10</th>\n      <th>AQI</th>\n      <th>sunrise</th>\n      <th>noon</th>\n      <th>sunset</th>\n      <th>daylight</th>\n      <th>hour</th>\n    </tr>\n  </thead>\n  <tbody>\n    <tr>\n      <th>0</th>\n      <td>2021-03-23 09:00:00+00:00</td>\n      <td>8.316667</td>\n      <td>53.283333</td>\n      <td>6.042500</td>\n      <td>11.798333</td>\n      <td>17.710000</td>\n      <td>3.106314</td>\n      <td>0.0</td>\n      <td>76.0</td>\n      <td>5.116561</td>\n      <td>...</td>\n      <td>3.7</td>\n      <td>1025.0</td>\n      <td>16.0</td>\n      <td>24.3</td>\n      <td>59.0</td>\n      <td>2021-03-23 06:22:52.709917+01:00</td>\n      <td>2021-03-23 12:32:27+01:00</td>\n      <td>2021-03-23 18:42:36.960331+01:00</td>\n      <td>0 days 12:19:44.250414</td>\n      <td>9</td>\n    </tr>\n    <tr>\n      <th>1</th>\n      <td>2021-03-23 10:00:00+00:00</td>\n      <td>13.408333</td>\n      <td>38.358333</td>\n      <td>4.840833</td>\n      <td>10.010000</td>\n      <td>15.388333</td>\n      <td>5.416314</td>\n      <td>0.0</td>\n      <td>67.0</td>\n      <td>6.924738</td>\n      <td>...</td>\n      <td>3.7</td>\n      <td>1025.0</td>\n      <td>14.0</td>\n      <td>20.9</td>\n      <td>55.0</td>\n      <td>2021-03-23 06:22:52.709917+01:00</td>\n      <td>2021-03-23 12:32:27+01:00</td>\n      <td>2021-03-23 18:42:36.960331+01:00</td>\n      <td>0 days 12:19:44.250414</td>\n      <td>10</td>\n    </tr>\n    <tr>\n      <th>2</th>\n      <td>2021-03-23 11:00:00+00:00</td>\n      <td>17.391667</td>\n      <td>32.191667</td>\n      <td>5.140833</td>\n      <td>7.510833</td>\n      <td>9.632500</td>\n      <td>7.216313</td>\n      <td>0.0</td>\n      <td>55.0</td>\n      <td>7.421590</td>\n      <td>...</td>\n      <td>14.8</td>\n      <td>1025.0</td>\n      <td>12.0</td>\n      <td>17.3</td>\n      <td>50.0</td>\n      <td>2021-03-23 06:22:52.709917+01:00</td>\n      <td>2021-03-23 12:32:27+01:00</td>\n      <td>2021-03-23 18:42:36.960331+01:00</td>\n      <td>0 days 12:19:44.250414</td>\n      <td>11</td>\n    </tr>\n    <tr>\n      <th>3</th>\n      <td>2021-03-23 12:00:00+00:00</td>\n      <td>18.650000</td>\n      <td>30.083333</td>\n      <td>3.752500</td>\n      <td>6.064167</td>\n      <td>8.284167</td>\n      <td>8.656314</td>\n      <td>0.0</td>\n      <td>48.0</td>\n      <td>6.952755</td>\n      <td>...</td>\n      <td>14.8</td>\n      <td>1025.0</td>\n      <td>NaN</td>\n      <td>NaN</td>\n      <td>27.0</td>\n      <td>2021-03-23 06:22:52.709917+01:00</td>\n      <td>2021-03-23 12:32:27+01:00</td>\n      <td>2021-03-23 18:42:36.960331+01:00</td>\n      <td>0 days 12:19:44.250414</td>\n      <td>12</td>\n    </tr>\n    <tr>\n      <th>4</th>\n      <td>2021-03-23 13:00:00+00:00</td>\n      <td>19.983333</td>\n      <td>28.125000</td>\n      <td>4.610000</td>\n      <td>10.042500</td>\n      <td>15.750000</td>\n      <td>9.586313</td>\n      <td>0.0</td>\n      <td>39.0</td>\n      <td>11.269782</td>\n      <td>...</td>\n      <td>11.1</td>\n      <td>1025.0</td>\n      <td>11.0</td>\n      <td>16.2</td>\n      <td>45.0</td>\n      <td>2021-03-23 06:22:52.709917+01:00</td>\n      <td>2021-03-23 12:32:27+01:00</td>\n      <td>2021-03-23 18:42:36.960331+01:00</td>\n      <td>0 days 12:19:44.250414</td>\n      <td>13</td>\n    </tr>\n  </tbody>\n</table>\n<p>5 rows × 25 columns</p>\n</div>"
     },
     "metadata": {},
     "execution_count": 9
    }
   ],
   "source": [
    "data.head()"
   ]
  },
  {
   "cell_type": "code",
   "execution_count": 10,
   "metadata": {},
   "outputs": [],
   "source": [
    "features = ['hour','temp_pi', 'hum_pi', 'wind_speed','precip']\n",
    "targets = ['PM2.5_pi', 'PM10_pi'] # raspberry-pi measurement\n",
    "targets2= ['PM2.5', 'PM10'] # From external source"
   ]
  },
  {
   "cell_type": "code",
   "execution_count": 11,
   "metadata": {},
   "outputs": [],
   "source": [
    "pipi = ['hour','temp_pi', 'hum_pi', 'wind_speed','precip', 'PM2.5_pi', 'PM10_pi'] \n",
    "pmpm = ['hour','temp_pi', 'hum_pi', 'wind_speed','precip', 'PM2.5', 'PM10']"
   ]
  },
  {
   "cell_type": "code",
   "execution_count": 12,
   "metadata": {},
   "outputs": [],
   "source": [
    "data_pi = data[pipi]"
   ]
  },
  {
   "cell_type": "code",
   "execution_count": 13,
   "metadata": {},
   "outputs": [],
   "source": [
    "data_pm = data[pmpm]"
   ]
  },
  {
   "cell_type": "code",
   "execution_count": 14,
   "metadata": {},
   "outputs": [
    {
     "output_type": "execute_result",
     "data": {
      "text/plain": [
       "Int64Index([204, 205, 206, 207, 208, 209, 210, 211, 212, 213, 214, 215, 216,\n",
       "            217, 218, 219, 220, 221, 222, 223, 224, 225, 226, 227, 228, 229,\n",
       "            230, 231, 232, 233, 234, 235, 236, 237, 238, 239, 240, 241, 242,\n",
       "            419, 420, 421, 422, 423, 424, 425, 426, 427, 428, 429, 430, 431,\n",
       "            432, 433],\n",
       "           dtype='int64')"
      ]
     },
     "metadata": {},
     "execution_count": 14
    }
   ],
   "source": [
    "index = data_pi['temp_pi'].index[data['temp_pi'].apply(np.isnan)]\n",
    "index"
   ]
  },
  {
   "cell_type": "code",
   "execution_count": 15,
   "metadata": {},
   "outputs": [
    {
     "output_type": "execute_result",
     "data": {
      "text/plain": [
       "54"
      ]
     },
     "metadata": {},
     "execution_count": 15
    }
   ],
   "source": [
    "len(index)"
   ]
  },
  {
   "cell_type": "code",
   "execution_count": 16,
   "metadata": {},
   "outputs": [],
   "source": [
    "data_pi = data_pi.dropna()\n",
    "data_pm = data_pm.dropna()"
   ]
  },
  {
   "cell_type": "code",
   "execution_count": 17,
   "metadata": {},
   "outputs": [
    {
     "output_type": "execute_result",
     "data": {
      "text/plain": [
       "     hour    temp_pi     hum_pi  wind_speed  precip   PM2.5_pi    PM10_pi\n",
       "0       9   8.316667  53.283333    5.116561     0.0  11.798333  17.710000\n",
       "1      10  13.408333  38.358333    6.924738     0.0  10.010000  15.388333\n",
       "2      11  17.391667  32.191667    7.421590     0.0   7.510833   9.632500\n",
       "3      12  18.650000  30.083333    6.952755     0.0   6.064167   8.284167\n",
       "4      13  19.983333  28.125000   11.269782     0.0  10.042500  15.750000\n",
       "..    ...        ...        ...         ...     ...        ...        ...\n",
       "480     8   5.350000  77.241667   16.935310     1.2   6.740000  10.450833\n",
       "481     9   5.975000  75.625000   17.917007     0.9   3.617500   5.262500\n",
       "482    10   6.372727  72.300000   13.684735     0.8   8.692727  13.842727\n",
       "483    11   6.641667  71.333333   13.608762     0.4   9.065833  13.411667\n",
       "484    12  19.762500  43.712500   13.532360     0.0   6.495000  10.265000\n",
       "\n",
       "[431 rows x 7 columns]"
      ],
      "text/html": "<div>\n<style scoped>\n    .dataframe tbody tr th:only-of-type {\n        vertical-align: middle;\n    }\n\n    .dataframe tbody tr th {\n        vertical-align: top;\n    }\n\n    .dataframe thead th {\n        text-align: right;\n    }\n</style>\n<table border=\"1\" class=\"dataframe\">\n  <thead>\n    <tr style=\"text-align: right;\">\n      <th></th>\n      <th>hour</th>\n      <th>temp_pi</th>\n      <th>hum_pi</th>\n      <th>wind_speed</th>\n      <th>precip</th>\n      <th>PM2.5_pi</th>\n      <th>PM10_pi</th>\n    </tr>\n  </thead>\n  <tbody>\n    <tr>\n      <th>0</th>\n      <td>9</td>\n      <td>8.316667</td>\n      <td>53.283333</td>\n      <td>5.116561</td>\n      <td>0.0</td>\n      <td>11.798333</td>\n      <td>17.710000</td>\n    </tr>\n    <tr>\n      <th>1</th>\n      <td>10</td>\n      <td>13.408333</td>\n      <td>38.358333</td>\n      <td>6.924738</td>\n      <td>0.0</td>\n      <td>10.010000</td>\n      <td>15.388333</td>\n    </tr>\n    <tr>\n      <th>2</th>\n      <td>11</td>\n      <td>17.391667</td>\n      <td>32.191667</td>\n      <td>7.421590</td>\n      <td>0.0</td>\n      <td>7.510833</td>\n      <td>9.632500</td>\n    </tr>\n    <tr>\n      <th>3</th>\n      <td>12</td>\n      <td>18.650000</td>\n      <td>30.083333</td>\n      <td>6.952755</td>\n      <td>0.0</td>\n      <td>6.064167</td>\n      <td>8.284167</td>\n    </tr>\n    <tr>\n      <th>4</th>\n      <td>13</td>\n      <td>19.983333</td>\n      <td>28.125000</td>\n      <td>11.269782</td>\n      <td>0.0</td>\n      <td>10.042500</td>\n      <td>15.750000</td>\n    </tr>\n    <tr>\n      <th>...</th>\n      <td>...</td>\n      <td>...</td>\n      <td>...</td>\n      <td>...</td>\n      <td>...</td>\n      <td>...</td>\n      <td>...</td>\n    </tr>\n    <tr>\n      <th>480</th>\n      <td>8</td>\n      <td>5.350000</td>\n      <td>77.241667</td>\n      <td>16.935310</td>\n      <td>1.2</td>\n      <td>6.740000</td>\n      <td>10.450833</td>\n    </tr>\n    <tr>\n      <th>481</th>\n      <td>9</td>\n      <td>5.975000</td>\n      <td>75.625000</td>\n      <td>17.917007</td>\n      <td>0.9</td>\n      <td>3.617500</td>\n      <td>5.262500</td>\n    </tr>\n    <tr>\n      <th>482</th>\n      <td>10</td>\n      <td>6.372727</td>\n      <td>72.300000</td>\n      <td>13.684735</td>\n      <td>0.8</td>\n      <td>8.692727</td>\n      <td>13.842727</td>\n    </tr>\n    <tr>\n      <th>483</th>\n      <td>11</td>\n      <td>6.641667</td>\n      <td>71.333333</td>\n      <td>13.608762</td>\n      <td>0.4</td>\n      <td>9.065833</td>\n      <td>13.411667</td>\n    </tr>\n    <tr>\n      <th>484</th>\n      <td>12</td>\n      <td>19.762500</td>\n      <td>43.712500</td>\n      <td>13.532360</td>\n      <td>0.0</td>\n      <td>6.495000</td>\n      <td>10.265000</td>\n    </tr>\n  </tbody>\n</table>\n<p>431 rows × 7 columns</p>\n</div>"
     },
     "metadata": {},
     "execution_count": 17
    }
   ],
   "source": [
    "data_pi"
   ]
  },
  {
   "cell_type": "code",
   "execution_count": 21,
   "metadata": {},
   "outputs": [],
   "source": [
    "pipi_new = []\n",
    "features_new = []\n",
    "for i in range(HISTORY):\n",
    "    pipi_new += [f + \"_t\" + str(i) for f in pipi]"
   ]
  },
  {
   "cell_type": "code",
   "execution_count": 22,
   "metadata": {},
   "outputs": [],
   "source": [
    "features_new += pipi_new + targets"
   ]
  },
  {
   "cell_type": "code",
   "execution_count": 23,
   "metadata": {},
   "outputs": [],
   "source": [
    "pmpm_new = []\n",
    "for i in range(HISTORY):\n",
    "    pmpm_new += [f + \"_t\" + str(i) for f in pmpm]"
   ]
  },
  {
   "cell_type": "code",
   "execution_count": 24,
   "metadata": {},
   "outputs": [],
   "source": [
    "features_new_pm = []\n",
    "features_new_pm += pmpm_new + targets"
   ]
  },
  {
   "cell_type": "code",
   "execution_count": 25,
   "metadata": {},
   "outputs": [],
   "source": [
    "x = math.ceil(data_pi.shape[0]/OVERLAP)\n",
    "y = len(pipi)*HISTORY + len(targets) # 7 inputs (of 6 hours) + 7th hour output\n",
    "pi_new = np.zeros((x, y))\n",
    "pm_new = np.zeros((x, y))"
   ]
  },
  {
   "cell_type": "code",
   "execution_count": 26,
   "metadata": {},
   "outputs": [
    {
     "output_type": "execute_result",
     "data": {
      "text/plain": [
       "(144, 44)"
      ]
     },
     "metadata": {},
     "execution_count": 26
    }
   ],
   "source": [
    "pi_new.shape"
   ]
  },
  {
   "cell_type": "code",
   "execution_count": 27,
   "metadata": {},
   "outputs": [
    {
     "output_type": "execute_result",
     "data": {
      "text/plain": [
       "(144, 44)"
      ]
     },
     "metadata": {},
     "execution_count": 27
    }
   ],
   "source": [
    "pi_new.shape # 6 x 7 + 2 "
   ]
  },
  {
   "cell_type": "code",
   "execution_count": 52,
   "metadata": {},
   "outputs": [
    {
     "output_type": "execute_result",
     "data": {
      "text/plain": [
       "143.66666666666666"
      ]
     },
     "metadata": {},
     "execution_count": 52
    }
   ],
   "source": [
    "len(data_pi)/6*2"
   ]
  },
  {
   "cell_type": "code",
   "execution_count": 29,
   "metadata": {
    "tags": []
   },
   "outputs": [
    {
     "output_type": "stream",
     "name": "stdout",
     "text": [
      "210\n213\n216\n219\n222\n225\n228\n231\n234\n237\n240\n243\n426\n429\n"
     ]
    }
   ],
   "source": [
    "# Raspberry pi\n",
    "k = 0\n",
    "for i in range(HISTORY, data_pi.shape[0], OVERLAP):\n",
    "    piece = data_pi.loc[i-HISTORY:i-1, :]\n",
    "\n",
    "    if len(piece) == 0: # check missing value\n",
    "        print(i)\n",
    "    \n",
    "    for j in range(len(piece)):\n",
    "        pi_new[k, j*(len(piece.columns)):(j+1)*len(piece.columns)] = piece.iloc[j,:]\n",
    "        #print(pi_new)\n",
    "    pi_new[k, -2] = data_pi.iloc[i, -2] # output PM2.5\n",
    "    pi_new[k, -1] = data_pi.iloc[i, -1] # output PM10\n",
    "    k += 1"
   ]
  },
  {
   "cell_type": "code",
   "execution_count": 77,
   "metadata": {},
   "outputs": [
    {
     "output_type": "execute_result",
     "data": {
      "text/plain": [
       "     hour    temp_pi     hum_pi  wind_speed  precip   PM2.5_pi    PM10_pi\n",
       "194    10  20.525000  39.050000    8.089993     0.0   7.592500  11.110000\n",
       "195    11  26.716667  31.075000    7.952660     0.0   9.481667  12.852500\n",
       "196    12  29.566667  27.775000    6.287130     0.0   8.589167  12.651667\n",
       "197    13  30.691667  25.600000    6.120000     0.0  11.270000  18.164167\n",
       "198    14  30.308333  25.808333    5.447788     0.0   6.501667   9.085000\n",
       "199    15  27.133333  28.058333    5.040000     0.0   9.916667  15.684167\n",
       "200    16  23.441667  33.358333    4.334974     0.0  10.040000  14.133333\n",
       "201    17  22.225000  35.925000    5.191994     0.0  10.822500  14.894167\n",
       "202    18  20.666667  38.791667    9.164103     0.0  13.584167  20.088333\n",
       "203    19  19.080000  44.990000    7.568566     0.0  10.814000  15.249000"
      ],
      "text/html": "<div>\n<style scoped>\n    .dataframe tbody tr th:only-of-type {\n        vertical-align: middle;\n    }\n\n    .dataframe tbody tr th {\n        vertical-align: top;\n    }\n\n    .dataframe thead th {\n        text-align: right;\n    }\n</style>\n<table border=\"1\" class=\"dataframe\">\n  <thead>\n    <tr style=\"text-align: right;\">\n      <th></th>\n      <th>hour</th>\n      <th>temp_pi</th>\n      <th>hum_pi</th>\n      <th>wind_speed</th>\n      <th>precip</th>\n      <th>PM2.5_pi</th>\n      <th>PM10_pi</th>\n    </tr>\n  </thead>\n  <tbody>\n    <tr>\n      <th>194</th>\n      <td>10</td>\n      <td>20.525000</td>\n      <td>39.050000</td>\n      <td>8.089993</td>\n      <td>0.0</td>\n      <td>7.592500</td>\n      <td>11.110000</td>\n    </tr>\n    <tr>\n      <th>195</th>\n      <td>11</td>\n      <td>26.716667</td>\n      <td>31.075000</td>\n      <td>7.952660</td>\n      <td>0.0</td>\n      <td>9.481667</td>\n      <td>12.852500</td>\n    </tr>\n    <tr>\n      <th>196</th>\n      <td>12</td>\n      <td>29.566667</td>\n      <td>27.775000</td>\n      <td>6.287130</td>\n      <td>0.0</td>\n      <td>8.589167</td>\n      <td>12.651667</td>\n    </tr>\n    <tr>\n      <th>197</th>\n      <td>13</td>\n      <td>30.691667</td>\n      <td>25.600000</td>\n      <td>6.120000</td>\n      <td>0.0</td>\n      <td>11.270000</td>\n      <td>18.164167</td>\n    </tr>\n    <tr>\n      <th>198</th>\n      <td>14</td>\n      <td>30.308333</td>\n      <td>25.808333</td>\n      <td>5.447788</td>\n      <td>0.0</td>\n      <td>6.501667</td>\n      <td>9.085000</td>\n    </tr>\n    <tr>\n      <th>199</th>\n      <td>15</td>\n      <td>27.133333</td>\n      <td>28.058333</td>\n      <td>5.040000</td>\n      <td>0.0</td>\n      <td>9.916667</td>\n      <td>15.684167</td>\n    </tr>\n    <tr>\n      <th>200</th>\n      <td>16</td>\n      <td>23.441667</td>\n      <td>33.358333</td>\n      <td>4.334974</td>\n      <td>0.0</td>\n      <td>10.040000</td>\n      <td>14.133333</td>\n    </tr>\n    <tr>\n      <th>201</th>\n      <td>17</td>\n      <td>22.225000</td>\n      <td>35.925000</td>\n      <td>5.191994</td>\n      <td>0.0</td>\n      <td>10.822500</td>\n      <td>14.894167</td>\n    </tr>\n    <tr>\n      <th>202</th>\n      <td>18</td>\n      <td>20.666667</td>\n      <td>38.791667</td>\n      <td>9.164103</td>\n      <td>0.0</td>\n      <td>13.584167</td>\n      <td>20.088333</td>\n    </tr>\n    <tr>\n      <th>203</th>\n      <td>19</td>\n      <td>19.080000</td>\n      <td>44.990000</td>\n      <td>7.568566</td>\n      <td>0.0</td>\n      <td>10.814000</td>\n      <td>15.249000</td>\n    </tr>\n  </tbody>\n</table>\n</div>"
     },
     "metadata": {},
     "execution_count": 77
    }
   ],
   "source": [
    "data_pi.loc[200-6:220, : ]"
   ]
  },
  {
   "cell_type": "code",
   "execution_count": 30,
   "metadata": {},
   "outputs": [],
   "source": [
    "time_series_pi = pd.DataFrame(pi_new, columns= features_new )"
   ]
  },
  {
   "cell_type": "code",
   "execution_count": 31,
   "metadata": {},
   "outputs": [
    {
     "output_type": "execute_result",
     "data": {
      "text/plain": [
       "     hour_t0  temp_pi_t0  hum_pi_t0  wind_speed_t0  precip_t0  PM2.5_pi_t0  \\\n",
       "0        9.0    8.316667  53.283333       5.116561        0.0    11.798333   \n",
       "1       12.0   18.650000  30.083333       6.952755        0.0     6.064167   \n",
       "2       15.0   13.990000  35.770000       8.209263        0.0     6.641000   \n",
       "3       18.0   10.425000  42.900000       6.162207        0.0     7.147500   \n",
       "4       21.0    7.566667  53.983333       6.849467        0.0     8.777500   \n",
       "..       ...         ...        ...            ...        ...          ...   \n",
       "139     17.0   16.958333  33.033333      19.130875        0.0     6.969167   \n",
       "140      0.0    0.000000   0.000000       0.000000        0.0     0.000000   \n",
       "141      0.0    0.000000   0.000000       0.000000        0.0     0.000000   \n",
       "142      0.0    0.000000   0.000000       0.000000        0.0     0.000000   \n",
       "143      0.0    0.000000   0.000000       0.000000        0.0     0.000000   \n",
       "\n",
       "     PM10_pi_t0  hour_t1  temp_pi_t1  hum_pi_t1  ...  PM10_pi_t4  hour_t5  \\\n",
       "0     17.710000     10.0   13.408333  38.358333  ...   15.750000     14.0   \n",
       "1      8.284167     13.0   19.983333  28.125000  ...   16.762500     17.0   \n",
       "2      9.477000     16.0   12.683333  37.733333  ...   12.093333     20.0   \n",
       "3     10.535000     19.0    9.416667  45.208333  ...   12.672500     23.0   \n",
       "4     13.442500     22.0    6.850000  57.158333  ...   19.001667      2.0   \n",
       "..          ...      ...         ...        ...  ...         ...      ...   \n",
       "139   10.899167     18.0   16.300000  31.950000  ...    0.000000      0.0   \n",
       "140    0.000000      0.0    0.000000   0.000000  ...    0.000000      0.0   \n",
       "141    0.000000      0.0    0.000000   0.000000  ...    0.000000      0.0   \n",
       "142    0.000000      0.0    0.000000   0.000000  ...    0.000000      0.0   \n",
       "143    0.000000      0.0    0.000000   0.000000  ...    0.000000      0.0   \n",
       "\n",
       "     temp_pi_t5  hum_pi_t5  wind_speed_t5  precip_t5  PM2.5_pi_t5  PM10_pi_t5  \\\n",
       "0     17.625000  30.933333       9.826088        0.0     9.652500   15.223333   \n",
       "1     11.616667  40.350000       7.754637        0.0     6.040000    9.553333   \n",
       "2      8.466667  49.616667       7.895416        0.0     8.685833   12.543333   \n",
       "3      6.516667  61.908333       5.692100        0.0     9.979167   14.669167   \n",
       "4      4.981818  66.109091       4.510787        0.0    12.583636   18.430000   \n",
       "..          ...        ...            ...        ...          ...         ...   \n",
       "139    0.000000   0.000000       0.000000        0.0     0.000000    0.000000   \n",
       "140    0.000000   0.000000       0.000000        0.0     0.000000    0.000000   \n",
       "141    0.000000   0.000000       0.000000        0.0     0.000000    0.000000   \n",
       "142    0.000000   0.000000       0.000000        0.0     0.000000    0.000000   \n",
       "143    0.000000   0.000000       0.000000        0.0     0.000000    0.000000   \n",
       "\n",
       "      PM2.5_pi    PM10_pi  \n",
       "0     6.641000   9.477000  \n",
       "1     7.147500  10.535000  \n",
       "2     8.777500  13.442500  \n",
       "3     7.956667  10.690833  \n",
       "4    13.833333  20.941667  \n",
       "..         ...        ...  \n",
       "139   3.560000   4.923000  \n",
       "140   6.740000  10.450833  \n",
       "141   9.065833  13.411667  \n",
       "142   0.000000   0.000000  \n",
       "143   0.000000   0.000000  \n",
       "\n",
       "[144 rows x 44 columns]"
      ],
      "text/html": "<div>\n<style scoped>\n    .dataframe tbody tr th:only-of-type {\n        vertical-align: middle;\n    }\n\n    .dataframe tbody tr th {\n        vertical-align: top;\n    }\n\n    .dataframe thead th {\n        text-align: right;\n    }\n</style>\n<table border=\"1\" class=\"dataframe\">\n  <thead>\n    <tr style=\"text-align: right;\">\n      <th></th>\n      <th>hour_t0</th>\n      <th>temp_pi_t0</th>\n      <th>hum_pi_t0</th>\n      <th>wind_speed_t0</th>\n      <th>precip_t0</th>\n      <th>PM2.5_pi_t0</th>\n      <th>PM10_pi_t0</th>\n      <th>hour_t1</th>\n      <th>temp_pi_t1</th>\n      <th>hum_pi_t1</th>\n      <th>...</th>\n      <th>PM10_pi_t4</th>\n      <th>hour_t5</th>\n      <th>temp_pi_t5</th>\n      <th>hum_pi_t5</th>\n      <th>wind_speed_t5</th>\n      <th>precip_t5</th>\n      <th>PM2.5_pi_t5</th>\n      <th>PM10_pi_t5</th>\n      <th>PM2.5_pi</th>\n      <th>PM10_pi</th>\n    </tr>\n  </thead>\n  <tbody>\n    <tr>\n      <th>0</th>\n      <td>9.0</td>\n      <td>8.316667</td>\n      <td>53.283333</td>\n      <td>5.116561</td>\n      <td>0.0</td>\n      <td>11.798333</td>\n      <td>17.710000</td>\n      <td>10.0</td>\n      <td>13.408333</td>\n      <td>38.358333</td>\n      <td>...</td>\n      <td>15.750000</td>\n      <td>14.0</td>\n      <td>17.625000</td>\n      <td>30.933333</td>\n      <td>9.826088</td>\n      <td>0.0</td>\n      <td>9.652500</td>\n      <td>15.223333</td>\n      <td>6.641000</td>\n      <td>9.477000</td>\n    </tr>\n    <tr>\n      <th>1</th>\n      <td>12.0</td>\n      <td>18.650000</td>\n      <td>30.083333</td>\n      <td>6.952755</td>\n      <td>0.0</td>\n      <td>6.064167</td>\n      <td>8.284167</td>\n      <td>13.0</td>\n      <td>19.983333</td>\n      <td>28.125000</td>\n      <td>...</td>\n      <td>16.762500</td>\n      <td>17.0</td>\n      <td>11.616667</td>\n      <td>40.350000</td>\n      <td>7.754637</td>\n      <td>0.0</td>\n      <td>6.040000</td>\n      <td>9.553333</td>\n      <td>7.147500</td>\n      <td>10.535000</td>\n    </tr>\n    <tr>\n      <th>2</th>\n      <td>15.0</td>\n      <td>13.990000</td>\n      <td>35.770000</td>\n      <td>8.209263</td>\n      <td>0.0</td>\n      <td>6.641000</td>\n      <td>9.477000</td>\n      <td>16.0</td>\n      <td>12.683333</td>\n      <td>37.733333</td>\n      <td>...</td>\n      <td>12.093333</td>\n      <td>20.0</td>\n      <td>8.466667</td>\n      <td>49.616667</td>\n      <td>7.895416</td>\n      <td>0.0</td>\n      <td>8.685833</td>\n      <td>12.543333</td>\n      <td>8.777500</td>\n      <td>13.442500</td>\n    </tr>\n    <tr>\n      <th>3</th>\n      <td>18.0</td>\n      <td>10.425000</td>\n      <td>42.900000</td>\n      <td>6.162207</td>\n      <td>0.0</td>\n      <td>7.147500</td>\n      <td>10.535000</td>\n      <td>19.0</td>\n      <td>9.416667</td>\n      <td>45.208333</td>\n      <td>...</td>\n      <td>12.672500</td>\n      <td>23.0</td>\n      <td>6.516667</td>\n      <td>61.908333</td>\n      <td>5.692100</td>\n      <td>0.0</td>\n      <td>9.979167</td>\n      <td>14.669167</td>\n      <td>7.956667</td>\n      <td>10.690833</td>\n    </tr>\n    <tr>\n      <th>4</th>\n      <td>21.0</td>\n      <td>7.566667</td>\n      <td>53.983333</td>\n      <td>6.849467</td>\n      <td>0.0</td>\n      <td>8.777500</td>\n      <td>13.442500</td>\n      <td>22.0</td>\n      <td>6.850000</td>\n      <td>57.158333</td>\n      <td>...</td>\n      <td>19.001667</td>\n      <td>2.0</td>\n      <td>4.981818</td>\n      <td>66.109091</td>\n      <td>4.510787</td>\n      <td>0.0</td>\n      <td>12.583636</td>\n      <td>18.430000</td>\n      <td>13.833333</td>\n      <td>20.941667</td>\n    </tr>\n    <tr>\n      <th>...</th>\n      <td>...</td>\n      <td>...</td>\n      <td>...</td>\n      <td>...</td>\n      <td>...</td>\n      <td>...</td>\n      <td>...</td>\n      <td>...</td>\n      <td>...</td>\n      <td>...</td>\n      <td>...</td>\n      <td>...</td>\n      <td>...</td>\n      <td>...</td>\n      <td>...</td>\n      <td>...</td>\n      <td>...</td>\n      <td>...</td>\n      <td>...</td>\n      <td>...</td>\n      <td>...</td>\n    </tr>\n    <tr>\n      <th>139</th>\n      <td>17.0</td>\n      <td>16.958333</td>\n      <td>33.033333</td>\n      <td>19.130875</td>\n      <td>0.0</td>\n      <td>6.969167</td>\n      <td>10.899167</td>\n      <td>18.0</td>\n      <td>16.300000</td>\n      <td>31.950000</td>\n      <td>...</td>\n      <td>0.000000</td>\n      <td>0.0</td>\n      <td>0.000000</td>\n      <td>0.000000</td>\n      <td>0.000000</td>\n      <td>0.0</td>\n      <td>0.000000</td>\n      <td>0.000000</td>\n      <td>3.560000</td>\n      <td>4.923000</td>\n    </tr>\n    <tr>\n      <th>140</th>\n      <td>0.0</td>\n      <td>0.000000</td>\n      <td>0.000000</td>\n      <td>0.000000</td>\n      <td>0.0</td>\n      <td>0.000000</td>\n      <td>0.000000</td>\n      <td>0.0</td>\n      <td>0.000000</td>\n      <td>0.000000</td>\n      <td>...</td>\n      <td>0.000000</td>\n      <td>0.0</td>\n      <td>0.000000</td>\n      <td>0.000000</td>\n      <td>0.000000</td>\n      <td>0.0</td>\n      <td>0.000000</td>\n      <td>0.000000</td>\n      <td>6.740000</td>\n      <td>10.450833</td>\n    </tr>\n    <tr>\n      <th>141</th>\n      <td>0.0</td>\n      <td>0.000000</td>\n      <td>0.000000</td>\n      <td>0.000000</td>\n      <td>0.0</td>\n      <td>0.000000</td>\n      <td>0.000000</td>\n      <td>0.0</td>\n      <td>0.000000</td>\n      <td>0.000000</td>\n      <td>...</td>\n      <td>0.000000</td>\n      <td>0.0</td>\n      <td>0.000000</td>\n      <td>0.000000</td>\n      <td>0.000000</td>\n      <td>0.0</td>\n      <td>0.000000</td>\n      <td>0.000000</td>\n      <td>9.065833</td>\n      <td>13.411667</td>\n    </tr>\n    <tr>\n      <th>142</th>\n      <td>0.0</td>\n      <td>0.000000</td>\n      <td>0.000000</td>\n      <td>0.000000</td>\n      <td>0.0</td>\n      <td>0.000000</td>\n      <td>0.000000</td>\n      <td>0.0</td>\n      <td>0.000000</td>\n      <td>0.000000</td>\n      <td>...</td>\n      <td>0.000000</td>\n      <td>0.0</td>\n      <td>0.000000</td>\n      <td>0.000000</td>\n      <td>0.000000</td>\n      <td>0.0</td>\n      <td>0.000000</td>\n      <td>0.000000</td>\n      <td>0.000000</td>\n      <td>0.000000</td>\n    </tr>\n    <tr>\n      <th>143</th>\n      <td>0.0</td>\n      <td>0.000000</td>\n      <td>0.000000</td>\n      <td>0.000000</td>\n      <td>0.0</td>\n      <td>0.000000</td>\n      <td>0.000000</td>\n      <td>0.0</td>\n      <td>0.000000</td>\n      <td>0.000000</td>\n      <td>...</td>\n      <td>0.000000</td>\n      <td>0.0</td>\n      <td>0.000000</td>\n      <td>0.000000</td>\n      <td>0.000000</td>\n      <td>0.0</td>\n      <td>0.000000</td>\n      <td>0.000000</td>\n      <td>0.000000</td>\n      <td>0.000000</td>\n    </tr>\n  </tbody>\n</table>\n<p>144 rows × 44 columns</p>\n</div>"
     },
     "metadata": {},
     "execution_count": 31
    }
   ],
   "source": [
    "time_series_pi"
   ]
  },
  {
   "cell_type": "code",
   "execution_count": 35,
   "metadata": {},
   "outputs": [
    {
     "output_type": "execute_result",
     "data": {
      "text/plain": [
       "     hour_t0  temp_pi_t0  hum_pi_t0  wind_speed_t0  precip_t0  PM2.5_pi_t0  \\\n",
       "0        9.0    8.316667  53.283333       5.116561        0.0    11.798333   \n",
       "1       12.0   18.650000  30.083333       6.952755        0.0     6.064167   \n",
       "2       15.0   13.990000  35.770000       8.209263        0.0     6.641000   \n",
       "3       18.0   10.425000  42.900000       6.162207        0.0     7.147500   \n",
       "4       21.0    7.566667  53.983333       6.849467        0.0     8.777500   \n",
       "..       ...         ...        ...            ...        ...          ...   \n",
       "133     23.0    6.787500  58.587500       7.636753        0.0     8.486250   \n",
       "134      2.0    5.500000  61.180000       5.860375        0.0     5.630000   \n",
       "135      5.0    4.850000  62.908333       4.680000        0.0     8.113333   \n",
       "136      8.0    8.858333  44.375000       5.191994        0.0     8.003333   \n",
       "137     11.0   19.700000  24.163636      12.904882        0.0     7.750909   \n",
       "\n",
       "     PM10_pi_t0  hour_t1  temp_pi_t1  hum_pi_t1  ...  PM10_pi_t4  hour_t5  \\\n",
       "0     17.710000     10.0   13.408333  38.358333  ...   15.750000     14.0   \n",
       "1      8.284167     13.0   19.983333  28.125000  ...   16.762500     17.0   \n",
       "2      9.477000     16.0   12.683333  37.733333  ...   12.093333     20.0   \n",
       "3     10.535000     19.0    9.416667  45.208333  ...   12.672500     23.0   \n",
       "4     13.442500     22.0    6.850000  57.158333  ...   19.001667      2.0   \n",
       "..          ...      ...         ...        ...  ...         ...      ...   \n",
       "133   14.362500      0.0    6.350000  59.500000  ...    6.323636      4.0   \n",
       "134    9.211000      3.0    5.545455  59.136364  ...   12.845833      7.0   \n",
       "135   12.313333      6.0    5.850000  59.925000  ...   14.958333     10.0   \n",
       "136   13.353333      9.0   11.708333  42.016667  ...   12.346667     13.0   \n",
       "137   12.903636     12.0   20.133333  24.341667  ...    9.790833     16.0   \n",
       "\n",
       "     temp_pi_t5  hum_pi_t5  wind_speed_t5  precip_t5  PM2.5_pi_t5  PM10_pi_t5  \\\n",
       "0     17.625000  30.933333       9.826088        0.0     9.652500   15.223333   \n",
       "1     11.616667  40.350000       7.754637        0.0     6.040000    9.553333   \n",
       "2      8.466667  49.616667       7.895416        0.0     8.685833   12.543333   \n",
       "3      6.516667  61.908333       5.692100        0.0     9.979167   14.669167   \n",
       "4      4.981818  66.109091       4.510787        0.0    12.583636   18.430000   \n",
       "..          ...        ...            ...        ...          ...         ...   \n",
       "133    4.983333  61.616667       4.735060        0.0     7.600000   11.365833   \n",
       "134    6.908333  55.350000       4.024922        0.0     7.712500   10.448333   \n",
       "135   15.133333  30.958333       9.339208        0.0     5.928333    8.614167   \n",
       "136   22.591667  21.891667      14.400000        0.0     8.453333   14.123333   \n",
       "137   17.958333  29.875000      20.140705        0.0     7.467500   11.225000   \n",
       "\n",
       "      PM2.5_pi    PM10_pi  \n",
       "0     6.641000   9.477000  \n",
       "1     7.147500  10.535000  \n",
       "2     8.777500  13.442500  \n",
       "3     7.956667  10.690833  \n",
       "4    13.833333  20.941667  \n",
       "..         ...        ...  \n",
       "133   5.475556   8.303333  \n",
       "134   4.786250   7.621250  \n",
       "135   5.369000   8.341000  \n",
       "136   3.553750   5.736250  \n",
       "137   4.190909   6.679091  \n",
       "\n",
       "[138 rows x 44 columns]"
      ],
      "text/html": "<div>\n<style scoped>\n    .dataframe tbody tr th:only-of-type {\n        vertical-align: middle;\n    }\n\n    .dataframe tbody tr th {\n        vertical-align: top;\n    }\n\n    .dataframe thead th {\n        text-align: right;\n    }\n</style>\n<table border=\"1\" class=\"dataframe\">\n  <thead>\n    <tr style=\"text-align: right;\">\n      <th></th>\n      <th>hour_t0</th>\n      <th>temp_pi_t0</th>\n      <th>hum_pi_t0</th>\n      <th>wind_speed_t0</th>\n      <th>precip_t0</th>\n      <th>PM2.5_pi_t0</th>\n      <th>PM10_pi_t0</th>\n      <th>hour_t1</th>\n      <th>temp_pi_t1</th>\n      <th>hum_pi_t1</th>\n      <th>...</th>\n      <th>PM10_pi_t4</th>\n      <th>hour_t5</th>\n      <th>temp_pi_t5</th>\n      <th>hum_pi_t5</th>\n      <th>wind_speed_t5</th>\n      <th>precip_t5</th>\n      <th>PM2.5_pi_t5</th>\n      <th>PM10_pi_t5</th>\n      <th>PM2.5_pi</th>\n      <th>PM10_pi</th>\n    </tr>\n  </thead>\n  <tbody>\n    <tr>\n      <th>0</th>\n      <td>9.0</td>\n      <td>8.316667</td>\n      <td>53.283333</td>\n      <td>5.116561</td>\n      <td>0.0</td>\n      <td>11.798333</td>\n      <td>17.710000</td>\n      <td>10.0</td>\n      <td>13.408333</td>\n      <td>38.358333</td>\n      <td>...</td>\n      <td>15.750000</td>\n      <td>14.0</td>\n      <td>17.625000</td>\n      <td>30.933333</td>\n      <td>9.826088</td>\n      <td>0.0</td>\n      <td>9.652500</td>\n      <td>15.223333</td>\n      <td>6.641000</td>\n      <td>9.477000</td>\n    </tr>\n    <tr>\n      <th>1</th>\n      <td>12.0</td>\n      <td>18.650000</td>\n      <td>30.083333</td>\n      <td>6.952755</td>\n      <td>0.0</td>\n      <td>6.064167</td>\n      <td>8.284167</td>\n      <td>13.0</td>\n      <td>19.983333</td>\n      <td>28.125000</td>\n      <td>...</td>\n      <td>16.762500</td>\n      <td>17.0</td>\n      <td>11.616667</td>\n      <td>40.350000</td>\n      <td>7.754637</td>\n      <td>0.0</td>\n      <td>6.040000</td>\n      <td>9.553333</td>\n      <td>7.147500</td>\n      <td>10.535000</td>\n    </tr>\n    <tr>\n      <th>2</th>\n      <td>15.0</td>\n      <td>13.990000</td>\n      <td>35.770000</td>\n      <td>8.209263</td>\n      <td>0.0</td>\n      <td>6.641000</td>\n      <td>9.477000</td>\n      <td>16.0</td>\n      <td>12.683333</td>\n      <td>37.733333</td>\n      <td>...</td>\n      <td>12.093333</td>\n      <td>20.0</td>\n      <td>8.466667</td>\n      <td>49.616667</td>\n      <td>7.895416</td>\n      <td>0.0</td>\n      <td>8.685833</td>\n      <td>12.543333</td>\n      <td>8.777500</td>\n      <td>13.442500</td>\n    </tr>\n    <tr>\n      <th>3</th>\n      <td>18.0</td>\n      <td>10.425000</td>\n      <td>42.900000</td>\n      <td>6.162207</td>\n      <td>0.0</td>\n      <td>7.147500</td>\n      <td>10.535000</td>\n      <td>19.0</td>\n      <td>9.416667</td>\n      <td>45.208333</td>\n      <td>...</td>\n      <td>12.672500</td>\n      <td>23.0</td>\n      <td>6.516667</td>\n      <td>61.908333</td>\n      <td>5.692100</td>\n      <td>0.0</td>\n      <td>9.979167</td>\n      <td>14.669167</td>\n      <td>7.956667</td>\n      <td>10.690833</td>\n    </tr>\n    <tr>\n      <th>4</th>\n      <td>21.0</td>\n      <td>7.566667</td>\n      <td>53.983333</td>\n      <td>6.849467</td>\n      <td>0.0</td>\n      <td>8.777500</td>\n      <td>13.442500</td>\n      <td>22.0</td>\n      <td>6.850000</td>\n      <td>57.158333</td>\n      <td>...</td>\n      <td>19.001667</td>\n      <td>2.0</td>\n      <td>4.981818</td>\n      <td>66.109091</td>\n      <td>4.510787</td>\n      <td>0.0</td>\n      <td>12.583636</td>\n      <td>18.430000</td>\n      <td>13.833333</td>\n      <td>20.941667</td>\n    </tr>\n    <tr>\n      <th>...</th>\n      <td>...</td>\n      <td>...</td>\n      <td>...</td>\n      <td>...</td>\n      <td>...</td>\n      <td>...</td>\n      <td>...</td>\n      <td>...</td>\n      <td>...</td>\n      <td>...</td>\n      <td>...</td>\n      <td>...</td>\n      <td>...</td>\n      <td>...</td>\n      <td>...</td>\n      <td>...</td>\n      <td>...</td>\n      <td>...</td>\n      <td>...</td>\n      <td>...</td>\n      <td>...</td>\n    </tr>\n    <tr>\n      <th>133</th>\n      <td>23.0</td>\n      <td>6.787500</td>\n      <td>58.587500</td>\n      <td>7.636753</td>\n      <td>0.0</td>\n      <td>8.486250</td>\n      <td>14.362500</td>\n      <td>0.0</td>\n      <td>6.350000</td>\n      <td>59.500000</td>\n      <td>...</td>\n      <td>6.323636</td>\n      <td>4.0</td>\n      <td>4.983333</td>\n      <td>61.616667</td>\n      <td>4.735060</td>\n      <td>0.0</td>\n      <td>7.600000</td>\n      <td>11.365833</td>\n      <td>5.475556</td>\n      <td>8.303333</td>\n    </tr>\n    <tr>\n      <th>134</th>\n      <td>2.0</td>\n      <td>5.500000</td>\n      <td>61.180000</td>\n      <td>5.860375</td>\n      <td>0.0</td>\n      <td>5.630000</td>\n      <td>9.211000</td>\n      <td>3.0</td>\n      <td>5.545455</td>\n      <td>59.136364</td>\n      <td>...</td>\n      <td>12.845833</td>\n      <td>7.0</td>\n      <td>6.908333</td>\n      <td>55.350000</td>\n      <td>4.024922</td>\n      <td>0.0</td>\n      <td>7.712500</td>\n      <td>10.448333</td>\n      <td>4.786250</td>\n      <td>7.621250</td>\n    </tr>\n    <tr>\n      <th>135</th>\n      <td>5.0</td>\n      <td>4.850000</td>\n      <td>62.908333</td>\n      <td>4.680000</td>\n      <td>0.0</td>\n      <td>8.113333</td>\n      <td>12.313333</td>\n      <td>6.0</td>\n      <td>5.850000</td>\n      <td>59.925000</td>\n      <td>...</td>\n      <td>14.958333</td>\n      <td>10.0</td>\n      <td>15.133333</td>\n      <td>30.958333</td>\n      <td>9.339208</td>\n      <td>0.0</td>\n      <td>5.928333</td>\n      <td>8.614167</td>\n      <td>5.369000</td>\n      <td>8.341000</td>\n    </tr>\n    <tr>\n      <th>136</th>\n      <td>8.0</td>\n      <td>8.858333</td>\n      <td>44.375000</td>\n      <td>5.191994</td>\n      <td>0.0</td>\n      <td>8.003333</td>\n      <td>13.353333</td>\n      <td>9.0</td>\n      <td>11.708333</td>\n      <td>42.016667</td>\n      <td>...</td>\n      <td>12.346667</td>\n      <td>13.0</td>\n      <td>22.591667</td>\n      <td>21.891667</td>\n      <td>14.400000</td>\n      <td>0.0</td>\n      <td>8.453333</td>\n      <td>14.123333</td>\n      <td>3.553750</td>\n      <td>5.736250</td>\n    </tr>\n    <tr>\n      <th>137</th>\n      <td>11.0</td>\n      <td>19.700000</td>\n      <td>24.163636</td>\n      <td>12.904882</td>\n      <td>0.0</td>\n      <td>7.750909</td>\n      <td>12.903636</td>\n      <td>12.0</td>\n      <td>20.133333</td>\n      <td>24.341667</td>\n      <td>...</td>\n      <td>9.790833</td>\n      <td>16.0</td>\n      <td>17.958333</td>\n      <td>29.875000</td>\n      <td>20.140705</td>\n      <td>0.0</td>\n      <td>7.467500</td>\n      <td>11.225000</td>\n      <td>4.190909</td>\n      <td>6.679091</td>\n    </tr>\n  </tbody>\n</table>\n<p>138 rows × 44 columns</p>\n</div>"
     },
     "metadata": {},
     "execution_count": 35
    }
   ],
   "source": [
    "# Remove missing data\n",
    "\n",
    "time_series_pi = time_series_pi.iloc[:138, :]\n",
    "time_series_pi"
   ]
  },
  {
   "cell_type": "code",
   "execution_count": 36,
   "metadata": {},
   "outputs": [],
   "source": [
    "time_series_pi.to_csv('time_series_pi.csv')"
   ]
  },
  {
   "cell_type": "code",
   "execution_count": null,
   "metadata": {},
   "outputs": [],
   "source": []
  }
 ]
}