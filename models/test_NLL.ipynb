{
 "metadata": {
  "language_info": {
   "codemirror_mode": {
    "name": "ipython",
    "version": 3
   },
   "file_extension": ".py",
   "mimetype": "text/x-python",
   "name": "python",
   "nbconvert_exporter": "python",
   "pygments_lexer": "ipython3",
   "version": "3.7.10"
  },
  "orig_nbformat": 2,
  "kernelspec": {
   "name": "python3710jvsc74a57bd09e5addec0265f82113593c0c0666c294dca5e27b55fafbc7e9d94077bbbb9802",
   "display_name": "Python 3.7.10 64-bit ('tf2.0': conda)"
  },
  "metadata": {
   "interpreter": {
    "hash": "9e5addec0265f82113593c0c0666c294dca5e27b55fafbc7e9d94077bbbb9802"
   }
  }
 },
 "nbformat": 4,
 "nbformat_minor": 2,
 "cells": [
  {
   "source": [
    "import tensorflow as tf\n",
    "import numpy as np\n",
    "import pandas as pd\n",
    "import matplotlib.pyplot as plt\n",
    "import seaborn as sns"
   ],
   "cell_type": "code",
   "metadata": {},
   "execution_count": 1,
   "outputs": [
    {
     "output_type": "stream",
     "name": "stderr",
     "text": [
      "C:\\Users\\ay0un\\anaconda3\\envs\\tf2.0\\lib\\site-packages\\tensorflow\\python\\framework\\dtypes.py:516: FutureWarning: Passing (type, 1) or '1type' as a synonym of type is deprecated; in a future version of numpy, it will be understood as (type, (1,)) / '(1,)type'.\n",
      "  _np_qint8 = np.dtype([(\"qint8\", np.int8, 1)])\n",
      "C:\\Users\\ay0un\\anaconda3\\envs\\tf2.0\\lib\\site-packages\\tensorflow\\python\\framework\\dtypes.py:517: FutureWarning: Passing (type, 1) or '1type' as a synonym of type is deprecated; in a future version of numpy, it will be understood as (type, (1,)) / '(1,)type'.\n",
      "  _np_quint8 = np.dtype([(\"quint8\", np.uint8, 1)])\n",
      "C:\\Users\\ay0un\\anaconda3\\envs\\tf2.0\\lib\\site-packages\\tensorflow\\python\\framework\\dtypes.py:518: FutureWarning: Passing (type, 1) or '1type' as a synonym of type is deprecated; in a future version of numpy, it will be understood as (type, (1,)) / '(1,)type'.\n",
      "  _np_qint16 = np.dtype([(\"qint16\", np.int16, 1)])\n",
      "C:\\Users\\ay0un\\anaconda3\\envs\\tf2.0\\lib\\site-packages\\tensorflow\\python\\framework\\dtypes.py:519: FutureWarning: Passing (type, 1) or '1type' as a synonym of type is deprecated; in a future version of numpy, it will be understood as (type, (1,)) / '(1,)type'.\n",
      "  _np_quint16 = np.dtype([(\"quint16\", np.uint16, 1)])\n",
      "C:\\Users\\ay0un\\anaconda3\\envs\\tf2.0\\lib\\site-packages\\tensorflow\\python\\framework\\dtypes.py:520: FutureWarning: Passing (type, 1) or '1type' as a synonym of type is deprecated; in a future version of numpy, it will be understood as (type, (1,)) / '(1,)type'.\n",
      "  _np_qint32 = np.dtype([(\"qint32\", np.int32, 1)])\n",
      "C:\\Users\\ay0un\\anaconda3\\envs\\tf2.0\\lib\\site-packages\\tensorflow\\python\\framework\\dtypes.py:525: FutureWarning: Passing (type, 1) or '1type' as a synonym of type is deprecated; in a future version of numpy, it will be understood as (type, (1,)) / '(1,)type'.\n",
      "  np_resource = np.dtype([(\"resource\", np.ubyte, 1)])\n",
      "C:\\Users\\ay0un\\anaconda3\\envs\\tf2.0\\lib\\site-packages\\tensorboard\\compat\\tensorflow_stub\\dtypes.py:541: FutureWarning: Passing (type, 1) or '1type' as a synonym of type is deprecated; in a future version of numpy, it will be understood as (type, (1,)) / '(1,)type'.\n",
      "  _np_qint8 = np.dtype([(\"qint8\", np.int8, 1)])\n",
      "C:\\Users\\ay0un\\anaconda3\\envs\\tf2.0\\lib\\site-packages\\tensorboard\\compat\\tensorflow_stub\\dtypes.py:542: FutureWarning: Passing (type, 1) or '1type' as a synonym of type is deprecated; in a future version of numpy, it will be understood as (type, (1,)) / '(1,)type'.\n",
      "  _np_quint8 = np.dtype([(\"quint8\", np.uint8, 1)])\n",
      "C:\\Users\\ay0un\\anaconda3\\envs\\tf2.0\\lib\\site-packages\\tensorboard\\compat\\tensorflow_stub\\dtypes.py:543: FutureWarning: Passing (type, 1) or '1type' as a synonym of type is deprecated; in a future version of numpy, it will be understood as (type, (1,)) / '(1,)type'.\n",
      "  _np_qint16 = np.dtype([(\"qint16\", np.int16, 1)])\n",
      "C:\\Users\\ay0un\\anaconda3\\envs\\tf2.0\\lib\\site-packages\\tensorboard\\compat\\tensorflow_stub\\dtypes.py:544: FutureWarning: Passing (type, 1) or '1type' as a synonym of type is deprecated; in a future version of numpy, it will be understood as (type, (1,)) / '(1,)type'.\n",
      "  _np_quint16 = np.dtype([(\"quint16\", np.uint16, 1)])\n",
      "C:\\Users\\ay0un\\anaconda3\\envs\\tf2.0\\lib\\site-packages\\tensorboard\\compat\\tensorflow_stub\\dtypes.py:545: FutureWarning: Passing (type, 1) or '1type' as a synonym of type is deprecated; in a future version of numpy, it will be understood as (type, (1,)) / '(1,)type'.\n",
      "  _np_qint32 = np.dtype([(\"qint32\", np.int32, 1)])\n",
      "C:\\Users\\ay0un\\anaconda3\\envs\\tf2.0\\lib\\site-packages\\tensorboard\\compat\\tensorflow_stub\\dtypes.py:550: FutureWarning: Passing (type, 1) or '1type' as a synonym of type is deprecated; in a future version of numpy, it will be understood as (type, (1,)) / '(1,)type'.\n",
      "  np_resource = np.dtype([(\"resource\", np.ubyte, 1)])\n"
     ]
    }
   ]
  },
  {
   "cell_type": "code",
   "execution_count": 2,
   "metadata": {},
   "outputs": [],
   "source": [
    "from tensorflow.keras.layers import Input, Dense, Activation,Dropout\n",
    "from tensorflow.keras.models import Model\n",
    "from tensorflow.keras import preprocessing"
   ]
  },
  {
   "cell_type": "code",
   "execution_count": 3,
   "metadata": {},
   "outputs": [],
   "source": [
    "# Data preparation\n",
    "df = pd.read_csv(r'C:/Users/ay0un/Desktop/ds-project/buenos-aires/Air-Quality-Forecast-Challenge/model_data.csv')\n",
    "df.dropna(inplace=True)\n",
    "df.reset_index(drop=True, inplace=True)\n",
    "df = df.loc[:, ~df.columns.str.contains('^Unnamed')]\n",
    "df = df.iloc[:138,:]"
   ]
  },
  {
   "cell_type": "code",
   "execution_count": 8,
   "metadata": {},
   "outputs": [
    {
     "output_type": "execute_result",
     "data": {
      "text/plain": [
       "138"
      ]
     },
     "metadata": {},
     "execution_count": 8
    }
   ],
   "source": [
    "len(df)"
   ]
  },
  {
   "cell_type": "code",
   "execution_count": 4,
   "metadata": {},
   "outputs": [
    {
     "output_type": "execute_result",
     "data": {
      "text/plain": [
       "Index(['temp_pi_t0', 'hum_pi_t0', 'PM1_pi_t0', 'PM2.5_pi_t0', 'PM10_pi_t0',\n",
       "       'wind_speed_t0', 'temp_pi_t1', 'hum_pi_t1', 'PM1_pi_t1', 'PM2.5_pi_t1',\n",
       "       'PM10_pi_t1', 'wind_speed_t1', 'temp_pi_t2', 'hum_pi_t2', 'PM1_pi_t2',\n",
       "       'PM2.5_pi_t2', 'PM10_pi_t2', 'wind_speed_t2', 'temp_pi_t3', 'hum_pi_t3',\n",
       "       'PM1_pi_t3', 'PM2.5_pi_t3', 'PM10_pi_t3', 'wind_speed_t3', 'temp_pi_t4',\n",
       "       'hum_pi_t4', 'PM1_pi_t4', 'PM2.5_pi_t4', 'PM10_pi_t4', 'wind_speed_t4',\n",
       "       'temp_pi_t5', 'hum_pi_t5', 'PM1_pi_t5', 'PM2.5_pi_t5', 'PM10_pi_t5',\n",
       "       'wind_speed_t5', 'PM2.5', 'PM10'],\n",
       "      dtype='object')"
      ]
     },
     "metadata": {},
     "execution_count": 4
    }
   ],
   "source": [
    "df.columns"
   ]
  },
  {
   "cell_type": "code",
   "execution_count": 5,
   "metadata": {},
   "outputs": [],
   "source": [
    "labels = ['PM2.5', 'PM10']"
   ]
  },
  {
   "cell_type": "code",
   "execution_count": 6,
   "metadata": {},
   "outputs": [],
   "source": [
    "X = df.drop(labels, axis=1)\n",
    "y1 = df[labels[0]]\n",
    "y2 = df[labels[1]]"
   ]
  },
  {
   "cell_type": "code",
   "execution_count": 9,
   "metadata": {},
   "outputs": [
    {
     "output_type": "execute_result",
     "data": {
      "text/plain": [
       "138"
      ]
     },
     "metadata": {},
     "execution_count": 9
    }
   ],
   "source": [
    "len(X)"
   ]
  },
  {
   "cell_type": "code",
   "execution_count": 7,
   "metadata": {},
   "outputs": [
    {
     "output_type": "execute_result",
     "data": {
      "text/plain": [
       "0       6.641000\n",
       "1       7.147500\n",
       "2       8.777500\n",
       "3       7.956667\n",
       "4      13.833333\n",
       "         ...    \n",
       "133     4.190909\n",
       "134     5.385000\n",
       "135     3.560000\n",
       "136     6.740000\n",
       "137     9.065833\n",
       "Name: PM2.5, Length: 138, dtype: float64"
      ]
     },
     "metadata": {},
     "execution_count": 7
    }
   ],
   "source": [
    "y1"
   ]
  },
  {
   "cell_type": "code",
   "execution_count": 10,
   "metadata": {},
   "outputs": [],
   "source": [
    "TRAIN_TEST_SPLIT = 0.8\n",
    "n = int(TRAIN_TEST_SPLIT*df.shape[0])"
   ]
  },
  {
   "cell_type": "code",
   "execution_count": 11,
   "metadata": {},
   "outputs": [],
   "source": [
    "X_train = df.iloc[:n,:]\n",
    "X_test = df.iloc[n:,:]\n",
    "\n",
    "y_train1 = X_train[labels[0]]\n",
    "y_train2 = X_train[labels[1]]\n",
    "\n",
    "y_true1 = X_test[labels[0]]\n",
    "y_true2 = X_test[labels[1]]\n",
    "\n",
    "X_train = X_train.drop(labels, axis=1)\n",
    "X_test = X_test.drop(labels, axis=1)"
   ]
  },
  {
   "cell_type": "code",
   "execution_count": 12,
   "metadata": {},
   "outputs": [
    {
     "output_type": "execute_result",
     "data": {
      "text/plain": [
       "     temp_pi_t0  hum_pi_t0  PM1_pi_t0  PM2.5_pi_t0  PM10_pi_t0  wind_speed_t0  \\\n",
       "0     17.625000  30.933333   4.365000     9.652500   15.223333       9.826088   \n",
       "1     11.616667  40.350000   2.710000     6.040000    9.553333       7.754637   \n",
       "2      8.466667  49.616667   4.839167     8.685833   12.543333       7.895416   \n",
       "3      6.516667  61.908333   5.355000     9.979167   14.669167       5.692100   \n",
       "4      4.981818  66.109091   6.809091    12.583636   18.430000       4.510787   \n",
       "..          ...        ...        ...          ...         ...            ...   \n",
       "105    6.250000  39.633333   1.966667     4.817500    7.861667      26.009842   \n",
       "106    5.420000  41.410000   2.431000     6.259000   10.376000      29.091030   \n",
       "107    4.445455  45.690909   2.440909     5.866364    9.520000      17.418196   \n",
       "108    4.360000  46.810000   1.817000     5.143000    8.756000      19.513195   \n",
       "109    3.758333  49.200000   2.260000     5.189167    8.295833      16.343367   \n",
       "\n",
       "     temp_pi_t1  hum_pi_t1  PM1_pi_t1  PM2.5_pi_t1  ...  PM1_pi_t4  \\\n",
       "0     19.983333  28.125000   4.610000    10.042500  ...   4.840833   \n",
       "1     12.683333  37.733333   4.529167    10.465000  ...   4.610000   \n",
       "2      9.416667  45.208333   3.826667     7.878333  ...   4.529167   \n",
       "3      6.850000  57.158333   5.519167     9.145833  ...   3.826667   \n",
       "4      5.358333  64.891667   6.549167    12.697500  ...   5.519167   \n",
       "..          ...        ...        ...          ...  ...        ...   \n",
       "105    7.455556  38.100000   2.594444     6.646667  ...   2.857500   \n",
       "106    5.616667  43.233333   1.573333     3.716667  ...   2.594444   \n",
       "107    4.300000  46.260000   2.158000     3.974000  ...   1.573333   \n",
       "108    4.420000  45.480000   2.235000     4.906000  ...   2.158000   \n",
       "109    4.100000  49.272727   1.789091     4.199091  ...   2.235000   \n",
       "\n",
       "     PM2.5_pi_t4  PM10_pi_t4  wind_speed_t4  temp_pi_t5  hum_pi_t5  PM1_pi_t5  \\\n",
       "0      10.010000   15.388333       6.924738    8.316667  53.283333   6.042500   \n",
       "1      10.042500   15.750000      11.269782   18.650000  30.083333   3.752500   \n",
       "2      10.465000   16.762500       8.496304   13.990000  35.770000   3.787000   \n",
       "3       7.878333   12.093333       4.104631   10.425000  42.900000   3.815000   \n",
       "4       9.145833   12.672500       6.151683    7.566667  53.983333   4.285000   \n",
       "..           ...         ...            ...         ...        ...        ...   \n",
       "105     5.095000    7.332500      21.734581    1.681818  67.300000   3.049091   \n",
       "106     6.646667   11.003333      33.120000    6.940000  44.290000   2.734000   \n",
       "107     3.716667    5.995833      30.633865    5.309091  41.445455   2.524545   \n",
       "108     3.974000    5.808000      20.532627    4.454545  44.472727   2.246364   \n",
       "109     4.906000    7.715000      17.496150    4.490000  44.840000   2.110000   \n",
       "\n",
       "     PM2.5_pi_t5  PM10_pi_t5  wind_speed_t5  \n",
       "0      11.798333   17.710000       5.116561  \n",
       "1       6.064167    8.284167       6.952755  \n",
       "2       6.641000    9.477000       8.209263  \n",
       "3       7.147500   10.535000       6.162207  \n",
       "4       8.777500   13.442500       6.849467  \n",
       "..           ...         ...            ...  \n",
       "105     5.803636    8.612727      21.566973  \n",
       "106     6.005000    9.448000      31.170673  \n",
       "107     6.790909   11.402727      29.723444  \n",
       "108     6.294545   10.689091      26.525429  \n",
       "109     6.383000   11.052000      17.148247  \n",
       "\n",
       "[110 rows x 36 columns]"
      ],
      "text/html": "<div>\n<style scoped>\n    .dataframe tbody tr th:only-of-type {\n        vertical-align: middle;\n    }\n\n    .dataframe tbody tr th {\n        vertical-align: top;\n    }\n\n    .dataframe thead th {\n        text-align: right;\n    }\n</style>\n<table border=\"1\" class=\"dataframe\">\n  <thead>\n    <tr style=\"text-align: right;\">\n      <th></th>\n      <th>temp_pi_t0</th>\n      <th>hum_pi_t0</th>\n      <th>PM1_pi_t0</th>\n      <th>PM2.5_pi_t0</th>\n      <th>PM10_pi_t0</th>\n      <th>wind_speed_t0</th>\n      <th>temp_pi_t1</th>\n      <th>hum_pi_t1</th>\n      <th>PM1_pi_t1</th>\n      <th>PM2.5_pi_t1</th>\n      <th>...</th>\n      <th>PM1_pi_t4</th>\n      <th>PM2.5_pi_t4</th>\n      <th>PM10_pi_t4</th>\n      <th>wind_speed_t4</th>\n      <th>temp_pi_t5</th>\n      <th>hum_pi_t5</th>\n      <th>PM1_pi_t5</th>\n      <th>PM2.5_pi_t5</th>\n      <th>PM10_pi_t5</th>\n      <th>wind_speed_t5</th>\n    </tr>\n  </thead>\n  <tbody>\n    <tr>\n      <th>0</th>\n      <td>17.625000</td>\n      <td>30.933333</td>\n      <td>4.365000</td>\n      <td>9.652500</td>\n      <td>15.223333</td>\n      <td>9.826088</td>\n      <td>19.983333</td>\n      <td>28.125000</td>\n      <td>4.610000</td>\n      <td>10.042500</td>\n      <td>...</td>\n      <td>4.840833</td>\n      <td>10.010000</td>\n      <td>15.388333</td>\n      <td>6.924738</td>\n      <td>8.316667</td>\n      <td>53.283333</td>\n      <td>6.042500</td>\n      <td>11.798333</td>\n      <td>17.710000</td>\n      <td>5.116561</td>\n    </tr>\n    <tr>\n      <th>1</th>\n      <td>11.616667</td>\n      <td>40.350000</td>\n      <td>2.710000</td>\n      <td>6.040000</td>\n      <td>9.553333</td>\n      <td>7.754637</td>\n      <td>12.683333</td>\n      <td>37.733333</td>\n      <td>4.529167</td>\n      <td>10.465000</td>\n      <td>...</td>\n      <td>4.610000</td>\n      <td>10.042500</td>\n      <td>15.750000</td>\n      <td>11.269782</td>\n      <td>18.650000</td>\n      <td>30.083333</td>\n      <td>3.752500</td>\n      <td>6.064167</td>\n      <td>8.284167</td>\n      <td>6.952755</td>\n    </tr>\n    <tr>\n      <th>2</th>\n      <td>8.466667</td>\n      <td>49.616667</td>\n      <td>4.839167</td>\n      <td>8.685833</td>\n      <td>12.543333</td>\n      <td>7.895416</td>\n      <td>9.416667</td>\n      <td>45.208333</td>\n      <td>3.826667</td>\n      <td>7.878333</td>\n      <td>...</td>\n      <td>4.529167</td>\n      <td>10.465000</td>\n      <td>16.762500</td>\n      <td>8.496304</td>\n      <td>13.990000</td>\n      <td>35.770000</td>\n      <td>3.787000</td>\n      <td>6.641000</td>\n      <td>9.477000</td>\n      <td>8.209263</td>\n    </tr>\n    <tr>\n      <th>3</th>\n      <td>6.516667</td>\n      <td>61.908333</td>\n      <td>5.355000</td>\n      <td>9.979167</td>\n      <td>14.669167</td>\n      <td>5.692100</td>\n      <td>6.850000</td>\n      <td>57.158333</td>\n      <td>5.519167</td>\n      <td>9.145833</td>\n      <td>...</td>\n      <td>3.826667</td>\n      <td>7.878333</td>\n      <td>12.093333</td>\n      <td>4.104631</td>\n      <td>10.425000</td>\n      <td>42.900000</td>\n      <td>3.815000</td>\n      <td>7.147500</td>\n      <td>10.535000</td>\n      <td>6.162207</td>\n    </tr>\n    <tr>\n      <th>4</th>\n      <td>4.981818</td>\n      <td>66.109091</td>\n      <td>6.809091</td>\n      <td>12.583636</td>\n      <td>18.430000</td>\n      <td>4.510787</td>\n      <td>5.358333</td>\n      <td>64.891667</td>\n      <td>6.549167</td>\n      <td>12.697500</td>\n      <td>...</td>\n      <td>5.519167</td>\n      <td>9.145833</td>\n      <td>12.672500</td>\n      <td>6.151683</td>\n      <td>7.566667</td>\n      <td>53.983333</td>\n      <td>4.285000</td>\n      <td>8.777500</td>\n      <td>13.442500</td>\n      <td>6.849467</td>\n    </tr>\n    <tr>\n      <th>...</th>\n      <td>...</td>\n      <td>...</td>\n      <td>...</td>\n      <td>...</td>\n      <td>...</td>\n      <td>...</td>\n      <td>...</td>\n      <td>...</td>\n      <td>...</td>\n      <td>...</td>\n      <td>...</td>\n      <td>...</td>\n      <td>...</td>\n      <td>...</td>\n      <td>...</td>\n      <td>...</td>\n      <td>...</td>\n      <td>...</td>\n      <td>...</td>\n      <td>...</td>\n      <td>...</td>\n    </tr>\n    <tr>\n      <th>105</th>\n      <td>6.250000</td>\n      <td>39.633333</td>\n      <td>1.966667</td>\n      <td>4.817500</td>\n      <td>7.861667</td>\n      <td>26.009842</td>\n      <td>7.455556</td>\n      <td>38.100000</td>\n      <td>2.594444</td>\n      <td>6.646667</td>\n      <td>...</td>\n      <td>2.857500</td>\n      <td>5.095000</td>\n      <td>7.332500</td>\n      <td>21.734581</td>\n      <td>1.681818</td>\n      <td>67.300000</td>\n      <td>3.049091</td>\n      <td>5.803636</td>\n      <td>8.612727</td>\n      <td>21.566973</td>\n    </tr>\n    <tr>\n      <th>106</th>\n      <td>5.420000</td>\n      <td>41.410000</td>\n      <td>2.431000</td>\n      <td>6.259000</td>\n      <td>10.376000</td>\n      <td>29.091030</td>\n      <td>5.616667</td>\n      <td>43.233333</td>\n      <td>1.573333</td>\n      <td>3.716667</td>\n      <td>...</td>\n      <td>2.594444</td>\n      <td>6.646667</td>\n      <td>11.003333</td>\n      <td>33.120000</td>\n      <td>6.940000</td>\n      <td>44.290000</td>\n      <td>2.734000</td>\n      <td>6.005000</td>\n      <td>9.448000</td>\n      <td>31.170673</td>\n    </tr>\n    <tr>\n      <th>107</th>\n      <td>4.445455</td>\n      <td>45.690909</td>\n      <td>2.440909</td>\n      <td>5.866364</td>\n      <td>9.520000</td>\n      <td>17.418196</td>\n      <td>4.300000</td>\n      <td>46.260000</td>\n      <td>2.158000</td>\n      <td>3.974000</td>\n      <td>...</td>\n      <td>1.573333</td>\n      <td>3.716667</td>\n      <td>5.995833</td>\n      <td>30.633865</td>\n      <td>5.309091</td>\n      <td>41.445455</td>\n      <td>2.524545</td>\n      <td>6.790909</td>\n      <td>11.402727</td>\n      <td>29.723444</td>\n    </tr>\n    <tr>\n      <th>108</th>\n      <td>4.360000</td>\n      <td>46.810000</td>\n      <td>1.817000</td>\n      <td>5.143000</td>\n      <td>8.756000</td>\n      <td>19.513195</td>\n      <td>4.420000</td>\n      <td>45.480000</td>\n      <td>2.235000</td>\n      <td>4.906000</td>\n      <td>...</td>\n      <td>2.158000</td>\n      <td>3.974000</td>\n      <td>5.808000</td>\n      <td>20.532627</td>\n      <td>4.454545</td>\n      <td>44.472727</td>\n      <td>2.246364</td>\n      <td>6.294545</td>\n      <td>10.689091</td>\n      <td>26.525429</td>\n    </tr>\n    <tr>\n      <th>109</th>\n      <td>3.758333</td>\n      <td>49.200000</td>\n      <td>2.260000</td>\n      <td>5.189167</td>\n      <td>8.295833</td>\n      <td>16.343367</td>\n      <td>4.100000</td>\n      <td>49.272727</td>\n      <td>1.789091</td>\n      <td>4.199091</td>\n      <td>...</td>\n      <td>2.235000</td>\n      <td>4.906000</td>\n      <td>7.715000</td>\n      <td>17.496150</td>\n      <td>4.490000</td>\n      <td>44.840000</td>\n      <td>2.110000</td>\n      <td>6.383000</td>\n      <td>11.052000</td>\n      <td>17.148247</td>\n    </tr>\n  </tbody>\n</table>\n<p>110 rows × 36 columns</p>\n</div>"
     },
     "metadata": {},
     "execution_count": 12
    }
   ],
   "source": [
    "X_train"
   ]
  },
  {
   "cell_type": "code",
   "execution_count": 36,
   "metadata": {},
   "outputs": [
    {
     "output_type": "execute_result",
     "data": {
      "text/plain": [
       "110    4.818182\n",
       "111    8.465455\n",
       "112    8.236667\n",
       "113    8.873333\n",
       "114    4.707500\n",
       "115    5.215833\n",
       "116    8.486250\n",
       "117    5.630000\n",
       "118    8.113333\n",
       "119    8.003333\n",
       "120    7.750909\n",
       "121    7.355833\n",
       "122    6.969167\n",
       "123    5.636364\n",
       "124    7.782500\n",
       "125    9.465000\n",
       "126    8.025000\n",
       "127    6.453000\n",
       "128    7.773636\n",
       "129    5.475556\n",
       "130    4.786250\n",
       "131    5.369000\n",
       "132    3.553750\n",
       "133    4.190909\n",
       "134    5.385000\n",
       "135    3.560000\n",
       "136    6.740000\n",
       "137    9.065833\n",
       "Name: PM2.5, dtype: float64"
      ]
     },
     "metadata": {},
     "execution_count": 36
    }
   ],
   "source": [
    "y_true1"
   ]
  },
  {
   "source": [
    "### PM 2.5"
   ],
   "cell_type": "markdown",
   "metadata": {}
  },
  {
   "cell_type": "code",
   "execution_count": 13,
   "metadata": {},
   "outputs": [],
   "source": [
    "from sklearn.model_selection import train_test_split\n",
    "from sklearn.preprocessing import StandardScaler\n",
    "sc = StandardScaler()\n",
    "X_train = sc.fit_transform(X_train)\n",
    "X_test = sc.transform(X_test)"
   ]
  },
  {
   "cell_type": "code",
   "execution_count": 28,
   "metadata": {},
   "outputs": [],
   "source": [
    "input_layer = Input(shape=(X.shape[1],))\n",
    "rnn_layer = tf.keras.layers.SimpleRNN(128)\n",
    "dense_layer_1 = Dense(100, activation='relu')(input_layer)\n",
    "dense_layer_2 = Dense(50, activation='relu')(dense_layer_1)\n",
    "dense_layer_3 = Dense(25, activation='relu')(dense_layer_2)\n",
    "output = Dense(1)(dense_layer_3)\n",
    "\n",
    "rnn_model = Model(inputs=input_layer, outputs=output)\n",
    "rnn_model.compile(loss=\"mean_squared_error\" , optimizer=\"adam\", metrics=[\"mean_squared_error\"])"
   ]
  },
  {
   "cell_type": "code",
   "execution_count": 29,
   "metadata": {
    "tags": []
   },
   "outputs": [
    {
     "output_type": "stream",
     "name": "stdout",
     "text": [
      "Epoch 1/100\n",
      "110/110 [==============================] - 0s 2ms/sample - loss: 37.1338 - mean_squared_error: 37.1338\n",
      "Epoch 2/100\n",
      "110/110 [==============================] - 0s 946us/sample - loss: 9.4010 - mean_squared_error: 9.4010\n",
      "Epoch 3/100\n",
      "110/110 [==============================] - 0s 1ms/sample - loss: 7.8617 - mean_squared_error: 7.8617\n",
      "Epoch 4/100\n",
      "110/110 [==============================] - 0s 991us/sample - loss: 7.0368 - mean_squared_error: 7.0368\n",
      "Epoch 5/100\n",
      "110/110 [==============================] - 0s 1ms/sample - loss: 6.4347 - mean_squared_error: 6.4347\n",
      "Epoch 6/100\n",
      "110/110 [==============================] - 0s 2ms/sample - loss: 6.1973 - mean_squared_error: 6.1973\n",
      "Epoch 7/100\n",
      "110/110 [==============================] - 0s 2ms/sample - loss: 5.2656 - mean_squared_error: 5.2656\n",
      "Epoch 8/100\n",
      "110/110 [==============================] - 0s 2ms/sample - loss: 4.2387 - mean_squared_error: 4.2387\n",
      "Epoch 9/100\n",
      "110/110 [==============================] - 0s 2ms/sample - loss: 3.6731 - mean_squared_error: 3.6731\n",
      "Epoch 10/100\n",
      "110/110 [==============================] - 0s 1ms/sample - loss: 3.8634 - mean_squared_error: 3.8634\n",
      "Epoch 11/100\n",
      "110/110 [==============================] - 0s 1ms/sample - loss: 3.2493 - mean_squared_error: 3.2493\n",
      "Epoch 12/100\n",
      "110/110 [==============================] - 0s 1ms/sample - loss: 2.9102 - mean_squared_error: 2.9102\n",
      "Epoch 13/100\n",
      "110/110 [==============================] - 0s 1ms/sample - loss: 2.3449 - mean_squared_error: 2.3449\n",
      "Epoch 14/100\n",
      "110/110 [==============================] - 0s 1ms/sample - loss: 2.1541 - mean_squared_error: 2.1541\n",
      "Epoch 15/100\n",
      "110/110 [==============================] - 0s 1ms/sample - loss: 3.0695 - mean_squared_error: 3.0695\n",
      "Epoch 16/100\n",
      "110/110 [==============================] - 0s 1ms/sample - loss: 2.5788 - mean_squared_error: 2.5788\n",
      "Epoch 17/100\n",
      "110/110 [==============================] - 0s 1ms/sample - loss: 1.8140 - mean_squared_error: 1.8140\n",
      "Epoch 18/100\n",
      "110/110 [==============================] - 0s 2ms/sample - loss: 1.3392 - mean_squared_error: 1.3392\n",
      "Epoch 19/100\n",
      "110/110 [==============================] - 0s 2ms/sample - loss: 1.4093 - mean_squared_error: 1.4093\n",
      "Epoch 20/100\n",
      "110/110 [==============================] - 0s 2ms/sample - loss: 1.2509 - mean_squared_error: 1.2509\n",
      "Epoch 21/100\n",
      "110/110 [==============================] - 0s 2ms/sample - loss: 1.0259 - mean_squared_error: 1.0259\n",
      "Epoch 22/100\n",
      "110/110 [==============================] - 0s 1ms/sample - loss: 0.9632 - mean_squared_error: 0.9632\n",
      "Epoch 23/100\n",
      "110/110 [==============================] - 0s 1ms/sample - loss: 0.6734 - mean_squared_error: 0.6734\n",
      "Epoch 24/100\n",
      "110/110 [==============================] - 0s 1ms/sample - loss: 0.7295 - mean_squared_error: 0.7295\n",
      "Epoch 25/100\n",
      "110/110 [==============================] - 0s 1ms/sample - loss: 1.2428 - mean_squared_error: 1.2428\n",
      "Epoch 26/100\n",
      "110/110 [==============================] - 0s 1ms/sample - loss: 1.1385 - mean_squared_error: 1.1385\n",
      "Epoch 27/100\n",
      "110/110 [==============================] - 0s 1ms/sample - loss: 0.9967 - mean_squared_error: 0.9967\n",
      "Epoch 28/100\n",
      "110/110 [==============================] - 0s 1ms/sample - loss: 1.3771 - mean_squared_error: 1.3771\n",
      "Epoch 29/100\n",
      "110/110 [==============================] - 0s 1ms/sample - loss: 1.7642 - mean_squared_error: 1.7642\n",
      "Epoch 30/100\n",
      "110/110 [==============================] - 0s 2ms/sample - loss: 1.8945 - mean_squared_error: 1.8945\n",
      "Epoch 31/100\n",
      "110/110 [==============================] - 0s 2ms/sample - loss: 0.6960 - mean_squared_error: 0.6960\n",
      "Epoch 32/100\n",
      "110/110 [==============================] - 0s 1ms/sample - loss: 0.4624 - mean_squared_error: 0.4624\n",
      "Epoch 33/100\n",
      "110/110 [==============================] - 0s 1ms/sample - loss: 0.2252 - mean_squared_error: 0.2252\n",
      "Epoch 34/100\n",
      "110/110 [==============================] - 0s 1ms/sample - loss: 0.1697 - mean_squared_error: 0.1697\n",
      "Epoch 35/100\n",
      "110/110 [==============================] - 0s 1ms/sample - loss: 0.2008 - mean_squared_error: 0.2008\n",
      "Epoch 36/100\n",
      "110/110 [==============================] - 0s 1ms/sample - loss: 0.2128 - mean_squared_error: 0.2128\n",
      "Epoch 37/100\n",
      "110/110 [==============================] - 0s 1ms/sample - loss: 0.2954 - mean_squared_error: 0.2954\n",
      "Epoch 38/100\n",
      "110/110 [==============================] - 0s 1ms/sample - loss: 0.4404 - mean_squared_error: 0.4404\n",
      "Epoch 39/100\n",
      "110/110 [==============================] - 0s 2ms/sample - loss: 0.7130 - mean_squared_error: 0.7130\n",
      "Epoch 40/100\n",
      "110/110 [==============================] - 0s 2ms/sample - loss: 1.0441 - mean_squared_error: 1.0441\n",
      "Epoch 41/100\n",
      "110/110 [==============================] - 0s 2ms/sample - loss: 1.5190 - mean_squared_error: 1.5190\n",
      "Epoch 42/100\n",
      "110/110 [==============================] - 0s 2ms/sample - loss: 0.8845 - mean_squared_error: 0.8845\n",
      "Epoch 43/100\n",
      "110/110 [==============================] - 0s 1ms/sample - loss: 1.3308 - mean_squared_error: 1.3308\n",
      "Epoch 44/100\n",
      "110/110 [==============================] - 0s 1ms/sample - loss: 0.8073 - mean_squared_error: 0.8073\n",
      "Epoch 45/100\n",
      "110/110 [==============================] - 0s 1ms/sample - loss: 0.4756 - mean_squared_error: 0.4756\n",
      "Epoch 46/100\n",
      "110/110 [==============================] - 0s 1ms/sample - loss: 0.8654 - mean_squared_error: 0.8654\n",
      "Epoch 47/100\n",
      "110/110 [==============================] - 0s 2ms/sample - loss: 0.4700 - mean_squared_error: 0.4700\n",
      "Epoch 48/100\n",
      "110/110 [==============================] - 0s 2ms/sample - loss: 0.5295 - mean_squared_error: 0.5295\n",
      "Epoch 49/100\n",
      "110/110 [==============================] - 0s 2ms/sample - loss: 0.4306 - mean_squared_error: 0.4306\n",
      "Epoch 50/100\n",
      "110/110 [==============================] - 0s 2ms/sample - loss: 0.4516 - mean_squared_error: 0.4516\n",
      "Epoch 51/100\n",
      "110/110 [==============================] - 0s 3ms/sample - loss: 0.8443 - mean_squared_error: 0.8443\n",
      "Epoch 52/100\n",
      "110/110 [==============================] - 0s 3ms/sample - loss: 0.7413 - mean_squared_error: 0.7413\n",
      "Epoch 53/100\n",
      "110/110 [==============================] - 0s 2ms/sample - loss: 0.5044 - mean_squared_error: 0.5044\n",
      "Epoch 54/100\n",
      "110/110 [==============================] - 0s 2ms/sample - loss: 0.3914 - mean_squared_error: 0.3914\n",
      "Epoch 55/100\n",
      "110/110 [==============================] - 0s 1ms/sample - loss: 0.1805 - mean_squared_error: 0.1805\n",
      "Epoch 56/100\n",
      "110/110 [==============================] - 0s 1ms/sample - loss: 0.1444 - mean_squared_error: 0.1444\n",
      "Epoch 57/100\n",
      "110/110 [==============================] - 0s 1ms/sample - loss: 0.0920 - mean_squared_error: 0.0920\n",
      "Epoch 58/100\n",
      "110/110 [==============================] - 0s 2ms/sample - loss: 0.0680 - mean_squared_error: 0.0680\n",
      "Epoch 59/100\n",
      "110/110 [==============================] - 0s 1ms/sample - loss: 0.0732 - mean_squared_error: 0.0732\n",
      "Epoch 60/100\n",
      "110/110 [==============================] - 0s 1ms/sample - loss: 0.0971 - mean_squared_error: 0.0971\n",
      "Epoch 61/100\n",
      "110/110 [==============================] - 0s 2ms/sample - loss: 0.1481 - mean_squared_error: 0.1481\n",
      "Epoch 62/100\n",
      "110/110 [==============================] - 0s 2ms/sample - loss: 0.2287 - mean_squared_error: 0.2287\n",
      "Epoch 63/100\n",
      "110/110 [==============================] - 0s 1ms/sample - loss: 0.3668 - mean_squared_error: 0.3668\n",
      "Epoch 64/100\n",
      "110/110 [==============================] - 0s 1ms/sample - loss: 0.6141 - mean_squared_error: 0.6141\n",
      "Epoch 65/100\n",
      "110/110 [==============================] - 0s 1ms/sample - loss: 0.7796 - mean_squared_error: 0.7796\n",
      "Epoch 66/100\n",
      "110/110 [==============================] - 0s 1ms/sample - loss: 1.4245 - mean_squared_error: 1.4245\n",
      "Epoch 67/100\n",
      "110/110 [==============================] - 0s 1ms/sample - loss: 0.7033 - mean_squared_error: 0.7033\n",
      "Epoch 68/100\n",
      "110/110 [==============================] - 0s 1ms/sample - loss: 0.5467 - mean_squared_error: 0.5467\n",
      "Epoch 69/100\n",
      "110/110 [==============================] - 0s 1ms/sample - loss: 0.2424 - mean_squared_error: 0.2424\n",
      "Epoch 70/100\n",
      "110/110 [==============================] - 0s 1ms/sample - loss: 0.1509 - mean_squared_error: 0.1509\n",
      "Epoch 71/100\n",
      "110/110 [==============================] - 0s 2ms/sample - loss: 0.1262 - mean_squared_error: 0.1262\n",
      "Epoch 72/100\n",
      "110/110 [==============================] - 0s 1ms/sample - loss: 0.1430 - mean_squared_error: 0.1430\n",
      "Epoch 73/100\n",
      "110/110 [==============================] - 0s 2ms/sample - loss: 0.0966 - mean_squared_error: 0.0966\n",
      "Epoch 74/100\n",
      "110/110 [==============================] - 0s 1ms/sample - loss: 0.1596 - mean_squared_error: 0.1596\n",
      "Epoch 75/100\n",
      "110/110 [==============================] - 0s 1ms/sample - loss: 0.7499 - mean_squared_error: 0.7499\n",
      "Epoch 76/100\n",
      "110/110 [==============================] - 0s 2ms/sample - loss: 2.4052 - mean_squared_error: 2.4052\n",
      "Epoch 77/100\n",
      "110/110 [==============================] - 0s 1ms/sample - loss: 1.0279 - mean_squared_error: 1.0279\n",
      "Epoch 78/100\n",
      "110/110 [==============================] - 0s 1ms/sample - loss: 0.8136 - mean_squared_error: 0.8136\n",
      "Epoch 79/100\n",
      "110/110 [==============================] - 0s 1ms/sample - loss: 0.2598 - mean_squared_error: 0.2598\n",
      "Epoch 80/100\n",
      "110/110 [==============================] - 0s 1ms/sample - loss: 0.2714 - mean_squared_error: 0.2714\n",
      "Epoch 81/100\n",
      "110/110 [==============================] - 0s 1ms/sample - loss: 0.0932 - mean_squared_error: 0.0932\n",
      "Epoch 82/100\n",
      "110/110 [==============================] - 0s 1ms/sample - loss: 0.0706 - mean_squared_error: 0.0706\n",
      "Epoch 83/100\n",
      "110/110 [==============================] - 0s 1ms/sample - loss: 0.0607 - mean_squared_error: 0.0607\n",
      "Epoch 84/100\n",
      "110/110 [==============================] - 0s 2ms/sample - loss: 0.0429 - mean_squared_error: 0.0429\n",
      "Epoch 85/100\n",
      "110/110 [==============================] - 0s 1ms/sample - loss: 0.1029 - mean_squared_error: 0.1029\n",
      "Epoch 86/100\n",
      "110/110 [==============================] - 0s 1ms/sample - loss: 0.2453 - mean_squared_error: 0.2453\n",
      "Epoch 87/100\n",
      "110/110 [==============================] - 0s 1ms/sample - loss: 0.3600 - mean_squared_error: 0.3600\n",
      "Epoch 88/100\n",
      "110/110 [==============================] - 0s 1ms/sample - loss: 0.6003 - mean_squared_error: 0.6003\n",
      "Epoch 89/100\n",
      "110/110 [==============================] - 0s 1ms/sample - loss: 0.7157 - mean_squared_error: 0.7157\n",
      "Epoch 90/100\n",
      "110/110 [==============================] - 0s 2ms/sample - loss: 0.5503 - mean_squared_error: 0.5503\n",
      "Epoch 91/100\n",
      "110/110 [==============================] - 0s 1ms/sample - loss: 0.4825 - mean_squared_error: 0.4825\n",
      "Epoch 92/100\n",
      "110/110 [==============================] - 0s 1ms/sample - loss: 0.5887 - mean_squared_error: 0.5887\n",
      "Epoch 93/100\n",
      "110/110 [==============================] - 0s 2ms/sample - loss: 0.5398 - mean_squared_error: 0.5398\n",
      "Epoch 94/100\n",
      "110/110 [==============================] - 0s 1ms/sample - loss: 0.3461 - mean_squared_error: 0.3461\n",
      "Epoch 95/100\n",
      "110/110 [==============================] - 0s 1ms/sample - loss: 0.3031 - mean_squared_error: 0.3031\n",
      "Epoch 96/100\n",
      "110/110 [==============================] - 0s 2ms/sample - loss: 0.2779 - mean_squared_error: 0.2779\n",
      "Epoch 97/100\n",
      "110/110 [==============================] - 0s 2ms/sample - loss: 0.1824 - mean_squared_error: 0.1824\n",
      "Epoch 98/100\n",
      "110/110 [==============================] - 0s 2ms/sample - loss: 0.1515 - mean_squared_error: 0.1515\n",
      "Epoch 99/100\n",
      "110/110 [==============================] - 0s 1ms/sample - loss: 0.1459 - mean_squared_error: 0.1459\n",
      "Epoch 100/100\n",
      "110/110 [==============================] - 0s 3ms/sample - loss: 0.2165 - mean_squared_error: 0.2165\n"
     ]
    }
   ],
   "source": [
    "history = rnn_model.fit(X_train, y_train1, batch_size=1, epochs=100, verbose=1, validation_split=0)"
   ]
  },
  {
   "cell_type": "code",
   "execution_count": 30,
   "metadata": {},
   "outputs": [
    {
     "output_type": "stream",
     "name": "stdout",
     "text": [
      "0.511637113722062\n",
      "2.1659926863134102\n"
     ]
    }
   ],
   "source": [
    "from sklearn.metrics import mean_squared_error\n",
    "from math import sqrt\n",
    "\n",
    "pred_train = rnn_model.predict(X_train)\n",
    "print(np.sqrt(mean_squared_error(y_train1,pred_train)))\n",
    "\n",
    "pred = rnn_model.predict(X_test)\n",
    "print(np.sqrt(mean_squared_error(y_true1,pred)))\n",
    "\n",
    "y_pred1 = pred"
   ]
  },
  {
   "cell_type": "code",
   "execution_count": 31,
   "metadata": {},
   "outputs": [
    {
     "output_type": "stream",
     "name": "stdout",
     "text": [
      "1.716022118467961\n"
     ]
    }
   ],
   "source": [
    "from sklearn.metrics import mean_absolute_error\n",
    "pred = rnn_model.predict(X_test)\n",
    "print(mean_absolute_error(y_true1,pred))\n"
   ]
  },
  {
   "cell_type": "code",
   "execution_count": 32,
   "metadata": {},
   "outputs": [
    {
     "output_type": "display_data",
     "data": {
      "text/plain": "<Figure size 432x288 with 1 Axes>",
      "image/svg+xml": "<?xml version=\"1.0\" encoding=\"utf-8\" standalone=\"no\"?>\r\n<!DOCTYPE svg PUBLIC \"-//W3C//DTD SVG 1.1//EN\"\r\n  \"http://www.w3.org/Graphics/SVG/1.1/DTD/svg11.dtd\">\r\n<svg height=\"248.518125pt\" version=\"1.1\" viewBox=\"0 0 368.925 248.518125\" width=\"368.925pt\" xmlns=\"http://www.w3.org/2000/svg\" xmlns:xlink=\"http://www.w3.org/1999/xlink\">\r\n <metadata>\r\n  <rdf:RDF xmlns:cc=\"http://creativecommons.org/ns#\" xmlns:dc=\"http://purl.org/dc/elements/1.1/\" xmlns:rdf=\"http://www.w3.org/1999/02/22-rdf-syntax-ns#\">\r\n   <cc:Work>\r\n    <dc:type rdf:resource=\"http://purl.org/dc/dcmitype/StillImage\"/>\r\n    <dc:date>2021-05-03T14:51:25.676716</dc:date>\r\n    <dc:format>image/svg+xml</dc:format>\r\n    <dc:creator>\r\n     <cc:Agent>\r\n      <dc:title>Matplotlib v3.4.1, https://matplotlib.org/</dc:title>\r\n     </cc:Agent>\r\n    </dc:creator>\r\n   </cc:Work>\r\n  </rdf:RDF>\r\n </metadata>\r\n <defs>\r\n  <style type=\"text/css\">*{stroke-linecap:butt;stroke-linejoin:round;}</style>\r\n </defs>\r\n <g id=\"figure_1\">\r\n  <g id=\"patch_1\">\r\n   <path d=\"M -0 248.518125 \r\nL 368.925 248.518125 \r\nL 368.925 0 \r\nL -0 0 \r\nz\r\n\" style=\"fill:none;\"/>\r\n  </g>\r\n  <g id=\"axes_1\">\r\n   <g id=\"patch_2\">\r\n    <path d=\"M 26.925 224.64 \r\nL 361.725 224.64 \r\nL 361.725 7.2 \r\nL 26.925 7.2 \r\nz\r\n\" style=\"fill:#ffffff;\"/>\r\n   </g>\r\n   <g id=\"matplotlib.axis_1\">\r\n    <g id=\"xtick_1\">\r\n     <g id=\"line2d_1\">\r\n      <defs>\r\n       <path d=\"M 0 0 \r\nL 0 3.5 \r\n\" id=\"mfc34bf287b\" style=\"stroke:#000000;stroke-width:0.8;\"/>\r\n      </defs>\r\n      <g>\r\n       <use style=\"stroke:#000000;stroke-width:0.8;\" x=\"42.143182\" xlink:href=\"#mfc34bf287b\" y=\"224.64\"/>\r\n      </g>\r\n     </g>\r\n     <g id=\"text_1\">\r\n      <!-- 0 -->\r\n      <g transform=\"translate(38.961932 239.238438)scale(0.1 -0.1)\">\r\n       <defs>\r\n        <path d=\"M 2034 4250 \r\nQ 1547 4250 1301 3770 \r\nQ 1056 3291 1056 2328 \r\nQ 1056 1369 1301 889 \r\nQ 1547 409 2034 409 \r\nQ 2525 409 2770 889 \r\nQ 3016 1369 3016 2328 \r\nQ 3016 3291 2770 3770 \r\nQ 2525 4250 2034 4250 \r\nz\r\nM 2034 4750 \r\nQ 2819 4750 3233 4129 \r\nQ 3647 3509 3647 2328 \r\nQ 3647 1150 3233 529 \r\nQ 2819 -91 2034 -91 \r\nQ 1250 -91 836 529 \r\nQ 422 1150 422 2328 \r\nQ 422 3509 836 4129 \r\nQ 1250 4750 2034 4750 \r\nz\r\n\" id=\"DejaVuSans-30\" transform=\"scale(0.015625)\"/>\r\n       </defs>\r\n       <use xlink:href=\"#DejaVuSans-30\"/>\r\n      </g>\r\n     </g>\r\n    </g>\r\n    <g id=\"xtick_2\">\r\n     <g id=\"line2d_2\">\r\n      <g>\r\n       <use style=\"stroke:#000000;stroke-width:0.8;\" x=\"98.506818\" xlink:href=\"#mfc34bf287b\" y=\"224.64\"/>\r\n      </g>\r\n     </g>\r\n     <g id=\"text_2\">\r\n      <!-- 5 -->\r\n      <g transform=\"translate(95.325568 239.238438)scale(0.1 -0.1)\">\r\n       <defs>\r\n        <path d=\"M 691 4666 \r\nL 3169 4666 \r\nL 3169 4134 \r\nL 1269 4134 \r\nL 1269 2991 \r\nQ 1406 3038 1543 3061 \r\nQ 1681 3084 1819 3084 \r\nQ 2600 3084 3056 2656 \r\nQ 3513 2228 3513 1497 \r\nQ 3513 744 3044 326 \r\nQ 2575 -91 1722 -91 \r\nQ 1428 -91 1123 -41 \r\nQ 819 9 494 109 \r\nL 494 744 \r\nQ 775 591 1075 516 \r\nQ 1375 441 1709 441 \r\nQ 2250 441 2565 725 \r\nQ 2881 1009 2881 1497 \r\nQ 2881 1984 2565 2268 \r\nQ 2250 2553 1709 2553 \r\nQ 1456 2553 1204 2497 \r\nQ 953 2441 691 2322 \r\nL 691 4666 \r\nz\r\n\" id=\"DejaVuSans-35\" transform=\"scale(0.015625)\"/>\r\n       </defs>\r\n       <use xlink:href=\"#DejaVuSans-35\"/>\r\n      </g>\r\n     </g>\r\n    </g>\r\n    <g id=\"xtick_3\">\r\n     <g id=\"line2d_3\">\r\n      <g>\r\n       <use style=\"stroke:#000000;stroke-width:0.8;\" x=\"154.870455\" xlink:href=\"#mfc34bf287b\" y=\"224.64\"/>\r\n      </g>\r\n     </g>\r\n     <g id=\"text_3\">\r\n      <!-- 10 -->\r\n      <g transform=\"translate(148.507955 239.238438)scale(0.1 -0.1)\">\r\n       <defs>\r\n        <path d=\"M 794 531 \r\nL 1825 531 \r\nL 1825 4091 \r\nL 703 3866 \r\nL 703 4441 \r\nL 1819 4666 \r\nL 2450 4666 \r\nL 2450 531 \r\nL 3481 531 \r\nL 3481 0 \r\nL 794 0 \r\nL 794 531 \r\nz\r\n\" id=\"DejaVuSans-31\" transform=\"scale(0.015625)\"/>\r\n       </defs>\r\n       <use xlink:href=\"#DejaVuSans-31\"/>\r\n       <use x=\"63.623047\" xlink:href=\"#DejaVuSans-30\"/>\r\n      </g>\r\n     </g>\r\n    </g>\r\n    <g id=\"xtick_4\">\r\n     <g id=\"line2d_4\">\r\n      <g>\r\n       <use style=\"stroke:#000000;stroke-width:0.8;\" x=\"211.234091\" xlink:href=\"#mfc34bf287b\" y=\"224.64\"/>\r\n      </g>\r\n     </g>\r\n     <g id=\"text_4\">\r\n      <!-- 15 -->\r\n      <g transform=\"translate(204.871591 239.238438)scale(0.1 -0.1)\">\r\n       <use xlink:href=\"#DejaVuSans-31\"/>\r\n       <use x=\"63.623047\" xlink:href=\"#DejaVuSans-35\"/>\r\n      </g>\r\n     </g>\r\n    </g>\r\n    <g id=\"xtick_5\">\r\n     <g id=\"line2d_5\">\r\n      <g>\r\n       <use style=\"stroke:#000000;stroke-width:0.8;\" x=\"267.597727\" xlink:href=\"#mfc34bf287b\" y=\"224.64\"/>\r\n      </g>\r\n     </g>\r\n     <g id=\"text_5\">\r\n      <!-- 20 -->\r\n      <g transform=\"translate(261.235227 239.238438)scale(0.1 -0.1)\">\r\n       <defs>\r\n        <path d=\"M 1228 531 \r\nL 3431 531 \r\nL 3431 0 \r\nL 469 0 \r\nL 469 531 \r\nQ 828 903 1448 1529 \r\nQ 2069 2156 2228 2338 \r\nQ 2531 2678 2651 2914 \r\nQ 2772 3150 2772 3378 \r\nQ 2772 3750 2511 3984 \r\nQ 2250 4219 1831 4219 \r\nQ 1534 4219 1204 4116 \r\nQ 875 4013 500 3803 \r\nL 500 4441 \r\nQ 881 4594 1212 4672 \r\nQ 1544 4750 1819 4750 \r\nQ 2544 4750 2975 4387 \r\nQ 3406 4025 3406 3419 \r\nQ 3406 3131 3298 2873 \r\nQ 3191 2616 2906 2266 \r\nQ 2828 2175 2409 1742 \r\nQ 1991 1309 1228 531 \r\nz\r\n\" id=\"DejaVuSans-32\" transform=\"scale(0.015625)\"/>\r\n       </defs>\r\n       <use xlink:href=\"#DejaVuSans-32\"/>\r\n       <use x=\"63.623047\" xlink:href=\"#DejaVuSans-30\"/>\r\n      </g>\r\n     </g>\r\n    </g>\r\n    <g id=\"xtick_6\">\r\n     <g id=\"line2d_6\">\r\n      <g>\r\n       <use style=\"stroke:#000000;stroke-width:0.8;\" x=\"323.961364\" xlink:href=\"#mfc34bf287b\" y=\"224.64\"/>\r\n      </g>\r\n     </g>\r\n     <g id=\"text_6\">\r\n      <!-- 25 -->\r\n      <g transform=\"translate(317.598864 239.238438)scale(0.1 -0.1)\">\r\n       <use xlink:href=\"#DejaVuSans-32\"/>\r\n       <use x=\"63.623047\" xlink:href=\"#DejaVuSans-35\"/>\r\n      </g>\r\n     </g>\r\n    </g>\r\n   </g>\r\n   <g id=\"matplotlib.axis_2\">\r\n    <g id=\"ytick_1\">\r\n     <g id=\"line2d_7\">\r\n      <defs>\r\n       <path d=\"M 0 0 \r\nL -3.5 0 \r\n\" id=\"m25ca664b12\" style=\"stroke:#000000;stroke-width:0.8;\"/>\r\n      </defs>\r\n      <g>\r\n       <use style=\"stroke:#000000;stroke-width:0.8;\" x=\"26.925\" xlink:href=\"#m25ca664b12\" y=\"200.591151\"/>\r\n      </g>\r\n     </g>\r\n     <g id=\"text_7\">\r\n      <!-- 4 -->\r\n      <g transform=\"translate(13.5625 204.39037)scale(0.1 -0.1)\">\r\n       <defs>\r\n        <path d=\"M 2419 4116 \r\nL 825 1625 \r\nL 2419 1625 \r\nL 2419 4116 \r\nz\r\nM 2253 4666 \r\nL 3047 4666 \r\nL 3047 1625 \r\nL 3713 1625 \r\nL 3713 1100 \r\nL 3047 1100 \r\nL 3047 0 \r\nL 2419 0 \r\nL 2419 1100 \r\nL 313 1100 \r\nL 313 1709 \r\nL 2253 4666 \r\nz\r\n\" id=\"DejaVuSans-34\" transform=\"scale(0.015625)\"/>\r\n       </defs>\r\n       <use xlink:href=\"#DejaVuSans-34\"/>\r\n      </g>\r\n     </g>\r\n    </g>\r\n    <g id=\"ytick_2\">\r\n     <g id=\"line2d_8\">\r\n      <g>\r\n       <use style=\"stroke:#000000;stroke-width:0.8;\" x=\"26.925\" xlink:href=\"#m25ca664b12\" y=\"174.363582\"/>\r\n      </g>\r\n     </g>\r\n     <g id=\"text_8\">\r\n      <!-- 5 -->\r\n      <g transform=\"translate(13.5625 178.162801)scale(0.1 -0.1)\">\r\n       <use xlink:href=\"#DejaVuSans-35\"/>\r\n      </g>\r\n     </g>\r\n    </g>\r\n    <g id=\"ytick_3\">\r\n     <g id=\"line2d_9\">\r\n      <g>\r\n       <use style=\"stroke:#000000;stroke-width:0.8;\" x=\"26.925\" xlink:href=\"#m25ca664b12\" y=\"148.136013\"/>\r\n      </g>\r\n     </g>\r\n     <g id=\"text_9\">\r\n      <!-- 6 -->\r\n      <g transform=\"translate(13.5625 151.935232)scale(0.1 -0.1)\">\r\n       <defs>\r\n        <path d=\"M 2113 2584 \r\nQ 1688 2584 1439 2293 \r\nQ 1191 2003 1191 1497 \r\nQ 1191 994 1439 701 \r\nQ 1688 409 2113 409 \r\nQ 2538 409 2786 701 \r\nQ 3034 994 3034 1497 \r\nQ 3034 2003 2786 2293 \r\nQ 2538 2584 2113 2584 \r\nz\r\nM 3366 4563 \r\nL 3366 3988 \r\nQ 3128 4100 2886 4159 \r\nQ 2644 4219 2406 4219 \r\nQ 1781 4219 1451 3797 \r\nQ 1122 3375 1075 2522 \r\nQ 1259 2794 1537 2939 \r\nQ 1816 3084 2150 3084 \r\nQ 2853 3084 3261 2657 \r\nQ 3669 2231 3669 1497 \r\nQ 3669 778 3244 343 \r\nQ 2819 -91 2113 -91 \r\nQ 1303 -91 875 529 \r\nQ 447 1150 447 2328 \r\nQ 447 3434 972 4092 \r\nQ 1497 4750 2381 4750 \r\nQ 2619 4750 2861 4703 \r\nQ 3103 4656 3366 4563 \r\nz\r\n\" id=\"DejaVuSans-36\" transform=\"scale(0.015625)\"/>\r\n       </defs>\r\n       <use xlink:href=\"#DejaVuSans-36\"/>\r\n      </g>\r\n     </g>\r\n    </g>\r\n    <g id=\"ytick_4\">\r\n     <g id=\"line2d_10\">\r\n      <g>\r\n       <use style=\"stroke:#000000;stroke-width:0.8;\" x=\"26.925\" xlink:href=\"#m25ca664b12\" y=\"121.908444\"/>\r\n      </g>\r\n     </g>\r\n     <g id=\"text_10\">\r\n      <!-- 7 -->\r\n      <g transform=\"translate(13.5625 125.707663)scale(0.1 -0.1)\">\r\n       <defs>\r\n        <path d=\"M 525 4666 \r\nL 3525 4666 \r\nL 3525 4397 \r\nL 1831 0 \r\nL 1172 0 \r\nL 2766 4134 \r\nL 525 4134 \r\nL 525 4666 \r\nz\r\n\" id=\"DejaVuSans-37\" transform=\"scale(0.015625)\"/>\r\n       </defs>\r\n       <use xlink:href=\"#DejaVuSans-37\"/>\r\n      </g>\r\n     </g>\r\n    </g>\r\n    <g id=\"ytick_5\">\r\n     <g id=\"line2d_11\">\r\n      <g>\r\n       <use style=\"stroke:#000000;stroke-width:0.8;\" x=\"26.925\" xlink:href=\"#m25ca664b12\" y=\"95.680875\"/>\r\n      </g>\r\n     </g>\r\n     <g id=\"text_11\">\r\n      <!-- 8 -->\r\n      <g transform=\"translate(13.5625 99.480094)scale(0.1 -0.1)\">\r\n       <defs>\r\n        <path d=\"M 2034 2216 \r\nQ 1584 2216 1326 1975 \r\nQ 1069 1734 1069 1313 \r\nQ 1069 891 1326 650 \r\nQ 1584 409 2034 409 \r\nQ 2484 409 2743 651 \r\nQ 3003 894 3003 1313 \r\nQ 3003 1734 2745 1975 \r\nQ 2488 2216 2034 2216 \r\nz\r\nM 1403 2484 \r\nQ 997 2584 770 2862 \r\nQ 544 3141 544 3541 \r\nQ 544 4100 942 4425 \r\nQ 1341 4750 2034 4750 \r\nQ 2731 4750 3128 4425 \r\nQ 3525 4100 3525 3541 \r\nQ 3525 3141 3298 2862 \r\nQ 3072 2584 2669 2484 \r\nQ 3125 2378 3379 2068 \r\nQ 3634 1759 3634 1313 \r\nQ 3634 634 3220 271 \r\nQ 2806 -91 2034 -91 \r\nQ 1263 -91 848 271 \r\nQ 434 634 434 1313 \r\nQ 434 1759 690 2068 \r\nQ 947 2378 1403 2484 \r\nz\r\nM 1172 3481 \r\nQ 1172 3119 1398 2916 \r\nQ 1625 2713 2034 2713 \r\nQ 2441 2713 2670 2916 \r\nQ 2900 3119 2900 3481 \r\nQ 2900 3844 2670 4047 \r\nQ 2441 4250 2034 4250 \r\nQ 1625 4250 1398 4047 \r\nQ 1172 3844 1172 3481 \r\nz\r\n\" id=\"DejaVuSans-38\" transform=\"scale(0.015625)\"/>\r\n       </defs>\r\n       <use xlink:href=\"#DejaVuSans-38\"/>\r\n      </g>\r\n     </g>\r\n    </g>\r\n    <g id=\"ytick_6\">\r\n     <g id=\"line2d_12\">\r\n      <g>\r\n       <use style=\"stroke:#000000;stroke-width:0.8;\" x=\"26.925\" xlink:href=\"#m25ca664b12\" y=\"69.453306\"/>\r\n      </g>\r\n     </g>\r\n     <g id=\"text_12\">\r\n      <!-- 9 -->\r\n      <g transform=\"translate(13.5625 73.252525)scale(0.1 -0.1)\">\r\n       <defs>\r\n        <path d=\"M 703 97 \r\nL 703 672 \r\nQ 941 559 1184 500 \r\nQ 1428 441 1663 441 \r\nQ 2288 441 2617 861 \r\nQ 2947 1281 2994 2138 \r\nQ 2813 1869 2534 1725 \r\nQ 2256 1581 1919 1581 \r\nQ 1219 1581 811 2004 \r\nQ 403 2428 403 3163 \r\nQ 403 3881 828 4315 \r\nQ 1253 4750 1959 4750 \r\nQ 2769 4750 3195 4129 \r\nQ 3622 3509 3622 2328 \r\nQ 3622 1225 3098 567 \r\nQ 2575 -91 1691 -91 \r\nQ 1453 -91 1209 -44 \r\nQ 966 3 703 97 \r\nz\r\nM 1959 2075 \r\nQ 2384 2075 2632 2365 \r\nQ 2881 2656 2881 3163 \r\nQ 2881 3666 2632 3958 \r\nQ 2384 4250 1959 4250 \r\nQ 1534 4250 1286 3958 \r\nQ 1038 3666 1038 3163 \r\nQ 1038 2656 1286 2365 \r\nQ 1534 2075 1959 2075 \r\nz\r\n\" id=\"DejaVuSans-39\" transform=\"scale(0.015625)\"/>\r\n       </defs>\r\n       <use xlink:href=\"#DejaVuSans-39\"/>\r\n      </g>\r\n     </g>\r\n    </g>\r\n    <g id=\"ytick_7\">\r\n     <g id=\"line2d_13\">\r\n      <g>\r\n       <use style=\"stroke:#000000;stroke-width:0.8;\" x=\"26.925\" xlink:href=\"#m25ca664b12\" y=\"43.225737\"/>\r\n      </g>\r\n     </g>\r\n     <g id=\"text_13\">\r\n      <!-- 10 -->\r\n      <g transform=\"translate(7.2 47.024956)scale(0.1 -0.1)\">\r\n       <use xlink:href=\"#DejaVuSans-31\"/>\r\n       <use x=\"63.623047\" xlink:href=\"#DejaVuSans-30\"/>\r\n      </g>\r\n     </g>\r\n    </g>\r\n    <g id=\"ytick_8\">\r\n     <g id=\"line2d_14\">\r\n      <g>\r\n       <use style=\"stroke:#000000;stroke-width:0.8;\" x=\"26.925\" xlink:href=\"#m25ca664b12\" y=\"16.998168\"/>\r\n      </g>\r\n     </g>\r\n     <g id=\"text_14\">\r\n      <!-- 11 -->\r\n      <g transform=\"translate(7.2 20.797387)scale(0.1 -0.1)\">\r\n       <use xlink:href=\"#DejaVuSans-31\"/>\r\n       <use x=\"63.623047\" xlink:href=\"#DejaVuSans-31\"/>\r\n      </g>\r\n     </g>\r\n    </g>\r\n   </g>\r\n   <g id=\"line2d_15\">\r\n    <path clip-path=\"url(#p430961594d)\" d=\"M 42.143182 179.132231 \r\nL 53.415909 83.473134 \r\nL 64.688636 89.473684 \r\nL 75.961364 72.775465 \r\nL 87.234091 182.035146 \r\nL 98.506818 168.702799 \r\nL 109.779545 82.92772 \r\nL 121.052273 157.840214 \r\nL 132.325 92.708418 \r\nL 143.597727 95.59345 \r\nL 154.870455 102.213924 \r\nL 166.143182 112.575801 \r\nL 177.415909 122.717128 \r\nL 188.688636 157.673311 \r\nL 199.961364 101.385372 \r\nL 211.234091 57.257487 \r\nL 222.506818 95.025186 \r\nL 233.779545 136.254925 \r\nL 245.052273 101.617843 \r\nL 256.325 161.890916 \r\nL 267.597727 179.969725 \r\nL 278.870455 164.685609 \r\nL 290.143182 212.295204 \r\nL 301.415909 195.58407 \r\nL 312.688636 164.265968 \r\nL 323.961364 212.131282 \r\nL 335.234091 128.727612 \r\nL 346.506818 67.726658 \r\n\" style=\"fill:none;stroke:#1f77b4;stroke-linecap:square;stroke-width:1.5;\"/>\r\n   </g>\r\n   <g id=\"line2d_16\">\r\n    <path clip-path=\"url(#p430961594d)\" d=\"M 42.143182 153.149943 \r\nL 53.415909 108.730528 \r\nL 64.688636 164.919715 \r\nL 75.961364 162.267834 \r\nL 87.234091 71.714342 \r\nL 98.506818 17.083636 \r\nL 109.779545 80.055605 \r\nL 121.052273 124.776847 \r\nL 132.325 66.615982 \r\nL 143.597727 108.678827 \r\nL 154.870455 77.007024 \r\nL 166.143182 150.585118 \r\nL 177.415909 153.324844 \r\nL 188.688636 147.320141 \r\nL 199.961364 155.09961 \r\nL 211.234091 107.613879 \r\nL 222.506818 122.813411 \r\nL 233.779545 159.292415 \r\nL 245.052273 71.335576 \r\nL 256.325 154.227047 \r\nL 267.597727 132.175562 \r\nL 278.870455 138.861544 \r\nL 290.143182 140.684872 \r\nL 301.415909 214.756364 \r\nL 312.688636 212.133997 \r\nL 323.961364 195.237951 \r\nL 335.234091 214.273134 \r\nL 346.506818 162.966472 \r\n\" style=\"fill:none;stroke:#ff7f0e;stroke-linecap:square;stroke-width:1.5;\"/>\r\n   </g>\r\n   <g id=\"patch_3\">\r\n    <path d=\"M 26.925 224.64 \r\nL 26.925 7.2 \r\n\" style=\"fill:none;stroke:#000000;stroke-linecap:square;stroke-linejoin:miter;stroke-width:0.8;\"/>\r\n   </g>\r\n   <g id=\"patch_4\">\r\n    <path d=\"M 361.725 224.64 \r\nL 361.725 7.2 \r\n\" style=\"fill:none;stroke:#000000;stroke-linecap:square;stroke-linejoin:miter;stroke-width:0.8;\"/>\r\n   </g>\r\n   <g id=\"patch_5\">\r\n    <path d=\"M 26.925 224.64 \r\nL 361.725 224.64 \r\n\" style=\"fill:none;stroke:#000000;stroke-linecap:square;stroke-linejoin:miter;stroke-width:0.8;\"/>\r\n   </g>\r\n   <g id=\"patch_6\">\r\n    <path d=\"M 26.925 7.2 \r\nL 361.725 7.2 \r\n\" style=\"fill:none;stroke:#000000;stroke-linecap:square;stroke-linejoin:miter;stroke-width:0.8;\"/>\r\n   </g>\r\n  </g>\r\n </g>\r\n <defs>\r\n  <clipPath id=\"p430961594d\">\r\n   <rect height=\"217.44\" width=\"334.8\" x=\"26.925\" y=\"7.2\"/>\r\n  </clipPath>\r\n </defs>\r\n</svg>\r\n",
      "image/png": "[encoded data removed]"
     },
     "metadata": {
      "needs_background": "light"
     }
    }
   ],
   "source": [
    "plt.plot(np.arange(len(y_true1)), y_true1)\n",
    "plt.plot(np.arange(len(y_pred1)), y_pred1)\n",
    "plt.show()"
   ]
  },
  {
   "source": [
    "### PM 10"
   ],
   "cell_type": "markdown",
   "metadata": {}
  },
  {
   "cell_type": "code",
   "execution_count": 33,
   "metadata": {},
   "outputs": [],
   "source": [
    "sc = StandardScaler()\n",
    "X_train = sc.fit_transform(X_train)\n",
    "X_test = sc.transform(X_test)"
   ]
  },
  {
   "cell_type": "code",
   "execution_count": 34,
   "metadata": {},
   "outputs": [],
   "source": [
    "input_layer = Input(shape=(X.shape[1],))\n",
    "dense_layer_1 = Dense(100, activation='relu')(input_layer)\n",
    "dense_layer_2 = Dense(50, activation='relu')(dense_layer_1)\n",
    "dense_layer_3 = Dense(25, activation='relu')(dense_layer_2)\n",
    "output = Dense(1)(dense_layer_3)\n",
    "\n",
    "model = Model(inputs=input_layer, outputs=output)\n",
    "model.compile(loss=\"mean_squared_error\" , optimizer=\"adam\", metrics=[\"mean_squared_error\"])"
   ]
  },
  {
   "cell_type": "code",
   "execution_count": 35,
   "metadata": {},
   "outputs": [
    {
     "output_type": "stream",
     "name": "stdout",
     "text": [
      "Epoch 1/100\n",
      "110/110 [==============================] - 0s 1ms/sample - loss: 10.5412 - mean_squared_error: 10.5412\n",
      "Epoch 2/100\n",
      "110/110 [==============================] - 0s 1ms/sample - loss: 4.8027 - mean_squared_error: 4.8027\n",
      "Epoch 3/100\n",
      "110/110 [==============================] - 0s 1ms/sample - loss: 1.6543 - mean_squared_error: 1.6543\n",
      "Epoch 4/100\n",
      "110/110 [==============================] - 0s 964us/sample - loss: 1.0620 - mean_squared_error: 1.0620\n",
      "Epoch 5/100\n",
      "110/110 [==============================] - 0s 1ms/sample - loss: 0.6406 - mean_squared_error: 0.6406\n",
      "Epoch 6/100\n",
      "110/110 [==============================] - 0s 1ms/sample - loss: 0.4396 - mean_squared_error: 0.4396\n",
      "Epoch 7/100\n",
      "110/110 [==============================] - 0s 1ms/sample - loss: 0.3525 - mean_squared_error: 0.3525\n",
      "Epoch 8/100\n",
      "110/110 [==============================] - 0s 1ms/sample - loss: 0.2913 - mean_squared_error: 0.2913\n",
      "Epoch 9/100\n",
      "110/110 [==============================] - 0s 2ms/sample - loss: 0.2369 - mean_squared_error: 0.2369\n",
      "Epoch 10/100\n",
      "110/110 [==============================] - 0s 2ms/sample - loss: 0.2513 - mean_squared_error: 0.2513\n",
      "Epoch 11/100\n",
      "110/110 [==============================] - 0s 1ms/sample - loss: 0.2532 - mean_squared_error: 0.2532\n",
      "Epoch 12/100\n",
      "110/110 [==============================] - 0s 1ms/sample - loss: 0.3509 - mean_squared_error: 0.3509\n",
      "Epoch 13/100\n",
      "110/110 [==============================] - 0s 1ms/sample - loss: 0.4398 - mean_squared_error: 0.4398\n",
      "Epoch 14/100\n",
      "110/110 [==============================] - 0s 1ms/sample - loss: 0.4660 - mean_squared_error: 0.4660\n",
      "Epoch 15/100\n",
      "110/110 [==============================] - 0s 991us/sample - loss: 0.5568 - mean_squared_error: 0.5568\n",
      "Epoch 16/100\n",
      "110/110 [==============================] - 0s 982us/sample - loss: 1.7989 - mean_squared_error: 1.7989\n",
      "Epoch 17/100\n",
      "110/110 [==============================] - 0s 936us/sample - loss: 0.8668 - mean_squared_error: 0.8667\n",
      "Epoch 18/100\n",
      "110/110 [==============================] - 0s 1ms/sample - loss: 0.6550 - mean_squared_error: 0.6550\n",
      "Epoch 19/100\n",
      "110/110 [==============================] - 0s 1ms/sample - loss: 0.4005 - mean_squared_error: 0.4005\n",
      "Epoch 20/100\n",
      "110/110 [==============================] - 0s 973us/sample - loss: 0.3771 - mean_squared_error: 0.3771\n",
      "Epoch 21/100\n",
      "110/110 [==============================] - 0s 882us/sample - loss: 0.3273 - mean_squared_error: 0.3273\n",
      "Epoch 22/100\n",
      "110/110 [==============================] - 0s 1ms/sample - loss: 0.3136 - mean_squared_error: 0.3136\n",
      "Epoch 23/100\n",
      "110/110 [==============================] - 0s 1ms/sample - loss: 0.2754 - mean_squared_error: 0.2754\n",
      "Epoch 24/100\n",
      "110/110 [==============================] - 0s 1ms/sample - loss: 0.6669 - mean_squared_error: 0.6669\n",
      "Epoch 25/100\n",
      "110/110 [==============================] - 0s 1ms/sample - loss: 0.5474 - mean_squared_error: 0.5474\n",
      "Epoch 26/100\n",
      "110/110 [==============================] - 0s 1ms/sample - loss: 0.5308 - mean_squared_error: 0.5308\n",
      "Epoch 27/100\n",
      "110/110 [==============================] - 0s 2ms/sample - loss: 0.3756 - mean_squared_error: 0.3756\n",
      "Epoch 28/100\n",
      "110/110 [==============================] - 0s 1ms/sample - loss: 0.3049 - mean_squared_error: 0.3049\n",
      "Epoch 29/100\n",
      "110/110 [==============================] - 0s 918us/sample - loss: 0.2707 - mean_squared_error: 0.2707\n",
      "Epoch 30/100\n",
      "110/110 [==============================] - 0s 991us/sample - loss: 0.1783 - mean_squared_error: 0.1783\n",
      "Epoch 31/100\n",
      "110/110 [==============================] - 0s 882us/sample - loss: 0.1884 - mean_squared_error: 0.1884\n",
      "Epoch 32/100\n",
      "110/110 [==============================] - 0s 1ms/sample - loss: 0.2499 - mean_squared_error: 0.2499\n",
      "Epoch 33/100\n",
      "110/110 [==============================] - 0s 1ms/sample - loss: 0.2657 - mean_squared_error: 0.2657\n",
      "Epoch 34/100\n",
      "110/110 [==============================] - 0s 1ms/sample - loss: 0.3074 - mean_squared_error: 0.3074\n",
      "Epoch 35/100\n",
      "110/110 [==============================] - 0s 2ms/sample - loss: 0.3064 - mean_squared_error: 0.3064\n",
      "Epoch 36/100\n",
      "110/110 [==============================] - 0s 1ms/sample - loss: 0.4602 - mean_squared_error: 0.4602\n",
      "Epoch 37/100\n",
      "110/110 [==============================] - 0s 1ms/sample - loss: 0.6210 - mean_squared_error: 0.6210\n",
      "Epoch 38/100\n",
      "110/110 [==============================] - 0s 1ms/sample - loss: 0.8538 - mean_squared_error: 0.8538\n",
      "Epoch 39/100\n",
      "110/110 [==============================] - 0s 1ms/sample - loss: 0.8067 - mean_squared_error: 0.8067\n",
      "Epoch 40/100\n",
      "110/110 [==============================] - 0s 1ms/sample - loss: 0.9703 - mean_squared_error: 0.9703\n",
      "Epoch 41/100\n",
      "110/110 [==============================] - 0s 2ms/sample - loss: 0.9192 - mean_squared_error: 0.9192\n",
      "Epoch 42/100\n",
      "110/110 [==============================] - 0s 2ms/sample - loss: 0.5724 - mean_squared_error: 0.5724\n",
      "Epoch 43/100\n",
      "110/110 [==============================] - 0s 2ms/sample - loss: 0.3687 - mean_squared_error: 0.3687\n",
      "Epoch 44/100\n",
      "110/110 [==============================] - 0s 2ms/sample - loss: 0.2446 - mean_squared_error: 0.2446\n",
      "Epoch 45/100\n",
      "110/110 [==============================] - 0s 1ms/sample - loss: 0.3045 - mean_squared_error: 0.3045\n",
      "Epoch 46/100\n",
      "110/110 [==============================] - 0s 2ms/sample - loss: 0.2954 - mean_squared_error: 0.2954\n",
      "Epoch 47/100\n",
      "110/110 [==============================] - 0s 2ms/sample - loss: 0.3472 - mean_squared_error: 0.3472\n",
      "Epoch 48/100\n",
      "110/110 [==============================] - 0s 2ms/sample - loss: 0.4979 - mean_squared_error: 0.4979\n",
      "Epoch 49/100\n",
      "110/110 [==============================] - 0s 1ms/sample - loss: 0.4480 - mean_squared_error: 0.4480\n",
      "Epoch 50/100\n",
      "110/110 [==============================] - 0s 2ms/sample - loss: 0.5766 - mean_squared_error: 0.5766\n",
      "Epoch 51/100\n",
      "110/110 [==============================] - 0s 1ms/sample - loss: 0.7386 - mean_squared_error: 0.7386\n",
      "Epoch 52/100\n",
      "110/110 [==============================] - 0s 1ms/sample - loss: 1.0655 - mean_squared_error: 1.0655\n",
      "Epoch 53/100\n",
      "110/110 [==============================] - 0s 1ms/sample - loss: 0.8607 - mean_squared_error: 0.8607\n",
      "Epoch 54/100\n",
      "110/110 [==============================] - 0s 1ms/sample - loss: 0.4235 - mean_squared_error: 0.4235\n",
      "Epoch 55/100\n",
      "110/110 [==============================] - 0s 1ms/sample - loss: 0.4057 - mean_squared_error: 0.4057\n",
      "Epoch 56/100\n",
      "110/110 [==============================] - 0s 1ms/sample - loss: 0.2878 - mean_squared_error: 0.2878\n",
      "Epoch 57/100\n",
      "110/110 [==============================] - 0s 2ms/sample - loss: 0.4538 - mean_squared_error: 0.4538\n",
      "Epoch 58/100\n",
      "110/110 [==============================] - 0s 2ms/sample - loss: 0.1804 - mean_squared_error: 0.1804\n",
      "Epoch 59/100\n",
      "110/110 [==============================] - 0s 1ms/sample - loss: 0.3095 - mean_squared_error: 0.3095\n",
      "Epoch 60/100\n",
      "110/110 [==============================] - 0s 2ms/sample - loss: 0.2636 - mean_squared_error: 0.2636\n",
      "Epoch 61/100\n",
      "110/110 [==============================] - 0s 1ms/sample - loss: 0.2931 - mean_squared_error: 0.2931\n",
      "Epoch 62/100\n",
      "110/110 [==============================] - 0s 1ms/sample - loss: 0.2808 - mean_squared_error: 0.2808\n",
      "Epoch 63/100\n",
      "110/110 [==============================] - 0s 1ms/sample - loss: 0.6853 - mean_squared_error: 0.6853\n",
      "Epoch 64/100\n",
      "110/110 [==============================] - 0s 1ms/sample - loss: 0.7639 - mean_squared_error: 0.7639\n",
      "Epoch 65/100\n",
      "110/110 [==============================] - 0s 1ms/sample - loss: 0.7350 - mean_squared_error: 0.7350\n",
      "Epoch 66/100\n",
      "110/110 [==============================] - 0s 1ms/sample - loss: 0.9098 - mean_squared_error: 0.9098\n",
      "Epoch 67/100\n",
      "110/110 [==============================] - 0s 2ms/sample - loss: 0.6228 - mean_squared_error: 0.6228\n",
      "Epoch 68/100\n",
      "110/110 [==============================] - 0s 1ms/sample - loss: 0.3931 - mean_squared_error: 0.3931\n",
      "Epoch 69/100\n",
      "110/110 [==============================] - 0s 2ms/sample - loss: 0.3003 - mean_squared_error: 0.3003\n",
      "Epoch 70/100\n",
      "110/110 [==============================] - 0s 2ms/sample - loss: 0.2823 - mean_squared_error: 0.2823\n",
      "Epoch 71/100\n",
      "110/110 [==============================] - 0s 1ms/sample - loss: 0.2822 - mean_squared_error: 0.2822\n",
      "Epoch 72/100\n",
      "110/110 [==============================] - 0s 1ms/sample - loss: 0.3180 - mean_squared_error: 0.3180\n",
      "Epoch 73/100\n",
      "110/110 [==============================] - 0s 1ms/sample - loss: 0.2168 - mean_squared_error: 0.2168\n",
      "Epoch 74/100\n",
      "110/110 [==============================] - 0s 1ms/sample - loss: 0.3331 - mean_squared_error: 0.3331\n",
      "Epoch 75/100\n",
      "110/110 [==============================] - 0s 1ms/sample - loss: 0.2539 - mean_squared_error: 0.2539\n",
      "Epoch 76/100\n",
      "110/110 [==============================] - 0s 873us/sample - loss: 0.2263 - mean_squared_error: 0.2263\n",
      "Epoch 77/100\n",
      "110/110 [==============================] - 0s 945us/sample - loss: 0.3546 - mean_squared_error: 0.3546\n",
      "Epoch 78/100\n",
      "110/110 [==============================] - 0s 1ms/sample - loss: 0.3096 - mean_squared_error: 0.3096\n",
      "Epoch 79/100\n",
      "110/110 [==============================] - 0s 1ms/sample - loss: 0.2949 - mean_squared_error: 0.2949\n",
      "Epoch 80/100\n",
      "110/110 [==============================] - 0s 1ms/sample - loss: 0.2532 - mean_squared_error: 0.2532\n",
      "Epoch 81/100\n",
      "110/110 [==============================] - 0s 1ms/sample - loss: 0.2663 - mean_squared_error: 0.2663\n",
      "Epoch 82/100\n",
      "110/110 [==============================] - 0s 1ms/sample - loss: 0.3573 - mean_squared_error: 0.3573\n",
      "Epoch 83/100\n",
      "110/110 [==============================] - 0s 2ms/sample - loss: 0.2948 - mean_squared_error: 0.2948\n",
      "Epoch 84/100\n",
      "110/110 [==============================] - 0s 1ms/sample - loss: 0.2346 - mean_squared_error: 0.2346\n",
      "Epoch 85/100\n",
      "110/110 [==============================] - 0s 1ms/sample - loss: 0.3723 - mean_squared_error: 0.3723\n",
      "Epoch 86/100\n",
      "110/110 [==============================] - 0s 1ms/sample - loss: 0.3541 - mean_squared_error: 0.3541\n",
      "Epoch 87/100\n",
      "110/110 [==============================] - 0s 1ms/sample - loss: 0.5459 - mean_squared_error: 0.5459\n",
      "Epoch 88/100\n",
      "110/110 [==============================] - 0s 2ms/sample - loss: 0.6335 - mean_squared_error: 0.6335\n",
      "Epoch 89/100\n",
      "110/110 [==============================] - 0s 3ms/sample - loss: 0.9679 - mean_squared_error: 0.9679\n",
      "Epoch 90/100\n",
      "110/110 [==============================] - 0s 2ms/sample - loss: 1.2973 - mean_squared_error: 1.2973\n",
      "Epoch 91/100\n",
      "110/110 [==============================] - 0s 1ms/sample - loss: 0.9244 - mean_squared_error: 0.9244\n",
      "Epoch 92/100\n",
      "110/110 [==============================] - 0s 2ms/sample - loss: 0.6266 - mean_squared_error: 0.6266\n",
      "Epoch 93/100\n",
      "110/110 [==============================] - 0s 2ms/sample - loss: 0.2272 - mean_squared_error: 0.2272\n",
      "Epoch 94/100\n",
      "110/110 [==============================] - 0s 2ms/sample - loss: 0.1830 - mean_squared_error: 0.1830\n",
      "Epoch 95/100\n",
      "110/110 [==============================] - 0s 2ms/sample - loss: 0.2193 - mean_squared_error: 0.2193\n",
      "Epoch 96/100\n",
      "110/110 [==============================] - 0s 1ms/sample - loss: 0.2086 - mean_squared_error: 0.2086\n",
      "Epoch 97/100\n",
      "110/110 [==============================] - 0s 1ms/sample - loss: 0.1434 - mean_squared_error: 0.1434\n",
      "Epoch 98/100\n",
      "110/110 [==============================] - 0s 1ms/sample - loss: 0.1678 - mean_squared_error: 0.1678\n",
      "Epoch 99/100\n",
      "110/110 [==============================] - 0s 1ms/sample - loss: 0.1561 - mean_squared_error: 0.1561\n",
      "Epoch 100/100\n",
      "110/110 [==============================] - 0s 2ms/sample - loss: 0.1862 - mean_squared_error: 0.1862\n"
     ]
    }
   ],
   "source": [
    "history2 = rnn_model.fit(X_train, y_train2, batch_size=1, epochs=100, verbose=1, validation_split=0)"
   ]
  },
  {
   "cell_type": "code",
   "execution_count": 36,
   "metadata": {},
   "outputs": [
    {
     "output_type": "stream",
     "name": "stdout",
     "text": [
      "0.5305060313486194\n3.2114745601697074\n"
     ]
    }
   ],
   "source": [
    "pred_train = rnn_model.predict(X_train)\n",
    "print(np.sqrt(mean_squared_error(y_train2,pred_train)))\n",
    "\n",
    "pred = rnn_model.predict(X_test)\n",
    "print(np.sqrt(mean_squared_error(y_true2,pred)))\n",
    "\n",
    "y_pred2 = pred"
   ]
  },
  {
   "cell_type": "code",
   "execution_count": 39,
   "metadata": {},
   "outputs": [
    {
     "output_type": "stream",
     "name": "stdout",
     "text": [
      "3.440389266479239\n"
     ]
    }
   ],
   "source": [
    "pred = rnn_model.predict(X_test)\n",
    "print(mean_absolute_error(y_true1,pred))\n"
   ]
  },
  {
   "cell_type": "code",
   "execution_count": 40,
   "metadata": {},
   "outputs": [
    {
     "output_type": "display_data",
     "data": {
      "text/plain": "<Figure size 432x288 with 1 Axes>",
      "image/svg+xml": "<?xml version=\"1.0\" encoding=\"utf-8\" standalone=\"no\"?>\r\n<!DOCTYPE svg PUBLIC \"-//W3C//DTD SVG 1.1//EN\"\r\n  \"http://www.w3.org/Graphics/SVG/1.1/DTD/svg11.dtd\">\r\n<svg height=\"248.518125pt\" version=\"1.1\" viewBox=\"0 0 368.925 248.518125\" width=\"368.925pt\" xmlns=\"http://www.w3.org/2000/svg\" xmlns:xlink=\"http://www.w3.org/1999/xlink\">\r\n <metadata>\r\n  <rdf:RDF xmlns:cc=\"http://creativecommons.org/ns#\" xmlns:dc=\"http://purl.org/dc/elements/1.1/\" xmlns:rdf=\"http://www.w3.org/1999/02/22-rdf-syntax-ns#\">\r\n   <cc:Work>\r\n    <dc:type rdf:resource=\"http://purl.org/dc/dcmitype/StillImage\"/>\r\n    <dc:date>2021-05-03T14:53:15.250515</dc:date>\r\n    <dc:format>image/svg+xml</dc:format>\r\n    <dc:creator>\r\n     <cc:Agent>\r\n      <dc:title>Matplotlib v3.4.1, https://matplotlib.org/</dc:title>\r\n     </cc:Agent>\r\n    </dc:creator>\r\n   </cc:Work>\r\n  </rdf:RDF>\r\n </metadata>\r\n <defs>\r\n  <style type=\"text/css\">*{stroke-linecap:butt;stroke-linejoin:round;}</style>\r\n </defs>\r\n <g id=\"figure_1\">\r\n  <g id=\"patch_1\">\r\n   <path d=\"M -0 248.518125 \r\nL 368.925 248.518125 \r\nL 368.925 0 \r\nL -0 0 \r\nz\r\n\" style=\"fill:none;\"/>\r\n  </g>\r\n  <g id=\"axes_1\">\r\n   <g id=\"patch_2\">\r\n    <path d=\"M 26.925 224.64 \r\nL 361.725 224.64 \r\nL 361.725 7.2 \r\nL 26.925 7.2 \r\nz\r\n\" style=\"fill:#ffffff;\"/>\r\n   </g>\r\n   <g id=\"matplotlib.axis_1\">\r\n    <g id=\"xtick_1\">\r\n     <g id=\"line2d_1\">\r\n      <defs>\r\n       <path d=\"M 0 0 \r\nL 0 3.5 \r\n\" id=\"mc10577ce5d\" style=\"stroke:#000000;stroke-width:0.8;\"/>\r\n      </defs>\r\n      <g>\r\n       <use style=\"stroke:#000000;stroke-width:0.8;\" x=\"42.143182\" xlink:href=\"#mc10577ce5d\" y=\"224.64\"/>\r\n      </g>\r\n     </g>\r\n     <g id=\"text_1\">\r\n      <!-- 0 -->\r\n      <g transform=\"translate(38.961932 239.238437)scale(0.1 -0.1)\">\r\n       <defs>\r\n        <path d=\"M 2034 4250 \r\nQ 1547 4250 1301 3770 \r\nQ 1056 3291 1056 2328 \r\nQ 1056 1369 1301 889 \r\nQ 1547 409 2034 409 \r\nQ 2525 409 2770 889 \r\nQ 3016 1369 3016 2328 \r\nQ 3016 3291 2770 3770 \r\nQ 2525 4250 2034 4250 \r\nz\r\nM 2034 4750 \r\nQ 2819 4750 3233 4129 \r\nQ 3647 3509 3647 2328 \r\nQ 3647 1150 3233 529 \r\nQ 2819 -91 2034 -91 \r\nQ 1250 -91 836 529 \r\nQ 422 1150 422 2328 \r\nQ 422 3509 836 4129 \r\nQ 1250 4750 2034 4750 \r\nz\r\n\" id=\"DejaVuSans-30\" transform=\"scale(0.015625)\"/>\r\n       </defs>\r\n       <use xlink:href=\"#DejaVuSans-30\"/>\r\n      </g>\r\n     </g>\r\n    </g>\r\n    <g id=\"xtick_2\">\r\n     <g id=\"line2d_2\">\r\n      <g>\r\n       <use style=\"stroke:#000000;stroke-width:0.8;\" x=\"98.506818\" xlink:href=\"#mc10577ce5d\" y=\"224.64\"/>\r\n      </g>\r\n     </g>\r\n     <g id=\"text_2\">\r\n      <!-- 5 -->\r\n      <g transform=\"translate(95.325568 239.238437)scale(0.1 -0.1)\">\r\n       <defs>\r\n        <path d=\"M 691 4666 \r\nL 3169 4666 \r\nL 3169 4134 \r\nL 1269 4134 \r\nL 1269 2991 \r\nQ 1406 3038 1543 3061 \r\nQ 1681 3084 1819 3084 \r\nQ 2600 3084 3056 2656 \r\nQ 3513 2228 3513 1497 \r\nQ 3513 744 3044 326 \r\nQ 2575 -91 1722 -91 \r\nQ 1428 -91 1123 -41 \r\nQ 819 9 494 109 \r\nL 494 744 \r\nQ 775 591 1075 516 \r\nQ 1375 441 1709 441 \r\nQ 2250 441 2565 725 \r\nQ 2881 1009 2881 1497 \r\nQ 2881 1984 2565 2268 \r\nQ 2250 2553 1709 2553 \r\nQ 1456 2553 1204 2497 \r\nQ 953 2441 691 2322 \r\nL 691 4666 \r\nz\r\n\" id=\"DejaVuSans-35\" transform=\"scale(0.015625)\"/>\r\n       </defs>\r\n       <use xlink:href=\"#DejaVuSans-35\"/>\r\n      </g>\r\n     </g>\r\n    </g>\r\n    <g id=\"xtick_3\">\r\n     <g id=\"line2d_3\">\r\n      <g>\r\n       <use style=\"stroke:#000000;stroke-width:0.8;\" x=\"154.870455\" xlink:href=\"#mc10577ce5d\" y=\"224.64\"/>\r\n      </g>\r\n     </g>\r\n     <g id=\"text_3\">\r\n      <!-- 10 -->\r\n      <g transform=\"translate(148.507955 239.238437)scale(0.1 -0.1)\">\r\n       <defs>\r\n        <path d=\"M 794 531 \r\nL 1825 531 \r\nL 1825 4091 \r\nL 703 3866 \r\nL 703 4441 \r\nL 1819 4666 \r\nL 2450 4666 \r\nL 2450 531 \r\nL 3481 531 \r\nL 3481 0 \r\nL 794 0 \r\nL 794 531 \r\nz\r\n\" id=\"DejaVuSans-31\" transform=\"scale(0.015625)\"/>\r\n       </defs>\r\n       <use xlink:href=\"#DejaVuSans-31\"/>\r\n       <use x=\"63.623047\" xlink:href=\"#DejaVuSans-30\"/>\r\n      </g>\r\n     </g>\r\n    </g>\r\n    <g id=\"xtick_4\">\r\n     <g id=\"line2d_4\">\r\n      <g>\r\n       <use style=\"stroke:#000000;stroke-width:0.8;\" x=\"211.234091\" xlink:href=\"#mc10577ce5d\" y=\"224.64\"/>\r\n      </g>\r\n     </g>\r\n     <g id=\"text_4\">\r\n      <!-- 15 -->\r\n      <g transform=\"translate(204.871591 239.238437)scale(0.1 -0.1)\">\r\n       <use xlink:href=\"#DejaVuSans-31\"/>\r\n       <use x=\"63.623047\" xlink:href=\"#DejaVuSans-35\"/>\r\n      </g>\r\n     </g>\r\n    </g>\r\n    <g id=\"xtick_5\">\r\n     <g id=\"line2d_5\">\r\n      <g>\r\n       <use style=\"stroke:#000000;stroke-width:0.8;\" x=\"267.597727\" xlink:href=\"#mc10577ce5d\" y=\"224.64\"/>\r\n      </g>\r\n     </g>\r\n     <g id=\"text_5\">\r\n      <!-- 20 -->\r\n      <g transform=\"translate(261.235227 239.238437)scale(0.1 -0.1)\">\r\n       <defs>\r\n        <path d=\"M 1228 531 \r\nL 3431 531 \r\nL 3431 0 \r\nL 469 0 \r\nL 469 531 \r\nQ 828 903 1448 1529 \r\nQ 2069 2156 2228 2338 \r\nQ 2531 2678 2651 2914 \r\nQ 2772 3150 2772 3378 \r\nQ 2772 3750 2511 3984 \r\nQ 2250 4219 1831 4219 \r\nQ 1534 4219 1204 4116 \r\nQ 875 4013 500 3803 \r\nL 500 4441 \r\nQ 881 4594 1212 4672 \r\nQ 1544 4750 1819 4750 \r\nQ 2544 4750 2975 4387 \r\nQ 3406 4025 3406 3419 \r\nQ 3406 3131 3298 2873 \r\nQ 3191 2616 2906 2266 \r\nQ 2828 2175 2409 1742 \r\nQ 1991 1309 1228 531 \r\nz\r\n\" id=\"DejaVuSans-32\" transform=\"scale(0.015625)\"/>\r\n       </defs>\r\n       <use xlink:href=\"#DejaVuSans-32\"/>\r\n       <use x=\"63.623047\" xlink:href=\"#DejaVuSans-30\"/>\r\n      </g>\r\n     </g>\r\n    </g>\r\n    <g id=\"xtick_6\">\r\n     <g id=\"line2d_6\">\r\n      <g>\r\n       <use style=\"stroke:#000000;stroke-width:0.8;\" x=\"323.961364\" xlink:href=\"#mc10577ce5d\" y=\"224.64\"/>\r\n      </g>\r\n     </g>\r\n     <g id=\"text_6\">\r\n      <!-- 25 -->\r\n      <g transform=\"translate(317.598864 239.238437)scale(0.1 -0.1)\">\r\n       <use xlink:href=\"#DejaVuSans-32\"/>\r\n       <use x=\"63.623047\" xlink:href=\"#DejaVuSans-35\"/>\r\n      </g>\r\n     </g>\r\n    </g>\r\n   </g>\r\n   <g id=\"matplotlib.axis_2\">\r\n    <g id=\"ytick_1\">\r\n     <g id=\"line2d_7\">\r\n      <defs>\r\n       <path d=\"M 0 0 \r\nL -3.5 0 \r\n\" id=\"m7e8975a464\" style=\"stroke:#000000;stroke-width:0.8;\"/>\r\n      </defs>\r\n      <g>\r\n       <use style=\"stroke:#000000;stroke-width:0.8;\" x=\"26.925\" xlink:href=\"#m7e8975a464\" y=\"196.547267\"/>\r\n      </g>\r\n     </g>\r\n     <g id=\"text_7\">\r\n      <!-- 6 -->\r\n      <g transform=\"translate(13.5625 200.346486)scale(0.1 -0.1)\">\r\n       <defs>\r\n        <path d=\"M 2113 2584 \r\nQ 1688 2584 1439 2293 \r\nQ 1191 2003 1191 1497 \r\nQ 1191 994 1439 701 \r\nQ 1688 409 2113 409 \r\nQ 2538 409 2786 701 \r\nQ 3034 994 3034 1497 \r\nQ 3034 2003 2786 2293 \r\nQ 2538 2584 2113 2584 \r\nz\r\nM 3366 4563 \r\nL 3366 3988 \r\nQ 3128 4100 2886 4159 \r\nQ 2644 4219 2406 4219 \r\nQ 1781 4219 1451 3797 \r\nQ 1122 3375 1075 2522 \r\nQ 1259 2794 1537 2939 \r\nQ 1816 3084 2150 3084 \r\nQ 2853 3084 3261 2657 \r\nQ 3669 2231 3669 1497 \r\nQ 3669 778 3244 343 \r\nQ 2819 -91 2113 -91 \r\nQ 1303 -91 875 529 \r\nQ 447 1150 447 2328 \r\nQ 447 3434 972 4092 \r\nQ 1497 4750 2381 4750 \r\nQ 2619 4750 2861 4703 \r\nQ 3103 4656 3366 4563 \r\nz\r\n\" id=\"DejaVuSans-36\" transform=\"scale(0.015625)\"/>\r\n       </defs>\r\n       <use xlink:href=\"#DejaVuSans-36\"/>\r\n      </g>\r\n     </g>\r\n    </g>\r\n    <g id=\"ytick_2\">\r\n     <g id=\"line2d_8\">\r\n      <g>\r\n       <use style=\"stroke:#000000;stroke-width:0.8;\" x=\"26.925\" xlink:href=\"#m7e8975a464\" y=\"162.732789\"/>\r\n      </g>\r\n     </g>\r\n     <g id=\"text_8\">\r\n      <!-- 8 -->\r\n      <g transform=\"translate(13.5625 166.532008)scale(0.1 -0.1)\">\r\n       <defs>\r\n        <path d=\"M 2034 2216 \r\nQ 1584 2216 1326 1975 \r\nQ 1069 1734 1069 1313 \r\nQ 1069 891 1326 650 \r\nQ 1584 409 2034 409 \r\nQ 2484 409 2743 651 \r\nQ 3003 894 3003 1313 \r\nQ 3003 1734 2745 1975 \r\nQ 2488 2216 2034 2216 \r\nz\r\nM 1403 2484 \r\nQ 997 2584 770 2862 \r\nQ 544 3141 544 3541 \r\nQ 544 4100 942 4425 \r\nQ 1341 4750 2034 4750 \r\nQ 2731 4750 3128 4425 \r\nQ 3525 4100 3525 3541 \r\nQ 3525 3141 3298 2862 \r\nQ 3072 2584 2669 2484 \r\nQ 3125 2378 3379 2068 \r\nQ 3634 1759 3634 1313 \r\nQ 3634 634 3220 271 \r\nQ 2806 -91 2034 -91 \r\nQ 1263 -91 848 271 \r\nQ 434 634 434 1313 \r\nQ 434 1759 690 2068 \r\nQ 947 2378 1403 2484 \r\nz\r\nM 1172 3481 \r\nQ 1172 3119 1398 2916 \r\nQ 1625 2713 2034 2713 \r\nQ 2441 2713 2670 2916 \r\nQ 2900 3119 2900 3481 \r\nQ 2900 3844 2670 4047 \r\nQ 2441 4250 2034 4250 \r\nQ 1625 4250 1398 4047 \r\nQ 1172 3844 1172 3481 \r\nz\r\n\" id=\"DejaVuSans-38\" transform=\"scale(0.015625)\"/>\r\n       </defs>\r\n       <use xlink:href=\"#DejaVuSans-38\"/>\r\n      </g>\r\n     </g>\r\n    </g>\r\n    <g id=\"ytick_3\">\r\n     <g id=\"line2d_9\">\r\n      <g>\r\n       <use style=\"stroke:#000000;stroke-width:0.8;\" x=\"26.925\" xlink:href=\"#m7e8975a464\" y=\"128.918311\"/>\r\n      </g>\r\n     </g>\r\n     <g id=\"text_9\">\r\n      <!-- 10 -->\r\n      <g transform=\"translate(7.2 132.71753)scale(0.1 -0.1)\">\r\n       <use xlink:href=\"#DejaVuSans-31\"/>\r\n       <use x=\"63.623047\" xlink:href=\"#DejaVuSans-30\"/>\r\n      </g>\r\n     </g>\r\n    </g>\r\n    <g id=\"ytick_4\">\r\n     <g id=\"line2d_10\">\r\n      <g>\r\n       <use style=\"stroke:#000000;stroke-width:0.8;\" x=\"26.925\" xlink:href=\"#m7e8975a464\" y=\"95.103833\"/>\r\n      </g>\r\n     </g>\r\n     <g id=\"text_10\">\r\n      <!-- 12 -->\r\n      <g transform=\"translate(7.2 98.903052)scale(0.1 -0.1)\">\r\n       <use xlink:href=\"#DejaVuSans-31\"/>\r\n       <use x=\"63.623047\" xlink:href=\"#DejaVuSans-32\"/>\r\n      </g>\r\n     </g>\r\n    </g>\r\n    <g id=\"ytick_5\">\r\n     <g id=\"line2d_11\">\r\n      <g>\r\n       <use style=\"stroke:#000000;stroke-width:0.8;\" x=\"26.925\" xlink:href=\"#m7e8975a464\" y=\"61.289355\"/>\r\n      </g>\r\n     </g>\r\n     <g id=\"text_11\">\r\n      <!-- 14 -->\r\n      <g transform=\"translate(7.2 65.088574)scale(0.1 -0.1)\">\r\n       <defs>\r\n        <path d=\"M 2419 4116 \r\nL 825 1625 \r\nL 2419 1625 \r\nL 2419 4116 \r\nz\r\nM 2253 4666 \r\nL 3047 4666 \r\nL 3047 1625 \r\nL 3713 1625 \r\nL 3713 1100 \r\nL 3047 1100 \r\nL 3047 0 \r\nL 2419 0 \r\nL 2419 1100 \r\nL 313 1100 \r\nL 313 1709 \r\nL 2253 4666 \r\nz\r\n\" id=\"DejaVuSans-34\" transform=\"scale(0.015625)\"/>\r\n       </defs>\r\n       <use xlink:href=\"#DejaVuSans-31\"/>\r\n       <use x=\"63.623047\" xlink:href=\"#DejaVuSans-34\"/>\r\n      </g>\r\n     </g>\r\n    </g>\r\n    <g id=\"ytick_6\">\r\n     <g id=\"line2d_12\">\r\n      <g>\r\n       <use style=\"stroke:#000000;stroke-width:0.8;\" x=\"26.925\" xlink:href=\"#m7e8975a464\" y=\"27.474877\"/>\r\n      </g>\r\n     </g>\r\n     <g id=\"text_12\">\r\n      <!-- 16 -->\r\n      <g transform=\"translate(7.2 31.274096)scale(0.1 -0.1)\">\r\n       <use xlink:href=\"#DejaVuSans-31\"/>\r\n       <use x=\"63.623047\" xlink:href=\"#DejaVuSans-36\"/>\r\n      </g>\r\n     </g>\r\n    </g>\r\n   </g>\r\n   <g id=\"line2d_13\">\r\n    <path clip-path=\"url(#p676249e392)\" d=\"M 42.143182 165.268875 \r\nL 53.415909 57.200877 \r\nL 64.688636 84.649524 \r\nL 75.961364 59.500006 \r\nL 87.234091 164.691211 \r\nL 98.506818 173.032116 \r\nL 109.779545 55.160481 \r\nL 121.052273 142.258123 \r\nL 132.325 89.806231 \r\nL 143.597727 72.222703 \r\nL 154.870455 79.825837 \r\nL 166.143182 108.911412 \r\nL 177.415909 113.715885 \r\nL 188.688636 143.550758 \r\nL 199.961364 92.680462 \r\nL 211.234091 80.211373 \r\nL 222.506818 85.635779 \r\nL 233.779545 118.554174 \r\nL 245.052273 76.920866 \r\nL 256.325 157.60426 \r\nL 267.597727 169.136406 \r\nL 278.870455 156.967421 \r\nL 290.143182 201.006551 \r\nL 301.415909 185.065715 \r\nL 312.688636 143.120392 \r\nL 323.961364 214.756364 \r\nL 335.234091 121.295964 \r\nL 346.506818 71.236447 \r\n\" style=\"fill:none;stroke:#1f77b4;stroke-linecap:square;stroke-width:1.5;\"/>\r\n   </g>\r\n   <g id=\"line2d_14\">\r\n    <path clip-path=\"url(#p676249e392)\" d=\"M 42.143182 168.894793 \r\nL 53.415909 104.530084 \r\nL 64.688636 163.314519 \r\nL 75.961364 149.816933 \r\nL 87.234091 88.081444 \r\nL 98.506818 17.083636 \r\nL 109.779545 76.147201 \r\nL 121.052273 131.554166 \r\nL 132.325 78.57138 \r\nL 143.597727 116.440947 \r\nL 154.870455 66.752005 \r\nL 166.143182 155.838377 \r\nL 177.415909 145.545251 \r\nL 188.688636 134.208031 \r\nL 199.961364 147.04546 \r\nL 211.234091 146.561224 \r\nL 222.506818 116.601591 \r\nL 233.779545 160.143549 \r\nL 245.052273 71.112692 \r\nL 256.325 142.044682 \r\nL 267.597727 128.343394 \r\nL 278.870455 131.158112 \r\nL 290.143182 143.722094 \r\nL 301.415909 175.038698 \r\nL 312.688636 166.15776 \r\nL 323.961364 189.008257 \r\nL 335.234091 170.414416 \r\nL 346.506818 171.290658 \r\n\" style=\"fill:none;stroke:#ff7f0e;stroke-linecap:square;stroke-width:1.5;\"/>\r\n   </g>\r\n   <g id=\"patch_3\">\r\n    <path d=\"M 26.925 224.64 \r\nL 26.925 7.2 \r\n\" style=\"fill:none;stroke:#000000;stroke-linecap:square;stroke-linejoin:miter;stroke-width:0.8;\"/>\r\n   </g>\r\n   <g id=\"patch_4\">\r\n    <path d=\"M 361.725 224.64 \r\nL 361.725 7.2 \r\n\" style=\"fill:none;stroke:#000000;stroke-linecap:square;stroke-linejoin:miter;stroke-width:0.8;\"/>\r\n   </g>\r\n   <g id=\"patch_5\">\r\n    <path d=\"M 26.925 224.64 \r\nL 361.725 224.64 \r\n\" style=\"fill:none;stroke:#000000;stroke-linecap:square;stroke-linejoin:miter;stroke-width:0.8;\"/>\r\n   </g>\r\n   <g id=\"patch_6\">\r\n    <path d=\"M 26.925 7.2 \r\nL 361.725 7.2 \r\n\" style=\"fill:none;stroke:#000000;stroke-linecap:square;stroke-linejoin:miter;stroke-width:0.8;\"/>\r\n   </g>\r\n  </g>\r\n </g>\r\n <defs>\r\n  <clipPath id=\"p676249e392\">\r\n   <rect height=\"217.44\" width=\"334.8\" x=\"26.925\" y=\"7.2\"/>\r\n  </clipPath>\r\n </defs>\r\n</svg>\r\n",
      "image/png": "[encoded data removed]"
     },
     "metadata": {
      "needs_background": "light"
     }
    }
   ],
   "source": [
    "plt.plot(np.arange(len(y_true2)), y_true2)\n",
    "plt.plot(np.arange(len(y_pred2)), y_pred2)\n",
    "plt.show()"
   ]
  },
  {
   "cell_type": "code",
   "execution_count": null,
   "metadata": {},
   "outputs": [],
   "source": []
  }
 ]
}