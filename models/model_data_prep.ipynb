{
 "cells": [
  {
   "cell_type": "code",
   "execution_count": 24,
   "id": "atlantic-eleven",
   "metadata": {},
   "outputs": [],
   "source": [
    "import pandas as pd\n",
    "import numpy as np\n",
    "import math"
   ]
  },
  {
   "cell_type": "code",
   "execution_count": 25,
   "id": "instant-fighter",
   "metadata": {},
   "outputs": [],
   "source": [
    "HISTORY = 6 #indicates how many past datapoints are considered (e.g prediction based on pas 6 hours)\n",
    "FUTURE = 1  #indicates prediction into future (e.g 1 timestep into the future)\n",
    "OVERLAP = 1 #indicates how much the data is overlapped"
   ]
  },
  {
   "cell_type": "code",
   "execution_count": 26,
   "id": "welcome-honor",
   "metadata": {},
   "outputs": [],
   "source": [
    "# data = pd.read_csv(\"../data/finaldata/1h_allData_filtered.csv\")\n",
    "data = pd.read_csv(\"../data/finaldata/1h_allData_filtered.csv\")"
   ]
  },
  {
   "cell_type": "code",
   "execution_count": 27,
   "id": "absolute-memory",
   "metadata": {},
   "outputs": [
    {
     "output_type": "execute_result",
     "data": {
      "text/plain": [
       "                        time        date  weekday  hour loc    temp_pi  \\\n",
       "0  2021-03-18 17:00:00+01:00  2021-03-18        3    17   A  25.128571   \n",
       "1  2021-03-18 18:00:00+01:00  2021-03-18        3    18   A  24.350000   \n",
       "2  2021-03-18 19:00:00+01:00  2021-03-18        3    19   A   6.480000   \n",
       "3  2021-03-18 20:00:00+01:00  2021-03-18        3    20   A   3.066667   \n",
       "4  2021-03-18 21:00:00+01:00  2021-03-18        3    21   A   2.458333   \n",
       "\n",
       "   temp_sbs  temp_blue     hum_pi  hum_sbs  ...  wind  wind_speed  \\\n",
       "0       NaN   4.886313  36.428571      NaN  ...   NaN   11.119281   \n",
       "1       NaN   4.706314  34.175000      NaN  ...   NaN    9.826088   \n",
       "2       NaN   4.456314  49.986667      NaN  ...   NaN    9.178235   \n",
       "3       NaN   4.036314  61.100000      NaN  ...   NaN    7.235910   \n",
       "4       NaN   3.356314  66.141667      NaN  ...   NaN    6.638072   \n",
       "\n",
       "   wind_direction  cloud_cover  pressure  AQI  \\\n",
       "0       60.945396         62.0       NaN  NaN   \n",
       "1       61.557068        100.0       NaN  NaN   \n",
       "2       64.440025        100.0       NaN  NaN   \n",
       "3       84.289406        100.0       NaN  NaN   \n",
       "4      139.398700        100.0       NaN  NaN   \n",
       "\n",
       "                            sunrise                       noon  \\\n",
       "0  2021-03-18 06:32:56.209197+01:00  2021-03-18 12:33:56+01:00   \n",
       "1  2021-03-18 06:32:56.209197+01:00  2021-03-18 12:33:56+01:00   \n",
       "2  2021-03-18 06:32:56.209197+01:00  2021-03-18 12:33:56+01:00   \n",
       "3  2021-03-18 06:32:56.209197+01:00  2021-03-18 12:33:56+01:00   \n",
       "4  2021-03-18 06:32:56.209197+01:00  2021-03-18 12:33:56+01:00   \n",
       "\n",
       "                             sunset                daylight  \n",
       "0  2021-03-18 18:35:30.551916+01:00  0 days 12:02:34.342719  \n",
       "1  2021-03-18 18:35:30.551916+01:00  0 days 12:02:34.342719  \n",
       "2  2021-03-18 18:35:30.551916+01:00  0 days 12:02:34.342719  \n",
       "3  2021-03-18 18:35:30.551916+01:00  0 days 12:02:34.342719  \n",
       "4  2021-03-18 18:35:30.551916+01:00  0 days 12:02:34.342719  \n",
       "\n",
       "[5 rows x 27 columns]"
      ],
      "text/html": "<div>\n<style scoped>\n    .dataframe tbody tr th:only-of-type {\n        vertical-align: middle;\n    }\n\n    .dataframe tbody tr th {\n        vertical-align: top;\n    }\n\n    .dataframe thead th {\n        text-align: right;\n    }\n</style>\n<table border=\"1\" class=\"dataframe\">\n  <thead>\n    <tr style=\"text-align: right;\">\n      <th></th>\n      <th>time</th>\n      <th>date</th>\n      <th>weekday</th>\n      <th>hour</th>\n      <th>loc</th>\n      <th>temp_pi</th>\n      <th>temp_sbs</th>\n      <th>temp_blue</th>\n      <th>hum_pi</th>\n      <th>hum_sbs</th>\n      <th>...</th>\n      <th>wind</th>\n      <th>wind_speed</th>\n      <th>wind_direction</th>\n      <th>cloud_cover</th>\n      <th>pressure</th>\n      <th>AQI</th>\n      <th>sunrise</th>\n      <th>noon</th>\n      <th>sunset</th>\n      <th>daylight</th>\n    </tr>\n  </thead>\n  <tbody>\n    <tr>\n      <th>0</th>\n      <td>2021-03-18 17:00:00+01:00</td>\n      <td>2021-03-18</td>\n      <td>3</td>\n      <td>17</td>\n      <td>A</td>\n      <td>25.128571</td>\n      <td>NaN</td>\n      <td>4.886313</td>\n      <td>36.428571</td>\n      <td>NaN</td>\n      <td>...</td>\n      <td>NaN</td>\n      <td>11.119281</td>\n      <td>60.945396</td>\n      <td>62.0</td>\n      <td>NaN</td>\n      <td>NaN</td>\n      <td>2021-03-18 06:32:56.209197+01:00</td>\n      <td>2021-03-18 12:33:56+01:00</td>\n      <td>2021-03-18 18:35:30.551916+01:00</td>\n      <td>0 days 12:02:34.342719</td>\n    </tr>\n    <tr>\n      <th>1</th>\n      <td>2021-03-18 18:00:00+01:00</td>\n      <td>2021-03-18</td>\n      <td>3</td>\n      <td>18</td>\n      <td>A</td>\n      <td>24.350000</td>\n      <td>NaN</td>\n      <td>4.706314</td>\n      <td>34.175000</td>\n      <td>NaN</td>\n      <td>...</td>\n      <td>NaN</td>\n      <td>9.826088</td>\n      <td>61.557068</td>\n      <td>100.0</td>\n      <td>NaN</td>\n      <td>NaN</td>\n      <td>2021-03-18 06:32:56.209197+01:00</td>\n      <td>2021-03-18 12:33:56+01:00</td>\n      <td>2021-03-18 18:35:30.551916+01:00</td>\n      <td>0 days 12:02:34.342719</td>\n    </tr>\n    <tr>\n      <th>2</th>\n      <td>2021-03-18 19:00:00+01:00</td>\n      <td>2021-03-18</td>\n      <td>3</td>\n      <td>19</td>\n      <td>A</td>\n      <td>6.480000</td>\n      <td>NaN</td>\n      <td>4.456314</td>\n      <td>49.986667</td>\n      <td>NaN</td>\n      <td>...</td>\n      <td>NaN</td>\n      <td>9.178235</td>\n      <td>64.440025</td>\n      <td>100.0</td>\n      <td>NaN</td>\n      <td>NaN</td>\n      <td>2021-03-18 06:32:56.209197+01:00</td>\n      <td>2021-03-18 12:33:56+01:00</td>\n      <td>2021-03-18 18:35:30.551916+01:00</td>\n      <td>0 days 12:02:34.342719</td>\n    </tr>\n    <tr>\n      <th>3</th>\n      <td>2021-03-18 20:00:00+01:00</td>\n      <td>2021-03-18</td>\n      <td>3</td>\n      <td>20</td>\n      <td>A</td>\n      <td>3.066667</td>\n      <td>NaN</td>\n      <td>4.036314</td>\n      <td>61.100000</td>\n      <td>NaN</td>\n      <td>...</td>\n      <td>NaN</td>\n      <td>7.235910</td>\n      <td>84.289406</td>\n      <td>100.0</td>\n      <td>NaN</td>\n      <td>NaN</td>\n      <td>2021-03-18 06:32:56.209197+01:00</td>\n      <td>2021-03-18 12:33:56+01:00</td>\n      <td>2021-03-18 18:35:30.551916+01:00</td>\n      <td>0 days 12:02:34.342719</td>\n    </tr>\n    <tr>\n      <th>4</th>\n      <td>2021-03-18 21:00:00+01:00</td>\n      <td>2021-03-18</td>\n      <td>3</td>\n      <td>21</td>\n      <td>A</td>\n      <td>2.458333</td>\n      <td>NaN</td>\n      <td>3.356314</td>\n      <td>66.141667</td>\n      <td>NaN</td>\n      <td>...</td>\n      <td>NaN</td>\n      <td>6.638072</td>\n      <td>139.398700</td>\n      <td>100.0</td>\n      <td>NaN</td>\n      <td>NaN</td>\n      <td>2021-03-18 06:32:56.209197+01:00</td>\n      <td>2021-03-18 12:33:56+01:00</td>\n      <td>2021-03-18 18:35:30.551916+01:00</td>\n      <td>0 days 12:02:34.342719</td>\n    </tr>\n  </tbody>\n</table>\n<p>5 rows × 27 columns</p>\n</div>"
     },
     "metadata": {},
     "execution_count": 27
    }
   ],
   "source": [
    "data.head()"
   ]
  },
  {
   "cell_type": "code",
   "execution_count": 28,
   "id": "obvious-array",
   "metadata": {},
   "outputs": [],
   "source": [
    "hours = pd.to_datetime(data['time'], utc=True).dt.hour"
   ]
  },
  {
   "cell_type": "code",
   "execution_count": 29,
   "id": "bottom-pakistan",
   "metadata": {},
   "outputs": [],
   "source": [
    "locs = data['loc']"
   ]
  },
  {
   "cell_type": "code",
   "execution_count": 30,
   "id": "administrative-taxation",
   "metadata": {},
   "outputs": [],
   "source": [
    "features = ['temp_pi', 'hum_pi', 'PM1_pi', 'PM2.5_pi', 'PM10_pi']"
   ]
  },
  {
   "cell_type": "code",
   "execution_count": 31,
   "id": "other-oklahoma",
   "metadata": {},
   "outputs": [],
   "source": [
    "targets = ['PM2.5_pi', 'PM10_pi']"
   ]
  },
  {
   "cell_type": "code",
   "execution_count": 32,
   "id": "decreased-device",
   "metadata": {},
   "outputs": [],
   "source": [
    "data = data[features]"
   ]
  },
  {
   "cell_type": "code",
   "execution_count": 33,
   "id": "latest-reserve",
   "metadata": {},
   "outputs": [
    {
     "output_type": "execute_result",
     "data": {
      "text/plain": [
       "        temp_pi     hum_pi    PM1_pi   PM2.5_pi    PM10_pi\n",
       "0     25.128571  36.428571  4.015714   9.323571  14.962143\n",
       "1     24.350000  34.175000  2.905000   8.352500  14.282500\n",
       "2      6.480000  49.986667  5.054000  11.749333  18.859333\n",
       "3      3.066667  61.100000  7.343333  17.540833  28.408333\n",
       "4      2.458333  66.141667  6.643333  14.654167  23.088333\n",
       "...         ...        ...       ...        ...        ...\n",
       "1075  18.481818  37.609091  2.420909   4.647273   6.926364\n",
       "1076  16.550000  50.075000  3.684167   8.526667  13.664167\n",
       "1077  14.775000  64.150000  6.013333  12.902500  20.120833\n",
       "1078  14.375000  64.841667  3.553333   6.644167   9.780833\n",
       "1079  14.200000  64.000000  3.131429   7.692857  12.567143\n",
       "\n",
       "[1080 rows x 5 columns]"
      ],
      "text/html": "<div>\n<style scoped>\n    .dataframe tbody tr th:only-of-type {\n        vertical-align: middle;\n    }\n\n    .dataframe tbody tr th {\n        vertical-align: top;\n    }\n\n    .dataframe thead th {\n        text-align: right;\n    }\n</style>\n<table border=\"1\" class=\"dataframe\">\n  <thead>\n    <tr style=\"text-align: right;\">\n      <th></th>\n      <th>temp_pi</th>\n      <th>hum_pi</th>\n      <th>PM1_pi</th>\n      <th>PM2.5_pi</th>\n      <th>PM10_pi</th>\n    </tr>\n  </thead>\n  <tbody>\n    <tr>\n      <th>0</th>\n      <td>25.128571</td>\n      <td>36.428571</td>\n      <td>4.015714</td>\n      <td>9.323571</td>\n      <td>14.962143</td>\n    </tr>\n    <tr>\n      <th>1</th>\n      <td>24.350000</td>\n      <td>34.175000</td>\n      <td>2.905000</td>\n      <td>8.352500</td>\n      <td>14.282500</td>\n    </tr>\n    <tr>\n      <th>2</th>\n      <td>6.480000</td>\n      <td>49.986667</td>\n      <td>5.054000</td>\n      <td>11.749333</td>\n      <td>18.859333</td>\n    </tr>\n    <tr>\n      <th>3</th>\n      <td>3.066667</td>\n      <td>61.100000</td>\n      <td>7.343333</td>\n      <td>17.540833</td>\n      <td>28.408333</td>\n    </tr>\n    <tr>\n      <th>4</th>\n      <td>2.458333</td>\n      <td>66.141667</td>\n      <td>6.643333</td>\n      <td>14.654167</td>\n      <td>23.088333</td>\n    </tr>\n    <tr>\n      <th>...</th>\n      <td>...</td>\n      <td>...</td>\n      <td>...</td>\n      <td>...</td>\n      <td>...</td>\n    </tr>\n    <tr>\n      <th>1075</th>\n      <td>18.481818</td>\n      <td>37.609091</td>\n      <td>2.420909</td>\n      <td>4.647273</td>\n      <td>6.926364</td>\n    </tr>\n    <tr>\n      <th>1076</th>\n      <td>16.550000</td>\n      <td>50.075000</td>\n      <td>3.684167</td>\n      <td>8.526667</td>\n      <td>13.664167</td>\n    </tr>\n    <tr>\n      <th>1077</th>\n      <td>14.775000</td>\n      <td>64.150000</td>\n      <td>6.013333</td>\n      <td>12.902500</td>\n      <td>20.120833</td>\n    </tr>\n    <tr>\n      <th>1078</th>\n      <td>14.375000</td>\n      <td>64.841667</td>\n      <td>3.553333</td>\n      <td>6.644167</td>\n      <td>9.780833</td>\n    </tr>\n    <tr>\n      <th>1079</th>\n      <td>14.200000</td>\n      <td>64.000000</td>\n      <td>3.131429</td>\n      <td>7.692857</td>\n      <td>12.567143</td>\n    </tr>\n  </tbody>\n</table>\n<p>1080 rows × 5 columns</p>\n</div>"
     },
     "metadata": {},
     "execution_count": 33
    }
   ],
   "source": [
    "data"
   ]
  },
  {
   "cell_type": "code",
   "execution_count": 34,
   "id": "floppy-simpson",
   "metadata": {},
   "outputs": [],
   "source": [
    "features_new = []\n",
    "for i in range(HISTORY):\n",
    "    features_new += [f + \"_t\" + str(i) for f in features]"
   ]
  },
  {
   "cell_type": "code",
   "execution_count": 35,
   "id": "polished-handling",
   "metadata": {},
   "outputs": [],
   "source": [
    "features_new += targets \n",
    "features_new += ['hour', 'loc']"
   ]
  },
  {
   "cell_type": "code",
   "execution_count": 36,
   "id": "macro-roots",
   "metadata": {
    "scrolled": true
   },
   "outputs": [],
   "source": [
    "x = math.ceil(data.shape[0]/OVERLAP)\n",
    "y = len(features_new) \n",
    "data_new = np.zeros((x, y))"
   ]
  },
  {
   "cell_type": "code",
   "execution_count": 37,
   "id": "artistic-ambassador",
   "metadata": {},
   "outputs": [],
   "source": [
    "k = 0\n",
    "for i in range(HISTORY - 1, data.shape[0] - 1, OVERLAP):\n",
    "    temp = np.zeros(len(features_new))\n",
    "    for j in range(HISTORY):\n",
    "        temp[j*(len(features)):(j+1)*(len(features))] = data.iloc[i - j, :]\n",
    "    \n",
    "    temp[len(features)*HISTORY] = data.iloc[i+1, 3]\n",
    "    temp[len(features)*HISTORY+1] = data.iloc[i+1, 4]\n",
    "    temp[len(features)*HISTORY+2] = hours[i]\n",
    "    temp[len(features)*HISTORY+3] = 0 if locs[i] == 'A' else 1\n",
    "    data_new[k,:] = temp\n",
    "    k += 1"
   ]
  },
  {
   "cell_type": "code",
   "execution_count": 38,
   "id": "martial-simpson",
   "metadata": {},
   "outputs": [],
   "source": [
    "data_new = pd.DataFrame(data_new, columns=features_new)"
   ]
  },
  {
   "cell_type": "code",
   "execution_count": 39,
   "id": "harmful-lambda",
   "metadata": {},
   "outputs": [
    {
     "output_type": "execute_result",
     "data": {
      "text/plain": [
       "      temp_pi_t0  hum_pi_t0  PM1_pi_t0  PM2.5_pi_t0  PM10_pi_t0  temp_pi_t1  \\\n",
       "0       2.200000  67.791667   7.280000    14.491667   21.935833    2.458333   \n",
       "1       2.075000  69.941667   6.376667    11.823333   17.340833    2.200000   \n",
       "2       2.050000  71.791667   8.087500    16.170000   24.518333    2.075000   \n",
       "3       1.983333  69.816667   6.544167    13.952500   21.710833    2.050000   \n",
       "4       1.758333  69.583333   5.843333    10.430833   15.020833    1.983333   \n",
       "...          ...        ...        ...          ...         ...         ...   \n",
       "1075    0.000000   0.000000   0.000000     0.000000    0.000000    0.000000   \n",
       "1076    0.000000   0.000000   0.000000     0.000000    0.000000    0.000000   \n",
       "1077    0.000000   0.000000   0.000000     0.000000    0.000000    0.000000   \n",
       "1078    0.000000   0.000000   0.000000     0.000000    0.000000    0.000000   \n",
       "1079    0.000000   0.000000   0.000000     0.000000    0.000000    0.000000   \n",
       "\n",
       "      hum_pi_t1  PM1_pi_t1  PM2.5_pi_t1  PM10_pi_t1  ...  PM10_pi_t4  \\\n",
       "0     66.141667   6.643333    14.654167   23.088333  ...   14.282500   \n",
       "1     67.791667   7.280000    14.491667   21.935833  ...   18.859333   \n",
       "2     69.941667   6.376667    11.823333   17.340833  ...   28.408333   \n",
       "3     71.791667   8.087500    16.170000   24.518333  ...   23.088333   \n",
       "4     69.816667   6.544167    13.952500   21.710833  ...   21.935833   \n",
       "...         ...        ...          ...         ...  ...         ...   \n",
       "1075   0.000000   0.000000     0.000000    0.000000  ...    0.000000   \n",
       "1076   0.000000   0.000000     0.000000    0.000000  ...    0.000000   \n",
       "1077   0.000000   0.000000     0.000000    0.000000  ...    0.000000   \n",
       "1078   0.000000   0.000000     0.000000    0.000000  ...    0.000000   \n",
       "1079   0.000000   0.000000     0.000000    0.000000  ...    0.000000   \n",
       "\n",
       "      temp_pi_t5  hum_pi_t5  PM1_pi_t5  PM2.5_pi_t5  PM10_pi_t5   PM2.5_pi  \\\n",
       "0      25.128571  36.428571   4.015714     9.323571   14.962143  11.823333   \n",
       "1      24.350000  34.175000   2.905000     8.352500   14.282500  16.170000   \n",
       "2       6.480000  49.986667   5.054000    11.749333   18.859333  13.952500   \n",
       "3       3.066667  61.100000   7.343333    17.540833   28.408333  10.430833   \n",
       "4       2.458333  66.141667   6.643333    14.654167   23.088333   7.693333   \n",
       "...          ...        ...        ...          ...         ...        ...   \n",
       "1075    0.000000   0.000000   0.000000     0.000000    0.000000   0.000000   \n",
       "1076    0.000000   0.000000   0.000000     0.000000    0.000000   0.000000   \n",
       "1077    0.000000   0.000000   0.000000     0.000000    0.000000   0.000000   \n",
       "1078    0.000000   0.000000   0.000000     0.000000    0.000000   0.000000   \n",
       "1079    0.000000   0.000000   0.000000     0.000000    0.000000   0.000000   \n",
       "\n",
       "        PM10_pi  hour  loc  \n",
       "0     17.340833  21.0  0.0  \n",
       "1     24.518333  22.0  0.0  \n",
       "2     21.710833  23.0  0.0  \n",
       "3     15.020833   0.0  0.0  \n",
       "4     11.190000   1.0  0.0  \n",
       "...         ...   ...  ...  \n",
       "1075   0.000000   0.0  0.0  \n",
       "1076   0.000000   0.0  0.0  \n",
       "1077   0.000000   0.0  0.0  \n",
       "1078   0.000000   0.0  0.0  \n",
       "1079   0.000000   0.0  0.0  \n",
       "\n",
       "[1080 rows x 34 columns]"
      ],
      "text/html": "<div>\n<style scoped>\n    .dataframe tbody tr th:only-of-type {\n        vertical-align: middle;\n    }\n\n    .dataframe tbody tr th {\n        vertical-align: top;\n    }\n\n    .dataframe thead th {\n        text-align: right;\n    }\n</style>\n<table border=\"1\" class=\"dataframe\">\n  <thead>\n    <tr style=\"text-align: right;\">\n      <th></th>\n      <th>temp_pi_t0</th>\n      <th>hum_pi_t0</th>\n      <th>PM1_pi_t0</th>\n      <th>PM2.5_pi_t0</th>\n      <th>PM10_pi_t0</th>\n      <th>temp_pi_t1</th>\n      <th>hum_pi_t1</th>\n      <th>PM1_pi_t1</th>\n      <th>PM2.5_pi_t1</th>\n      <th>PM10_pi_t1</th>\n      <th>...</th>\n      <th>PM10_pi_t4</th>\n      <th>temp_pi_t5</th>\n      <th>hum_pi_t5</th>\n      <th>PM1_pi_t5</th>\n      <th>PM2.5_pi_t5</th>\n      <th>PM10_pi_t5</th>\n      <th>PM2.5_pi</th>\n      <th>PM10_pi</th>\n      <th>hour</th>\n      <th>loc</th>\n    </tr>\n  </thead>\n  <tbody>\n    <tr>\n      <th>0</th>\n      <td>2.200000</td>\n      <td>67.791667</td>\n      <td>7.280000</td>\n      <td>14.491667</td>\n      <td>21.935833</td>\n      <td>2.458333</td>\n      <td>66.141667</td>\n      <td>6.643333</td>\n      <td>14.654167</td>\n      <td>23.088333</td>\n      <td>...</td>\n      <td>14.282500</td>\n      <td>25.128571</td>\n      <td>36.428571</td>\n      <td>4.015714</td>\n      <td>9.323571</td>\n      <td>14.962143</td>\n      <td>11.823333</td>\n      <td>17.340833</td>\n      <td>21.0</td>\n      <td>0.0</td>\n    </tr>\n    <tr>\n      <th>1</th>\n      <td>2.075000</td>\n      <td>69.941667</td>\n      <td>6.376667</td>\n      <td>11.823333</td>\n      <td>17.340833</td>\n      <td>2.200000</td>\n      <td>67.791667</td>\n      <td>7.280000</td>\n      <td>14.491667</td>\n      <td>21.935833</td>\n      <td>...</td>\n      <td>18.859333</td>\n      <td>24.350000</td>\n      <td>34.175000</td>\n      <td>2.905000</td>\n      <td>8.352500</td>\n      <td>14.282500</td>\n      <td>16.170000</td>\n      <td>24.518333</td>\n      <td>22.0</td>\n      <td>0.0</td>\n    </tr>\n    <tr>\n      <th>2</th>\n      <td>2.050000</td>\n      <td>71.791667</td>\n      <td>8.087500</td>\n      <td>16.170000</td>\n      <td>24.518333</td>\n      <td>2.075000</td>\n      <td>69.941667</td>\n      <td>6.376667</td>\n      <td>11.823333</td>\n      <td>17.340833</td>\n      <td>...</td>\n      <td>28.408333</td>\n      <td>6.480000</td>\n      <td>49.986667</td>\n      <td>5.054000</td>\n      <td>11.749333</td>\n      <td>18.859333</td>\n      <td>13.952500</td>\n      <td>21.710833</td>\n      <td>23.0</td>\n      <td>0.0</td>\n    </tr>\n    <tr>\n      <th>3</th>\n      <td>1.983333</td>\n      <td>69.816667</td>\n      <td>6.544167</td>\n      <td>13.952500</td>\n      <td>21.710833</td>\n      <td>2.050000</td>\n      <td>71.791667</td>\n      <td>8.087500</td>\n      <td>16.170000</td>\n      <td>24.518333</td>\n      <td>...</td>\n      <td>23.088333</td>\n      <td>3.066667</td>\n      <td>61.100000</td>\n      <td>7.343333</td>\n      <td>17.540833</td>\n      <td>28.408333</td>\n      <td>10.430833</td>\n      <td>15.020833</td>\n      <td>0.0</td>\n      <td>0.0</td>\n    </tr>\n    <tr>\n      <th>4</th>\n      <td>1.758333</td>\n      <td>69.583333</td>\n      <td>5.843333</td>\n      <td>10.430833</td>\n      <td>15.020833</td>\n      <td>1.983333</td>\n      <td>69.816667</td>\n      <td>6.544167</td>\n      <td>13.952500</td>\n      <td>21.710833</td>\n      <td>...</td>\n      <td>21.935833</td>\n      <td>2.458333</td>\n      <td>66.141667</td>\n      <td>6.643333</td>\n      <td>14.654167</td>\n      <td>23.088333</td>\n      <td>7.693333</td>\n      <td>11.190000</td>\n      <td>1.0</td>\n      <td>0.0</td>\n    </tr>\n    <tr>\n      <th>...</th>\n      <td>...</td>\n      <td>...</td>\n      <td>...</td>\n      <td>...</td>\n      <td>...</td>\n      <td>...</td>\n      <td>...</td>\n      <td>...</td>\n      <td>...</td>\n      <td>...</td>\n      <td>...</td>\n      <td>...</td>\n      <td>...</td>\n      <td>...</td>\n      <td>...</td>\n      <td>...</td>\n      <td>...</td>\n      <td>...</td>\n      <td>...</td>\n      <td>...</td>\n      <td>...</td>\n    </tr>\n    <tr>\n      <th>1075</th>\n      <td>0.000000</td>\n      <td>0.000000</td>\n      <td>0.000000</td>\n      <td>0.000000</td>\n      <td>0.000000</td>\n      <td>0.000000</td>\n      <td>0.000000</td>\n      <td>0.000000</td>\n      <td>0.000000</td>\n      <td>0.000000</td>\n      <td>...</td>\n      <td>0.000000</td>\n      <td>0.000000</td>\n      <td>0.000000</td>\n      <td>0.000000</td>\n      <td>0.000000</td>\n      <td>0.000000</td>\n      <td>0.000000</td>\n      <td>0.000000</td>\n      <td>0.0</td>\n      <td>0.0</td>\n    </tr>\n    <tr>\n      <th>1076</th>\n      <td>0.000000</td>\n      <td>0.000000</td>\n      <td>0.000000</td>\n      <td>0.000000</td>\n      <td>0.000000</td>\n      <td>0.000000</td>\n      <td>0.000000</td>\n      <td>0.000000</td>\n      <td>0.000000</td>\n      <td>0.000000</td>\n      <td>...</td>\n      <td>0.000000</td>\n      <td>0.000000</td>\n      <td>0.000000</td>\n      <td>0.000000</td>\n      <td>0.000000</td>\n      <td>0.000000</td>\n      <td>0.000000</td>\n      <td>0.000000</td>\n      <td>0.0</td>\n      <td>0.0</td>\n    </tr>\n    <tr>\n      <th>1077</th>\n      <td>0.000000</td>\n      <td>0.000000</td>\n      <td>0.000000</td>\n      <td>0.000000</td>\n      <td>0.000000</td>\n      <td>0.000000</td>\n      <td>0.000000</td>\n      <td>0.000000</td>\n      <td>0.000000</td>\n      <td>0.000000</td>\n      <td>...</td>\n      <td>0.000000</td>\n      <td>0.000000</td>\n      <td>0.000000</td>\n      <td>0.000000</td>\n      <td>0.000000</td>\n      <td>0.000000</td>\n      <td>0.000000</td>\n      <td>0.000000</td>\n      <td>0.0</td>\n      <td>0.0</td>\n    </tr>\n    <tr>\n      <th>1078</th>\n      <td>0.000000</td>\n      <td>0.000000</td>\n      <td>0.000000</td>\n      <td>0.000000</td>\n      <td>0.000000</td>\n      <td>0.000000</td>\n      <td>0.000000</td>\n      <td>0.000000</td>\n      <td>0.000000</td>\n      <td>0.000000</td>\n      <td>...</td>\n      <td>0.000000</td>\n      <td>0.000000</td>\n      <td>0.000000</td>\n      <td>0.000000</td>\n      <td>0.000000</td>\n      <td>0.000000</td>\n      <td>0.000000</td>\n      <td>0.000000</td>\n      <td>0.0</td>\n      <td>0.0</td>\n    </tr>\n    <tr>\n      <th>1079</th>\n      <td>0.000000</td>\n      <td>0.000000</td>\n      <td>0.000000</td>\n      <td>0.000000</td>\n      <td>0.000000</td>\n      <td>0.000000</td>\n      <td>0.000000</td>\n      <td>0.000000</td>\n      <td>0.000000</td>\n      <td>0.000000</td>\n      <td>...</td>\n      <td>0.000000</td>\n      <td>0.000000</td>\n      <td>0.000000</td>\n      <td>0.000000</td>\n      <td>0.000000</td>\n      <td>0.000000</td>\n      <td>0.000000</td>\n      <td>0.000000</td>\n      <td>0.0</td>\n      <td>0.0</td>\n    </tr>\n  </tbody>\n</table>\n<p>1080 rows × 34 columns</p>\n</div>"
     },
     "metadata": {},
     "execution_count": 39
    }
   ],
   "source": [
    "data_new"
   ]
  },
  {
   "cell_type": "code",
   "execution_count": 22,
   "id": "deadly-correction",
   "metadata": {},
   "outputs": [],
   "source": [
    "data_new.to_csv('30min_model_data_pi.csv')"
   ]
  },
  {
   "cell_type": "code",
   "execution_count": null,
   "id": "purple-command",
   "metadata": {},
   "outputs": [],
   "source": []
  }
 ],
 "metadata": {
  "kernelspec": {
   "name": "python392jvsc74a57bd09c37b94ccca2f18d03b659a72753d264a7b74a687613b78bb098479583b4d9e2",
   "display_name": "Python 3.9.2 64-bit ('coss': conda)"
  },
  "language_info": {
   "codemirror_mode": {
    "name": "ipython",
    "version": 3
   },
   "file_extension": ".py",
   "mimetype": "text/x-python",
   "name": "python",
   "nbconvert_exporter": "python",
   "pygments_lexer": "ipython3",
   "version": "3.9.2"
  },
  "metadata": {
   "interpreter": {
    "hash": "9c37b94ccca2f18d03b659a72753d264a7b74a687613b78bb098479583b4d9e2"
   }
  }
 },
 "nbformat": 4,
 "nbformat_minor": 5
}