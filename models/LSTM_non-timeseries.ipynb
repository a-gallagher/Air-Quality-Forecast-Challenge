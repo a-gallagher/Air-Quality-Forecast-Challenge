{
 "metadata": {
  "language_info": {
   "codemirror_mode": {
    "name": "ipython",
    "version": 3
   },
   "file_extension": ".py",
   "mimetype": "text/x-python",
   "name": "python",
   "nbconvert_exporter": "python",
   "pygments_lexer": "ipython3",
   "version": "3.7.10"
  },
  "orig_nbformat": 2,
  "kernelspec": {
   "name": "python3710jvsc74a57bd09e5addec0265f82113593c0c0666c294dca5e27b55fafbc7e9d94077bbbb9802",
   "display_name": "Python 3.7.10 64-bit ('tf2.0': conda)"
  }
 },
 "nbformat": 4,
 "nbformat_minor": 2,
 "cells": [
  {
   "source": [
    "# LSTM\n",
    "### Raw data (Non time-series)\n",
    "Only pi data (analysis part)"
   ],
   "cell_type": "markdown",
   "metadata": {}
  },
  {
   "cell_type": "code",
   "execution_count": 1,
   "metadata": {},
   "outputs": [
    {
     "output_type": "stream",
     "name": "stderr",
     "text": [
      "C:\\Users\\ay0un\\anaconda3\\envs\\tf2.0\\lib\\site-packages\\tensorflow\\python\\framework\\dtypes.py:516: FutureWarning: Passing (type, 1) or '1type' as a synonym of type is deprecated; in a future version of numpy, it will be understood as (type, (1,)) / '(1,)type'.\n",
      "  _np_qint8 = np.dtype([(\"qint8\", np.int8, 1)])\n",
      "C:\\Users\\ay0un\\anaconda3\\envs\\tf2.0\\lib\\site-packages\\tensorflow\\python\\framework\\dtypes.py:517: FutureWarning: Passing (type, 1) or '1type' as a synonym of type is deprecated; in a future version of numpy, it will be understood as (type, (1,)) / '(1,)type'.\n",
      "  _np_quint8 = np.dtype([(\"quint8\", np.uint8, 1)])\n",
      "C:\\Users\\ay0un\\anaconda3\\envs\\tf2.0\\lib\\site-packages\\tensorflow\\python\\framework\\dtypes.py:518: FutureWarning: Passing (type, 1) or '1type' as a synonym of type is deprecated; in a future version of numpy, it will be understood as (type, (1,)) / '(1,)type'.\n",
      "  _np_qint16 = np.dtype([(\"qint16\", np.int16, 1)])\n",
      "C:\\Users\\ay0un\\anaconda3\\envs\\tf2.0\\lib\\site-packages\\tensorflow\\python\\framework\\dtypes.py:519: FutureWarning: Passing (type, 1) or '1type' as a synonym of type is deprecated; in a future version of numpy, it will be understood as (type, (1,)) / '(1,)type'.\n",
      "  _np_quint16 = np.dtype([(\"quint16\", np.uint16, 1)])\n",
      "C:\\Users\\ay0un\\anaconda3\\envs\\tf2.0\\lib\\site-packages\\tensorflow\\python\\framework\\dtypes.py:520: FutureWarning: Passing (type, 1) or '1type' as a synonym of type is deprecated; in a future version of numpy, it will be understood as (type, (1,)) / '(1,)type'.\n",
      "  _np_qint32 = np.dtype([(\"qint32\", np.int32, 1)])\n",
      "C:\\Users\\ay0un\\anaconda3\\envs\\tf2.0\\lib\\site-packages\\tensorflow\\python\\framework\\dtypes.py:525: FutureWarning: Passing (type, 1) or '1type' as a synonym of type is deprecated; in a future version of numpy, it will be understood as (type, (1,)) / '(1,)type'.\n",
      "  np_resource = np.dtype([(\"resource\", np.ubyte, 1)])\n",
      "C:\\Users\\ay0un\\anaconda3\\envs\\tf2.0\\lib\\site-packages\\tensorboard\\compat\\tensorflow_stub\\dtypes.py:541: FutureWarning: Passing (type, 1) or '1type' as a synonym of type is deprecated; in a future version of numpy, it will be understood as (type, (1,)) / '(1,)type'.\n",
      "  _np_qint8 = np.dtype([(\"qint8\", np.int8, 1)])\n",
      "C:\\Users\\ay0un\\anaconda3\\envs\\tf2.0\\lib\\site-packages\\tensorboard\\compat\\tensorflow_stub\\dtypes.py:542: FutureWarning: Passing (type, 1) or '1type' as a synonym of type is deprecated; in a future version of numpy, it will be understood as (type, (1,)) / '(1,)type'.\n",
      "  _np_quint8 = np.dtype([(\"quint8\", np.uint8, 1)])\n",
      "C:\\Users\\ay0un\\anaconda3\\envs\\tf2.0\\lib\\site-packages\\tensorboard\\compat\\tensorflow_stub\\dtypes.py:543: FutureWarning: Passing (type, 1) or '1type' as a synonym of type is deprecated; in a future version of numpy, it will be understood as (type, (1,)) / '(1,)type'.\n",
      "  _np_qint16 = np.dtype([(\"qint16\", np.int16, 1)])\n",
      "C:\\Users\\ay0un\\anaconda3\\envs\\tf2.0\\lib\\site-packages\\tensorboard\\compat\\tensorflow_stub\\dtypes.py:544: FutureWarning: Passing (type, 1) or '1type' as a synonym of type is deprecated; in a future version of numpy, it will be understood as (type, (1,)) / '(1,)type'.\n",
      "  _np_quint16 = np.dtype([(\"quint16\", np.uint16, 1)])\n",
      "C:\\Users\\ay0un\\anaconda3\\envs\\tf2.0\\lib\\site-packages\\tensorboard\\compat\\tensorflow_stub\\dtypes.py:545: FutureWarning: Passing (type, 1) or '1type' as a synonym of type is deprecated; in a future version of numpy, it will be understood as (type, (1,)) / '(1,)type'.\n",
      "  _np_qint32 = np.dtype([(\"qint32\", np.int32, 1)])\n",
      "C:\\Users\\ay0un\\anaconda3\\envs\\tf2.0\\lib\\site-packages\\tensorboard\\compat\\tensorflow_stub\\dtypes.py:550: FutureWarning: Passing (type, 1) or '1type' as a synonym of type is deprecated; in a future version of numpy, it will be understood as (type, (1,)) / '(1,)type'.\n",
      "  np_resource = np.dtype([(\"resource\", np.ubyte, 1)])\n"
     ]
    }
   ],
   "source": [
    "import tensorflow as tf\n",
    "import numpy as np\n",
    "import pandas as pd\n",
    "import matplotlib.pyplot as plt\n",
    "from sklearn.metrics import mean_squared_error, mean_absolute_error\n",
    "from sklearn.model_selection import train_test_split\n",
    "from sklearn.preprocessing import StandardScaler"
   ]
  },
  {
   "cell_type": "code",
   "execution_count": 2,
   "metadata": {},
   "outputs": [],
   "source": [
    "from tensorflow.keras.layers import Input, Dense, Activation,Dropout\n",
    "from tensorflow.keras.models import Model\n",
    "from tensorflow.keras import preprocessing"
   ]
  },
  {
   "cell_type": "code",
   "execution_count": 3,
   "metadata": {},
   "outputs": [],
   "source": [
    "import pandas as pd\n",
    "import numpy as np\n",
    "from tensorflow import keras\n",
    "import matplotlib.pyplot as plt\n",
    "from sklearn.preprocessing import MinMaxScaler\n",
    "from pandas.plotting import register_matplotlib_converters\n",
    "register_matplotlib_converters()\n",
    "from tensorflow.keras.preprocessing.sequence import TimeseriesGenerator\n",
    "from tensorflow.keras.models import Sequential\n",
    "from tensorflow.keras.layers import Dense\n",
    "from tensorflow.keras.layers import LSTM\n"
   ]
  },
  {
   "cell_type": "code",
   "execution_count": 133,
   "metadata": {},
   "outputs": [],
   "source": [
    "# Data preparation\n",
    "data = pd.read_csv('1h_sampled_data.csv')\n",
    "data.dropna(inplace=True)\n",
    "data.reset_index(drop=True, inplace=True)\n"
   ]
  },
  {
   "cell_type": "code",
   "execution_count": 134,
   "metadata": {},
   "outputs": [
    {
     "output_type": "execute_result",
     "data": {
      "text/plain": [
       "                        time    temp_pi     hum_pi    PM1_pi   PM2.5_pi  \\\n",
       "0  2021-03-23 10:00:00+01:00   8.316667  53.283333  6.042500  11.798333   \n",
       "1  2021-03-23 11:00:00+01:00  13.408333  38.358333  4.840833  10.010000   \n",
       "2  2021-03-23 12:00:00+01:00  17.391667  32.191667  5.140833   7.510833   \n",
       "3  2021-03-23 14:00:00+01:00  19.983333  28.125000  4.610000  10.042500   \n",
       "4  2021-03-23 15:00:00+01:00  17.625000  30.933333  4.365000   9.652500   \n",
       "\n",
       "     PM10_pi  temp_blue  precip  hum_blue  wind_speed  ...  hum_sbs  wind  \\\n",
       "0  17.710000   3.106314     0.0      76.0    5.116561  ...     65.0   3.7   \n",
       "1  15.388333   5.416314     0.0      67.0    6.924738  ...     65.0   3.7   \n",
       "2   9.632500   7.216313     0.0      55.0    7.421590  ...     57.0  14.8   \n",
       "3  15.750000   9.586313     0.0      39.0   11.269782  ...     40.0  11.1   \n",
       "4  15.223333  10.446314     0.0      37.0    9.826088  ...     40.0  11.1   \n",
       "\n",
       "  pressure  PM2.5  PM10   AQI                           sunrise  \\\n",
       "0   1025.0   16.0  24.3  59.0  2021-03-23 06:22:52.709917+01:00   \n",
       "1   1025.0   14.0  20.9  55.0  2021-03-23 06:22:52.709917+01:00   \n",
       "2   1025.0   12.0  17.3  50.0  2021-03-23 06:22:52.709917+01:00   \n",
       "3   1025.0   11.0  16.2  45.0  2021-03-23 06:22:52.709917+01:00   \n",
       "4   1025.0   10.0  15.0  41.0  2021-03-23 06:22:52.709917+01:00   \n",
       "\n",
       "                        noon                            sunset  \\\n",
       "0  2021-03-23 12:32:27+01:00  2021-03-23 18:42:36.960331+01:00   \n",
       "1  2021-03-23 12:32:27+01:00  2021-03-23 18:42:36.960331+01:00   \n",
       "2  2021-03-23 12:32:27+01:00  2021-03-23 18:42:36.960331+01:00   \n",
       "3  2021-03-23 12:32:27+01:00  2021-03-23 18:42:36.960331+01:00   \n",
       "4  2021-03-23 12:32:27+01:00  2021-03-23 18:42:36.960331+01:00   \n",
       "\n",
       "                 daylight  \n",
       "0  0 days 12:19:44.250414  \n",
       "1  0 days 12:19:44.250414  \n",
       "2  0 days 12:19:44.250414  \n",
       "3  0 days 12:19:44.250414  \n",
       "4  0 days 12:19:44.250414  \n",
       "\n",
       "[5 rows x 24 columns]"
      ],
      "text/html": "<div>\n<style scoped>\n    .dataframe tbody tr th:only-of-type {\n        vertical-align: middle;\n    }\n\n    .dataframe tbody tr th {\n        vertical-align: top;\n    }\n\n    .dataframe thead th {\n        text-align: right;\n    }\n</style>\n<table border=\"1\" class=\"dataframe\">\n  <thead>\n    <tr style=\"text-align: right;\">\n      <th></th>\n      <th>time</th>\n      <th>temp_pi</th>\n      <th>hum_pi</th>\n      <th>PM1_pi</th>\n      <th>PM2.5_pi</th>\n      <th>PM10_pi</th>\n      <th>temp_blue</th>\n      <th>precip</th>\n      <th>hum_blue</th>\n      <th>wind_speed</th>\n      <th>...</th>\n      <th>hum_sbs</th>\n      <th>wind</th>\n      <th>pressure</th>\n      <th>PM2.5</th>\n      <th>PM10</th>\n      <th>AQI</th>\n      <th>sunrise</th>\n      <th>noon</th>\n      <th>sunset</th>\n      <th>daylight</th>\n    </tr>\n  </thead>\n  <tbody>\n    <tr>\n      <th>0</th>\n      <td>2021-03-23 10:00:00+01:00</td>\n      <td>8.316667</td>\n      <td>53.283333</td>\n      <td>6.042500</td>\n      <td>11.798333</td>\n      <td>17.710000</td>\n      <td>3.106314</td>\n      <td>0.0</td>\n      <td>76.0</td>\n      <td>5.116561</td>\n      <td>...</td>\n      <td>65.0</td>\n      <td>3.7</td>\n      <td>1025.0</td>\n      <td>16.0</td>\n      <td>24.3</td>\n      <td>59.0</td>\n      <td>2021-03-23 06:22:52.709917+01:00</td>\n      <td>2021-03-23 12:32:27+01:00</td>\n      <td>2021-03-23 18:42:36.960331+01:00</td>\n      <td>0 days 12:19:44.250414</td>\n    </tr>\n    <tr>\n      <th>1</th>\n      <td>2021-03-23 11:00:00+01:00</td>\n      <td>13.408333</td>\n      <td>38.358333</td>\n      <td>4.840833</td>\n      <td>10.010000</td>\n      <td>15.388333</td>\n      <td>5.416314</td>\n      <td>0.0</td>\n      <td>67.0</td>\n      <td>6.924738</td>\n      <td>...</td>\n      <td>65.0</td>\n      <td>3.7</td>\n      <td>1025.0</td>\n      <td>14.0</td>\n      <td>20.9</td>\n      <td>55.0</td>\n      <td>2021-03-23 06:22:52.709917+01:00</td>\n      <td>2021-03-23 12:32:27+01:00</td>\n      <td>2021-03-23 18:42:36.960331+01:00</td>\n      <td>0 days 12:19:44.250414</td>\n    </tr>\n    <tr>\n      <th>2</th>\n      <td>2021-03-23 12:00:00+01:00</td>\n      <td>17.391667</td>\n      <td>32.191667</td>\n      <td>5.140833</td>\n      <td>7.510833</td>\n      <td>9.632500</td>\n      <td>7.216313</td>\n      <td>0.0</td>\n      <td>55.0</td>\n      <td>7.421590</td>\n      <td>...</td>\n      <td>57.0</td>\n      <td>14.8</td>\n      <td>1025.0</td>\n      <td>12.0</td>\n      <td>17.3</td>\n      <td>50.0</td>\n      <td>2021-03-23 06:22:52.709917+01:00</td>\n      <td>2021-03-23 12:32:27+01:00</td>\n      <td>2021-03-23 18:42:36.960331+01:00</td>\n      <td>0 days 12:19:44.250414</td>\n    </tr>\n    <tr>\n      <th>3</th>\n      <td>2021-03-23 14:00:00+01:00</td>\n      <td>19.983333</td>\n      <td>28.125000</td>\n      <td>4.610000</td>\n      <td>10.042500</td>\n      <td>15.750000</td>\n      <td>9.586313</td>\n      <td>0.0</td>\n      <td>39.0</td>\n      <td>11.269782</td>\n      <td>...</td>\n      <td>40.0</td>\n      <td>11.1</td>\n      <td>1025.0</td>\n      <td>11.0</td>\n      <td>16.2</td>\n      <td>45.0</td>\n      <td>2021-03-23 06:22:52.709917+01:00</td>\n      <td>2021-03-23 12:32:27+01:00</td>\n      <td>2021-03-23 18:42:36.960331+01:00</td>\n      <td>0 days 12:19:44.250414</td>\n    </tr>\n    <tr>\n      <th>4</th>\n      <td>2021-03-23 15:00:00+01:00</td>\n      <td>17.625000</td>\n      <td>30.933333</td>\n      <td>4.365000</td>\n      <td>9.652500</td>\n      <td>15.223333</td>\n      <td>10.446314</td>\n      <td>0.0</td>\n      <td>37.0</td>\n      <td>9.826088</td>\n      <td>...</td>\n      <td>40.0</td>\n      <td>11.1</td>\n      <td>1025.0</td>\n      <td>10.0</td>\n      <td>15.0</td>\n      <td>41.0</td>\n      <td>2021-03-23 06:22:52.709917+01:00</td>\n      <td>2021-03-23 12:32:27+01:00</td>\n      <td>2021-03-23 18:42:36.960331+01:00</td>\n      <td>0 days 12:19:44.250414</td>\n    </tr>\n  </tbody>\n</table>\n<p>5 rows × 24 columns</p>\n</div>"
     },
     "metadata": {},
     "execution_count": 134
    }
   ],
   "source": [
    "data.head()"
   ]
  },
  {
   "cell_type": "code",
   "execution_count": 135,
   "metadata": {},
   "outputs": [
    {
     "output_type": "execute_result",
     "data": {
      "text/plain": [
       "Index(['time', 'temp_pi', 'hum_pi', 'PM1_pi', 'PM2.5_pi', 'PM10_pi',\n",
       "       'temp_blue', 'precip', 'hum_blue', 'wind_speed', 'wind_direction',\n",
       "       'cloud_cover', 'date', 'temp_sbs', 'hum_sbs', 'wind', 'pressure',\n",
       "       'PM2.5', 'PM10', 'AQI', 'sunrise', 'noon', 'sunset', 'daylight'],\n",
       "      dtype='object')"
      ]
     },
     "metadata": {},
     "execution_count": 135
    }
   ],
   "source": [
    "data.columns"
   ]
  },
  {
   "cell_type": "code",
   "execution_count": 136,
   "metadata": {},
   "outputs": [],
   "source": [
    "data['time'] = pd.to_datetime(data['time'], utc=True)"
   ]
  },
  {
   "cell_type": "code",
   "execution_count": 137,
   "metadata": {},
   "outputs": [],
   "source": [
    "hours = data['time'].dt.hour"
   ]
  },
  {
   "cell_type": "code",
   "execution_count": 138,
   "metadata": {},
   "outputs": [],
   "source": [
    "data['hour'] = hours"
   ]
  },
  {
   "cell_type": "code",
   "execution_count": 139,
   "metadata": {},
   "outputs": [],
   "source": [
    "# designate columns\n",
    "x_pi = ['hour', 'temp_pi', 'hum_pi','precip', 'wind_speed', 'wind_direction','PM1_pi']\n",
    "x_ext = ['hour', 'temp_blue', 'hum_blue','precip', 'wind_speed', 'wind_direction']"
   ]
  },
  {
   "cell_type": "code",
   "execution_count": 140,
   "metadata": {},
   "outputs": [],
   "source": [
    "y_pi = ['PM2.5_pi', 'PM10_pi']\n",
    "y_ext = ['PM2.5', 'PM10']"
   ]
  },
  {
   "cell_type": "code",
   "execution_count": 141,
   "metadata": {},
   "outputs": [
    {
     "output_type": "execute_result",
     "data": {
      "text/plain": [
       "   hour    temp_pi     hum_pi  precip  wind_speed  wind_direction    PM1_pi  \\\n",
       "0     9   8.316667  53.283333     0.0    5.116561       50.710600  6.042500   \n",
       "1    10  13.408333  38.358333     0.0    6.924738       62.102737  4.840833   \n",
       "2    11  17.391667  32.191667     0.0    7.421590       67.166336  5.140833   \n",
       "3    13  19.983333  28.125000     0.0   11.269782       63.434950  4.610000   \n",
       "4    14  17.625000  30.933333     0.0    9.826088       61.557068  4.365000   \n",
       "\n",
       "    PM2.5_pi    PM10_pi  \n",
       "0  11.798333  17.710000  \n",
       "1  10.010000  15.388333  \n",
       "2   7.510833   9.632500  \n",
       "3  10.042500  15.750000  \n",
       "4   9.652500  15.223333  "
      ],
      "text/html": "<div>\n<style scoped>\n    .dataframe tbody tr th:only-of-type {\n        vertical-align: middle;\n    }\n\n    .dataframe tbody tr th {\n        vertical-align: top;\n    }\n\n    .dataframe thead th {\n        text-align: right;\n    }\n</style>\n<table border=\"1\" class=\"dataframe\">\n  <thead>\n    <tr style=\"text-align: right;\">\n      <th></th>\n      <th>hour</th>\n      <th>temp_pi</th>\n      <th>hum_pi</th>\n      <th>precip</th>\n      <th>wind_speed</th>\n      <th>wind_direction</th>\n      <th>PM1_pi</th>\n      <th>PM2.5_pi</th>\n      <th>PM10_pi</th>\n    </tr>\n  </thead>\n  <tbody>\n    <tr>\n      <th>0</th>\n      <td>9</td>\n      <td>8.316667</td>\n      <td>53.283333</td>\n      <td>0.0</td>\n      <td>5.116561</td>\n      <td>50.710600</td>\n      <td>6.042500</td>\n      <td>11.798333</td>\n      <td>17.710000</td>\n    </tr>\n    <tr>\n      <th>1</th>\n      <td>10</td>\n      <td>13.408333</td>\n      <td>38.358333</td>\n      <td>0.0</td>\n      <td>6.924738</td>\n      <td>62.102737</td>\n      <td>4.840833</td>\n      <td>10.010000</td>\n      <td>15.388333</td>\n    </tr>\n    <tr>\n      <th>2</th>\n      <td>11</td>\n      <td>17.391667</td>\n      <td>32.191667</td>\n      <td>0.0</td>\n      <td>7.421590</td>\n      <td>67.166336</td>\n      <td>5.140833</td>\n      <td>7.510833</td>\n      <td>9.632500</td>\n    </tr>\n    <tr>\n      <th>3</th>\n      <td>13</td>\n      <td>19.983333</td>\n      <td>28.125000</td>\n      <td>0.0</td>\n      <td>11.269782</td>\n      <td>63.434950</td>\n      <td>4.610000</td>\n      <td>10.042500</td>\n      <td>15.750000</td>\n    </tr>\n    <tr>\n      <th>4</th>\n      <td>14</td>\n      <td>17.625000</td>\n      <td>30.933333</td>\n      <td>0.0</td>\n      <td>9.826088</td>\n      <td>61.557068</td>\n      <td>4.365000</td>\n      <td>9.652500</td>\n      <td>15.223333</td>\n    </tr>\n  </tbody>\n</table>\n</div>"
     },
     "metadata": {},
     "execution_count": 141
    }
   ],
   "source": [
    "df = data[x_pi+y_pi]\n",
    "df.head()"
   ]
  },
  {
   "cell_type": "code",
   "execution_count": 142,
   "metadata": {},
   "outputs": [
    {
     "output_type": "execute_result",
     "data": {
      "text/plain": [
       "     hour  temp_blue  hum_blue  precip  wind_speed  wind_direction  PM2.5  \\\n",
       "0       9   3.106314      76.0     0.0    5.116561       50.710600   16.0   \n",
       "1      10   5.416314      67.0     0.0    6.924738       62.102737   14.0   \n",
       "2      11   7.216313      55.0     0.0    7.421590       67.166336   12.0   \n",
       "3      13   9.586313      39.0     0.0   11.269782       63.434950   11.0   \n",
       "4      14  10.446314      37.0     0.0    9.826088       61.557068   10.0   \n",
       "..    ...        ...       ...     ...         ...             ...    ...   \n",
       "214    21   8.796313      82.0     0.0   14.345898      287.525570    3.0   \n",
       "215     1   6.816314      89.0     0.3   21.434364      277.721830    3.0   \n",
       "216     3   4.306313      87.0     0.4   18.171976      303.690060    2.0   \n",
       "217     8   1.286314      93.0     1.2   16.935310        2.436646    3.0   \n",
       "218    12   3.176313      72.0     0.0   13.532360       61.389540    5.0   \n",
       "\n",
       "     PM10  \n",
       "0    24.3  \n",
       "1    20.9  \n",
       "2    17.3  \n",
       "3    16.2  \n",
       "4    15.0  \n",
       "..    ...  \n",
       "214   5.1  \n",
       "215   4.4  \n",
       "216   3.5  \n",
       "217   5.6  \n",
       "218   6.5  \n",
       "\n",
       "[219 rows x 8 columns]"
      ],
      "text/html": "<div>\n<style scoped>\n    .dataframe tbody tr th:only-of-type {\n        vertical-align: middle;\n    }\n\n    .dataframe tbody tr th {\n        vertical-align: top;\n    }\n\n    .dataframe thead th {\n        text-align: right;\n    }\n</style>\n<table border=\"1\" class=\"dataframe\">\n  <thead>\n    <tr style=\"text-align: right;\">\n      <th></th>\n      <th>hour</th>\n      <th>temp_blue</th>\n      <th>hum_blue</th>\n      <th>precip</th>\n      <th>wind_speed</th>\n      <th>wind_direction</th>\n      <th>PM2.5</th>\n      <th>PM10</th>\n    </tr>\n  </thead>\n  <tbody>\n    <tr>\n      <th>0</th>\n      <td>9</td>\n      <td>3.106314</td>\n      <td>76.0</td>\n      <td>0.0</td>\n      <td>5.116561</td>\n      <td>50.710600</td>\n      <td>16.0</td>\n      <td>24.3</td>\n    </tr>\n    <tr>\n      <th>1</th>\n      <td>10</td>\n      <td>5.416314</td>\n      <td>67.0</td>\n      <td>0.0</td>\n      <td>6.924738</td>\n      <td>62.102737</td>\n      <td>14.0</td>\n      <td>20.9</td>\n    </tr>\n    <tr>\n      <th>2</th>\n      <td>11</td>\n      <td>7.216313</td>\n      <td>55.0</td>\n      <td>0.0</td>\n      <td>7.421590</td>\n      <td>67.166336</td>\n      <td>12.0</td>\n      <td>17.3</td>\n    </tr>\n    <tr>\n      <th>3</th>\n      <td>13</td>\n      <td>9.586313</td>\n      <td>39.0</td>\n      <td>0.0</td>\n      <td>11.269782</td>\n      <td>63.434950</td>\n      <td>11.0</td>\n      <td>16.2</td>\n    </tr>\n    <tr>\n      <th>4</th>\n      <td>14</td>\n      <td>10.446314</td>\n      <td>37.0</td>\n      <td>0.0</td>\n      <td>9.826088</td>\n      <td>61.557068</td>\n      <td>10.0</td>\n      <td>15.0</td>\n    </tr>\n    <tr>\n      <th>...</th>\n      <td>...</td>\n      <td>...</td>\n      <td>...</td>\n      <td>...</td>\n      <td>...</td>\n      <td>...</td>\n      <td>...</td>\n      <td>...</td>\n    </tr>\n    <tr>\n      <th>214</th>\n      <td>21</td>\n      <td>8.796313</td>\n      <td>82.0</td>\n      <td>0.0</td>\n      <td>14.345898</td>\n      <td>287.525570</td>\n      <td>3.0</td>\n      <td>5.1</td>\n    </tr>\n    <tr>\n      <th>215</th>\n      <td>1</td>\n      <td>6.816314</td>\n      <td>89.0</td>\n      <td>0.3</td>\n      <td>21.434364</td>\n      <td>277.721830</td>\n      <td>3.0</td>\n      <td>4.4</td>\n    </tr>\n    <tr>\n      <th>216</th>\n      <td>3</td>\n      <td>4.306313</td>\n      <td>87.0</td>\n      <td>0.4</td>\n      <td>18.171976</td>\n      <td>303.690060</td>\n      <td>2.0</td>\n      <td>3.5</td>\n    </tr>\n    <tr>\n      <th>217</th>\n      <td>8</td>\n      <td>1.286314</td>\n      <td>93.0</td>\n      <td>1.2</td>\n      <td>16.935310</td>\n      <td>2.436646</td>\n      <td>3.0</td>\n      <td>5.6</td>\n    </tr>\n    <tr>\n      <th>218</th>\n      <td>12</td>\n      <td>3.176313</td>\n      <td>72.0</td>\n      <td>0.0</td>\n      <td>13.532360</td>\n      <td>61.389540</td>\n      <td>5.0</td>\n      <td>6.5</td>\n    </tr>\n  </tbody>\n</table>\n<p>219 rows × 8 columns</p>\n</div>"
     },
     "metadata": {},
     "execution_count": 142
    }
   ],
   "source": [
    "df_ext = data[x_ext + y_ext] \n",
    "df_ext"
   ]
  },
  {
   "source": [
    "## Pi data\n",
    "### PM2.5"
   ],
   "cell_type": "markdown",
   "metadata": {}
  },
  {
   "cell_type": "code",
   "execution_count": 143,
   "metadata": {},
   "outputs": [],
   "source": [
    "# Split train & test\n",
    "n = len(df)\n",
    "train_df = df[0:int(n*0.7)]\n",
    "val_df = df[int(n*0.7):int(n*0.8)]\n",
    "test_df = df[int(n*0.8):]"
   ]
  },
  {
   "cell_type": "code",
   "execution_count": 144,
   "metadata": {},
   "outputs": [],
   "source": [
    "labels = ['PM2.5_pi', 'PM10_pi']"
   ]
  },
  {
   "cell_type": "code",
   "execution_count": 145,
   "metadata": {},
   "outputs": [
    {
     "output_type": "execute_result",
     "data": {
      "text/plain": [
       "   hour    temp_pi     hum_pi  precip  wind_speed  wind_direction    PM1_pi  \\\n",
       "0     9   8.316667  53.283333     0.0    5.116561       50.710600  6.042500   \n",
       "1    10  13.408333  38.358333     0.0    6.924738       62.102737  4.840833   \n",
       "2    11  17.391667  32.191667     0.0    7.421590       67.166336  5.140833   \n",
       "3    13  19.983333  28.125000     0.0   11.269782       63.434950  4.610000   \n",
       "4    14  17.625000  30.933333     0.0    9.826088       61.557068  4.365000   \n",
       "\n",
       "    PM2.5_pi    PM10_pi  \n",
       "0  11.798333  17.710000  \n",
       "1  10.010000  15.388333  \n",
       "2   7.510833   9.632500  \n",
       "3  10.042500  15.750000  \n",
       "4   9.652500  15.223333  "
      ],
      "text/html": "<div>\n<style scoped>\n    .dataframe tbody tr th:only-of-type {\n        vertical-align: middle;\n    }\n\n    .dataframe tbody tr th {\n        vertical-align: top;\n    }\n\n    .dataframe thead th {\n        text-align: right;\n    }\n</style>\n<table border=\"1\" class=\"dataframe\">\n  <thead>\n    <tr style=\"text-align: right;\">\n      <th></th>\n      <th>hour</th>\n      <th>temp_pi</th>\n      <th>hum_pi</th>\n      <th>precip</th>\n      <th>wind_speed</th>\n      <th>wind_direction</th>\n      <th>PM1_pi</th>\n      <th>PM2.5_pi</th>\n      <th>PM10_pi</th>\n    </tr>\n  </thead>\n  <tbody>\n    <tr>\n      <th>0</th>\n      <td>9</td>\n      <td>8.316667</td>\n      <td>53.283333</td>\n      <td>0.0</td>\n      <td>5.116561</td>\n      <td>50.710600</td>\n      <td>6.042500</td>\n      <td>11.798333</td>\n      <td>17.710000</td>\n    </tr>\n    <tr>\n      <th>1</th>\n      <td>10</td>\n      <td>13.408333</td>\n      <td>38.358333</td>\n      <td>0.0</td>\n      <td>6.924738</td>\n      <td>62.102737</td>\n      <td>4.840833</td>\n      <td>10.010000</td>\n      <td>15.388333</td>\n    </tr>\n    <tr>\n      <th>2</th>\n      <td>11</td>\n      <td>17.391667</td>\n      <td>32.191667</td>\n      <td>0.0</td>\n      <td>7.421590</td>\n      <td>67.166336</td>\n      <td>5.140833</td>\n      <td>7.510833</td>\n      <td>9.632500</td>\n    </tr>\n    <tr>\n      <th>3</th>\n      <td>13</td>\n      <td>19.983333</td>\n      <td>28.125000</td>\n      <td>0.0</td>\n      <td>11.269782</td>\n      <td>63.434950</td>\n      <td>4.610000</td>\n      <td>10.042500</td>\n      <td>15.750000</td>\n    </tr>\n    <tr>\n      <th>4</th>\n      <td>14</td>\n      <td>17.625000</td>\n      <td>30.933333</td>\n      <td>0.0</td>\n      <td>9.826088</td>\n      <td>61.557068</td>\n      <td>4.365000</td>\n      <td>9.652500</td>\n      <td>15.223333</td>\n    </tr>\n  </tbody>\n</table>\n</div>"
     },
     "metadata": {},
     "execution_count": 145
    }
   ],
   "source": [
    "X_train = train_df\n",
    "X_train.head()"
   ]
  },
  {
   "cell_type": "code",
   "execution_count": 146,
   "metadata": {},
   "outputs": [],
   "source": [
    "y_train1 = train_df['PM2.5_pi']\n",
    "y_train2 = train_df['PM10_pi']"
   ]
  },
  {
   "cell_type": "code",
   "execution_count": 147,
   "metadata": {},
   "outputs": [],
   "source": [
    "y_train1 = y_train1.to_frame()\n",
    "y_train2 = y_train2.to_frame()"
   ]
  },
  {
   "cell_type": "code",
   "execution_count": 148,
   "metadata": {},
   "outputs": [
    {
     "output_type": "execute_result",
     "data": {
      "text/plain": [
       "     hour   temp_pi     hum_pi  precip  wind_speed  wind_direction    PM1_pi  \\\n",
       "175     3  0.900000  76.941667     0.6   25.407430       277.32642  4.004167   \n",
       "176     6  0.925000  70.475000     0.0   28.894344       300.71890  3.349167   \n",
       "177     8  1.681818  67.300000     0.0   21.566973       303.42480  3.049091   \n",
       "178    10  6.133333  49.016667     0.0   26.944744       292.79650  2.535000   \n",
       "179    12  7.455556  38.100000     0.0   33.120000       270.00000  2.594444   \n",
       "\n",
       "     PM2.5_pi    PM10_pi  \n",
       "175  7.480000  11.010000  \n",
       "176  6.210000   9.105833  \n",
       "177  5.803636   8.612727  \n",
       "178  6.785000  11.372500  \n",
       "179  6.646667  11.003333  "
      ],
      "text/html": "<div>\n<style scoped>\n    .dataframe tbody tr th:only-of-type {\n        vertical-align: middle;\n    }\n\n    .dataframe tbody tr th {\n        vertical-align: top;\n    }\n\n    .dataframe thead th {\n        text-align: right;\n    }\n</style>\n<table border=\"1\" class=\"dataframe\">\n  <thead>\n    <tr style=\"text-align: right;\">\n      <th></th>\n      <th>hour</th>\n      <th>temp_pi</th>\n      <th>hum_pi</th>\n      <th>precip</th>\n      <th>wind_speed</th>\n      <th>wind_direction</th>\n      <th>PM1_pi</th>\n      <th>PM2.5_pi</th>\n      <th>PM10_pi</th>\n    </tr>\n  </thead>\n  <tbody>\n    <tr>\n      <th>175</th>\n      <td>3</td>\n      <td>0.900000</td>\n      <td>76.941667</td>\n      <td>0.6</td>\n      <td>25.407430</td>\n      <td>277.32642</td>\n      <td>4.004167</td>\n      <td>7.480000</td>\n      <td>11.010000</td>\n    </tr>\n    <tr>\n      <th>176</th>\n      <td>6</td>\n      <td>0.925000</td>\n      <td>70.475000</td>\n      <td>0.0</td>\n      <td>28.894344</td>\n      <td>300.71890</td>\n      <td>3.349167</td>\n      <td>6.210000</td>\n      <td>9.105833</td>\n    </tr>\n    <tr>\n      <th>177</th>\n      <td>8</td>\n      <td>1.681818</td>\n      <td>67.300000</td>\n      <td>0.0</td>\n      <td>21.566973</td>\n      <td>303.42480</td>\n      <td>3.049091</td>\n      <td>5.803636</td>\n      <td>8.612727</td>\n    </tr>\n    <tr>\n      <th>178</th>\n      <td>10</td>\n      <td>6.133333</td>\n      <td>49.016667</td>\n      <td>0.0</td>\n      <td>26.944744</td>\n      <td>292.79650</td>\n      <td>2.535000</td>\n      <td>6.785000</td>\n      <td>11.372500</td>\n    </tr>\n    <tr>\n      <th>179</th>\n      <td>12</td>\n      <td>7.455556</td>\n      <td>38.100000</td>\n      <td>0.0</td>\n      <td>33.120000</td>\n      <td>270.00000</td>\n      <td>2.594444</td>\n      <td>6.646667</td>\n      <td>11.003333</td>\n    </tr>\n  </tbody>\n</table>\n</div>"
     },
     "metadata": {},
     "execution_count": 148
    }
   ],
   "source": [
    "X_test = test_df\n",
    "X_test.head()"
   ]
  },
  {
   "cell_type": "code",
   "execution_count": 149,
   "metadata": {},
   "outputs": [],
   "source": [
    "y_true1 = test_df['PM2.5_pi']\n",
    "y_true2 = test_df['PM10_pi']\n",
    "\n",
    "y_true1 = y_true1.to_frame()\n",
    "y_true2 = y_true2.to_frame()"
   ]
  },
  {
   "cell_type": "code",
   "execution_count": 150,
   "metadata": {},
   "outputs": [],
   "source": [
    "X_val = val_df\n",
    "\n",
    "y_val1 = val_df['PM2.5_pi']\n",
    "y_val2 = val_df['PM10_pi']\n",
    "y_val1 = y_val1.to_frame()\n",
    "y_val2 = y_val2.to_frame()"
   ]
  },
  {
   "source": [
    "### Scaling of trainset"
   ],
   "cell_type": "markdown",
   "metadata": {}
  },
  {
   "cell_type": "code",
   "execution_count": 151,
   "metadata": {},
   "outputs": [
    {
     "output_type": "stream",
     "name": "stdout",
     "text": [
      "(153, 9)\n(153, 1)\n(153,)\n(153, 1)\n(153,)\n"
     ]
    }
   ],
   "source": [
    "# X scaling\n",
    "Xscaler = MinMaxScaler(feature_range=(0, 1)) # scale so that all the X data will range from 0 to 1\n",
    "Xscaler.fit(X_train)\n",
    "scaled_X_train = Xscaler.transform(X_train)\n",
    "print(X_train.shape)\n",
    "\n",
    "# y1 scaling\n",
    "Yscaler = MinMaxScaler(feature_range=(0, 1))\n",
    "Yscaler.fit(y_train1)\n",
    "scaled_y_train1 = Yscaler.transform(y_train1)\n",
    "print(scaled_y_train1.shape)\n",
    "scaled_y_train1 = scaled_y_train1.reshape(-1) # remove the second dimention from y so the shape changes from (n,1) to (n,)\n",
    "print(scaled_y_train1.shape)\n",
    "\n",
    "# y2 scaling\n",
    "Yscaler = MinMaxScaler(feature_range=(0, 1))\n",
    "Yscaler.fit(y_train2)\n",
    "scaled_y_train2 = Yscaler.transform(y_train2)\n",
    "print(scaled_y_train2.shape)\n",
    "scaled_y_train2 = scaled_y_train2.reshape(-1) # remove the second dimention from y so the shape changes from (n,1) to (n,)\n",
    "print(scaled_y_train2.shape)\n"
   ]
  },
  {
   "cell_type": "code",
   "execution_count": 152,
   "metadata": {},
   "outputs": [],
   "source": [
    "scaled_y_train1 = np.insert(scaled_y_train1, 0, 0)\n",
    "scaled_y_train1 = np.delete(scaled_y_train1, -1)\n",
    "\n",
    "scaled_y_train2 = np.insert(scaled_y_train2, 0, 0)\n",
    "scaled_y_train2 = np.delete(scaled_y_train2, -1)"
   ]
  },
  {
   "cell_type": "code",
   "execution_count": 153,
   "metadata": {},
   "outputs": [
    {
     "output_type": "stream",
     "name": "stdout",
     "text": [
      "(2, 4, 9)\n"
     ]
    },
    {
     "output_type": "execute_result",
     "data": {
      "text/plain": [
       "\"Question: Since the dataset is already reconstructed as 'timeseries' data, I just put 'n_input=1'. Is it reasonable?\""
      ]
     },
     "metadata": {},
     "execution_count": 153
    }
   ],
   "source": [
    "n_input = 4 #how many samples/rows/timesteps to look in the past in order to forecast the next sample \n",
    "n_features= X_train.shape[1] # how many predictors/Xs/features we have to predict y\n",
    "b_size = 2 # Number of timeseries samples in each batch\n",
    "generator = TimeseriesGenerator(scaled_X_train, scaled_y_train1, length=n_input, batch_size=b_size) \n",
    "\n",
    "print(generator[0][0].shape)\n",
    "\n",
    "'''Question: Since the dataset is already reconstructed as 'timeseries' data, I just put 'n_input=1'. Is it reasonable?''' "
   ]
  },
  {
   "source": [
    "### Scaling of validation set"
   ],
   "cell_type": "markdown",
   "metadata": {}
  },
  {
   "cell_type": "code",
   "execution_count": 154,
   "metadata": {},
   "outputs": [
    {
     "output_type": "stream",
     "name": "stdout",
     "text": [
      "(2, 4, 9)\n"
     ]
    }
   ],
   "source": [
    "scaled_X_val = Xscaler.transform(X_val)\n",
    "val_generator = TimeseriesGenerator(scaled_X_val, np.zeros(len(X_val)), length=n_input, batch_size=b_size)\n",
    "print(val_generator[0][0].shape)"
   ]
  },
  {
   "cell_type": "code",
   "execution_count": 155,
   "metadata": {},
   "outputs": [
    {
     "output_type": "stream",
     "name": "stdout",
     "text": [
      "(22, 1)\n(22,)\n"
     ]
    }
   ],
   "source": [
    "# y_val1 scaling\n",
    "Yscaler = MinMaxScaler(feature_range=(0, 1))\n",
    "Yscaler.fit(y_val1)\n",
    "scaled_y_val1 = Yscaler.transform(y_val1)\n",
    "print(scaled_y_val1.shape)\n",
    "scaled_y_val1 = scaled_y_val1.reshape(-1) # remove the second dimention from y so the shape changes from (n,1) to (n,)\n",
    "print(scaled_y_val1.shape)\n",
    "\n",
    "scaled_y_val1 = np.insert(scaled_y_val1, 0, 0)\n",
    "scaled_y_val1 = np.delete(scaled_y_val1, -1)"
   ]
  },
  {
   "cell_type": "code",
   "execution_count": 156,
   "metadata": {},
   "outputs": [
    {
     "output_type": "stream",
     "name": "stdout",
     "text": [
      "(2, 4, 9)\n"
     ]
    }
   ],
   "source": [
    "val_generator = TimeseriesGenerator(scaled_X_val, scaled_y_val1, length=n_input, batch_size=b_size)\n",
    "print(val_generator[0][0].shape)"
   ]
  },
  {
   "source": [
    "### Scaling of test set"
   ],
   "cell_type": "markdown",
   "metadata": {}
  },
  {
   "cell_type": "code",
   "execution_count": 157,
   "metadata": {},
   "outputs": [
    {
     "output_type": "stream",
     "name": "stdout",
     "text": [
      "(2, 4, 9)\n"
     ]
    }
   ],
   "source": [
    "# Only X required\n",
    "scaled_X_test = Xscaler.transform(X_test)\n",
    "test_generator = TimeseriesGenerator(scaled_X_test, np.zeros(len(X_test)), length=n_input, batch_size=b_size)\n",
    "print(test_generator[0][0].shape)"
   ]
  },
  {
   "source": [
    "## Model"
   ],
   "cell_type": "markdown",
   "metadata": {}
  },
  {
   "cell_type": "code",
   "execution_count": 158,
   "metadata": {},
   "outputs": [
    {
     "output_type": "stream",
     "name": "stdout",
     "text": [
      "Model: \"sequential_4\"\n_________________________________________________________________\nLayer (type)                 Output Shape              Param #   \n=================================================================\nlstm_4 (LSTM)                (None, 256)               272384    \n_________________________________________________________________\ndense_4 (Dense)              (None, 1)                 257       \n=================================================================\nTotal params: 272,641\nTrainable params: 272,641\nNon-trainable params: 0\n_________________________________________________________________\n"
     ]
    }
   ],
   "source": [
    "model = Sequential()\n",
    "model.add(LSTM(256, activation='relu', input_shape=(n_input, n_features)))\n",
    "model.add(Dense(1))\n",
    "model.compile(optimizer='adam', loss='mse')\n",
    "model.summary()"
   ]
  },
  {
   "cell_type": "code",
   "execution_count": 159,
   "metadata": {},
   "outputs": [
    {
     "output_type": "stream",
     "name": "stdout",
     "text": [
      "Epoch 1/30\n",
      "75/75 [==============================] - 3s 38ms/step - loss: 0.0239 - val_loss: 0.1453\n",
      "Epoch 2/30\n",
      "75/75 [==============================] - 1s 13ms/step - loss: 0.0090 - val_loss: 0.1476\n",
      "Epoch 3/30\n",
      "75/75 [==============================] - 1s 13ms/step - loss: 0.0065 - val_loss: 0.1185\n",
      "Epoch 4/30\n",
      "75/75 [==============================] - 1s 13ms/step - loss: 0.0046 - val_loss: 0.1162\n",
      "Epoch 5/30\n",
      "75/75 [==============================] - 1s 13ms/step - loss: 0.0023 - val_loss: 0.1093\n",
      "Epoch 6/30\n",
      "75/75 [==============================] - 1s 13ms/step - loss: 0.0010 - val_loss: 0.1098\n",
      "Epoch 7/30\n",
      "75/75 [==============================] - 1s 14ms/step - loss: 4.7240e-04 - val_loss: 0.1024\n",
      "Epoch 8/30\n",
      "75/75 [==============================] - 1s 14ms/step - loss: 3.7183e-04 - val_loss: 0.1068\n",
      "Epoch 9/30\n",
      "75/75 [==============================] - 1s 13ms/step - loss: 2.7426e-04 - val_loss: 0.1138\n",
      "Epoch 10/30\n",
      "75/75 [==============================] - 1s 13ms/step - loss: 2.0074e-04 - val_loss: 0.1123\n",
      "Epoch 11/30\n",
      "75/75 [==============================] - 1s 13ms/step - loss: 2.0489e-04 - val_loss: 0.1140\n",
      "Epoch 12/30\n",
      "75/75 [==============================] - 1s 13ms/step - loss: 1.0414e-04 - val_loss: 0.1127\n",
      "Epoch 13/30\n",
      "75/75 [==============================] - 1s 13ms/step - loss: 1.0743e-04 - val_loss: 0.1051\n",
      "Epoch 14/30\n",
      "75/75 [==============================] - 1s 14ms/step - loss: 1.1821e-04 - val_loss: 0.1058\n",
      "Epoch 15/30\n",
      "75/75 [==============================] - 1s 14ms/step - loss: 8.6638e-05 - val_loss: 0.1097\n",
      "Epoch 16/30\n",
      "75/75 [==============================] - 1s 14ms/step - loss: 7.5258e-05 - val_loss: 0.1044\n",
      "Epoch 17/30\n",
      "75/75 [==============================] - 1s 14ms/step - loss: 8.7376e-05 - val_loss: 0.1066\n",
      "Epoch 18/30\n",
      "75/75 [==============================] - 1s 14ms/step - loss: 2.1612e-04 - val_loss: 0.1112\n",
      "Epoch 19/30\n",
      "75/75 [==============================] - 1s 14ms/step - loss: 1.2408e-04 - val_loss: 0.1126\n",
      "Epoch 20/30\n",
      "75/75 [==============================] - 1s 13ms/step - loss: 7.2788e-05 - val_loss: 0.1077\n",
      "Epoch 21/30\n",
      "75/75 [==============================] - 1s 14ms/step - loss: 7.1404e-05 - val_loss: 0.1154\n",
      "Epoch 22/30\n",
      "75/75 [==============================] - 1s 13ms/step - loss: 5.8272e-05 - val_loss: 0.1081\n",
      "Epoch 23/30\n",
      "75/75 [==============================] - 1s 13ms/step - loss: 2.5535e-05 - val_loss: 0.1090\n",
      "Epoch 24/30\n",
      "75/75 [==============================] - 1s 13ms/step - loss: 5.8387e-05 - val_loss: 0.1116\n",
      "Epoch 25/30\n",
      "75/75 [==============================] - 1s 14ms/step - loss: 7.7474e-05 - val_loss: 0.1007\n",
      "Epoch 26/30\n",
      "75/75 [==============================] - 1s 14ms/step - loss: 5.2455e-05 - val_loss: 0.1095\n",
      "Epoch 27/30\n",
      "75/75 [==============================] - 1s 13ms/step - loss: 3.5174e-05 - val_loss: 0.1086\n",
      "Epoch 28/30\n",
      "75/75 [==============================] - 1s 14ms/step - loss: 5.7702e-05 - val_loss: 0.1124\n",
      "Epoch 29/30\n",
      "75/75 [==============================] - 1s 13ms/step - loss: 1.0059e-04 - val_loss: 0.1067\n",
      "Epoch 30/30\n",
      "75/75 [==============================] - 1s 13ms/step - loss: 3.3601e-05 - val_loss: 0.1040\n"
     ]
    },
    {
     "output_type": "execute_result",
     "data": {
      "text/plain": [
       "' Question2: is the validation set correctly implemented? Still doubt it..'"
      ]
     },
     "metadata": {},
     "execution_count": 159
    }
   ],
   "source": [
    "model.fit_generator(generator,epochs=30,validation_data=val_generator)\n",
    "\n",
    "''' Question: Since the dataset is small, I thougth the augmentation is necessary. According to the documents, 'fit_generator' is more sutiable than 'fit' if the data augementation is required. I'd like to kindly ask whether this is correct.'''\n",
    "\n",
    "''' Question2: is the validation set correctly implemented? Still doubt it..'''"
   ]
  },
  {
   "cell_type": "code",
   "execution_count": 160,
   "metadata": {},
   "outputs": [
    {
     "output_type": "execute_result",
     "data": {
      "text/plain": [
       "[<matplotlib.lines.Line2D at 0x29b51a89348>]"
      ]
     },
     "metadata": {},
     "execution_count": 160
    },
    {
     "output_type": "display_data",
     "data": {
      "text/plain": "<Figure size 432x288 with 1 Axes>",
      "image/svg+xml": "<?xml version=\"1.0\" encoding=\"utf-8\" standalone=\"no\"?>\r\n<!DOCTYPE svg PUBLIC \"-//W3C//DTD SVG 1.1//EN\"\r\n  \"http://www.w3.org/Graphics/SVG/1.1/DTD/svg11.dtd\">\r\n<svg height=\"249.834886pt\" version=\"1.1\" viewBox=\"0 0 386.467741 249.834886\" width=\"386.467741pt\" xmlns=\"http://www.w3.org/2000/svg\" xmlns:xlink=\"http://www.w3.org/1999/xlink\">\r\n <metadata>\r\n  <rdf:RDF xmlns:cc=\"http://creativecommons.org/ns#\" xmlns:dc=\"http://purl.org/dc/elements/1.1/\" xmlns:rdf=\"http://www.w3.org/1999/02/22-rdf-syntax-ns#\">\r\n   <cc:Work>\r\n    <dc:type rdf:resource=\"http://purl.org/dc/dcmitype/StillImage\"/>\r\n    <dc:date>2021-05-05T20:14:26.652694</dc:date>\r\n    <dc:format>image/svg+xml</dc:format>\r\n    <dc:creator>\r\n     <cc:Agent>\r\n      <dc:title>Matplotlib v3.4.1, https://matplotlib.org/</dc:title>\r\n     </cc:Agent>\r\n    </dc:creator>\r\n   </cc:Work>\r\n  </rdf:RDF>\r\n </metadata>\r\n <defs>\r\n  <style type=\"text/css\">*{stroke-linecap:butt;stroke-linejoin:round;}</style>\r\n </defs>\r\n <g id=\"figure_1\">\r\n  <g id=\"patch_1\">\r\n   <path d=\"M 0 249.834886 \r\nL 386.467741 249.834886 \r\nL 386.467741 0 \r\nL 0 0 \r\nz\r\n\" style=\"fill:none;\"/>\r\n  </g>\r\n  <g id=\"axes_1\">\r\n   <g id=\"patch_2\">\r\n    <path d=\"M 42.828125 225.956761 \r\nL 377.628125 225.956761 \r\nL 377.628125 8.516761 \r\nL 42.828125 8.516761 \r\nz\r\n\" style=\"fill:#ffffff;\"/>\r\n   </g>\r\n   <g id=\"matplotlib.axis_1\">\r\n    <g id=\"xtick_1\">\r\n     <g id=\"line2d_1\">\r\n      <defs>\r\n       <path d=\"M 0 0 \r\nL 0 3.5 \r\n\" id=\"m31151ae22a\" style=\"stroke:#000000;stroke-width:0.8;\"/>\r\n      </defs>\r\n      <g>\r\n       <use style=\"stroke:#000000;stroke-width:0.8;\" x=\"58.046307\" xlink:href=\"#m31151ae22a\" y=\"225.956761\"/>\r\n      </g>\r\n     </g>\r\n     <g id=\"text_1\">\r\n      <!-- 0 -->\r\n      <g transform=\"translate(54.865057 240.555198)scale(0.1 -0.1)\">\r\n       <defs>\r\n        <path d=\"M 2034 4250 \r\nQ 1547 4250 1301 3770 \r\nQ 1056 3291 1056 2328 \r\nQ 1056 1369 1301 889 \r\nQ 1547 409 2034 409 \r\nQ 2525 409 2770 889 \r\nQ 3016 1369 3016 2328 \r\nQ 3016 3291 2770 3770 \r\nQ 2525 4250 2034 4250 \r\nz\r\nM 2034 4750 \r\nQ 2819 4750 3233 4129 \r\nQ 3647 3509 3647 2328 \r\nQ 3647 1150 3233 529 \r\nQ 2819 -91 2034 -91 \r\nQ 1250 -91 836 529 \r\nQ 422 1150 422 2328 \r\nQ 422 3509 836 4129 \r\nQ 1250 4750 2034 4750 \r\nz\r\n\" id=\"DejaVuSans-30\" transform=\"scale(0.015625)\"/>\r\n       </defs>\r\n       <use xlink:href=\"#DejaVuSans-30\"/>\r\n      </g>\r\n     </g>\r\n    </g>\r\n    <g id=\"xtick_2\">\r\n     <g id=\"line2d_2\">\r\n      <g>\r\n       <use style=\"stroke:#000000;stroke-width:0.8;\" x=\"110.522796\" xlink:href=\"#m31151ae22a\" y=\"225.956761\"/>\r\n      </g>\r\n     </g>\r\n     <g id=\"text_2\">\r\n      <!-- 5 -->\r\n      <g transform=\"translate(107.341546 240.555198)scale(0.1 -0.1)\">\r\n       <defs>\r\n        <path d=\"M 691 4666 \r\nL 3169 4666 \r\nL 3169 4134 \r\nL 1269 4134 \r\nL 1269 2991 \r\nQ 1406 3038 1543 3061 \r\nQ 1681 3084 1819 3084 \r\nQ 2600 3084 3056 2656 \r\nQ 3513 2228 3513 1497 \r\nQ 3513 744 3044 326 \r\nQ 2575 -91 1722 -91 \r\nQ 1428 -91 1123 -41 \r\nQ 819 9 494 109 \r\nL 494 744 \r\nQ 775 591 1075 516 \r\nQ 1375 441 1709 441 \r\nQ 2250 441 2565 725 \r\nQ 2881 1009 2881 1497 \r\nQ 2881 1984 2565 2268 \r\nQ 2250 2553 1709 2553 \r\nQ 1456 2553 1204 2497 \r\nQ 953 2441 691 2322 \r\nL 691 4666 \r\nz\r\n\" id=\"DejaVuSans-35\" transform=\"scale(0.015625)\"/>\r\n       </defs>\r\n       <use xlink:href=\"#DejaVuSans-35\"/>\r\n      </g>\r\n     </g>\r\n    </g>\r\n    <g id=\"xtick_3\">\r\n     <g id=\"line2d_3\">\r\n      <g>\r\n       <use style=\"stroke:#000000;stroke-width:0.8;\" x=\"162.999285\" xlink:href=\"#m31151ae22a\" y=\"225.956761\"/>\r\n      </g>\r\n     </g>\r\n     <g id=\"text_3\">\r\n      <!-- 10 -->\r\n      <g transform=\"translate(156.636785 240.555198)scale(0.1 -0.1)\">\r\n       <defs>\r\n        <path d=\"M 794 531 \r\nL 1825 531 \r\nL 1825 4091 \r\nL 703 3866 \r\nL 703 4441 \r\nL 1819 4666 \r\nL 2450 4666 \r\nL 2450 531 \r\nL 3481 531 \r\nL 3481 0 \r\nL 794 0 \r\nL 794 531 \r\nz\r\n\" id=\"DejaVuSans-31\" transform=\"scale(0.015625)\"/>\r\n       </defs>\r\n       <use xlink:href=\"#DejaVuSans-31\"/>\r\n       <use x=\"63.623047\" xlink:href=\"#DejaVuSans-30\"/>\r\n      </g>\r\n     </g>\r\n    </g>\r\n    <g id=\"xtick_4\">\r\n     <g id=\"line2d_4\">\r\n      <g>\r\n       <use style=\"stroke:#000000;stroke-width:0.8;\" x=\"215.475774\" xlink:href=\"#m31151ae22a\" y=\"225.956761\"/>\r\n      </g>\r\n     </g>\r\n     <g id=\"text_4\">\r\n      <!-- 15 -->\r\n      <g transform=\"translate(209.113274 240.555198)scale(0.1 -0.1)\">\r\n       <use xlink:href=\"#DejaVuSans-31\"/>\r\n       <use x=\"63.623047\" xlink:href=\"#DejaVuSans-35\"/>\r\n      </g>\r\n     </g>\r\n    </g>\r\n    <g id=\"xtick_5\">\r\n     <g id=\"line2d_5\">\r\n      <g>\r\n       <use style=\"stroke:#000000;stroke-width:0.8;\" x=\"267.952263\" xlink:href=\"#m31151ae22a\" y=\"225.956761\"/>\r\n      </g>\r\n     </g>\r\n     <g id=\"text_5\">\r\n      <!-- 20 -->\r\n      <g transform=\"translate(261.589763 240.555198)scale(0.1 -0.1)\">\r\n       <defs>\r\n        <path d=\"M 1228 531 \r\nL 3431 531 \r\nL 3431 0 \r\nL 469 0 \r\nL 469 531 \r\nQ 828 903 1448 1529 \r\nQ 2069 2156 2228 2338 \r\nQ 2531 2678 2651 2914 \r\nQ 2772 3150 2772 3378 \r\nQ 2772 3750 2511 3984 \r\nQ 2250 4219 1831 4219 \r\nQ 1534 4219 1204 4116 \r\nQ 875 4013 500 3803 \r\nL 500 4441 \r\nQ 881 4594 1212 4672 \r\nQ 1544 4750 1819 4750 \r\nQ 2544 4750 2975 4387 \r\nQ 3406 4025 3406 3419 \r\nQ 3406 3131 3298 2873 \r\nQ 3191 2616 2906 2266 \r\nQ 2828 2175 2409 1742 \r\nQ 1991 1309 1228 531 \r\nz\r\n\" id=\"DejaVuSans-32\" transform=\"scale(0.015625)\"/>\r\n       </defs>\r\n       <use xlink:href=\"#DejaVuSans-32\"/>\r\n       <use x=\"63.623047\" xlink:href=\"#DejaVuSans-30\"/>\r\n      </g>\r\n     </g>\r\n    </g>\r\n    <g id=\"xtick_6\">\r\n     <g id=\"line2d_6\">\r\n      <g>\r\n       <use style=\"stroke:#000000;stroke-width:0.8;\" x=\"320.428752\" xlink:href=\"#m31151ae22a\" y=\"225.956761\"/>\r\n      </g>\r\n     </g>\r\n     <g id=\"text_6\">\r\n      <!-- 25 -->\r\n      <g transform=\"translate(314.066252 240.555198)scale(0.1 -0.1)\">\r\n       <use xlink:href=\"#DejaVuSans-32\"/>\r\n       <use x=\"63.623047\" xlink:href=\"#DejaVuSans-35\"/>\r\n      </g>\r\n     </g>\r\n    </g>\r\n    <g id=\"xtick_7\">\r\n     <g id=\"line2d_7\">\r\n      <g>\r\n       <use style=\"stroke:#000000;stroke-width:0.8;\" x=\"372.905241\" xlink:href=\"#m31151ae22a\" y=\"225.956761\"/>\r\n      </g>\r\n     </g>\r\n     <g id=\"text_7\">\r\n      <!-- 30 -->\r\n      <g transform=\"translate(366.542741 240.555198)scale(0.1 -0.1)\">\r\n       <defs>\r\n        <path d=\"M 2597 2516 \r\nQ 3050 2419 3304 2112 \r\nQ 3559 1806 3559 1356 \r\nQ 3559 666 3084 287 \r\nQ 2609 -91 1734 -91 \r\nQ 1441 -91 1130 -33 \r\nQ 819 25 488 141 \r\nL 488 750 \r\nQ 750 597 1062 519 \r\nQ 1375 441 1716 441 \r\nQ 2309 441 2620 675 \r\nQ 2931 909 2931 1356 \r\nQ 2931 1769 2642 2001 \r\nQ 2353 2234 1838 2234 \r\nL 1294 2234 \r\nL 1294 2753 \r\nL 1863 2753 \r\nQ 2328 2753 2575 2939 \r\nQ 2822 3125 2822 3475 \r\nQ 2822 3834 2567 4026 \r\nQ 2313 4219 1838 4219 \r\nQ 1578 4219 1281 4162 \r\nQ 984 4106 628 3988 \r\nL 628 4550 \r\nQ 988 4650 1302 4700 \r\nQ 1616 4750 1894 4750 \r\nQ 2613 4750 3031 4423 \r\nQ 3450 4097 3450 3541 \r\nQ 3450 3153 3228 2886 \r\nQ 3006 2619 2597 2516 \r\nz\r\n\" id=\"DejaVuSans-33\" transform=\"scale(0.015625)\"/>\r\n       </defs>\r\n       <use xlink:href=\"#DejaVuSans-33\"/>\r\n       <use x=\"63.623047\" xlink:href=\"#DejaVuSans-30\"/>\r\n      </g>\r\n     </g>\r\n    </g>\r\n   </g>\r\n   <g id=\"matplotlib.axis_2\">\r\n    <g id=\"ytick_1\">\r\n     <g id=\"line2d_8\">\r\n      <defs>\r\n       <path d=\"M 0 0 \r\nL -3.5 0 \r\n\" id=\"md82f136249\" style=\"stroke:#000000;stroke-width:0.8;\"/>\r\n      </defs>\r\n      <g>\r\n       <use style=\"stroke:#000000;stroke-width:0.8;\" x=\"42.828125\" xlink:href=\"#md82f136249\" y=\"216.283375\"/>\r\n      </g>\r\n     </g>\r\n     <g id=\"text_8\">\r\n      <!-- 0.000 -->\r\n      <g transform=\"translate(7.2 220.082594)scale(0.1 -0.1)\">\r\n       <defs>\r\n        <path d=\"M 684 794 \r\nL 1344 794 \r\nL 1344 0 \r\nL 684 0 \r\nL 684 794 \r\nz\r\n\" id=\"DejaVuSans-2e\" transform=\"scale(0.015625)\"/>\r\n       </defs>\r\n       <use xlink:href=\"#DejaVuSans-30\"/>\r\n       <use x=\"63.623047\" xlink:href=\"#DejaVuSans-2e\"/>\r\n       <use x=\"95.410156\" xlink:href=\"#DejaVuSans-30\"/>\r\n       <use x=\"159.033203\" xlink:href=\"#DejaVuSans-30\"/>\r\n       <use x=\"222.65625\" xlink:href=\"#DejaVuSans-30\"/>\r\n      </g>\r\n     </g>\r\n    </g>\r\n    <g id=\"ytick_2\">\r\n     <g id=\"line2d_9\">\r\n      <g>\r\n       <use style=\"stroke:#000000;stroke-width:0.8;\" x=\"42.828125\" xlink:href=\"#md82f136249\" y=\"175.226544\"/>\r\n      </g>\r\n     </g>\r\n     <g id=\"text_9\">\r\n      <!-- 0.005 -->\r\n      <g transform=\"translate(7.2 179.025763)scale(0.1 -0.1)\">\r\n       <use xlink:href=\"#DejaVuSans-30\"/>\r\n       <use x=\"63.623047\" xlink:href=\"#DejaVuSans-2e\"/>\r\n       <use x=\"95.410156\" xlink:href=\"#DejaVuSans-30\"/>\r\n       <use x=\"159.033203\" xlink:href=\"#DejaVuSans-30\"/>\r\n       <use x=\"222.65625\" xlink:href=\"#DejaVuSans-35\"/>\r\n      </g>\r\n     </g>\r\n    </g>\r\n    <g id=\"ytick_3\">\r\n     <g id=\"line2d_10\">\r\n      <g>\r\n       <use style=\"stroke:#000000;stroke-width:0.8;\" x=\"42.828125\" xlink:href=\"#md82f136249\" y=\"134.169713\"/>\r\n      </g>\r\n     </g>\r\n     <g id=\"text_10\">\r\n      <!-- 0.010 -->\r\n      <g transform=\"translate(7.2 137.968931)scale(0.1 -0.1)\">\r\n       <use xlink:href=\"#DejaVuSans-30\"/>\r\n       <use x=\"63.623047\" xlink:href=\"#DejaVuSans-2e\"/>\r\n       <use x=\"95.410156\" xlink:href=\"#DejaVuSans-30\"/>\r\n       <use x=\"159.033203\" xlink:href=\"#DejaVuSans-31\"/>\r\n       <use x=\"222.65625\" xlink:href=\"#DejaVuSans-30\"/>\r\n      </g>\r\n     </g>\r\n    </g>\r\n    <g id=\"ytick_4\">\r\n     <g id=\"line2d_11\">\r\n      <g>\r\n       <use style=\"stroke:#000000;stroke-width:0.8;\" x=\"42.828125\" xlink:href=\"#md82f136249\" y=\"93.112881\"/>\r\n      </g>\r\n     </g>\r\n     <g id=\"text_11\">\r\n      <!-- 0.015 -->\r\n      <g transform=\"translate(7.2 96.9121)scale(0.1 -0.1)\">\r\n       <use xlink:href=\"#DejaVuSans-30\"/>\r\n       <use x=\"63.623047\" xlink:href=\"#DejaVuSans-2e\"/>\r\n       <use x=\"95.410156\" xlink:href=\"#DejaVuSans-30\"/>\r\n       <use x=\"159.033203\" xlink:href=\"#DejaVuSans-31\"/>\r\n       <use x=\"222.65625\" xlink:href=\"#DejaVuSans-35\"/>\r\n      </g>\r\n     </g>\r\n    </g>\r\n    <g id=\"ytick_5\">\r\n     <g id=\"line2d_12\">\r\n      <g>\r\n       <use style=\"stroke:#000000;stroke-width:0.8;\" x=\"42.828125\" xlink:href=\"#md82f136249\" y=\"52.05605\"/>\r\n      </g>\r\n     </g>\r\n     <g id=\"text_12\">\r\n      <!-- 0.020 -->\r\n      <g transform=\"translate(7.2 55.855269)scale(0.1 -0.1)\">\r\n       <use xlink:href=\"#DejaVuSans-30\"/>\r\n       <use x=\"63.623047\" xlink:href=\"#DejaVuSans-2e\"/>\r\n       <use x=\"95.410156\" xlink:href=\"#DejaVuSans-30\"/>\r\n       <use x=\"159.033203\" xlink:href=\"#DejaVuSans-32\"/>\r\n       <use x=\"222.65625\" xlink:href=\"#DejaVuSans-30\"/>\r\n      </g>\r\n     </g>\r\n    </g>\r\n    <g id=\"ytick_6\">\r\n     <g id=\"line2d_13\">\r\n      <g>\r\n       <use style=\"stroke:#000000;stroke-width:0.8;\" x=\"42.828125\" xlink:href=\"#md82f136249\" y=\"10.999219\"/>\r\n      </g>\r\n     </g>\r\n     <g id=\"text_13\">\r\n      <!-- 0.025 -->\r\n      <g transform=\"translate(7.2 14.798437)scale(0.1 -0.1)\">\r\n       <use xlink:href=\"#DejaVuSans-30\"/>\r\n       <use x=\"63.623047\" xlink:href=\"#DejaVuSans-2e\"/>\r\n       <use x=\"95.410156\" xlink:href=\"#DejaVuSans-30\"/>\r\n       <use x=\"159.033203\" xlink:href=\"#DejaVuSans-32\"/>\r\n       <use x=\"222.65625\" xlink:href=\"#DejaVuSans-35\"/>\r\n      </g>\r\n     </g>\r\n    </g>\r\n   </g>\r\n   <g id=\"line2d_14\">\r\n    <path clip-path=\"url(#p50258bf9f1)\" d=\"M 58.046307 18.400397 \r\nL 68.541605 142.365438 \r\nL 79.036902 162.585549 \r\nL 89.5322 178.399584 \r\nL 100.027498 197.128378 \r\nL 110.522796 207.70086 \r\nL 121.018094 212.388209 \r\nL 131.513391 213.214412 \r\nL 142.008689 214.02478 \r\nL 152.503987 214.6371 \r\nL 162.999285 214.591289 \r\nL 173.494583 215.433706 \r\nL 183.98988 215.397662 \r\nL 194.485178 215.307416 \r\nL 204.980476 215.569293 \r\nL 215.475774 215.663577 \r\nL 225.971072 215.562056 \r\nL 236.46637 214.50522 \r\nL 246.961667 215.266765 \r\nL 257.456965 215.68173 \r\nL 267.952263 215.69435 \r\nL 278.447561 215.802457 \r\nL 288.942859 216.073124 \r\nL 299.438156 215.80674 \r\nL 309.933454 215.643235 \r\nL 320.428752 215.85044 \r\nL 330.92405 215.994574 \r\nL 341.419348 215.808119 \r\nL 351.914645 215.454744 \r\nL 362.409943 216.007387 \r\n\" style=\"fill:none;stroke:#1f77b4;stroke-linecap:square;stroke-width:1.5;\"/>\r\n   </g>\r\n   <g id=\"patch_3\">\r\n    <path d=\"M 42.828125 225.956761 \r\nL 42.828125 8.516761 \r\n\" style=\"fill:none;stroke:#000000;stroke-linecap:square;stroke-linejoin:miter;stroke-width:0.8;\"/>\r\n   </g>\r\n   <g id=\"patch_4\">\r\n    <path d=\"M 377.628125 225.956761 \r\nL 377.628125 8.516761 \r\n\" style=\"fill:none;stroke:#000000;stroke-linecap:square;stroke-linejoin:miter;stroke-width:0.8;\"/>\r\n   </g>\r\n   <g id=\"patch_5\">\r\n    <path d=\"M 42.828125 225.956761 \r\nL 377.628125 225.956761 \r\n\" style=\"fill:none;stroke:#000000;stroke-linecap:square;stroke-linejoin:miter;stroke-width:0.8;\"/>\r\n   </g>\r\n   <g id=\"patch_6\">\r\n    <path d=\"M 42.828125 8.516761 \r\nL 377.628125 8.516761 \r\n\" style=\"fill:none;stroke:#000000;stroke-linecap:square;stroke-linejoin:miter;stroke-width:0.8;\"/>\r\n   </g>\r\n  </g>\r\n </g>\r\n <defs>\r\n  <clipPath id=\"p50258bf9f1\">\r\n   <rect height=\"217.44\" width=\"334.8\" x=\"42.828125\" y=\"8.516761\"/>\r\n  </clipPath>\r\n </defs>\r\n</svg>\r\n",
      "image/png": "[encoded data removed]"
     },
     "metadata": {
      "needs_background": "light"
     }
    }
   ],
   "source": [
    "loss_per_epoch = model.history.history['loss']\n",
    "plt.plot(range(len(loss_per_epoch)),loss_per_epoch)"
   ]
  },
  {
   "cell_type": "code",
   "execution_count": 161,
   "metadata": {},
   "outputs": [
    {
     "output_type": "stream",
     "name": "stdout",
     "text": [
      "      y_true1    y_pred\n0    6.646667  4.389475\n1    6.790909  4.336746\n2    6.294545  4.381094\n3    5.866364  4.274987\n4    6.383000  4.174687\n5    5.143000  4.302691\n6    3.870909  3.974622\n7    4.199091  3.647137\n8    5.189167  3.718204\n9    5.742857  3.982249\n10   4.067000  4.122930\n11   7.761667  3.730245\n12   8.873333  4.570998\n13   5.002727  4.919225\n14   8.486250  3.999902\n15   6.048000  4.822785\n16   3.444545  4.192320\n17   4.010000  3.537400\n18   8.113333  3.674547\n19   7.712500  4.666910\n20   5.928333  4.624276\n21   8.453333  4.203596\n22   7.355833  4.823818\n23   6.587500  4.563252\n24   7.347500  4.372994\n25   5.099091  4.569851\n26   6.965833  3.991580\n27  12.271667  4.483065\n28  10.702500  5.884285\n29   5.878000  5.487572\n30   4.895833  4.169468\n31   5.475556  3.890437\n32   6.539167  4.068835\n33   5.445000  4.330214\n34   3.640000  4.033817\n35   4.924000  3.552456\n36   4.356667  3.899858\n37   5.618333  3.740387\n38   6.740000  4.083894\n39   6.495000  4.421338\n"
     ]
    }
   ],
   "source": [
    "y_pred_scaled = model.predict(test_generator)\n",
    "y_pred = Yscaler.inverse_transform(y_pred_scaled)\n",
    "results = pd.DataFrame({'y_true1':test_df['PM2.5_pi'].values[n_input:],'y_pred':y_pred.ravel()})\n",
    "print(results)"
   ]
  },
  {
   "cell_type": "code",
   "execution_count": 162,
   "metadata": {},
   "outputs": [
    {
     "output_type": "execute_result",
     "data": {
      "text/plain": [
       "[<matplotlib.lines.Line2D at 0x29b51af7f08>,\n",
       " <matplotlib.lines.Line2D at 0x29b51af0488>]"
      ]
     },
     "metadata": {},
     "execution_count": 162
    },
    {
     "output_type": "display_data",
     "data": {
      "text/plain": "<Figure size 432x288 with 1 Axes>",
      "image/svg+xml": "<?xml version=\"1.0\" encoding=\"utf-8\" standalone=\"no\"?>\r\n<!DOCTYPE svg PUBLIC \"-//W3C//DTD SVG 1.1//EN\"\r\n  \"http://www.w3.org/Graphics/SVG/1.1/DTD/svg11.dtd\">\r\n<svg height=\"248.518125pt\" version=\"1.1\" viewBox=\"0 0 368.925 248.518125\" width=\"368.925pt\" xmlns=\"http://www.w3.org/2000/svg\" xmlns:xlink=\"http://www.w3.org/1999/xlink\">\r\n <metadata>\r\n  <rdf:RDF xmlns:cc=\"http://creativecommons.org/ns#\" xmlns:dc=\"http://purl.org/dc/elements/1.1/\" xmlns:rdf=\"http://www.w3.org/1999/02/22-rdf-syntax-ns#\">\r\n   <cc:Work>\r\n    <dc:type rdf:resource=\"http://purl.org/dc/dcmitype/StillImage\"/>\r\n    <dc:date>2021-05-05T20:14:27.250586</dc:date>\r\n    <dc:format>image/svg+xml</dc:format>\r\n    <dc:creator>\r\n     <cc:Agent>\r\n      <dc:title>Matplotlib v3.4.1, https://matplotlib.org/</dc:title>\r\n     </cc:Agent>\r\n    </dc:creator>\r\n   </cc:Work>\r\n  </rdf:RDF>\r\n </metadata>\r\n <defs>\r\n  <style type=\"text/css\">*{stroke-linecap:butt;stroke-linejoin:round;}</style>\r\n </defs>\r\n <g id=\"figure_1\">\r\n  <g id=\"patch_1\">\r\n   <path d=\"M -0 248.518125 \r\nL 368.925 248.518125 \r\nL 368.925 0 \r\nL -0 0 \r\nz\r\n\" style=\"fill:none;\"/>\r\n  </g>\r\n  <g id=\"axes_1\">\r\n   <g id=\"patch_2\">\r\n    <path d=\"M 26.925 224.64 \r\nL 361.725 224.64 \r\nL 361.725 7.2 \r\nL 26.925 7.2 \r\nz\r\n\" style=\"fill:#ffffff;\"/>\r\n   </g>\r\n   <g id=\"matplotlib.axis_1\">\r\n    <g id=\"xtick_1\">\r\n     <g id=\"line2d_1\">\r\n      <defs>\r\n       <path d=\"M 0 0 \r\nL 0 3.5 \r\n\" id=\"m8bb54d2d24\" style=\"stroke:#000000;stroke-width:0.8;\"/>\r\n      </defs>\r\n      <g>\r\n       <use style=\"stroke:#000000;stroke-width:0.8;\" x=\"42.143182\" xlink:href=\"#m8bb54d2d24\" y=\"224.64\"/>\r\n      </g>\r\n     </g>\r\n     <g id=\"text_1\">\r\n      <!-- 0 -->\r\n      <g transform=\"translate(38.961932 239.238437)scale(0.1 -0.1)\">\r\n       <defs>\r\n        <path d=\"M 2034 4250 \r\nQ 1547 4250 1301 3770 \r\nQ 1056 3291 1056 2328 \r\nQ 1056 1369 1301 889 \r\nQ 1547 409 2034 409 \r\nQ 2525 409 2770 889 \r\nQ 3016 1369 3016 2328 \r\nQ 3016 3291 2770 3770 \r\nQ 2525 4250 2034 4250 \r\nz\r\nM 2034 4750 \r\nQ 2819 4750 3233 4129 \r\nQ 3647 3509 3647 2328 \r\nQ 3647 1150 3233 529 \r\nQ 2819 -91 2034 -91 \r\nQ 1250 -91 836 529 \r\nQ 422 1150 422 2328 \r\nQ 422 3509 836 4129 \r\nQ 1250 4750 2034 4750 \r\nz\r\n\" id=\"DejaVuSans-30\" transform=\"scale(0.015625)\"/>\r\n       </defs>\r\n       <use xlink:href=\"#DejaVuSans-30\"/>\r\n      </g>\r\n     </g>\r\n    </g>\r\n    <g id=\"xtick_2\">\r\n     <g id=\"line2d_2\">\r\n      <g>\r\n       <use style=\"stroke:#000000;stroke-width:0.8;\" x=\"81.164161\" xlink:href=\"#m8bb54d2d24\" y=\"224.64\"/>\r\n      </g>\r\n     </g>\r\n     <g id=\"text_2\">\r\n      <!-- 5 -->\r\n      <g transform=\"translate(77.982911 239.238437)scale(0.1 -0.1)\">\r\n       <defs>\r\n        <path d=\"M 691 4666 \r\nL 3169 4666 \r\nL 3169 4134 \r\nL 1269 4134 \r\nL 1269 2991 \r\nQ 1406 3038 1543 3061 \r\nQ 1681 3084 1819 3084 \r\nQ 2600 3084 3056 2656 \r\nQ 3513 2228 3513 1497 \r\nQ 3513 744 3044 326 \r\nQ 2575 -91 1722 -91 \r\nQ 1428 -91 1123 -41 \r\nQ 819 9 494 109 \r\nL 494 744 \r\nQ 775 591 1075 516 \r\nQ 1375 441 1709 441 \r\nQ 2250 441 2565 725 \r\nQ 2881 1009 2881 1497 \r\nQ 2881 1984 2565 2268 \r\nQ 2250 2553 1709 2553 \r\nQ 1456 2553 1204 2497 \r\nQ 953 2441 691 2322 \r\nL 691 4666 \r\nz\r\n\" id=\"DejaVuSans-35\" transform=\"scale(0.015625)\"/>\r\n       </defs>\r\n       <use xlink:href=\"#DejaVuSans-35\"/>\r\n      </g>\r\n     </g>\r\n    </g>\r\n    <g id=\"xtick_3\">\r\n     <g id=\"line2d_3\">\r\n      <g>\r\n       <use style=\"stroke:#000000;stroke-width:0.8;\" x=\"120.18514\" xlink:href=\"#m8bb54d2d24\" y=\"224.64\"/>\r\n      </g>\r\n     </g>\r\n     <g id=\"text_3\">\r\n      <!-- 10 -->\r\n      <g transform=\"translate(113.82264 239.238437)scale(0.1 -0.1)\">\r\n       <defs>\r\n        <path d=\"M 794 531 \r\nL 1825 531 \r\nL 1825 4091 \r\nL 703 3866 \r\nL 703 4441 \r\nL 1819 4666 \r\nL 2450 4666 \r\nL 2450 531 \r\nL 3481 531 \r\nL 3481 0 \r\nL 794 0 \r\nL 794 531 \r\nz\r\n\" id=\"DejaVuSans-31\" transform=\"scale(0.015625)\"/>\r\n       </defs>\r\n       <use xlink:href=\"#DejaVuSans-31\"/>\r\n       <use x=\"63.623047\" xlink:href=\"#DejaVuSans-30\"/>\r\n      </g>\r\n     </g>\r\n    </g>\r\n    <g id=\"xtick_4\">\r\n     <g id=\"line2d_4\">\r\n      <g>\r\n       <use style=\"stroke:#000000;stroke-width:0.8;\" x=\"159.206119\" xlink:href=\"#m8bb54d2d24\" y=\"224.64\"/>\r\n      </g>\r\n     </g>\r\n     <g id=\"text_4\">\r\n      <!-- 15 -->\r\n      <g transform=\"translate(152.843619 239.238437)scale(0.1 -0.1)\">\r\n       <use xlink:href=\"#DejaVuSans-31\"/>\r\n       <use x=\"63.623047\" xlink:href=\"#DejaVuSans-35\"/>\r\n      </g>\r\n     </g>\r\n    </g>\r\n    <g id=\"xtick_5\">\r\n     <g id=\"line2d_5\">\r\n      <g>\r\n       <use style=\"stroke:#000000;stroke-width:0.8;\" x=\"198.227098\" xlink:href=\"#m8bb54d2d24\" y=\"224.64\"/>\r\n      </g>\r\n     </g>\r\n     <g id=\"text_5\">\r\n      <!-- 20 -->\r\n      <g transform=\"translate(191.864598 239.238437)scale(0.1 -0.1)\">\r\n       <defs>\r\n        <path d=\"M 1228 531 \r\nL 3431 531 \r\nL 3431 0 \r\nL 469 0 \r\nL 469 531 \r\nQ 828 903 1448 1529 \r\nQ 2069 2156 2228 2338 \r\nQ 2531 2678 2651 2914 \r\nQ 2772 3150 2772 3378 \r\nQ 2772 3750 2511 3984 \r\nQ 2250 4219 1831 4219 \r\nQ 1534 4219 1204 4116 \r\nQ 875 4013 500 3803 \r\nL 500 4441 \r\nQ 881 4594 1212 4672 \r\nQ 1544 4750 1819 4750 \r\nQ 2544 4750 2975 4387 \r\nQ 3406 4025 3406 3419 \r\nQ 3406 3131 3298 2873 \r\nQ 3191 2616 2906 2266 \r\nQ 2828 2175 2409 1742 \r\nQ 1991 1309 1228 531 \r\nz\r\n\" id=\"DejaVuSans-32\" transform=\"scale(0.015625)\"/>\r\n       </defs>\r\n       <use xlink:href=\"#DejaVuSans-32\"/>\r\n       <use x=\"63.623047\" xlink:href=\"#DejaVuSans-30\"/>\r\n      </g>\r\n     </g>\r\n    </g>\r\n    <g id=\"xtick_6\">\r\n     <g id=\"line2d_6\">\r\n      <g>\r\n       <use style=\"stroke:#000000;stroke-width:0.8;\" x=\"237.248077\" xlink:href=\"#m8bb54d2d24\" y=\"224.64\"/>\r\n      </g>\r\n     </g>\r\n     <g id=\"text_6\">\r\n      <!-- 25 -->\r\n      <g transform=\"translate(230.885577 239.238437)scale(0.1 -0.1)\">\r\n       <use xlink:href=\"#DejaVuSans-32\"/>\r\n       <use x=\"63.623047\" xlink:href=\"#DejaVuSans-35\"/>\r\n      </g>\r\n     </g>\r\n    </g>\r\n    <g id=\"xtick_7\">\r\n     <g id=\"line2d_7\">\r\n      <g>\r\n       <use style=\"stroke:#000000;stroke-width:0.8;\" x=\"276.269056\" xlink:href=\"#m8bb54d2d24\" y=\"224.64\"/>\r\n      </g>\r\n     </g>\r\n     <g id=\"text_7\">\r\n      <!-- 30 -->\r\n      <g transform=\"translate(269.906556 239.238437)scale(0.1 -0.1)\">\r\n       <defs>\r\n        <path d=\"M 2597 2516 \r\nQ 3050 2419 3304 2112 \r\nQ 3559 1806 3559 1356 \r\nQ 3559 666 3084 287 \r\nQ 2609 -91 1734 -91 \r\nQ 1441 -91 1130 -33 \r\nQ 819 25 488 141 \r\nL 488 750 \r\nQ 750 597 1062 519 \r\nQ 1375 441 1716 441 \r\nQ 2309 441 2620 675 \r\nQ 2931 909 2931 1356 \r\nQ 2931 1769 2642 2001 \r\nQ 2353 2234 1838 2234 \r\nL 1294 2234 \r\nL 1294 2753 \r\nL 1863 2753 \r\nQ 2328 2753 2575 2939 \r\nQ 2822 3125 2822 3475 \r\nQ 2822 3834 2567 4026 \r\nQ 2313 4219 1838 4219 \r\nQ 1578 4219 1281 4162 \r\nQ 984 4106 628 3988 \r\nL 628 4550 \r\nQ 988 4650 1302 4700 \r\nQ 1616 4750 1894 4750 \r\nQ 2613 4750 3031 4423 \r\nQ 3450 4097 3450 3541 \r\nQ 3450 3153 3228 2886 \r\nQ 3006 2619 2597 2516 \r\nz\r\n\" id=\"DejaVuSans-33\" transform=\"scale(0.015625)\"/>\r\n       </defs>\r\n       <use xlink:href=\"#DejaVuSans-33\"/>\r\n       <use x=\"63.623047\" xlink:href=\"#DejaVuSans-30\"/>\r\n      </g>\r\n     </g>\r\n    </g>\r\n    <g id=\"xtick_8\">\r\n     <g id=\"line2d_8\">\r\n      <g>\r\n       <use style=\"stroke:#000000;stroke-width:0.8;\" x=\"315.290035\" xlink:href=\"#m8bb54d2d24\" y=\"224.64\"/>\r\n      </g>\r\n     </g>\r\n     <g id=\"text_8\">\r\n      <!-- 35 -->\r\n      <g transform=\"translate(308.927535 239.238437)scale(0.1 -0.1)\">\r\n       <use xlink:href=\"#DejaVuSans-33\"/>\r\n       <use x=\"63.623047\" xlink:href=\"#DejaVuSans-35\"/>\r\n      </g>\r\n     </g>\r\n    </g>\r\n    <g id=\"xtick_9\">\r\n     <g id=\"line2d_9\">\r\n      <g>\r\n       <use style=\"stroke:#000000;stroke-width:0.8;\" x=\"354.311014\" xlink:href=\"#m8bb54d2d24\" y=\"224.64\"/>\r\n      </g>\r\n     </g>\r\n     <g id=\"text_9\">\r\n      <!-- 40 -->\r\n      <g transform=\"translate(347.948514 239.238437)scale(0.1 -0.1)\">\r\n       <defs>\r\n        <path d=\"M 2419 4116 \r\nL 825 1625 \r\nL 2419 1625 \r\nL 2419 4116 \r\nz\r\nM 2253 4666 \r\nL 3047 4666 \r\nL 3047 1625 \r\nL 3713 1625 \r\nL 3713 1100 \r\nL 3047 1100 \r\nL 3047 0 \r\nL 2419 0 \r\nL 2419 1100 \r\nL 313 1100 \r\nL 313 1709 \r\nL 2253 4666 \r\nz\r\n\" id=\"DejaVuSans-34\" transform=\"scale(0.015625)\"/>\r\n       </defs>\r\n       <use xlink:href=\"#DejaVuSans-34\"/>\r\n       <use x=\"63.623047\" xlink:href=\"#DejaVuSans-30\"/>\r\n      </g>\r\n     </g>\r\n    </g>\r\n   </g>\r\n   <g id=\"matplotlib.axis_2\">\r\n    <g id=\"ytick_1\">\r\n     <g id=\"line2d_10\">\r\n      <defs>\r\n       <path d=\"M 0 0 \r\nL -3.5 0 \r\n\" id=\"m9eaf73b343\" style=\"stroke:#000000;stroke-width:0.8;\"/>\r\n      </defs>\r\n      <g>\r\n       <use style=\"stroke:#000000;stroke-width:0.8;\" x=\"26.925\" xlink:href=\"#m9eaf73b343\" y=\"202.317629\"/>\r\n      </g>\r\n     </g>\r\n     <g id=\"text_10\">\r\n      <!-- 4 -->\r\n      <g transform=\"translate(13.5625 206.116848)scale(0.1 -0.1)\">\r\n       <use xlink:href=\"#DejaVuSans-34\"/>\r\n      </g>\r\n     </g>\r\n    </g>\r\n    <g id=\"ytick_2\">\r\n     <g id=\"line2d_11\">\r\n      <g>\r\n       <use style=\"stroke:#000000;stroke-width:0.8;\" x=\"26.925\" xlink:href=\"#m9eaf73b343\" y=\"157.530043\"/>\r\n      </g>\r\n     </g>\r\n     <g id=\"text_11\">\r\n      <!-- 6 -->\r\n      <g transform=\"translate(13.5625 161.329262)scale(0.1 -0.1)\">\r\n       <defs>\r\n        <path d=\"M 2113 2584 \r\nQ 1688 2584 1439 2293 \r\nQ 1191 2003 1191 1497 \r\nQ 1191 994 1439 701 \r\nQ 1688 409 2113 409 \r\nQ 2538 409 2786 701 \r\nQ 3034 994 3034 1497 \r\nQ 3034 2003 2786 2293 \r\nQ 2538 2584 2113 2584 \r\nz\r\nM 3366 4563 \r\nL 3366 3988 \r\nQ 3128 4100 2886 4159 \r\nQ 2644 4219 2406 4219 \r\nQ 1781 4219 1451 3797 \r\nQ 1122 3375 1075 2522 \r\nQ 1259 2794 1537 2939 \r\nQ 1816 3084 2150 3084 \r\nQ 2853 3084 3261 2657 \r\nQ 3669 2231 3669 1497 \r\nQ 3669 778 3244 343 \r\nQ 2819 -91 2113 -91 \r\nQ 1303 -91 875 529 \r\nQ 447 1150 447 2328 \r\nQ 447 3434 972 4092 \r\nQ 1497 4750 2381 4750 \r\nQ 2619 4750 2861 4703 \r\nQ 3103 4656 3366 4563 \r\nz\r\n\" id=\"DejaVuSans-36\" transform=\"scale(0.015625)\"/>\r\n       </defs>\r\n       <use xlink:href=\"#DejaVuSans-36\"/>\r\n      </g>\r\n     </g>\r\n    </g>\r\n    <g id=\"ytick_3\">\r\n     <g id=\"line2d_12\">\r\n      <g>\r\n       <use style=\"stroke:#000000;stroke-width:0.8;\" x=\"26.925\" xlink:href=\"#m9eaf73b343\" y=\"112.742456\"/>\r\n      </g>\r\n     </g>\r\n     <g id=\"text_12\">\r\n      <!-- 8 -->\r\n      <g transform=\"translate(13.5625 116.541675)scale(0.1 -0.1)\">\r\n       <defs>\r\n        <path d=\"M 2034 2216 \r\nQ 1584 2216 1326 1975 \r\nQ 1069 1734 1069 1313 \r\nQ 1069 891 1326 650 \r\nQ 1584 409 2034 409 \r\nQ 2484 409 2743 651 \r\nQ 3003 894 3003 1313 \r\nQ 3003 1734 2745 1975 \r\nQ 2488 2216 2034 2216 \r\nz\r\nM 1403 2484 \r\nQ 997 2584 770 2862 \r\nQ 544 3141 544 3541 \r\nQ 544 4100 942 4425 \r\nQ 1341 4750 2034 4750 \r\nQ 2731 4750 3128 4425 \r\nQ 3525 4100 3525 3541 \r\nQ 3525 3141 3298 2862 \r\nQ 3072 2584 2669 2484 \r\nQ 3125 2378 3379 2068 \r\nQ 3634 1759 3634 1313 \r\nQ 3634 634 3220 271 \r\nQ 2806 -91 2034 -91 \r\nQ 1263 -91 848 271 \r\nQ 434 634 434 1313 \r\nQ 434 1759 690 2068 \r\nQ 947 2378 1403 2484 \r\nz\r\nM 1172 3481 \r\nQ 1172 3119 1398 2916 \r\nQ 1625 2713 2034 2713 \r\nQ 2441 2713 2670 2916 \r\nQ 2900 3119 2900 3481 \r\nQ 2900 3844 2670 4047 \r\nQ 2441 4250 2034 4250 \r\nQ 1625 4250 1398 4047 \r\nQ 1172 3844 1172 3481 \r\nz\r\n\" id=\"DejaVuSans-38\" transform=\"scale(0.015625)\"/>\r\n       </defs>\r\n       <use xlink:href=\"#DejaVuSans-38\"/>\r\n      </g>\r\n     </g>\r\n    </g>\r\n    <g id=\"ytick_4\">\r\n     <g id=\"line2d_13\">\r\n      <g>\r\n       <use style=\"stroke:#000000;stroke-width:0.8;\" x=\"26.925\" xlink:href=\"#m9eaf73b343\" y=\"67.95487\"/>\r\n      </g>\r\n     </g>\r\n     <g id=\"text_13\">\r\n      <!-- 10 -->\r\n      <g transform=\"translate(7.2 71.754089)scale(0.1 -0.1)\">\r\n       <use xlink:href=\"#DejaVuSans-31\"/>\r\n       <use x=\"63.623047\" xlink:href=\"#DejaVuSans-30\"/>\r\n      </g>\r\n     </g>\r\n    </g>\r\n    <g id=\"ytick_5\">\r\n     <g id=\"line2d_14\">\r\n      <g>\r\n       <use style=\"stroke:#000000;stroke-width:0.8;\" x=\"26.925\" xlink:href=\"#m9eaf73b343\" y=\"23.167284\"/>\r\n      </g>\r\n     </g>\r\n     <g id=\"text_14\">\r\n      <!-- 12 -->\r\n      <g transform=\"translate(7.2 26.966502)scale(0.1 -0.1)\">\r\n       <use xlink:href=\"#DejaVuSans-31\"/>\r\n       <use x=\"63.623047\" xlink:href=\"#DejaVuSans-32\"/>\r\n      </g>\r\n     </g>\r\n    </g>\r\n   </g>\r\n   <g id=\"line2d_15\">\r\n    <path clip-path=\"url(#p6efee6860f)\" d=\"M 42.143182 143.048723 \r\nL 49.947378 139.818588 \r\nL 57.751573 150.934053 \r\nL 65.555769 160.522668 \r\nL 73.359965 148.95322 \r\nL 81.164161 176.721524 \r\nL 88.968357 205.208465 \r\nL 96.772552 197.859229 \r\nL 104.576748 175.687677 \r\nL 112.380944 163.288447 \r\nL 120.18514 200.817245 \r\nL 127.989336 118.079644 \r\nL 135.793531 93.18521 \r\nL 143.597727 179.862762 \r\nL 151.401923 101.853475 \r\nL 159.206119 156.455141 \r\nL 167.010315 214.756364 \r\nL 174.81451 202.093691 \r\nL 182.618706 110.204493 \r\nL 190.422902 119.180672 \r\nL 198.227098 159.134931 \r\nL 206.031294 102.590604 \r\nL 213.83549 127.167792 \r\nL 221.639685 144.373689 \r\nL 229.443881 127.354407 \r\nL 237.248077 177.704815 \r\nL 245.052273 135.901371 \r\nL 252.856469 17.083636 \r\nL 260.660664 52.22323 \r\nL 268.46486 160.262086 \r\nL 276.269056 182.256523 \r\nL 284.073252 169.274343 \r\nL 291.877448 145.456056 \r\nL 299.681643 169.958598 \r\nL 307.485839 210.379395 \r\nL 315.290035 181.625764 \r\nL 323.094231 194.33051 \r\nL 330.898427 166.077007 \r\nL 338.702622 140.958636 \r\nL 346.506818 146.445115 \r\n\" style=\"fill:none;stroke:#1f77b4;stroke-linecap:square;stroke-width:1.5;\"/>\r\n   </g>\r\n   <g id=\"line2d_16\">\r\n    <path clip-path=\"url(#p6efee6860f)\" d=\"M 42.143182 193.595799 \r\nL 49.947378 194.776615 \r\nL 57.751573 193.7835 \r\nL 65.555769 196.159633 \r\nL 73.359965 198.405727 \r\nL 81.164161 195.53923 \r\nL 88.968357 202.885928 \r\nL 96.772552 210.219561 \r\nL 104.576748 208.628116 \r\nL 112.380944 202.715146 \r\nL 120.18514 199.564759 \r\nL 127.989336 208.358475 \r\nL 135.793531 189.530825 \r\nL 143.597727 181.732701 \r\nL 151.401923 202.319834 \r\nL 159.206119 183.892344 \r\nL 167.010315 198.010847 \r\nL 174.81451 212.676987 \r\nL 182.618706 209.605752 \r\nL 190.422902 187.382981 \r\nL 198.227098 188.337718 \r\nL 206.031294 197.75834 \r\nL 213.83549 183.869225 \r\nL 221.639685 189.704271 \r\nL 229.443881 193.964869 \r\nL 237.248077 189.556495 \r\nL 245.052273 202.506185 \r\nL 252.856469 191.499969 \r\nL 260.660664 160.121331 \r\nL 268.46486 169.005245 \r\nL 276.269056 198.5226 \r\nL 284.073252 204.771152 \r\nL 291.877448 200.776147 \r\nL 299.681643 194.922896 \r\nL 307.485839 201.560343 \r\nL 315.290035 212.339829 \r\nL 323.094231 204.560194 \r\nL 330.898427 208.131355 \r\nL 338.702622 200.438919 \r\nL 346.506818 192.882272 \r\n\" style=\"fill:none;stroke:#ff7f0e;stroke-linecap:square;stroke-width:1.5;\"/>\r\n   </g>\r\n   <g id=\"patch_3\">\r\n    <path d=\"M 26.925 224.64 \r\nL 26.925 7.2 \r\n\" style=\"fill:none;stroke:#000000;stroke-linecap:square;stroke-linejoin:miter;stroke-width:0.8;\"/>\r\n   </g>\r\n   <g id=\"patch_4\">\r\n    <path d=\"M 361.725 224.64 \r\nL 361.725 7.2 \r\n\" style=\"fill:none;stroke:#000000;stroke-linecap:square;stroke-linejoin:miter;stroke-width:0.8;\"/>\r\n   </g>\r\n   <g id=\"patch_5\">\r\n    <path d=\"M 26.925 224.64 \r\nL 361.725 224.64 \r\n\" style=\"fill:none;stroke:#000000;stroke-linecap:square;stroke-linejoin:miter;stroke-width:0.8;\"/>\r\n   </g>\r\n   <g id=\"patch_6\">\r\n    <path d=\"M 26.925 7.2 \r\nL 361.725 7.2 \r\n\" style=\"fill:none;stroke:#000000;stroke-linecap:square;stroke-linejoin:miter;stroke-width:0.8;\"/>\r\n   </g>\r\n  </g>\r\n </g>\r\n <defs>\r\n  <clipPath id=\"p6efee6860f\">\r\n   <rect height=\"217.44\" width=\"334.8\" x=\"26.925\" y=\"7.2\"/>\r\n  </clipPath>\r\n </defs>\r\n</svg>\r\n",
      "image/png": "[encoded data removed]"
     },
     "metadata": {
      "needs_background": "light"
     }
    }
   ],
   "source": [
    "plt.plot(results)"
   ]
  },
  {
   "cell_type": "code",
   "execution_count": 163,
   "metadata": {},
   "outputs": [
    {
     "output_type": "stream",
     "name": "stdout",
     "text": [
      "MSE:  6.860517574722159\nMAE:  2.0588333099267526\n"
     ]
    }
   ],
   "source": [
    "# LSTM 256 / epochs = 30 (default)\n",
    "# Time steps = 4 / Batch size = 2\n",
    "# Including PM from X\n",
    "y_true1= test_df['PM2.5_pi'].values[n_input:]\n",
    "y_pred1 = y_pred.ravel()\n",
    "\n",
    "print(\"MSE: \", mean_squared_error(y_true1, y_pred1))\n",
    "print(\"MAE: \", mean_absolute_error(y_true1, y_pred1))"
   ]
  },
  {
   "cell_type": "code",
   "execution_count": 80,
   "metadata": {},
   "outputs": [
    {
     "output_type": "stream",
     "name": "stdout",
     "text": [
      "MSE:  7.295556859505828\nMAE:  2.1365272526493686\n"
     ]
    }
   ],
   "source": [
    "# LSTM 256 / epochs = 30 (default)\n",
    "# Time steps = 3 / Batch size = 2\n",
    "# Excluding PM from X\n",
    "y_true1= test_df['PM2.5_pi'].values[n_input:]\n",
    "y_pred1 = y_pred.ravel()\n",
    "\n",
    "print(\"MSE: \", mean_squared_error(y_true1, y_pred1))\n",
    "print(\"MAE: \", mean_absolute_error(y_true1, y_pred1))"
   ]
  },
  {
   "cell_type": "code",
   "execution_count": 112,
   "metadata": {},
   "outputs": [
    {
     "output_type": "stream",
     "name": "stdout",
     "text": [
      "MSE:  5.922937619494131\nMAE:  1.9006601848464677\n"
     ]
    }
   ],
   "source": [
    "# LSTM 256 / epochs = 30 (default)\n",
    "# Time steps = 3 / Batch size = 2\n",
    "# Excluding PM from X\n",
    "y_true1= test_df['PM2.5_pi'].values[n_input:]\n",
    "y_pred1 = y_pred.ravel()\n",
    "\n",
    "print(\"MSE: \", mean_squared_error(y_true1, y_pred1))\n",
    "print(\"MAE: \", mean_absolute_error(y_true1, y_pred1))"
   ]
  },
  {
   "cell_type": "code",
   "execution_count": 131,
   "metadata": {},
   "outputs": [
    {
     "output_type": "stream",
     "name": "stdout",
     "text": [
      "MSE:  7.047717796611782\nMAE:  2.1085981806683\n"
     ]
    }
   ],
   "source": [
    "# LSTM 256 / epochs = 30 (default)\n",
    "# Time steps = 3 / Batch size = 2\n",
    "# Including PM from X\n",
    "y_true1= test_df['PM2.5_pi'].values[n_input:]\n",
    "y_pred1 = y_pred.ravel()\n",
    "\n",
    "print(\"MSE: \", mean_squared_error(y_true1, y_pred1))\n",
    "print(\"MAE: \", mean_absolute_error(y_true1, y_pred1))"
   ]
  },
  {
   "cell_type": "code",
   "execution_count": null,
   "metadata": {},
   "outputs": [],
   "source": []
  }
 ]
}